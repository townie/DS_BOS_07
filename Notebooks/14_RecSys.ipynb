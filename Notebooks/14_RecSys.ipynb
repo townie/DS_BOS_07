{
 "cells": [
  {
   "cell_type": "markdown",
   "metadata": {},
   "source": [
    "# Recommender Systems\n",
    "Recommender Systems have become ubiquitous in the modern data science landscape, as companies like Google, Netflix, Pandora, Facebook, etc. rely heavily on them to provide targeted content recommendation to their users to create a more enjoyable user experience.  In these exercises, we'll focus on the process of ***collaborative filtering*** for building recommenders on 2 different datasets (beers and movies).  \n",
    "\n",
    "[Collaborative Filtering](https://en.wikipedia.org/wiki/Collaborative_filtering) relies on a ***ratings matrix*** for all items to generate similarities between items and users based on similar ratings.  It's important to remember that collaborative filtering is one of the 2 main ways to conduct recommendation, the other being [Content-Based Filtering](https://en.wikipedia.org/wiki/Recommender_system#Content-based_filtering) which explicitly maps items and/or users into a shared feature space based on explicit user/item characteristics.  State of the art recommenders will often rely on hybrid approaches of these 2, so it's important to understand the differences, strengths, and weaknesses of each and what separates them.\n",
    "\n",
    "### Datasets\n",
    "- [Beer Ratings](https://github.com/pburkard88/DS_BOS_07/blob/master/Data/beer_reviews.tar.gz): A dataset of beer reviews\n",
    "- [Movielens Data](https://github.com/pburkard88/DS_BOS_07/blob/master/Data/movielens): A dataset of movie ratings from the original [here](http://grouplens.org/datasets/movielens/)\n",
    "\n",
    "### Learning Goals\n",
    "- Perform collaborative filtering from ratings matrices using `pandas` and `sklearn` on the beers data\n",
    "- Understand why this approach represents collaborative filtering\n",
    "- Perform collaborative filtering using the [python-recsys](https://github.com/ocelma/python-recsys) library that provides some nice built-in recommender functionality\n",
    "- Understand how SVDs or other matrix decompositions might fit in in the context of a recommender algorithm\n",
    "\n",
    "## Similarity based Recommendation System: Beers\n",
    "The first dataset we'll work with is a list of many beer reviews by a variety of reviewers with accompanying beer metadata on every review.  We'll use this data to generate our reviewer/beer ratings matrix from which we can perform collaborative filtering and recommend beers based on user preferences.\n",
    "\n",
    "### Beers: Get the Data\n",
    "First perform the usual imports of `numpy` and `pandas` as `np` and `pd`."
   ]
  },
  {
   "cell_type": "code",
   "execution_count": 4,
   "metadata": {
    "collapsed": false
   },
   "outputs": [],
   "source": [
    "\n"
   ]
  },
  {
   "cell_type": "markdown",
   "metadata": {},
   "source": [
    "Now let's get the data.  If you don't already have it locally you can use curl to pull it down."
   ]
  },
  {
   "cell_type": "code",
   "execution_count": 3,
   "metadata": {
    "collapsed": false
   },
   "outputs": [
    {
     "name": "stdout",
     "output_type": "stream",
     "text": [
      "  % Total    % Received % Xferd  Average Speed   Time    Time     Time  Current\n",
      "                                 Dload  Upload   Total   Spent    Left  Speed\n",
      "100 27.3M  100 27.3M    0     0  2116k      0  0:00:13  0:00:13 --:--:-- 2220k\n"
     ]
    }
   ],
   "source": [
    "! curl -O https://s3.amazonaws.com/demo-datasets/beer_reviews.tar.gz"
   ]
  },
  {
   "cell_type": "markdown",
   "metadata": {},
   "source": [
    "These steps here are optional, just move the data some place where you know where it is and then point your eventual call to `read_csv()` to that location."
   ]
  },
  {
   "cell_type": "code",
   "execution_count": 4,
   "metadata": {
    "collapsed": false
   },
   "outputs": [],
   "source": [
    "! mv 'beer_reviews.tar.gz' ../Data/"
   ]
  },
  {
   "cell_type": "code",
   "execution_count": 5,
   "metadata": {
    "collapsed": false
   },
   "outputs": [
    {
     "name": "stdout",
     "output_type": "stream",
     "text": [
      "\u001b[34m538model\u001b[m\u001b[m                  \u001b[34mHeart Disease\u001b[m\u001b[m             beer_reviews.tar.gz       used_vehicles_oos.csv\r\n",
      "\u001b[34mAmazon Reviews\u001b[m\u001b[m            \u001b[34mSpam Classification\u001b[m\u001b[m       lahman-csv_2014-02-14.zip\r\n",
      "\u001b[34mBike-Sharing-Dataset\u001b[m\u001b[m      \u001b[34mStudent_Performance\u001b[m\u001b[m       svm_data.csv\r\n",
      "\u001b[34mFlight_Delays\u001b[m\u001b[m             \u001b[34mTitanic\u001b[m\u001b[m                   used_vehicles.csv\r\n"
     ]
    }
   ],
   "source": [
    "!ls ../Data"
   ]
  },
  {
   "cell_type": "markdown",
   "metadata": {},
   "source": [
    "Import the data into a `pandas` dataframe called `df` by calling `read_csv()` with the appropriate path and the parameter `compression='gzip'` (you don't need this if you already extracted your file, it's just nice to see that pandas can handle gzipped data)."
   ]
  },
  {
   "cell_type": "code",
   "execution_count": 13,
   "metadata": {
    "collapsed": false
   },
   "outputs": [
    {
     "name": "stderr",
     "output_type": "stream",
     "text": [
      "/Users/pburkard88/anaconda/envs/python27/lib/python2.7/site-packages/pandas/io/parsers.py:1170: DtypeWarning: Columns (0) have mixed types. Specify dtype option on import or set low_memory=False.\n",
      "  data = self._reader.read(nrows)\n"
     ]
    }
   ],
   "source": []
  },
  {
   "cell_type": "markdown",
   "metadata": {},
   "source": [
    "### Explore the Data\n",
    "Let's look at the data with `head()`"
   ]
  },
  {
   "cell_type": "code",
   "execution_count": 14,
   "metadata": {
    "collapsed": false
   },
   "outputs": [
    {
     "data": {
      "text/html": [
       "<div>\n",
       "<table border=\"1\" class=\"dataframe\">\n",
       "  <thead>\n",
       "    <tr style=\"text-align: right;\">\n",
       "      <th></th>\n",
       "      <th>beer_reviews/</th>\n",
       "      <th>brewery_name</th>\n",
       "      <th>review_time</th>\n",
       "      <th>review_overall</th>\n",
       "      <th>review_aroma</th>\n",
       "      <th>review_appearance</th>\n",
       "      <th>review_profilename</th>\n",
       "      <th>beer_style</th>\n",
       "      <th>review_palate</th>\n",
       "      <th>review_taste</th>\n",
       "      <th>beer_name</th>\n",
       "      <th>beer_abv</th>\n",
       "      <th>beer_beerid</th>\n",
       "    </tr>\n",
       "  </thead>\n",
       "  <tbody>\n",
       "    <tr>\n",
       "      <th>0</th>\n",
       "      <td>10325</td>\n",
       "      <td>Vecchio Birraio</td>\n",
       "      <td>1234817823</td>\n",
       "      <td>1.5</td>\n",
       "      <td>2.0</td>\n",
       "      <td>2.5</td>\n",
       "      <td>stcules</td>\n",
       "      <td>Hefeweizen</td>\n",
       "      <td>1.5</td>\n",
       "      <td>1.5</td>\n",
       "      <td>Sausa Weizen</td>\n",
       "      <td>5.0</td>\n",
       "      <td>47986</td>\n",
       "    </tr>\n",
       "    <tr>\n",
       "      <th>1</th>\n",
       "      <td>10325</td>\n",
       "      <td>Vecchio Birraio</td>\n",
       "      <td>1235915097</td>\n",
       "      <td>3.0</td>\n",
       "      <td>2.5</td>\n",
       "      <td>3.0</td>\n",
       "      <td>stcules</td>\n",
       "      <td>English Strong Ale</td>\n",
       "      <td>3.0</td>\n",
       "      <td>3.0</td>\n",
       "      <td>Red Moon</td>\n",
       "      <td>6.2</td>\n",
       "      <td>48213</td>\n",
       "    </tr>\n",
       "    <tr>\n",
       "      <th>2</th>\n",
       "      <td>10325</td>\n",
       "      <td>Vecchio Birraio</td>\n",
       "      <td>1235916604</td>\n",
       "      <td>3.0</td>\n",
       "      <td>2.5</td>\n",
       "      <td>3.0</td>\n",
       "      <td>stcules</td>\n",
       "      <td>Foreign / Export Stout</td>\n",
       "      <td>3.0</td>\n",
       "      <td>3.0</td>\n",
       "      <td>Black Horse Black Beer</td>\n",
       "      <td>6.5</td>\n",
       "      <td>48215</td>\n",
       "    </tr>\n",
       "    <tr>\n",
       "      <th>3</th>\n",
       "      <td>10325</td>\n",
       "      <td>Vecchio Birraio</td>\n",
       "      <td>1234725145</td>\n",
       "      <td>3.0</td>\n",
       "      <td>3.0</td>\n",
       "      <td>3.5</td>\n",
       "      <td>stcules</td>\n",
       "      <td>German Pilsener</td>\n",
       "      <td>2.5</td>\n",
       "      <td>3.0</td>\n",
       "      <td>Sausa Pils</td>\n",
       "      <td>5.0</td>\n",
       "      <td>47969</td>\n",
       "    </tr>\n",
       "    <tr>\n",
       "      <th>4</th>\n",
       "      <td>1075</td>\n",
       "      <td>Caldera Brewing Company</td>\n",
       "      <td>1293735206</td>\n",
       "      <td>4.0</td>\n",
       "      <td>4.5</td>\n",
       "      <td>4.0</td>\n",
       "      <td>johnmichaelsen</td>\n",
       "      <td>American Double / Imperial IPA</td>\n",
       "      <td>4.0</td>\n",
       "      <td>4.5</td>\n",
       "      <td>Cauldron DIPA</td>\n",
       "      <td>7.7</td>\n",
       "      <td>64883</td>\n",
       "    </tr>\n",
       "  </tbody>\n",
       "</table>\n",
       "</div>"
      ],
      "text/plain": [
       "  beer_reviews/             brewery_name  review_time  review_overall  \\\n",
       "0         10325          Vecchio Birraio   1234817823             1.5   \n",
       "1         10325          Vecchio Birraio   1235915097             3.0   \n",
       "2         10325          Vecchio Birraio   1235916604             3.0   \n",
       "3         10325          Vecchio Birraio   1234725145             3.0   \n",
       "4          1075  Caldera Brewing Company   1293735206             4.0   \n",
       "\n",
       "   review_aroma  review_appearance review_profilename  \\\n",
       "0           2.0                2.5            stcules   \n",
       "1           2.5                3.0            stcules   \n",
       "2           2.5                3.0            stcules   \n",
       "3           3.0                3.5            stcules   \n",
       "4           4.5                4.0     johnmichaelsen   \n",
       "\n",
       "                       beer_style  review_palate  review_taste  \\\n",
       "0                      Hefeweizen            1.5           1.5   \n",
       "1              English Strong Ale            3.0           3.0   \n",
       "2          Foreign / Export Stout            3.0           3.0   \n",
       "3                 German Pilsener            2.5           3.0   \n",
       "4  American Double / Imperial IPA            4.0           4.5   \n",
       "\n",
       "                beer_name  beer_abv  beer_beerid  \n",
       "0            Sausa Weizen       5.0        47986  \n",
       "1                Red Moon       6.2        48213  \n",
       "2  Black Horse Black Beer       6.5        48215  \n",
       "3              Sausa Pils       5.0        47969  \n",
       "4           Cauldron DIPA       7.7        64883  "
      ]
     },
     "execution_count": 14,
     "metadata": {},
     "output_type": "execute_result"
    }
   ],
   "source": []
  },
  {
   "cell_type": "markdown",
   "metadata": {},
   "source": [
    "Create a separate data frame `df_test` to investigate a little bit further by selecting out only the **beer_name=\"Pale Ale\"** reviews using the `isIn([])` function.  Then sort this resulting table by **review_profilename** and examine the first 100 rows.  You should notice that the same reviewer can review multiple Pale Ales."
   ]
  },
  {
   "cell_type": "code",
   "execution_count": 15,
   "metadata": {
    "collapsed": false
   },
   "outputs": [
    {
     "data": {
      "text/html": [
       "<div>\n",
       "<table border=\"1\" class=\"dataframe\">\n",
       "  <thead>\n",
       "    <tr style=\"text-align: right;\">\n",
       "      <th></th>\n",
       "      <th>beer_reviews/</th>\n",
       "      <th>brewery_name</th>\n",
       "      <th>review_time</th>\n",
       "      <th>review_overall</th>\n",
       "      <th>review_aroma</th>\n",
       "      <th>review_appearance</th>\n",
       "      <th>review_profilename</th>\n",
       "      <th>beer_style</th>\n",
       "      <th>review_palate</th>\n",
       "      <th>review_taste</th>\n",
       "      <th>beer_name</th>\n",
       "      <th>beer_abv</th>\n",
       "      <th>beer_beerid</th>\n",
       "    </tr>\n",
       "  </thead>\n",
       "  <tbody>\n",
       "    <tr>\n",
       "      <th>912451</th>\n",
       "      <td>19402</td>\n",
       "      <td>Inland Empire Brewing Company</td>\n",
       "      <td>1240528130</td>\n",
       "      <td>4.0</td>\n",
       "      <td>3.0</td>\n",
       "      <td>3.0</td>\n",
       "      <td>0110x011</td>\n",
       "      <td>American Pale Ale (APA)</td>\n",
       "      <td>3.0</td>\n",
       "      <td>3.5</td>\n",
       "      <td>Pale Ale</td>\n",
       "      <td>5.50</td>\n",
       "      <td>49291</td>\n",
       "    </tr>\n",
       "    <tr>\n",
       "      <th>1406262</th>\n",
       "      <td>9824</td>\n",
       "      <td>Silverado Brewing Company</td>\n",
       "      <td>1253298781</td>\n",
       "      <td>3.5</td>\n",
       "      <td>3.5</td>\n",
       "      <td>3.5</td>\n",
       "      <td>1759Girl</td>\n",
       "      <td>American Pale Ale (APA)</td>\n",
       "      <td>2.5</td>\n",
       "      <td>4.0</td>\n",
       "      <td>Pale Ale</td>\n",
       "      <td>5.12</td>\n",
       "      <td>25427</td>\n",
       "    </tr>\n",
       "    <tr>\n",
       "      <th>563154</th>\n",
       "      <td>423</td>\n",
       "      <td>Boulevard Brewing Co.</td>\n",
       "      <td>1305678006</td>\n",
       "      <td>3.5</td>\n",
       "      <td>2.0</td>\n",
       "      <td>4.0</td>\n",
       "      <td>1Adam12</td>\n",
       "      <td>American Pale Ale (APA)</td>\n",
       "      <td>3.0</td>\n",
       "      <td>3.0</td>\n",
       "      <td>Pale Ale</td>\n",
       "      <td>5.40</td>\n",
       "      <td>2094</td>\n",
       "    </tr>\n",
       "    <tr>\n",
       "      <th>525342</th>\n",
       "      <td>2101</td>\n",
       "      <td>Blue Star Brewing Company</td>\n",
       "      <td>1237655645</td>\n",
       "      <td>4.5</td>\n",
       "      <td>4.0</td>\n",
       "      <td>4.0</td>\n",
       "      <td>1fastz28</td>\n",
       "      <td>American Pale Ale (APA)</td>\n",
       "      <td>4.0</td>\n",
       "      <td>4.0</td>\n",
       "      <td>Pale Ale</td>\n",
       "      <td>NaN</td>\n",
       "      <td>5828</td>\n",
       "    </tr>\n",
       "    <tr>\n",
       "      <th>41264</th>\n",
       "      <td>13397</td>\n",
       "      <td>Mountaineer Brewing Co.</td>\n",
       "      <td>1291941443</td>\n",
       "      <td>4.0</td>\n",
       "      <td>3.0</td>\n",
       "      <td>3.5</td>\n",
       "      <td>321jeff</td>\n",
       "      <td>American Pale Ale (APA)</td>\n",
       "      <td>4.0</td>\n",
       "      <td>3.0</td>\n",
       "      <td>Pale Ale</td>\n",
       "      <td>5.59</td>\n",
       "      <td>28951</td>\n",
       "    </tr>\n",
       "    <tr>\n",
       "      <th>1385721</th>\n",
       "      <td>3725</td>\n",
       "      <td>Réservoir</td>\n",
       "      <td>1120719056</td>\n",
       "      <td>3.5</td>\n",
       "      <td>3.0</td>\n",
       "      <td>3.0</td>\n",
       "      <td>3Vandoo</td>\n",
       "      <td>English Pale Ale</td>\n",
       "      <td>4.0</td>\n",
       "      <td>3.0</td>\n",
       "      <td>Pale Ale</td>\n",
       "      <td>5.00</td>\n",
       "      <td>24527</td>\n",
       "    </tr>\n",
       "    <tr>\n",
       "      <th>562967</th>\n",
       "      <td>423</td>\n",
       "      <td>Boulevard Brewing Co.</td>\n",
       "      <td>1203782439</td>\n",
       "      <td>5.0</td>\n",
       "      <td>4.5</td>\n",
       "      <td>4.5</td>\n",
       "      <td>7thstreetbrewery</td>\n",
       "      <td>American Pale Ale (APA)</td>\n",
       "      <td>5.0</td>\n",
       "      <td>4.5</td>\n",
       "      <td>Pale Ale</td>\n",
       "      <td>5.40</td>\n",
       "      <td>2094</td>\n",
       "    </tr>\n",
       "    <tr>\n",
       "      <th>563116</th>\n",
       "      <td>423</td>\n",
       "      <td>Boulevard Brewing Co.</td>\n",
       "      <td>1058366048</td>\n",
       "      <td>4.0</td>\n",
       "      <td>3.5</td>\n",
       "      <td>4.0</td>\n",
       "      <td>ADR</td>\n",
       "      <td>American Pale Ale (APA)</td>\n",
       "      <td>3.5</td>\n",
       "      <td>3.0</td>\n",
       "      <td>Pale Ale</td>\n",
       "      <td>5.40</td>\n",
       "      <td>2094</td>\n",
       "    </tr>\n",
       "    <tr>\n",
       "      <th>1429227</th>\n",
       "      <td>25252</td>\n",
       "      <td>Goodieson Brewery</td>\n",
       "      <td>1304334057</td>\n",
       "      <td>3.0</td>\n",
       "      <td>3.0</td>\n",
       "      <td>3.5</td>\n",
       "      <td>ADZA</td>\n",
       "      <td>American Pale Ale (APA)</td>\n",
       "      <td>3.0</td>\n",
       "      <td>3.0</td>\n",
       "      <td>Pale Ale</td>\n",
       "      <td>4.50</td>\n",
       "      <td>68580</td>\n",
       "    </tr>\n",
       "    <tr>\n",
       "      <th>836014</th>\n",
       "      <td>18414</td>\n",
       "      <td>Three Troupers Brewery</td>\n",
       "      <td>1288180209</td>\n",
       "      <td>3.5</td>\n",
       "      <td>3.0</td>\n",
       "      <td>3.0</td>\n",
       "      <td>ADZA</td>\n",
       "      <td>English Pale Ale</td>\n",
       "      <td>3.0</td>\n",
       "      <td>3.5</td>\n",
       "      <td>Pale Ale</td>\n",
       "      <td>4.50</td>\n",
       "      <td>46137</td>\n",
       "    </tr>\n",
       "    <tr>\n",
       "      <th>612416</th>\n",
       "      <td>199</td>\n",
       "      <td>Ballast Point Brewing Company</td>\n",
       "      <td>1305123703</td>\n",
       "      <td>3.5</td>\n",
       "      <td>3.0</td>\n",
       "      <td>3.5</td>\n",
       "      <td>ADZA</td>\n",
       "      <td>Kölsch</td>\n",
       "      <td>3.0</td>\n",
       "      <td>3.5</td>\n",
       "      <td>Pale Ale</td>\n",
       "      <td>5.00</td>\n",
       "      <td>696</td>\n",
       "    </tr>\n",
       "    <tr>\n",
       "      <th>477535</th>\n",
       "      <td>16465</td>\n",
       "      <td>Croucher Brewing Co.</td>\n",
       "      <td>1248702467</td>\n",
       "      <td>4.5</td>\n",
       "      <td>3.0</td>\n",
       "      <td>4.5</td>\n",
       "      <td>ADZA</td>\n",
       "      <td>American Pale Ale (APA)</td>\n",
       "      <td>3.5</td>\n",
       "      <td>4.5</td>\n",
       "      <td>Pale Ale</td>\n",
       "      <td>5.00</td>\n",
       "      <td>40487</td>\n",
       "    </tr>\n",
       "    <tr>\n",
       "      <th>175527</th>\n",
       "      <td>94</td>\n",
       "      <td>Long Trail Brewing Co.</td>\n",
       "      <td>1285474135</td>\n",
       "      <td>4.5</td>\n",
       "      <td>5.0</td>\n",
       "      <td>5.0</td>\n",
       "      <td>AITCTKD170</td>\n",
       "      <td>English Pale Ale</td>\n",
       "      <td>4.0</td>\n",
       "      <td>4.0</td>\n",
       "      <td>Pale Ale</td>\n",
       "      <td>5.70</td>\n",
       "      <td>55960</td>\n",
       "    </tr>\n",
       "    <tr>\n",
       "      <th>743832</th>\n",
       "      <td>7730</td>\n",
       "      <td>Nøgne Ø - Det Kompromissløse Bryggeri A/S</td>\n",
       "      <td>1197602199</td>\n",
       "      <td>3.5</td>\n",
       "      <td>5.0</td>\n",
       "      <td>3.0</td>\n",
       "      <td>AKBelgianBeast</td>\n",
       "      <td>American Pale Ale (APA)</td>\n",
       "      <td>3.5</td>\n",
       "      <td>3.5</td>\n",
       "      <td>Pale Ale</td>\n",
       "      <td>6.00</td>\n",
       "      <td>19781</td>\n",
       "    </tr>\n",
       "    <tr>\n",
       "      <th>739049</th>\n",
       "      <td>1910</td>\n",
       "      <td>Water Street Brewery</td>\n",
       "      <td>1143907983</td>\n",
       "      <td>2.0</td>\n",
       "      <td>2.5</td>\n",
       "      <td>2.0</td>\n",
       "      <td>ALESwhatCURESya</td>\n",
       "      <td>American Pale Ale (APA)</td>\n",
       "      <td>2.0</td>\n",
       "      <td>2.0</td>\n",
       "      <td>Pale Ale</td>\n",
       "      <td>NaN</td>\n",
       "      <td>10207</td>\n",
       "    </tr>\n",
       "    <tr>\n",
       "      <th>562980</th>\n",
       "      <td>423</td>\n",
       "      <td>Boulevard Brewing Co.</td>\n",
       "      <td>1196906504</td>\n",
       "      <td>4.0</td>\n",
       "      <td>4.0</td>\n",
       "      <td>3.5</td>\n",
       "      <td>AMo</td>\n",
       "      <td>American Pale Ale (APA)</td>\n",
       "      <td>4.5</td>\n",
       "      <td>4.0</td>\n",
       "      <td>Pale Ale</td>\n",
       "      <td>5.40</td>\n",
       "      <td>2094</td>\n",
       "    </tr>\n",
       "    <tr>\n",
       "      <th>585600</th>\n",
       "      <td>414</td>\n",
       "      <td>Diamond Bear Brewing Company</td>\n",
       "      <td>1223779502</td>\n",
       "      <td>2.5</td>\n",
       "      <td>2.5</td>\n",
       "      <td>3.0</td>\n",
       "      <td>ATLbeerDog</td>\n",
       "      <td>English Pale Ale</td>\n",
       "      <td>2.5</td>\n",
       "      <td>2.5</td>\n",
       "      <td>Pale Ale</td>\n",
       "      <td>6.20</td>\n",
       "      <td>1216</td>\n",
       "    </tr>\n",
       "    <tr>\n",
       "      <th>477693</th>\n",
       "      <td>7406</td>\n",
       "      <td>Bitter Root Brewing</td>\n",
       "      <td>1209855215</td>\n",
       "      <td>3.5</td>\n",
       "      <td>3.5</td>\n",
       "      <td>3.5</td>\n",
       "      <td>ATLbeerDog</td>\n",
       "      <td>English Pale Ale</td>\n",
       "      <td>3.5</td>\n",
       "      <td>3.5</td>\n",
       "      <td>Pale Ale</td>\n",
       "      <td>5.40</td>\n",
       "      <td>17402</td>\n",
       "    </tr>\n",
       "    <tr>\n",
       "      <th>258037</th>\n",
       "      <td>778</td>\n",
       "      <td>Pioneer Brewing Company</td>\n",
       "      <td>1027861379</td>\n",
       "      <td>4.0</td>\n",
       "      <td>4.0</td>\n",
       "      <td>4.0</td>\n",
       "      <td>AaronRed</td>\n",
       "      <td>American Pale Ale (APA)</td>\n",
       "      <td>4.0</td>\n",
       "      <td>4.0</td>\n",
       "      <td>Pale Ale</td>\n",
       "      <td>4.20</td>\n",
       "      <td>5095</td>\n",
       "    </tr>\n",
       "    <tr>\n",
       "      <th>1567447</th>\n",
       "      <td>5062</td>\n",
       "      <td>Meantime Brewing Company Limited</td>\n",
       "      <td>1249487635</td>\n",
       "      <td>3.5</td>\n",
       "      <td>3.5</td>\n",
       "      <td>3.5</td>\n",
       "      <td>Absumaster</td>\n",
       "      <td>English Pale Ale</td>\n",
       "      <td>3.0</td>\n",
       "      <td>3.5</td>\n",
       "      <td>Pale Ale</td>\n",
       "      <td>4.70</td>\n",
       "      <td>26632</td>\n",
       "    </tr>\n",
       "    <tr>\n",
       "      <th>12041</th>\n",
       "      <td>9020</td>\n",
       "      <td>Yazoo Brewing Company</td>\n",
       "      <td>1312412155</td>\n",
       "      <td>3.5</td>\n",
       "      <td>3.0</td>\n",
       "      <td>3.0</td>\n",
       "      <td>AgentMunky</td>\n",
       "      <td>American Pale Ale (APA)</td>\n",
       "      <td>4.5</td>\n",
       "      <td>4.0</td>\n",
       "      <td>Pale Ale</td>\n",
       "      <td>5.80</td>\n",
       "      <td>25656</td>\n",
       "    </tr>\n",
       "    <tr>\n",
       "      <th>395060</th>\n",
       "      <td>17282</td>\n",
       "      <td>Good People Brewing Company</td>\n",
       "      <td>1281330164</td>\n",
       "      <td>3.0</td>\n",
       "      <td>2.5</td>\n",
       "      <td>3.0</td>\n",
       "      <td>AgentMunky</td>\n",
       "      <td>American Pale Ale (APA)</td>\n",
       "      <td>3.5</td>\n",
       "      <td>2.5</td>\n",
       "      <td>Pale Ale</td>\n",
       "      <td>5.60</td>\n",
       "      <td>43676</td>\n",
       "    </tr>\n",
       "    <tr>\n",
       "      <th>1074374</th>\n",
       "      <td>20400</td>\n",
       "      <td>The Ruddy Duck Brewery And Grill</td>\n",
       "      <td>1286255589</td>\n",
       "      <td>4.0</td>\n",
       "      <td>3.0</td>\n",
       "      <td>3.0</td>\n",
       "      <td>AgentZero</td>\n",
       "      <td>American Pale Ale (APA)</td>\n",
       "      <td>3.0</td>\n",
       "      <td>3.0</td>\n",
       "      <td>Pale Ale</td>\n",
       "      <td>5.20</td>\n",
       "      <td>62351</td>\n",
       "    </tr>\n",
       "    <tr>\n",
       "      <th>12035</th>\n",
       "      <td>9020</td>\n",
       "      <td>Yazoo Brewing Company</td>\n",
       "      <td>1322460626</td>\n",
       "      <td>2.5</td>\n",
       "      <td>3.0</td>\n",
       "      <td>3.5</td>\n",
       "      <td>AgentZero</td>\n",
       "      <td>American Pale Ale (APA)</td>\n",
       "      <td>3.0</td>\n",
       "      <td>2.0</td>\n",
       "      <td>Pale Ale</td>\n",
       "      <td>5.80</td>\n",
       "      <td>25656</td>\n",
       "    </tr>\n",
       "    <tr>\n",
       "      <th>435820</th>\n",
       "      <td>4614</td>\n",
       "      <td>Orlando Brewing Partners</td>\n",
       "      <td>1245586170</td>\n",
       "      <td>4.5</td>\n",
       "      <td>3.5</td>\n",
       "      <td>4.0</td>\n",
       "      <td>AgingWarrior</td>\n",
       "      <td>American Pale Ale (APA)</td>\n",
       "      <td>4.0</td>\n",
       "      <td>4.0</td>\n",
       "      <td>Pale Ale</td>\n",
       "      <td>6.25</td>\n",
       "      <td>32442</td>\n",
       "    </tr>\n",
       "    <tr>\n",
       "      <th>563180</th>\n",
       "      <td>423</td>\n",
       "      <td>Boulevard Brewing Co.</td>\n",
       "      <td>1285031077</td>\n",
       "      <td>4.5</td>\n",
       "      <td>2.5</td>\n",
       "      <td>3.5</td>\n",
       "      <td>Agold</td>\n",
       "      <td>American Pale Ale (APA)</td>\n",
       "      <td>4.0</td>\n",
       "      <td>3.0</td>\n",
       "      <td>Pale Ale</td>\n",
       "      <td>5.40</td>\n",
       "      <td>2094</td>\n",
       "    </tr>\n",
       "    <tr>\n",
       "      <th>612409</th>\n",
       "      <td>199</td>\n",
       "      <td>Ballast Point Brewing Company</td>\n",
       "      <td>1308611562</td>\n",
       "      <td>3.5</td>\n",
       "      <td>3.5</td>\n",
       "      <td>3.5</td>\n",
       "      <td>AlCaponeJunior</td>\n",
       "      <td>Kölsch</td>\n",
       "      <td>3.0</td>\n",
       "      <td>3.5</td>\n",
       "      <td>Pale Ale</td>\n",
       "      <td>5.00</td>\n",
       "      <td>696</td>\n",
       "    </tr>\n",
       "    <tr>\n",
       "      <th>1391878</th>\n",
       "      <td>486</td>\n",
       "      <td>Legend Brewing Co.</td>\n",
       "      <td>1302750809</td>\n",
       "      <td>3.5</td>\n",
       "      <td>3.5</td>\n",
       "      <td>4.0</td>\n",
       "      <td>AlCaponeJunior</td>\n",
       "      <td>American Pale Ale (APA)</td>\n",
       "      <td>4.0</td>\n",
       "      <td>4.0</td>\n",
       "      <td>Pale Ale</td>\n",
       "      <td>6.40</td>\n",
       "      <td>4831</td>\n",
       "    </tr>\n",
       "    <tr>\n",
       "      <th>563172</th>\n",
       "      <td>423</td>\n",
       "      <td>Boulevard Brewing Co.</td>\n",
       "      <td>1291155881</td>\n",
       "      <td>4.0</td>\n",
       "      <td>3.5</td>\n",
       "      <td>4.0</td>\n",
       "      <td>AlCaponeJunior</td>\n",
       "      <td>American Pale Ale (APA)</td>\n",
       "      <td>4.0</td>\n",
       "      <td>4.0</td>\n",
       "      <td>Pale Ale</td>\n",
       "      <td>5.40</td>\n",
       "      <td>2094</td>\n",
       "    </tr>\n",
       "    <tr>\n",
       "      <th>612457</th>\n",
       "      <td>199</td>\n",
       "      <td>Ballast Point Brewing Company</td>\n",
       "      <td>1280009304</td>\n",
       "      <td>4.0</td>\n",
       "      <td>4.0</td>\n",
       "      <td>3.5</td>\n",
       "      <td>AleWatcher</td>\n",
       "      <td>Kölsch</td>\n",
       "      <td>3.0</td>\n",
       "      <td>3.0</td>\n",
       "      <td>Pale Ale</td>\n",
       "      <td>5.00</td>\n",
       "      <td>696</td>\n",
       "    </tr>\n",
       "    <tr>\n",
       "      <th>...</th>\n",
       "      <td>...</td>\n",
       "      <td>...</td>\n",
       "      <td>...</td>\n",
       "      <td>...</td>\n",
       "      <td>...</td>\n",
       "      <td>...</td>\n",
       "      <td>...</td>\n",
       "      <td>...</td>\n",
       "      <td>...</td>\n",
       "      <td>...</td>\n",
       "      <td>...</td>\n",
       "      <td>...</td>\n",
       "      <td>...</td>\n",
       "    </tr>\n",
       "    <tr>\n",
       "      <th>684413</th>\n",
       "      <td>1683</td>\n",
       "      <td>Santa Fe Brewing Company</td>\n",
       "      <td>1298659381</td>\n",
       "      <td>4.0</td>\n",
       "      <td>3.0</td>\n",
       "      <td>3.5</td>\n",
       "      <td>BeardedRiker</td>\n",
       "      <td>American Pale Ale (APA)</td>\n",
       "      <td>3.5</td>\n",
       "      <td>3.5</td>\n",
       "      <td>Pale Ale</td>\n",
       "      <td>5.50</td>\n",
       "      <td>4798</td>\n",
       "    </tr>\n",
       "    <tr>\n",
       "      <th>1296993</th>\n",
       "      <td>878</td>\n",
       "      <td>Oasis Brewery</td>\n",
       "      <td>1082956131</td>\n",
       "      <td>3.5</td>\n",
       "      <td>3.5</td>\n",
       "      <td>3.5</td>\n",
       "      <td>Beaver13</td>\n",
       "      <td>American Pale Ale (APA)</td>\n",
       "      <td>3.0</td>\n",
       "      <td>3.5</td>\n",
       "      <td>Pale Ale</td>\n",
       "      <td>NaN</td>\n",
       "      <td>5320</td>\n",
       "    </tr>\n",
       "    <tr>\n",
       "      <th>562340</th>\n",
       "      <td>423</td>\n",
       "      <td>Boulevard Brewing Co.</td>\n",
       "      <td>1254631484</td>\n",
       "      <td>3.5</td>\n",
       "      <td>3.0</td>\n",
       "      <td>4.5</td>\n",
       "      <td>Beaver13</td>\n",
       "      <td>American Pale Ale (APA)</td>\n",
       "      <td>4.0</td>\n",
       "      <td>3.0</td>\n",
       "      <td>Pale Ale</td>\n",
       "      <td>5.40</td>\n",
       "      <td>2094</td>\n",
       "    </tr>\n",
       "    <tr>\n",
       "      <th>684396</th>\n",
       "      <td>1683</td>\n",
       "      <td>Santa Fe Brewing Company</td>\n",
       "      <td>1097127507</td>\n",
       "      <td>2.5</td>\n",
       "      <td>1.5</td>\n",
       "      <td>4.0</td>\n",
       "      <td>Beaver13</td>\n",
       "      <td>American Pale Ale (APA)</td>\n",
       "      <td>3.5</td>\n",
       "      <td>1.5</td>\n",
       "      <td>Pale Ale</td>\n",
       "      <td>5.50</td>\n",
       "      <td>4798</td>\n",
       "    </tr>\n",
       "    <tr>\n",
       "      <th>562922</th>\n",
       "      <td>423</td>\n",
       "      <td>Boulevard Brewing Co.</td>\n",
       "      <td>1224559179</td>\n",
       "      <td>4.0</td>\n",
       "      <td>3.5</td>\n",
       "      <td>4.0</td>\n",
       "      <td>BedetheVenerable</td>\n",
       "      <td>American Pale Ale (APA)</td>\n",
       "      <td>4.0</td>\n",
       "      <td>3.5</td>\n",
       "      <td>Pale Ale</td>\n",
       "      <td>5.40</td>\n",
       "      <td>2094</td>\n",
       "    </tr>\n",
       "    <tr>\n",
       "      <th>379251</th>\n",
       "      <td>776</td>\n",
       "      <td>Catamount Brewing Company</td>\n",
       "      <td>918691201</td>\n",
       "      <td>4.0</td>\n",
       "      <td>3.5</td>\n",
       "      <td>4.0</td>\n",
       "      <td>BeerAdvocate</td>\n",
       "      <td>American Pale Ale (APA)</td>\n",
       "      <td>4.0</td>\n",
       "      <td>4.0</td>\n",
       "      <td>Pale Ale</td>\n",
       "      <td>NaN</td>\n",
       "      <td>2379</td>\n",
       "    </tr>\n",
       "    <tr>\n",
       "      <th>612359</th>\n",
       "      <td>199</td>\n",
       "      <td>Ballast Point Brewing Company</td>\n",
       "      <td>1152930407</td>\n",
       "      <td>4.0</td>\n",
       "      <td>3.5</td>\n",
       "      <td>3.5</td>\n",
       "      <td>BeerAmbassador</td>\n",
       "      <td>Kölsch</td>\n",
       "      <td>3.5</td>\n",
       "      <td>4.0</td>\n",
       "      <td>Pale Ale</td>\n",
       "      <td>5.00</td>\n",
       "      <td>696</td>\n",
       "    </tr>\n",
       "    <tr>\n",
       "      <th>698628</th>\n",
       "      <td>130</td>\n",
       "      <td>Boulder Beer / Wilderness Pub</td>\n",
       "      <td>1037390448</td>\n",
       "      <td>3.5</td>\n",
       "      <td>4.0</td>\n",
       "      <td>3.0</td>\n",
       "      <td>BeerAngel</td>\n",
       "      <td>American Pale Ale (APA)</td>\n",
       "      <td>3.0</td>\n",
       "      <td>3.0</td>\n",
       "      <td>Pale Ale</td>\n",
       "      <td>NaN</td>\n",
       "      <td>4707</td>\n",
       "    </tr>\n",
       "    <tr>\n",
       "      <th>1519573</th>\n",
       "      <td>791</td>\n",
       "      <td>Minocqua Brewing Company</td>\n",
       "      <td>1181581516</td>\n",
       "      <td>3.5</td>\n",
       "      <td>3.0</td>\n",
       "      <td>3.0</td>\n",
       "      <td>BeerBelcher</td>\n",
       "      <td>American Pale Ale (APA)</td>\n",
       "      <td>2.5</td>\n",
       "      <td>3.0</td>\n",
       "      <td>Pale Ale</td>\n",
       "      <td>NaN</td>\n",
       "      <td>5714</td>\n",
       "    </tr>\n",
       "    <tr>\n",
       "      <th>739047</th>\n",
       "      <td>1910</td>\n",
       "      <td>Water Street Brewery</td>\n",
       "      <td>1175291079</td>\n",
       "      <td>3.5</td>\n",
       "      <td>3.0</td>\n",
       "      <td>4.5</td>\n",
       "      <td>BeerBelcher</td>\n",
       "      <td>American Pale Ale (APA)</td>\n",
       "      <td>4.0</td>\n",
       "      <td>3.5</td>\n",
       "      <td>Pale Ale</td>\n",
       "      <td>NaN</td>\n",
       "      <td>10207</td>\n",
       "    </tr>\n",
       "    <tr>\n",
       "      <th>563137</th>\n",
       "      <td>423</td>\n",
       "      <td>Boulevard Brewing Co.</td>\n",
       "      <td>1026396472</td>\n",
       "      <td>4.0</td>\n",
       "      <td>3.5</td>\n",
       "      <td>3.0</td>\n",
       "      <td>BeerBob</td>\n",
       "      <td>American Pale Ale (APA)</td>\n",
       "      <td>3.5</td>\n",
       "      <td>4.0</td>\n",
       "      <td>Pale Ale</td>\n",
       "      <td>5.40</td>\n",
       "      <td>2094</td>\n",
       "    </tr>\n",
       "    <tr>\n",
       "      <th>698630</th>\n",
       "      <td>130</td>\n",
       "      <td>Boulder Beer / Wilderness Pub</td>\n",
       "      <td>1031596534</td>\n",
       "      <td>4.5</td>\n",
       "      <td>3.5</td>\n",
       "      <td>3.5</td>\n",
       "      <td>BeerBob</td>\n",
       "      <td>American Pale Ale (APA)</td>\n",
       "      <td>4.0</td>\n",
       "      <td>4.0</td>\n",
       "      <td>Pale Ale</td>\n",
       "      <td>NaN</td>\n",
       "      <td>4707</td>\n",
       "    </tr>\n",
       "    <tr>\n",
       "      <th>671988</th>\n",
       "      <td>651</td>\n",
       "      <td>Ithaca Beer Company</td>\n",
       "      <td>1259634565</td>\n",
       "      <td>3.5</td>\n",
       "      <td>4.0</td>\n",
       "      <td>3.0</td>\n",
       "      <td>BeerCon5</td>\n",
       "      <td>American Pale Ale (APA)</td>\n",
       "      <td>3.5</td>\n",
       "      <td>3.0</td>\n",
       "      <td>Pale Ale</td>\n",
       "      <td>5.80</td>\n",
       "      <td>1783</td>\n",
       "    </tr>\n",
       "    <tr>\n",
       "      <th>470544</th>\n",
       "      <td>392</td>\n",
       "      <td>Weyerbacher Brewing Co.</td>\n",
       "      <td>1299020278</td>\n",
       "      <td>3.5</td>\n",
       "      <td>3.5</td>\n",
       "      <td>3.5</td>\n",
       "      <td>BeerConnoiseur</td>\n",
       "      <td>American Pale Ale (APA)</td>\n",
       "      <td>3.5</td>\n",
       "      <td>3.5</td>\n",
       "      <td>Pale Ale</td>\n",
       "      <td>NaN</td>\n",
       "      <td>10373</td>\n",
       "    </tr>\n",
       "    <tr>\n",
       "      <th>1519571</th>\n",
       "      <td>791</td>\n",
       "      <td>Minocqua Brewing Company</td>\n",
       "      <td>1281320038</td>\n",
       "      <td>3.0</td>\n",
       "      <td>3.0</td>\n",
       "      <td>2.5</td>\n",
       "      <td>BeerFMAndy</td>\n",
       "      <td>American Pale Ale (APA)</td>\n",
       "      <td>3.0</td>\n",
       "      <td>3.0</td>\n",
       "      <td>Pale Ale</td>\n",
       "      <td>NaN</td>\n",
       "      <td>5714</td>\n",
       "    </tr>\n",
       "    <tr>\n",
       "      <th>739044</th>\n",
       "      <td>1910</td>\n",
       "      <td>Water Street Brewery</td>\n",
       "      <td>1257016347</td>\n",
       "      <td>3.5</td>\n",
       "      <td>4.0</td>\n",
       "      <td>4.0</td>\n",
       "      <td>BeerFMAndy</td>\n",
       "      <td>American Pale Ale (APA)</td>\n",
       "      <td>3.0</td>\n",
       "      <td>3.0</td>\n",
       "      <td>Pale Ale</td>\n",
       "      <td>NaN</td>\n",
       "      <td>10207</td>\n",
       "    </tr>\n",
       "    <tr>\n",
       "      <th>1514385</th>\n",
       "      <td>4426</td>\n",
       "      <td>Hinterland Brewery Restaurant</td>\n",
       "      <td>1276220473</td>\n",
       "      <td>3.5</td>\n",
       "      <td>3.0</td>\n",
       "      <td>3.5</td>\n",
       "      <td>BeerFMAndy</td>\n",
       "      <td>American Pale Ale (APA)</td>\n",
       "      <td>3.5</td>\n",
       "      <td>3.5</td>\n",
       "      <td>Pale Ale</td>\n",
       "      <td>NaN</td>\n",
       "      <td>10175</td>\n",
       "    </tr>\n",
       "    <tr>\n",
       "      <th>435817</th>\n",
       "      <td>4614</td>\n",
       "      <td>Orlando Brewing Partners</td>\n",
       "      <td>1255902269</td>\n",
       "      <td>4.0</td>\n",
       "      <td>3.0</td>\n",
       "      <td>3.5</td>\n",
       "      <td>BeerImmediately</td>\n",
       "      <td>American Pale Ale (APA)</td>\n",
       "      <td>4.0</td>\n",
       "      <td>4.0</td>\n",
       "      <td>Pale Ale</td>\n",
       "      <td>6.25</td>\n",
       "      <td>32442</td>\n",
       "    </tr>\n",
       "    <tr>\n",
       "      <th>743774</th>\n",
       "      <td>7730</td>\n",
       "      <td>Nøgne Ø - Det Kompromissløse Bryggeri A/S</td>\n",
       "      <td>1297100278</td>\n",
       "      <td>4.0</td>\n",
       "      <td>4.0</td>\n",
       "      <td>4.0</td>\n",
       "      <td>BeerLover99</td>\n",
       "      <td>American Pale Ale (APA)</td>\n",
       "      <td>4.0</td>\n",
       "      <td>4.5</td>\n",
       "      <td>Pale Ale</td>\n",
       "      <td>6.00</td>\n",
       "      <td>19781</td>\n",
       "    </tr>\n",
       "    <tr>\n",
       "      <th>612262</th>\n",
       "      <td>199</td>\n",
       "      <td>Ballast Point Brewing Company</td>\n",
       "      <td>1234314186</td>\n",
       "      <td>4.0</td>\n",
       "      <td>4.0</td>\n",
       "      <td>3.5</td>\n",
       "      <td>BeerManDan</td>\n",
       "      <td>Kölsch</td>\n",
       "      <td>4.0</td>\n",
       "      <td>4.0</td>\n",
       "      <td>Pale Ale</td>\n",
       "      <td>5.00</td>\n",
       "      <td>696</td>\n",
       "    </tr>\n",
       "    <tr>\n",
       "      <th>791180</th>\n",
       "      <td>255</td>\n",
       "      <td>SLO Brewing Company</td>\n",
       "      <td>1037702315</td>\n",
       "      <td>4.0</td>\n",
       "      <td>4.5</td>\n",
       "      <td>4.0</td>\n",
       "      <td>BeerManDan</td>\n",
       "      <td>American Pale Ale (APA)</td>\n",
       "      <td>4.0</td>\n",
       "      <td>4.0</td>\n",
       "      <td>Pale Ale</td>\n",
       "      <td>NaN</td>\n",
       "      <td>7199</td>\n",
       "    </tr>\n",
       "    <tr>\n",
       "      <th>1238775</th>\n",
       "      <td>7064</td>\n",
       "      <td>Coastal Fog Brewing</td>\n",
       "      <td>1237521126</td>\n",
       "      <td>4.0</td>\n",
       "      <td>3.5</td>\n",
       "      <td>4.0</td>\n",
       "      <td>BeerMeHearMe</td>\n",
       "      <td>American Pale Ale (APA)</td>\n",
       "      <td>4.5</td>\n",
       "      <td>4.0</td>\n",
       "      <td>Pale Ale</td>\n",
       "      <td>4.70</td>\n",
       "      <td>13196</td>\n",
       "    </tr>\n",
       "    <tr>\n",
       "      <th>244105</th>\n",
       "      <td>692</td>\n",
       "      <td>Ellicottville Brewing Co.</td>\n",
       "      <td>1281361186</td>\n",
       "      <td>4.0</td>\n",
       "      <td>4.0</td>\n",
       "      <td>4.5</td>\n",
       "      <td>BeerNinja007</td>\n",
       "      <td>American Pale Ale (APA)</td>\n",
       "      <td>3.5</td>\n",
       "      <td>4.5</td>\n",
       "      <td>Pale Ale</td>\n",
       "      <td>5.50</td>\n",
       "      <td>1983</td>\n",
       "    </tr>\n",
       "    <tr>\n",
       "      <th>175536</th>\n",
       "      <td>94</td>\n",
       "      <td>Long Trail Brewing Co.</td>\n",
       "      <td>1280445373</td>\n",
       "      <td>3.5</td>\n",
       "      <td>4.0</td>\n",
       "      <td>4.5</td>\n",
       "      <td>BeerNinja007</td>\n",
       "      <td>English Pale Ale</td>\n",
       "      <td>2.0</td>\n",
       "      <td>3.5</td>\n",
       "      <td>Pale Ale</td>\n",
       "      <td>5.70</td>\n",
       "      <td>55960</td>\n",
       "    </tr>\n",
       "    <tr>\n",
       "      <th>175539</th>\n",
       "      <td>94</td>\n",
       "      <td>Long Trail Brewing Co.</td>\n",
       "      <td>1275183284</td>\n",
       "      <td>4.0</td>\n",
       "      <td>3.5</td>\n",
       "      <td>4.0</td>\n",
       "      <td>BeerPhan86</td>\n",
       "      <td>English Pale Ale</td>\n",
       "      <td>3.5</td>\n",
       "      <td>4.5</td>\n",
       "      <td>Pale Ale</td>\n",
       "      <td>5.70</td>\n",
       "      <td>55960</td>\n",
       "    </tr>\n",
       "    <tr>\n",
       "      <th>1497976</th>\n",
       "      <td>403</td>\n",
       "      <td>Pyramid Breweries, Inc.</td>\n",
       "      <td>1062476348</td>\n",
       "      <td>4.0</td>\n",
       "      <td>4.0</td>\n",
       "      <td>4.0</td>\n",
       "      <td>BeerResearcher</td>\n",
       "      <td>American Pale Ale (APA)</td>\n",
       "      <td>3.5</td>\n",
       "      <td>3.5</td>\n",
       "      <td>Pale Ale</td>\n",
       "      <td>5.10</td>\n",
       "      <td>1238</td>\n",
       "    </tr>\n",
       "    <tr>\n",
       "      <th>563124</th>\n",
       "      <td>423</td>\n",
       "      <td>Boulevard Brewing Co.</td>\n",
       "      <td>1050255284</td>\n",
       "      <td>4.0</td>\n",
       "      <td>4.0</td>\n",
       "      <td>3.5</td>\n",
       "      <td>BeerResearcher</td>\n",
       "      <td>American Pale Ale (APA)</td>\n",
       "      <td>3.5</td>\n",
       "      <td>4.0</td>\n",
       "      <td>Pale Ale</td>\n",
       "      <td>5.40</td>\n",
       "      <td>2094</td>\n",
       "    </tr>\n",
       "    <tr>\n",
       "      <th>1388935</th>\n",
       "      <td>22509</td>\n",
       "      <td>Kind Beers Brewing</td>\n",
       "      <td>1063246793</td>\n",
       "      <td>4.0</td>\n",
       "      <td>3.5</td>\n",
       "      <td>3.5</td>\n",
       "      <td>BeerResearcher</td>\n",
       "      <td>American Pale Ale (APA)</td>\n",
       "      <td>4.0</td>\n",
       "      <td>3.5</td>\n",
       "      <td>Pale Ale</td>\n",
       "      <td>7.30</td>\n",
       "      <td>57492</td>\n",
       "    </tr>\n",
       "    <tr>\n",
       "      <th>612358</th>\n",
       "      <td>199</td>\n",
       "      <td>Ballast Point Brewing Company</td>\n",
       "      <td>1153005997</td>\n",
       "      <td>5.0</td>\n",
       "      <td>4.0</td>\n",
       "      <td>4.5</td>\n",
       "      <td>BeerRun13</td>\n",
       "      <td>Kölsch</td>\n",
       "      <td>4.0</td>\n",
       "      <td>4.0</td>\n",
       "      <td>Pale Ale</td>\n",
       "      <td>5.00</td>\n",
       "      <td>696</td>\n",
       "    </tr>\n",
       "    <tr>\n",
       "      <th>684377</th>\n",
       "      <td>1683</td>\n",
       "      <td>Santa Fe Brewing Company</td>\n",
       "      <td>1170646255</td>\n",
       "      <td>4.0</td>\n",
       "      <td>3.5</td>\n",
       "      <td>4.0</td>\n",
       "      <td>BeerSox</td>\n",
       "      <td>American Pale Ale (APA)</td>\n",
       "      <td>3.5</td>\n",
       "      <td>3.5</td>\n",
       "      <td>Pale Ale</td>\n",
       "      <td>5.50</td>\n",
       "      <td>4798</td>\n",
       "    </tr>\n",
       "  </tbody>\n",
       "</table>\n",
       "<p>100 rows × 13 columns</p>\n",
       "</div>"
      ],
      "text/plain": [
       "        beer_reviews/                               brewery_name  review_time  \\\n",
       "912451          19402              Inland Empire Brewing Company   1240528130   \n",
       "1406262          9824                  Silverado Brewing Company   1253298781   \n",
       "563154            423                      Boulevard Brewing Co.   1305678006   \n",
       "525342           2101                  Blue Star Brewing Company   1237655645   \n",
       "41264           13397                    Mountaineer Brewing Co.   1291941443   \n",
       "1385721          3725                                  Réservoir   1120719056   \n",
       "562967            423                      Boulevard Brewing Co.   1203782439   \n",
       "563116            423                      Boulevard Brewing Co.   1058366048   \n",
       "1429227         25252                          Goodieson Brewery   1304334057   \n",
       "836014          18414                     Three Troupers Brewery   1288180209   \n",
       "612416            199              Ballast Point Brewing Company   1305123703   \n",
       "477535          16465                       Croucher Brewing Co.   1248702467   \n",
       "175527             94                     Long Trail Brewing Co.   1285474135   \n",
       "743832           7730  Nøgne Ø - Det Kompromissløse Bryggeri A/S   1197602199   \n",
       "739049           1910                       Water Street Brewery   1143907983   \n",
       "562980            423                      Boulevard Brewing Co.   1196906504   \n",
       "585600            414               Diamond Bear Brewing Company   1223779502   \n",
       "477693           7406                        Bitter Root Brewing   1209855215   \n",
       "258037            778                    Pioneer Brewing Company   1027861379   \n",
       "1567447          5062           Meantime Brewing Company Limited   1249487635   \n",
       "12041            9020                      Yazoo Brewing Company   1312412155   \n",
       "395060          17282                Good People Brewing Company   1281330164   \n",
       "1074374         20400           The Ruddy Duck Brewery And Grill   1286255589   \n",
       "12035            9020                      Yazoo Brewing Company   1322460626   \n",
       "435820           4614                   Orlando Brewing Partners   1245586170   \n",
       "563180            423                      Boulevard Brewing Co.   1285031077   \n",
       "612409            199              Ballast Point Brewing Company   1308611562   \n",
       "1391878           486                         Legend Brewing Co.   1302750809   \n",
       "563172            423                      Boulevard Brewing Co.   1291155881   \n",
       "612457            199              Ballast Point Brewing Company   1280009304   \n",
       "...               ...                                        ...          ...   \n",
       "684413           1683                   Santa Fe Brewing Company   1298659381   \n",
       "1296993           878                              Oasis Brewery   1082956131   \n",
       "562340            423                      Boulevard Brewing Co.   1254631484   \n",
       "684396           1683                   Santa Fe Brewing Company   1097127507   \n",
       "562922            423                      Boulevard Brewing Co.   1224559179   \n",
       "379251            776                  Catamount Brewing Company    918691201   \n",
       "612359            199              Ballast Point Brewing Company   1152930407   \n",
       "698628            130              Boulder Beer / Wilderness Pub   1037390448   \n",
       "1519573           791                   Minocqua Brewing Company   1181581516   \n",
       "739047           1910                       Water Street Brewery   1175291079   \n",
       "563137            423                      Boulevard Brewing Co.   1026396472   \n",
       "698630            130              Boulder Beer / Wilderness Pub   1031596534   \n",
       "671988            651                        Ithaca Beer Company   1259634565   \n",
       "470544            392                    Weyerbacher Brewing Co.   1299020278   \n",
       "1519571           791                   Minocqua Brewing Company   1281320038   \n",
       "739044           1910                       Water Street Brewery   1257016347   \n",
       "1514385          4426              Hinterland Brewery Restaurant   1276220473   \n",
       "435817           4614                   Orlando Brewing Partners   1255902269   \n",
       "743774           7730  Nøgne Ø - Det Kompromissløse Bryggeri A/S   1297100278   \n",
       "612262            199              Ballast Point Brewing Company   1234314186   \n",
       "791180            255                        SLO Brewing Company   1037702315   \n",
       "1238775          7064                        Coastal Fog Brewing   1237521126   \n",
       "244105            692                  Ellicottville Brewing Co.   1281361186   \n",
       "175536             94                     Long Trail Brewing Co.   1280445373   \n",
       "175539             94                     Long Trail Brewing Co.   1275183284   \n",
       "1497976           403                    Pyramid Breweries, Inc.   1062476348   \n",
       "563124            423                      Boulevard Brewing Co.   1050255284   \n",
       "1388935         22509                         Kind Beers Brewing   1063246793   \n",
       "612358            199              Ballast Point Brewing Company   1153005997   \n",
       "684377           1683                   Santa Fe Brewing Company   1170646255   \n",
       "\n",
       "         review_overall  review_aroma  review_appearance review_profilename  \\\n",
       "912451              4.0           3.0                3.0           0110x011   \n",
       "1406262             3.5           3.5                3.5           1759Girl   \n",
       "563154              3.5           2.0                4.0            1Adam12   \n",
       "525342              4.5           4.0                4.0           1fastz28   \n",
       "41264               4.0           3.0                3.5            321jeff   \n",
       "1385721             3.5           3.0                3.0            3Vandoo   \n",
       "562967              5.0           4.5                4.5   7thstreetbrewery   \n",
       "563116              4.0           3.5                4.0                ADR   \n",
       "1429227             3.0           3.0                3.5               ADZA   \n",
       "836014              3.5           3.0                3.0               ADZA   \n",
       "612416              3.5           3.0                3.5               ADZA   \n",
       "477535              4.5           3.0                4.5               ADZA   \n",
       "175527              4.5           5.0                5.0         AITCTKD170   \n",
       "743832              3.5           5.0                3.0     AKBelgianBeast   \n",
       "739049              2.0           2.5                2.0    ALESwhatCURESya   \n",
       "562980              4.0           4.0                3.5                AMo   \n",
       "585600              2.5           2.5                3.0         ATLbeerDog   \n",
       "477693              3.5           3.5                3.5         ATLbeerDog   \n",
       "258037              4.0           4.0                4.0           AaronRed   \n",
       "1567447             3.5           3.5                3.5         Absumaster   \n",
       "12041               3.5           3.0                3.0         AgentMunky   \n",
       "395060              3.0           2.5                3.0         AgentMunky   \n",
       "1074374             4.0           3.0                3.0          AgentZero   \n",
       "12035               2.5           3.0                3.5          AgentZero   \n",
       "435820              4.5           3.5                4.0       AgingWarrior   \n",
       "563180              4.5           2.5                3.5              Agold   \n",
       "612409              3.5           3.5                3.5     AlCaponeJunior   \n",
       "1391878             3.5           3.5                4.0     AlCaponeJunior   \n",
       "563172              4.0           3.5                4.0     AlCaponeJunior   \n",
       "612457              4.0           4.0                3.5         AleWatcher   \n",
       "...                 ...           ...                ...                ...   \n",
       "684413              4.0           3.0                3.5       BeardedRiker   \n",
       "1296993             3.5           3.5                3.5           Beaver13   \n",
       "562340              3.5           3.0                4.5           Beaver13   \n",
       "684396              2.5           1.5                4.0           Beaver13   \n",
       "562922              4.0           3.5                4.0   BedetheVenerable   \n",
       "379251              4.0           3.5                4.0       BeerAdvocate   \n",
       "612359              4.0           3.5                3.5     BeerAmbassador   \n",
       "698628              3.5           4.0                3.0          BeerAngel   \n",
       "1519573             3.5           3.0                3.0        BeerBelcher   \n",
       "739047              3.5           3.0                4.5        BeerBelcher   \n",
       "563137              4.0           3.5                3.0            BeerBob   \n",
       "698630              4.5           3.5                3.5            BeerBob   \n",
       "671988              3.5           4.0                3.0           BeerCon5   \n",
       "470544              3.5           3.5                3.5     BeerConnoiseur   \n",
       "1519571             3.0           3.0                2.5         BeerFMAndy   \n",
       "739044              3.5           4.0                4.0         BeerFMAndy   \n",
       "1514385             3.5           3.0                3.5         BeerFMAndy   \n",
       "435817              4.0           3.0                3.5    BeerImmediately   \n",
       "743774              4.0           4.0                4.0        BeerLover99   \n",
       "612262              4.0           4.0                3.5         BeerManDan   \n",
       "791180              4.0           4.5                4.0         BeerManDan   \n",
       "1238775             4.0           3.5                4.0       BeerMeHearMe   \n",
       "244105              4.0           4.0                4.5       BeerNinja007   \n",
       "175536              3.5           4.0                4.5       BeerNinja007   \n",
       "175539              4.0           3.5                4.0         BeerPhan86   \n",
       "1497976             4.0           4.0                4.0     BeerResearcher   \n",
       "563124              4.0           4.0                3.5     BeerResearcher   \n",
       "1388935             4.0           3.5                3.5     BeerResearcher   \n",
       "612358              5.0           4.0                4.5          BeerRun13   \n",
       "684377              4.0           3.5                4.0            BeerSox   \n",
       "\n",
       "                      beer_style  review_palate  review_taste beer_name  \\\n",
       "912451   American Pale Ale (APA)            3.0           3.5  Pale Ale   \n",
       "1406262  American Pale Ale (APA)            2.5           4.0  Pale Ale   \n",
       "563154   American Pale Ale (APA)            3.0           3.0  Pale Ale   \n",
       "525342   American Pale Ale (APA)            4.0           4.0  Pale Ale   \n",
       "41264    American Pale Ale (APA)            4.0           3.0  Pale Ale   \n",
       "1385721         English Pale Ale            4.0           3.0  Pale Ale   \n",
       "562967   American Pale Ale (APA)            5.0           4.5  Pale Ale   \n",
       "563116   American Pale Ale (APA)            3.5           3.0  Pale Ale   \n",
       "1429227  American Pale Ale (APA)            3.0           3.0  Pale Ale   \n",
       "836014          English Pale Ale            3.0           3.5  Pale Ale   \n",
       "612416                    Kölsch            3.0           3.5  Pale Ale   \n",
       "477535   American Pale Ale (APA)            3.5           4.5  Pale Ale   \n",
       "175527          English Pale Ale            4.0           4.0  Pale Ale   \n",
       "743832   American Pale Ale (APA)            3.5           3.5  Pale Ale   \n",
       "739049   American Pale Ale (APA)            2.0           2.0  Pale Ale   \n",
       "562980   American Pale Ale (APA)            4.5           4.0  Pale Ale   \n",
       "585600          English Pale Ale            2.5           2.5  Pale Ale   \n",
       "477693          English Pale Ale            3.5           3.5  Pale Ale   \n",
       "258037   American Pale Ale (APA)            4.0           4.0  Pale Ale   \n",
       "1567447         English Pale Ale            3.0           3.5  Pale Ale   \n",
       "12041    American Pale Ale (APA)            4.5           4.0  Pale Ale   \n",
       "395060   American Pale Ale (APA)            3.5           2.5  Pale Ale   \n",
       "1074374  American Pale Ale (APA)            3.0           3.0  Pale Ale   \n",
       "12035    American Pale Ale (APA)            3.0           2.0  Pale Ale   \n",
       "435820   American Pale Ale (APA)            4.0           4.0  Pale Ale   \n",
       "563180   American Pale Ale (APA)            4.0           3.0  Pale Ale   \n",
       "612409                    Kölsch            3.0           3.5  Pale Ale   \n",
       "1391878  American Pale Ale (APA)            4.0           4.0  Pale Ale   \n",
       "563172   American Pale Ale (APA)            4.0           4.0  Pale Ale   \n",
       "612457                    Kölsch            3.0           3.0  Pale Ale   \n",
       "...                          ...            ...           ...       ...   \n",
       "684413   American Pale Ale (APA)            3.5           3.5  Pale Ale   \n",
       "1296993  American Pale Ale (APA)            3.0           3.5  Pale Ale   \n",
       "562340   American Pale Ale (APA)            4.0           3.0  Pale Ale   \n",
       "684396   American Pale Ale (APA)            3.5           1.5  Pale Ale   \n",
       "562922   American Pale Ale (APA)            4.0           3.5  Pale Ale   \n",
       "379251   American Pale Ale (APA)            4.0           4.0  Pale Ale   \n",
       "612359                    Kölsch            3.5           4.0  Pale Ale   \n",
       "698628   American Pale Ale (APA)            3.0           3.0  Pale Ale   \n",
       "1519573  American Pale Ale (APA)            2.5           3.0  Pale Ale   \n",
       "739047   American Pale Ale (APA)            4.0           3.5  Pale Ale   \n",
       "563137   American Pale Ale (APA)            3.5           4.0  Pale Ale   \n",
       "698630   American Pale Ale (APA)            4.0           4.0  Pale Ale   \n",
       "671988   American Pale Ale (APA)            3.5           3.0  Pale Ale   \n",
       "470544   American Pale Ale (APA)            3.5           3.5  Pale Ale   \n",
       "1519571  American Pale Ale (APA)            3.0           3.0  Pale Ale   \n",
       "739044   American Pale Ale (APA)            3.0           3.0  Pale Ale   \n",
       "1514385  American Pale Ale (APA)            3.5           3.5  Pale Ale   \n",
       "435817   American Pale Ale (APA)            4.0           4.0  Pale Ale   \n",
       "743774   American Pale Ale (APA)            4.0           4.5  Pale Ale   \n",
       "612262                    Kölsch            4.0           4.0  Pale Ale   \n",
       "791180   American Pale Ale (APA)            4.0           4.0  Pale Ale   \n",
       "1238775  American Pale Ale (APA)            4.5           4.0  Pale Ale   \n",
       "244105   American Pale Ale (APA)            3.5           4.5  Pale Ale   \n",
       "175536          English Pale Ale            2.0           3.5  Pale Ale   \n",
       "175539          English Pale Ale            3.5           4.5  Pale Ale   \n",
       "1497976  American Pale Ale (APA)            3.5           3.5  Pale Ale   \n",
       "563124   American Pale Ale (APA)            3.5           4.0  Pale Ale   \n",
       "1388935  American Pale Ale (APA)            4.0           3.5  Pale Ale   \n",
       "612358                    Kölsch            4.0           4.0  Pale Ale   \n",
       "684377   American Pale Ale (APA)            3.5           3.5  Pale Ale   \n",
       "\n",
       "         beer_abv  beer_beerid  \n",
       "912451       5.50        49291  \n",
       "1406262      5.12        25427  \n",
       "563154       5.40         2094  \n",
       "525342        NaN         5828  \n",
       "41264        5.59        28951  \n",
       "1385721      5.00        24527  \n",
       "562967       5.40         2094  \n",
       "563116       5.40         2094  \n",
       "1429227      4.50        68580  \n",
       "836014       4.50        46137  \n",
       "612416       5.00          696  \n",
       "477535       5.00        40487  \n",
       "175527       5.70        55960  \n",
       "743832       6.00        19781  \n",
       "739049        NaN        10207  \n",
       "562980       5.40         2094  \n",
       "585600       6.20         1216  \n",
       "477693       5.40        17402  \n",
       "258037       4.20         5095  \n",
       "1567447      4.70        26632  \n",
       "12041        5.80        25656  \n",
       "395060       5.60        43676  \n",
       "1074374      5.20        62351  \n",
       "12035        5.80        25656  \n",
       "435820       6.25        32442  \n",
       "563180       5.40         2094  \n",
       "612409       5.00          696  \n",
       "1391878      6.40         4831  \n",
       "563172       5.40         2094  \n",
       "612457       5.00          696  \n",
       "...           ...          ...  \n",
       "684413       5.50         4798  \n",
       "1296993       NaN         5320  \n",
       "562340       5.40         2094  \n",
       "684396       5.50         4798  \n",
       "562922       5.40         2094  \n",
       "379251        NaN         2379  \n",
       "612359       5.00          696  \n",
       "698628        NaN         4707  \n",
       "1519573       NaN         5714  \n",
       "739047        NaN        10207  \n",
       "563137       5.40         2094  \n",
       "698630        NaN         4707  \n",
       "671988       5.80         1783  \n",
       "470544        NaN        10373  \n",
       "1519571       NaN         5714  \n",
       "739044        NaN        10207  \n",
       "1514385       NaN        10175  \n",
       "435817       6.25        32442  \n",
       "743774       6.00        19781  \n",
       "612262       5.00          696  \n",
       "791180        NaN         7199  \n",
       "1238775      4.70        13196  \n",
       "244105       5.50         1983  \n",
       "175536       5.70        55960  \n",
       "175539       5.70        55960  \n",
       "1497976      5.10         1238  \n",
       "563124       5.40         2094  \n",
       "1388935      7.30        57492  \n",
       "612358       5.00          696  \n",
       "684377       5.50         4798  \n",
       "\n",
       "[100 rows x 13 columns]"
      ]
     },
     "execution_count": 15,
     "metadata": {},
     "output_type": "execute_result"
    }
   ],
   "source": [
    "\n"
   ]
  },
  {
   "cell_type": "markdown",
   "metadata": {},
   "source": [
    "Let's restrict this to the top 250 beers. Use the `value_counts()` method to get a sorted list by value count on **beer_name** and then taking the first 250.  Overwrite `df` with this new data."
   ]
  },
  {
   "cell_type": "code",
   "execution_count": 16,
   "metadata": {
    "collapsed": false
   },
   "outputs": [
    {
     "data": {
      "text/html": [
       "<div>\n",
       "<table border=\"1\" class=\"dataframe\">\n",
       "  <thead>\n",
       "    <tr style=\"text-align: right;\">\n",
       "      <th></th>\n",
       "      <th>beer_reviews/</th>\n",
       "      <th>brewery_name</th>\n",
       "      <th>review_time</th>\n",
       "      <th>review_overall</th>\n",
       "      <th>review_aroma</th>\n",
       "      <th>review_appearance</th>\n",
       "      <th>review_profilename</th>\n",
       "      <th>beer_style</th>\n",
       "      <th>review_palate</th>\n",
       "      <th>review_taste</th>\n",
       "      <th>beer_name</th>\n",
       "      <th>beer_abv</th>\n",
       "      <th>beer_beerid</th>\n",
       "    </tr>\n",
       "  </thead>\n",
       "  <tbody>\n",
       "    <tr>\n",
       "      <th>798</th>\n",
       "      <td>1075</td>\n",
       "      <td>Caldera Brewing Company</td>\n",
       "      <td>1212201268</td>\n",
       "      <td>4.5</td>\n",
       "      <td>4.5</td>\n",
       "      <td>4</td>\n",
       "      <td>grumpy</td>\n",
       "      <td>American Double / Imperial Stout</td>\n",
       "      <td>4.0</td>\n",
       "      <td>4.5</td>\n",
       "      <td>Imperial Stout</td>\n",
       "      <td>NaN</td>\n",
       "      <td>42964</td>\n",
       "    </tr>\n",
       "    <tr>\n",
       "      <th>1559</th>\n",
       "      <td>11715</td>\n",
       "      <td>Destiny Brewing Company</td>\n",
       "      <td>1137124057</td>\n",
       "      <td>4.0</td>\n",
       "      <td>3.5</td>\n",
       "      <td>4</td>\n",
       "      <td>blitheringidiot</td>\n",
       "      <td>American Pale Ale (APA)</td>\n",
       "      <td>3.5</td>\n",
       "      <td>3.5</td>\n",
       "      <td>Pale Ale</td>\n",
       "      <td>4.5</td>\n",
       "      <td>26420</td>\n",
       "    </tr>\n",
       "    <tr>\n",
       "      <th>1560</th>\n",
       "      <td>11715</td>\n",
       "      <td>Destiny Brewing Company</td>\n",
       "      <td>1129504403</td>\n",
       "      <td>4.0</td>\n",
       "      <td>2.5</td>\n",
       "      <td>4</td>\n",
       "      <td>NeroFiddled</td>\n",
       "      <td>American Pale Ale (APA)</td>\n",
       "      <td>4.0</td>\n",
       "      <td>3.5</td>\n",
       "      <td>Pale Ale</td>\n",
       "      <td>4.5</td>\n",
       "      <td>26420</td>\n",
       "    </tr>\n",
       "    <tr>\n",
       "      <th>1563</th>\n",
       "      <td>11715</td>\n",
       "      <td>Destiny Brewing Company</td>\n",
       "      <td>1137125989</td>\n",
       "      <td>3.5</td>\n",
       "      <td>3.0</td>\n",
       "      <td>4</td>\n",
       "      <td>blitheringidiot</td>\n",
       "      <td>American IPA</td>\n",
       "      <td>4.0</td>\n",
       "      <td>4.0</td>\n",
       "      <td>IPA</td>\n",
       "      <td>NaN</td>\n",
       "      <td>26132</td>\n",
       "    </tr>\n",
       "    <tr>\n",
       "      <th>1564</th>\n",
       "      <td>11715</td>\n",
       "      <td>Destiny Brewing Company</td>\n",
       "      <td>1130936611</td>\n",
       "      <td>3.0</td>\n",
       "      <td>3.0</td>\n",
       "      <td>3</td>\n",
       "      <td>Gavage</td>\n",
       "      <td>American IPA</td>\n",
       "      <td>4.0</td>\n",
       "      <td>3.5</td>\n",
       "      <td>IPA</td>\n",
       "      <td>NaN</td>\n",
       "      <td>26132</td>\n",
       "    </tr>\n",
       "  </tbody>\n",
       "</table>\n",
       "</div>"
      ],
      "text/plain": [
       "     beer_reviews/             brewery_name  review_time  review_overall  \\\n",
       "798           1075  Caldera Brewing Company   1212201268             4.5   \n",
       "1559         11715  Destiny Brewing Company   1137124057             4.0   \n",
       "1560         11715  Destiny Brewing Company   1129504403             4.0   \n",
       "1563         11715  Destiny Brewing Company   1137125989             3.5   \n",
       "1564         11715  Destiny Brewing Company   1130936611             3.0   \n",
       "\n",
       "      review_aroma  review_appearance review_profilename  \\\n",
       "798            4.5                  4             grumpy   \n",
       "1559           3.5                  4    blitheringidiot   \n",
       "1560           2.5                  4        NeroFiddled   \n",
       "1563           3.0                  4    blitheringidiot   \n",
       "1564           3.0                  3             Gavage   \n",
       "\n",
       "                            beer_style  review_palate  review_taste  \\\n",
       "798   American Double / Imperial Stout            4.0           4.5   \n",
       "1559           American Pale Ale (APA)            3.5           3.5   \n",
       "1560           American Pale Ale (APA)            4.0           3.5   \n",
       "1563                      American IPA            4.0           4.0   \n",
       "1564                      American IPA            4.0           3.5   \n",
       "\n",
       "           beer_name  beer_abv  beer_beerid  \n",
       "798   Imperial Stout       NaN        42964  \n",
       "1559        Pale Ale       4.5        26420  \n",
       "1560        Pale Ale       4.5        26420  \n",
       "1563             IPA       NaN        26132  \n",
       "1564             IPA       NaN        26132  "
      ]
     },
     "execution_count": 16,
     "metadata": {},
     "output_type": "execute_result"
    }
   ],
   "source": [
    "\n",
    "\n",
    "\n"
   ]
  },
  {
   "cell_type": "markdown",
   "metadata": {},
   "source": [
    "How big is this dataset?  Use `df.info()`"
   ]
  },
  {
   "cell_type": "code",
   "execution_count": 17,
   "metadata": {
    "collapsed": false
   },
   "outputs": [
    {
     "name": "stdout",
     "output_type": "stream",
     "text": [
      "<class 'pandas.core.frame.DataFrame'>\n",
      "Int64Index: 355275 entries, 798 to 1586564\n",
      "Data columns (total 13 columns):\n",
      "beer_reviews/         355275 non-null object\n",
      "brewery_name          355275 non-null object\n",
      "review_time           355275 non-null float64\n",
      "review_overall        355275 non-null float64\n",
      "review_aroma          355275 non-null float64\n",
      "review_appearance     355275 non-null float64\n",
      "review_profilename    355175 non-null object\n",
      "beer_style            355275 non-null object\n",
      "review_palate         355275 non-null float64\n",
      "review_taste          355275 non-null float64\n",
      "beer_name             355275 non-null object\n",
      "beer_abv              353477 non-null float64\n",
      "beer_beerid           355275 non-null float64\n",
      "dtypes: float64(8), object(5)\n",
      "memory usage: 37.9+ MB\n"
     ]
    }
   ],
   "source": []
  },
  {
   "cell_type": "markdown",
   "metadata": {},
   "source": [
    "Aggregate the data in a pivot table called `df_wide` using the `pivot_table` method. Display the mean review_overall for each beer_name aggregating the review_overall values by review_profilename. Use the mean (numpy.mean) as aggregator.  In other words, the `values` parameter should contain **review_overall** and the `index` parameter should contain **beer_name** and **review_profilename**.  Make sure to call `unstack()` at the end."
   ]
  },
  {
   "cell_type": "code",
   "execution_count": 18,
   "metadata": {
    "collapsed": false
   },
   "outputs": [
    {
     "data": {
      "text/plain": [
       "(250, 22140)"
      ]
     },
     "execution_count": 18,
     "metadata": {},
     "output_type": "execute_result"
    }
   ],
   "source": [
    "\n",
    "\n"
   ]
  },
  {
   "cell_type": "markdown",
   "metadata": {},
   "source": [
    "Display the head of the pivot table, but only for 5 users (columns are users)"
   ]
  },
  {
   "cell_type": "code",
   "execution_count": 19,
   "metadata": {
    "collapsed": false
   },
   "outputs": [
    {
     "data": {
      "text/html": [
       "<div>\n",
       "<table border=\"1\" class=\"dataframe\">\n",
       "  <thead>\n",
       "    <tr>\n",
       "      <th></th>\n",
       "      <th colspan=\"5\" halign=\"left\">review_overall</th>\n",
       "    </tr>\n",
       "    <tr>\n",
       "      <th>review_profilename</th>\n",
       "      <th>0110x011</th>\n",
       "      <th>02maxima</th>\n",
       "      <th>03SVTCobra</th>\n",
       "      <th>05Harley</th>\n",
       "      <th>0Naught0</th>\n",
       "    </tr>\n",
       "    <tr>\n",
       "      <th>beer_name</th>\n",
       "      <th></th>\n",
       "      <th></th>\n",
       "      <th></th>\n",
       "      <th></th>\n",
       "      <th></th>\n",
       "    </tr>\n",
       "  </thead>\n",
       "  <tbody>\n",
       "    <tr>\n",
       "      <th>#9</th>\n",
       "      <td>NaN</td>\n",
       "      <td>NaN</td>\n",
       "      <td>NaN</td>\n",
       "      <td>NaN</td>\n",
       "      <td>NaN</td>\n",
       "    </tr>\n",
       "    <tr>\n",
       "      <th>120 Minute IPA</th>\n",
       "      <td>NaN</td>\n",
       "      <td>NaN</td>\n",
       "      <td>NaN</td>\n",
       "      <td>4</td>\n",
       "      <td>NaN</td>\n",
       "    </tr>\n",
       "    <tr>\n",
       "      <th>1554 Enlightened Black Ale</th>\n",
       "      <td>NaN</td>\n",
       "      <td>NaN</td>\n",
       "      <td>NaN</td>\n",
       "      <td>NaN</td>\n",
       "      <td>NaN</td>\n",
       "    </tr>\n",
       "    <tr>\n",
       "      <th>60 Minute IPA</th>\n",
       "      <td>NaN</td>\n",
       "      <td>NaN</td>\n",
       "      <td>NaN</td>\n",
       "      <td>NaN</td>\n",
       "      <td>NaN</td>\n",
       "    </tr>\n",
       "    <tr>\n",
       "      <th>90 Minute IPA</th>\n",
       "      <td>5</td>\n",
       "      <td>NaN</td>\n",
       "      <td>NaN</td>\n",
       "      <td>4</td>\n",
       "      <td>NaN</td>\n",
       "    </tr>\n",
       "  </tbody>\n",
       "</table>\n",
       "</div>"
      ],
      "text/plain": [
       "                           review_overall                               \\\n",
       "review_profilename               0110x011 02maxima 03SVTCobra 05Harley   \n",
       "beer_name                                                                \n",
       "#9                                    NaN      NaN        NaN      NaN   \n",
       "120 Minute IPA                        NaN      NaN        NaN        4   \n",
       "1554 Enlightened Black Ale            NaN      NaN        NaN      NaN   \n",
       "60 Minute IPA                         NaN      NaN        NaN      NaN   \n",
       "90 Minute IPA                           5      NaN        NaN        4   \n",
       "\n",
       "                                     \n",
       "review_profilename         0Naught0  \n",
       "beer_name                            \n",
       "#9                              NaN  \n",
       "120 Minute IPA                  NaN  \n",
       "1554 Enlightened Black Ale      NaN  \n",
       "60 Minute IPA                   NaN  \n",
       "90 Minute IPA                   NaN  "
      ]
     },
     "execution_count": 19,
     "metadata": {},
     "output_type": "execute_result"
    }
   ],
   "source": []
  },
  {
   "cell_type": "markdown",
   "metadata": {},
   "source": [
    "### Discussion: what do you notice in this table?"
   ]
  },
  {
   "cell_type": "markdown",
   "metadata": {},
   "source": [
    "Set Nans to zero with the `fillna()` function."
   ]
  },
  {
   "cell_type": "code",
   "execution_count": 20,
   "metadata": {
    "collapsed": false
   },
   "outputs": [],
   "source": []
  },
  {
   "cell_type": "markdown",
   "metadata": {},
   "source": [
    "Check that columns are users by examining the first few columns."
   ]
  },
  {
   "cell_type": "code",
   "execution_count": 21,
   "metadata": {
    "collapsed": false
   },
   "outputs": [
    {
     "data": {
      "text/plain": [
       "MultiIndex(levels=[[u'review_overall'], [u'0110x011', u'02maxima', u'03SVTCobra', u'05Harley', u'0Naught0', u'0beerguy0', u'0runkp0s', u'0tt0', u'1000Bottles', u'1001111.0', u'100floods', u'100proof', u'1050Sudz', u'108Dragons', u'1099.0', u'1100.0', u'1121987.0', u'11millsown113', u'11osixBrew', u'11thFloorBrewing', u'1229design', u'12NattiBottles', u'12ouncecurls', u'12percent', u'12vUnion', u'130guy', u'13smurrf', u'160Shillings', u'1759Girl', u'1759dallas', u'17Guinness59', u'18alpha', u'196osh', u'1993Heel', u'1996StrokerKid', u'1Adam12', u'1MiltonWaddams', u'1PA', u'1after909', u'1brbn1sctch1beer', u'1fastz28', u'1morebeer', u'1noa', u'1quiks10', u'1santore', u'1thinmint', u'1whiskey', u'20ozmonkey', u'21mmer', u'220emaple', u'22ozStone', u'2369.0', u'2378GCGTG', u'23fyerfyter', u'2408bwk', u'245Trioxin', u'24Beer92', u'25santurce', u'28Rock', u'2BDChicago', u'2Cruzy', u'2DaMtns', u'2KHokie', u'2LBrew', u'2Shay', u'2Stout4u', u'2beerdogs', u'2cansam', u'2girls1hop', u'2heartedMIKE', u'2late2brew', u'2melow', u'2ndloveofmylife', u'2ndstage', u'2oose', u'2roosters', u'2stepZ', u'2wheeledpirate', u'2xHops', u'311kevin', u'31thadrty1', u'321jeff', u'322wingedfoot', u'32hoss32', u'33nickadams', u'3FaveryRogue', u'3HovsepiansBrews', u'3Vandoo', u'3dudesbeerblog', u'3frog', u'3leggeddub', u'3m3rson', u'3nlightenedfool', u'3rdRowTailgater', u'4000qtrap', u'404UGA', u'40oztofreedom89', u'420.0', u'44ouncer', u'454onbeerss', u'484dan', u'49degrees', u'4DAloveofSTOUT', u'4thmedbn', u'4thoseabout2bock', u'51mmz0rz', u'5285.0', u'559bulldog', u'57andcounting', u'57md', u'585.0', u'5dots', u'604growler', u'6470zzy', u'650gs', u'65dos', u'67cuda', u'6993bc', u'69davis', u'6DaysBottomOcean', u'6pak', u'6sm9', u'6string', u'6stringfunk', u'6thomas3', u'7.0', u'700Uave', u'703RaiderNation', u'706Union', u'76Son', u'77ships', u'77suburban', u'7UCK', u'7ate9', u'7beerphil', u'7out', u'7thInningSuds', u'7thstreetbrewery', u'7ways', u'815Sox', u'828beagle', u'86MonteSS', u'86sportster883', u'88blkiroc', u'89Vision', u'8O0B1E5', u'8Punisher8', u'908carson', u'90minipalvr', u'92jAKe47FS', u'94coog', u'96Bravo', u'972.0', u'973423.0', u'99a3136', u'99bottles', u'9InchNails', u'A380', u'A38Fitness', u'A7Zulu', u'AARomanov', u'AAis4quiters', u'AApparel', u'AAxsom', u'ABCBeer', u'ABCJiugui', u'ABCLikesBeers', u'ABHatter', u'ABO1', u'ABOW', u'ABOWMan', u'ABV', u'ABVerageJoe', u'ABeerandacigar', u'ABrewOrTwo', u'AChamberlain', u'ADR', u'ADTaber', u'ADTrep', u'ADWnyc', u'ADZA', u'AEArider', u'AEK', u'AES', u'AGDMainer', u'AHNUBIS', u'AHaytko', u'AHebel', u'AITCTKD170', u'AJ99', u'AJDean', u'AJFitz', u'AJNolen', u'AJPainter', u'AJStank', u'AJacob81', u'AKBeerGuy', u'AKBelgianBeast', u'ALEBOY', u'ALESwhatCURESya', u'ALEvalanche', u'ALX', u'ALeF', u'AMG44', u'AMURPHY524', u'AMo', u'AMoceri7', u'AMoriarty', u'APB', u'APNumber3', u'APetitfils', u'ARJaeger381', u'ARbeerguy', u'ASUBeer', u'AScribjr', u'ASharkAteYourMom', u'ASymon13', u'ATGHomebrewer', u'ATLbeerDog', u'ATPete', u'ATSJer', u'ATraurig', u'ATvics', u'AUTIGERS', u'AVDeuph', u'AWSBeerDude', u'AWolf', u'AWolfAtTheDoor', u'AXIS', u'AZTEX', u'AZbelgian', u'Aardvarkman', u'Aaron420', u'Aaron58', u'AaronHomoya', u'AaronRed', u'AaronSRosenberg', u'Aaronius', u'Abacinate', u'AbbayeDeLuke', u'Abbeloos', u'AbePhroman', u'Abelmacias20', u'Aberod11', u'Aberration', u'AbiesIrishRose', u'Abita45', u'AbitaOnTap', u'About2Crash', u'AboutBeverages', u'AbrahamRobert', u'Abrengle', u'Abshire86', u'Absumaster', u'AbyssJunkie13', u'Abyssmal', u'Acaciaatrox', u'AccidentalKate', u'AceOHearts', u'AcesFullup', u'Acho', u'Ack9788', u'Ackit', u'Ackman', u'Acochran', u'Aconnoisseur', u'Acraig', u'ActonBrewer', u'ActualAir', u'Actualimeer', u'Adam2200', u'AdamB84', u'AdamBear', u'AdamBsweetwater', u'AdamCook', u'AdamEstess', u'AdamF', u'AdamGarcia', u'AdamJackson', u'AdamMY', u'AdamPT1', u'AdamToomey', u'Adamdc', u'Adamist', u'Adamostella', u'Adamthome1', u'AdkTrek', u'AdmiralDiaz', u'Admiraldinty', u'Adouble', u'Adoxander', u'AdrenX', u'AdrianRP', u'Adrianized', u'Adrigon', u'AdvocateFan', u'Aeneid', u'Aenema', u'Aesop', u'AfricPepperbird', u'Afterburner', u'Agallotto1', u'Agent0040oz', u'Agent1', u'AgentDark', u'AgentMunky', u'AgentShenanigan', u'AgentZero', u'AgingWarrior', u'Agold', u'Aguirre', u'AhabFlanders', u'Ahhdball', u'Ahoyhoyindeed', u'AimToCheat', u'Aimstatus', u'Aiptasia', u'Aircow86', u'Airedoggie', u'Airyk12', u'Akerris', u'Akhkharu', u'Akinol', u'AlCaponeJunior', u'AlFergie', u'AlFromBayShore', u'AlHam', u'AlXalone', u'AlamoYeti', u'Alanthebeerguy', u'AlaskaBeerBloke', u'Alatorre', u'AlbertF', u'Albertv05', u'Albinoh', u'Alboy037', u'AlcahueteJ', u'AleBlager', u'AleBop', u'AleDrinkToThat', u'AleEvangelist', u'AleHound', u'AleLover2', u'AleMonger69', u'AleWatcher', u'AleWeizengarten', u'AleWerks', u'AleWynch', u'AleYes', u'AledrinkerJB', u'AlephNull', u'AlesALot', u'AlesRTasty', u'Alewife', u'Alex740', u'AlexBlueV', u'AlexCorleone', u'AlexCuse', u'AlexDancho', u'AlexF', u'AlexFields', u'AlexJ', u'AlexLMS', u'AlexMunse', u'AlexTheAleMan', u'AlexTonic', u'AlexanderCsamaj', u'AlexanderSelby', u'Alexmc2', u'Alexwhitehurst', u'Alf7247', u'AlfaMale', u'AlienOddity', u'Alieniloquium', u'AlimonyAle', u'Alkey', u'Alkiser', u'AllAboutStout', u'AllAboutTheTaste', u'AllAgesPete', u'AllFineThings', u'AllHatDavidson', u'AllHoppedUp84', u'AllThingsNinja', u'Allcor', u'AlleywayRover', u'Allpe45', u'AllthekingsMen', u'AlohaRicky', u'Alpar', u'AlphaFiend1', u'AlphaFireX5', u'AlphaKevo', u'AlsationBiere', u'Alston73', u'AltBock', u'AltTrinker', u'AlvinStraight', u'Amalak', u'Amar', u'Amazingbeer', u'AmberMan22', u'Ambiorix', u'Amdahl', u'Amdy', u'Amenhotep', u'AmericanCanuck', u'AmericanGothic', u'AmgineDanus', u'AmieMize', u'AmishBrew', u'AmishT', u'Amnesia', u'Amnoisis', u'AmorousAngel', u'Amorrn', u'Amoxtli', u'Amsterdam', u'Amtrak', u'AnPiobaire', u'AnalogReigns', u'Anaom', u'AnavelGato', u'Anaz', u'AnchorMan', u'Anchorage42', u'AncientFlounder', u'AndIWantYou', u'Andbrew', u'AndersonGT', u'Ando', u'AndoBrew', u'Andouille', u'AndreiX', u'Andreji', u'Andrew644', u'AndrewCrestline', u'AndrewD1022', u'AndrewMcLemore', u'AndrewNWI', u'AndrewNations', u'AndrewOToole', u'AndrewR', u'AndrewT', u'Andrewtherooster', u'Andy', u'AndyAvalanche', u'AndyCapp', u'AndyFarvaDingler', u'AndyM', u'AndySR15', u'AndySim', u'Andyc101', u'Angelface', u'Anglewood', u'AngryLincoln', u'AngryPirate', u'Angrygerman', u'Angst', u'AniGamor', u'AnnaEA', u'AnonWut', u'Anonmatel', u'Another6Pack', u'AnswerInQuestion', u'Antacid', u'Antagony', u'Anthony1', u'Anthony88', u'AntiMac', u'Antihippy6', u'Antikythera', u'Antilochus', u'Antonius08', u'Antonothon', u'AntsMarching654', u'Apellonious', u'Aphexwolf', u'Apolloster2', u'Apostrophe', u'AppalachianTrout', u'Applesauce1', u'AprilMarie', u'Aprilluvsbeer', u'Aquavit', u'AqueousSnake', u'ArG10ChE', u'Aracos', u'Aradan', u'AragornUnplugged', u'Arbitrationer', u'Arbitrator', u'Arbutus', u'ArcTeryx', u'ArcadeArson', u'ArcaneXor', u'Arceo', u'ArchEnemyBrew', u'Archelenon', u'Archemedies', u'Archer072384', u'Architech', u'Ardon', u'Arenbeer', u'Aress', u'Argentum', u'Argion', u'Argonaught', u'Arielle', u'Arinthos', u'Arithmeticus', u'ArizonaAl', u'Arknot', u'Arkofsax', u'Arliman201', u'Arlohoke', u'Armand', u'Armstrongm', u'Army', u'Arnie2709', u'Arnone10', u'Arnulf', u'ArodGetsSick', u'ArogantBastard26', u'AronVietti', u'ArrogantB', u'ArrogantBastage', u'ArrogantDeadGuy', u'ArrogantJaron', u'Arsenal04', u'Arsenal11', u'Arsenal82', u'Arsil', u'ArtD', u'ArthurShipkowski', u'ArtofBrewing', u'Arzdback51', u'Asgeirr', u'Asher1982', u'AshevilleSippin', u'AshleyMiller', u'Ashmada', u'Assassin', u'AstroAcks6', u'AtLagerHeads', u'Atch', u'Athanasios', u'Atlas1', u'AtlasBrew', u'Atricapilla', u'Atron67', u'AtrumAnimus', u'Attenuation', u'Atticus', u'Atvar', u'Atyoungberg', u'Auburnbean33', u'AudioGilz', u'Audiohero', u'AudreyH', u'Augustiner719', u'Auracom', u'Auroraboy', u'Ausbeerboy', u'Auslander', u'Auspice', u'AussieInPhilly', u'AustinBeerLvr', u'AustinSommelier', u'Autoeros', u'AutumnTwilight', u'Avagadro', u'Avalon68', u'Avantyawn', u'Ave', u'AventinusCam', u'AverageJay', u'AveryAdams', u'Aviar7495', u'Avryle', u'AwYeh', u'Axe12001', u'AxelTheRed', u'Axic10', u'Axismundi', u'Axlrose', u'AylwinForbes', u'AzAleC', u'Azumel', u'AzureIzs', u'Azurelimits', u'Azurescens', u'B0bD0bbselbock', u'B33RKrazz', u'B891', u'B967ierhunter177', u'BA23598', u'BACTAdam', u'BACabrera', u'BAbaracus', u'BAmike', u'BB1313', u'BBBosco', u'BBM', u'BBMuffins', u'BBP', u'BBeerL', u'BBnum3', u'BBri', u'BCGabbo', u'BCK', u'BCMan', u'BColton1', u'BDIMike', u'BDJake', u'BDLbrewster', u'BDTyre', u'BEERANDNOW', u'BEERBOY13323', u'BEEREXPERT', u'BEERHEAD001', u'BEERME528', u'BEERMILER12', u'BEERchitect', u'BEERligerent', u'BFresh', u'BFrost', u'BGP', u'BGrider85', u'BHwks', u'BIG420D', u'BISCUIT0301', u'BJ1833', u'BJA', u'BJBarleyWine83', u'BJCPBeerjudge', u'BJDuty', u'BJam', u'BJamesII', u'BKIII', u'BKZer0', u'BKotch', u'BLACKOUT0213', u'BLOODYLANE', u'BLove', u'BMW328IS', u'BMWMommy', u'BMac17', u'BMan1113VR', u'BMasi', u'BMoldy', u'BMoney575', u'BPudd', u'BRBeerMan', u'BREWCONSUMER', u'BRFN8TK', u'BRLockwood', u'BRoberts914', u'BRoss242', u'BS68280', u'BSF', u'BSG', u'BSH', u'BStalf21', u'BTPete', u'BUD', u'BUDZBOX', u'BUNZILLA', u'BWH3', u'BWMKappaSig', u'BWScott', u'BWStyle', u'BYO123', u'BYOFB', u'BZM', u'BZero007', u'BabaJohn', u'Babaauto', u'BabiakNo9', u'BabyBastard', u'BabySnakes', u'Bachledk', u'Bachus', u'BackAlleyBev', u'Backer2004', u'BacklitAvenger', u'Backpacker', u'Backroadking', u'BackwoodBrewer82', u'Bacong', u'Baconisaveggie', u'BadBadger', u'BadRockBeer', u'Badbobx', u'Badger28', u'Badgersno1', u'Badrinath', u'Badssinblack', u'Bael', u'BaerBeer', u'BaghdadBob', u'Bagman007', u'Baileyuk', u'Bajasith', u'BaldDude', u'BallAleDark', u'BaltimoreMike', u'Baltimorebrew', u'BamaBeerBuff', u'BamaScholar', u'BamaViper1', u'BamaWorKs', u'Bamabadass', u'Bamabrew22', u'Bammo22', u'Bananaman', u'BandFan', u'BanderaBrewing', u'BanditBrewingCo', u'BanditTA', u'BanditoB', u'Bang34', u'Banger530', u'BanjoGasmic', u'Bankrobber77', u'BarBEERian', u'Baraka', u'Barbula', u'BardofBeer', u'BareFeetPete', u'BareRepublic', u'Barfighter', u'Barfwin', u'Barkeep101', u'BarkingLeopard', u'BarleyAndApple', u'BarleyAndMe', u'BarleyBoz', u'BarleyMine', u'BarleyStud', u'Barleydine', u'Barleythenred', u'Barleywhiner', u'Barleywino324', u'BarnacleBill', u'Baron', u'BaronAndrew', u'BaronRVH', u'BaronRogue', u'BaronVonHawkeye', u'Barraclou', u'BarrelBrother', u'BarrelO', u'BarrettJA', u'Barrilitos', u'BarronWolfgang', u'BarroomHero', u'BarryMFBurton', u'BarryNL', u'BarrytheBear', u'Bartas', u'Bartian', u'Bartinator', u'Bartrash', u'Bartrob6', u'BaseballGuru', u'BasementBer', u'BasementBrew', u'BasementBrewerSF', u'BasementDweller', u'BashOnABike', u'BassAssassin', u'BassBone', u'BassPlayer82', u'Bassetdawg', u'Basshunter', u'BastardKing24', u'BatDaddy', u'BatsforBeer', u'Battousai', u'Bauschan', u'Bavaria1516', u'BavarianTex', u'Bay01', u'BayerischBier', u'BayernJoe', u'BayouBengal1537', u'Bbloom1989', u'Bcant', u'Bcaulin', u'Bclintho', u'Bdc17', u'BdubleEdubleRUN', u'BeRanger', u'BeTheBall', u'BeaBeerWife', u'BeachBierLieben', u'BeachBrewerDude', u'BeachBumC', u'BeachRez', u'BeanBone', u'Beanmeister', u'BearJohnson', u'BearablePhoto', u'BeardFacePhD', u'BeardedBoffin', u'BeardedRiker', u'BeardedSquash', u'BearsOnAcid', u'BearsSox', u'BearsWin', u'Bearthebrewer', u'Beast35', u'Beastdog75', u'Beasticles', u'BeastofWotan', u'BeatBama', u'Beathalor', u'Beatnik4913', u'Beauregard', u'Beaver13', u'BeavisCubs', u'Beck', u'BeckyFreesTibet', u'BedStuyBeerMate', u'BedetheVenerable', u'Bedlamist', u'BeefMerciful', u'BeefTongue', u'Beefeater57', u'BeefyMee', u'Beejay', u'Beejis60', u'BeelzeBrew', u'Beelzebeer', u'BeenJammin', u'Beer21', u'Beer3irty', u'Beer4Baltimore', u'Beer4Beard', u'BeerAdvocate', u'BeerAmbassador', u'BeerAndBourbon', u'BeerAngel', u'BeerApostle', u'BeerArtEtc', u'BeerB4Water', u'BeerBATvocate', u'BeerBadger', u'BeerBard', u'BeerBaron08', u'BeerBaronBekit', u'BeerBastard308', u'BeerBean', u'BeerBear80', u'BeerBeatnik', u'BeerBeing', u'BeerBelcher', u'BeerBelle', u'BeerBishop', u'BeerBob', u'BeerBobWFM', u'BeerBodisafa', u'BeerBoss', u'BeerBreaker', u'BeerBubby', u'BeerBuckeye', u'BeerBuddhaJr', u'BeerBuggy', u'BeerBuilder', u'BeerCheese', u'BeerCigar', u'BeerCoffeeWater', u'BeerCon5', u'BeerConnoiseur', u'BeerConnoisseur', u'BeerDawgs', u'BeerDetective', u'BeerDoc', u'BeerDocT', u'BeerDreadz', u'BeerDrinkerDave', u'BeerEndevour14', u'BeerEngineer89', u'BeerFMAndy', u'BeerFan', u'BeerFan95', u'BeerFanDan17', u'BeerFarter', u'BeerFiend2002', u'BeerFink', u'BeerForMuscle', u'BeerGodz', u'BeerGoodness', u'BeerGut4Life', u'BeerGuy1986', u'BeerGuy208', u'BeerGuyFW25', u'BeerHiker', u'BeerHonky', u'BeerImmediately', u'BeerInReview', u'BeerIndustry98', u'BeerIsArTT', u'BeerIsMetal', u'BeerIsMyPassion', u'BeerIsPoetry', u'BeerIsland', u'BeerKnights', u'BeerLover48Fan', u'BeerLover729', u'BeerLover99', u'BeerLuvver', u'BeerMan7777777', u'BeerManDan', u'BeerManDanNYC', u'BeerMandS', u'BeerMane', u'BeerMang', u'BeerMansGirl', u'BeerMark', u'BeerMarshall', u'BeerMasterD', u'BeerMaverick', u'BeerMe20', u'BeerMe82', u'BeerMeDatBeer', u'BeerMeHearMe', u'BeerMeInMS', u'BeerMonarch', u'BeerMusketeer', u'BeerMutt', u'BeerNails', u'BeerNation19', u'BeerNemesis', u'BeerNinja007', u'BeerNoobNC', u'BeerNuggets', u'BeerNutta', u'BeerNutz324', u'BeerOnTheWall', u'BeerPanther', u'BeerPhan86', u'BeerPilot', u'BeerPug', u'BeerRasta', u'BeerResearcher', u'BeerRican', u'BeerRun13', u'BeerShark', u'BeerShirts', u'BeerSingh', u'BeerSki', u'BeerSnorkel', u'BeerSox', u'BeerSquid', u'BeerStine', u'BeerT3ch', u'BeerTaster', u'BeerThursdays', u'BeerTitan', u'BeerTourOhio', u'BeerTrader', u'BeerTrick', u'BeerTruth', u'BeerTwigs', u'BeerVikingSailor', u'BeerWanker', u'BeerWhale', u'BeerYain', u'BeerZack', u'BeerandBeer', u'BeerandBlues2', u'Beerandraiderfan', u'Beerasaurus', u'Beerbeer101', u'Beerbluesbiology', u'Beerboybill', u'Beerbuddha', u'Beerbuddy55', u'Beerbythepool', u'Beercub', u'Beerdawg1568', u'Beerdregs', u'Beerenauslese', u'Beerfayce', u'Beergineer', u'Beerguru', u'Beerguy1554', u'Beerhappens', u'Beerhoppitus', u'Beerinabelle', u'BeerisfoodLLC', u'Beerisgood3', u'Beerisheaven', u'Beerislife652854', u'Beerking721', u'Beerkovich', u'BeerlyHuman', u'Beerman3000', u'Beerman420', u'Beerme5', u'Beermerica', u'Beernf', u'Beernoisseur', u'Beerocrat69', u'Beeromaniac', u'Beeronious07', u'Beeronist', u'Beerontwowheels', u'Beerparrot', u'Beerquester', u'Beers', u'BeersAroundWorld', u'BeersCriteria', u'Beersel', u'Beersignal', u'BeerskiBrewski61', u'Beerstein', u'Beertarded', u'Beertinez', u'Beertool', u'Beertracker', u'Beertron', u'Beertroop', u'Beervalve', u'Beervis', u'Beerwolf17', u'Beeryce', u'Beerzebub', u'Beezor', u'BeforeNoon', u'BeguiledSmile', u'Beguiler', u'BehindtheFinBrew', u'Bejogle', u'Bekke', u'Belekinbeer', u'Belgae', u'BelgianAleSlut', u'BelgianBeers', u'BelgianBrown', u'BelgianL', u'BelgianPrincess', u'Belgianlover', u'Belgianwhite52', u'BelgiumBill', u'Belgur', u'Bellabananas', u'BellsFan', u'Belpaire', u'Ben4881', u'BenConnery', u'BenH1068', u'BenHesk12', u'BenJames1984', u'BenRiches', u'BenSammis', u'BenSelf', u'BenZ', u'Bendurgin', u'Benjamin', u'BenjieK', u'Benjiehorn', u'Bennettrox', u'BennyL1', u'Bentley', u'Benway', u'Benysaj', u'Berecki', u'Beren', u'BergenZero', u'Bergenboy1981', u'BerkeleyBeerMan', u'BermahOne', u'BernardusHo', u'Berrmecca13', u'Berserkr', u'Berthold', u'Berticus', u'BertoEwry', u'Berutkowski', u'Bessie113Life', u'BestOfBatonRouge', u'Bestein', u'Bestuurder', u'Bethanya1982', u'Betmore', u'BetterDarker', u'BevMoAndrew', u'BevMoPatrick1', u'Bevitore', u'BexarBrewing', u'BexxyBexx', u'Bfarr', u'BgThang', u'Bi0hazrd', u'Bibliophilist', u'BicycleNbeer', u'BierBliss', u'BierBrawlinator', u'BierBreath305', u'BierFan', u'BierGartenok', u'BierMacher71', u'BierManVA', u'BierMonkey', u'BierReise', u'BierSmith', u'BierStein711', u'BierWolff', u'Bierbauch', u'BiereBlanche', u'BieresDesMoines', u'Bierfreund', u'Bierguy5', u'Bierguzzler', u'Bierlerner', u'Bierman9', u'Bierschenker', u'Bierzengot', u'Biffster', u'Big78CJ', u'BigAl723', u'BigB', u'BigB415', u'BigBadWolf', u'BigBarley', u'BigBass', u'BigBelly', u'BigBen61', u'BigBigPickle', u'BigBlacke', u'BigBoobsMcGhee', u'BigBoochDaddy', u'BigBru407', u'BigBry', u'BigCheeks', u'BigCheese', u'BigD1972', u'BigDRS', u'BigDaddyBlues', u'BigDaddyWil', u'BigDank', u'BigDogMi', u'BigDoug', u'BigDub', u'BigE90', u'BigFrank71', u'BigH75', u'BigHead', u'BigHeavy', u'BigIrishman', u'BigJTrucker', u'BigJim5021', u'BigJimSlade', u'BigLake', u'BigLou', u'BigMart42', u'BigMcLargeHuge', u'BigMike', u'BigMilly8', u'BigPapaD', u'BigPapaLager', u'BigPapiBrewingCo', u'BigPlay1824', u'BigRedN', u'BigRook', u'BigSipper', u'BigSteinsEmpire', u'BigTex', u'BigTomZ', u'BigTone', u'BigTunaHaircut', u'BigV', u'BigWilly', u'BigbROB', u'Bigbadbudman', u'Bigboyash73', u'Bigc3031', u'Bigdogodie', u'Bigfatbino', u'BiggieMassMMA', u'Biggin6655', u'Biggness', u'Bighuge', u'Bigjay1584', u'BignJames', u'Bigswig', u'Bigvalbowski', u'BikeChef', u'BikerPA', u'Bikinbrewbroad', u'BilboBagns', u'BilbosNuts', u'Bill68', u'Bill7007', u'BillA', u'BillBuckner48', u'BillDon', u'BillHaverchuck', u'BillHilly', u'BillLovesBeer', u'BillRoth', u'BillSempf', u'Billcr222', u'Billm67', u'Billolick', u'Bills453', u'BillyB', u'BillyBeernut', u'BillyBob78', u'BillyBoysPie', u'BillyBrew', u'BillyBroas', u'Billythebeerman', u'BiltmoreShores', u'BinaryBeer', u'BingDings', u'Binnys', u'BioBilly', u'BiologySean', u'BiomedHawk', u'Bionic', u'Birchgrove77', u'BirdFlu', u'Birdiebeagle', u'Birmingham', u'Biscuit033', u'Bisho', u'Bitburgerisyummy', u'BittRnessabounds', u'BitteBier', u'BitterBrian', u'BitterHOPface', u'BitterLover', u'BitterPachyderm', u'BitterRogue', u'Bitterbill', u'BittererPlease', u'Bittergirl', u'Bitterman', u'Bitzy', u'Bizz88', u'BizzyQU', u'Bkuz', u'Black7Blue', u'BlackAngus', u'BlackBearForge', u'BlackBeerPirate', u'BlackDogBrews', u'BlackHaddock', u'BlackHoleBrew42', u'BlackJeremiah', u'BlackMagik', u'BlackMath', u'BlackRob', u'BlackWednesday', u'BlackWizard', u'Blackdevil77', u'BlacklightBrewin', u'Blackshoepirate', u'BladeRunner', u'BlaiseDemon', u'Blakaeris', u'Blake', u'Blaketj80', u'Blanchette', u'Blanco', u'BlankFrank', u'BlastBeats', u'BlastTyrant', u'Blatzman', u'Blazedale', u'BlazeofCory', u'BlazmoIntoWowee', u'BleedBlueUSAF', u'Bleedingshrimp', u'Blind00Squirrel', u'BlindPig', u'BlindSalimander', u'Blindfolk', u'Blissmo', u'BlitzShadow', u'Blitzen15', u'BlitzkriegHop', u'Blitzstyle', u'Blizzz', u'Blob77', u'Bloop', u'BlueBill', u'BlueBloodBrew', u'BlueCat1', u'BlueEcho', u'BlueHammer', u'BlueLawyer', u'BlueMoonJones', u'BlueRibbonBeer', u'BlueStoneBrew', u'Bluemoonlover', u'Blueribbon666', u'BluesDaddy', u'Bluesbuster', u'Bluetick', u'Bluetrekrider', u'Blueye80', u'Blupoet03', u'BlurryVisi0n', u'Blursimarsi', u'Blybloke', u'BmoreBeerGuy', u'Bmoyer0301', u'Bmuncy', u'BoDiddly', u'BoSox5902', u'Bob96358Biese', u'BobCS', u'BobCarr', u'BobJustBob', u'BobLuvBeer', u'BobSmooth', u'BobThomas', u'BobWoodshed', u'BobZ', u'Bobancheff', u'Bobby12many', u'Bobby13', u'BobbyBeerman', u'BobbyBoy610', u'Bobbydigi', u'Bobdope', u'Bobheed', u'Bobikel', u'Bobmisy', u'Bobo77', u'Bobsurfhb', u'Bobthenailer', u'Bobzilla', u'Bobzilla13', u'Bockrules', u'Bodart', u'Boehemyth', u'BogeyBob', u'Bogforce', u'Bogie', u'BogleHill', u'BogusOwnz', u'Boilermaker88', u'BoitSansSoif', u'Boitnott', u'Bolendak', u'Bolonya', u'BomberHunter', u'Bombers4Benedict', u'Bombman86', u'Bond', u'Boneheadmx', u'Bones54', u'Bonhoeffer', u'Bonis', u'Bonzo531', u'BooRad81', u'Boodoggy', u'Boofshavik', u'Boohausen', u'Bookseeb', u'Boolshot', u'Boomhower', u'Boonedoggle', u'BoosPackage', u'Bootscraper', u'BoozeHound81', u'Boozefox', u'Boozeisfood', u'Boozie132', u'BoozingViking', u'BoozySmurf', u'Boppar', u'Borgs', u'Borjas', u'BorntoLate86', u'Bosstone', u'BostonBrewins', u'BostonJohn', u'BostonTriggs', u'BostonianInSoCal', u'Boto', u'BottleOfPills', u'BoucheGulp', u'Bouleboubier', u'Bouncingsoul1682', u'Bounty628', u'BourbonDork', u'Bourre', u'Bowdoinbeerboy', u'Bowman2001', u'Box4Rocks', u'BoxingFanatic', u'Boxus', u'Br0', u'BrSpiritus', u'Brabander', u'Brad007', u'BradBLR', u'BradBoesen', u'BradDurbin89', u'BradEC08', u'BradLikesBrew', u'BradtheGreat7', u'Bradvarg', u'BrahnSolo', u'BrainDad', u'Brambleman', u'Brand', u'Brandegee', u'BrandonB', u'BrandonUB', u'BrandonWardlaw', u'Brandonator', u'Brandt', u'BranfordBound', u'Braseltonage', u'BrauKilR', u'Braudog', u'Brauluver', u'BraveUlysses', u'Bravo4', u'Bravo8Dex', u'BravoTwo', u'Brazedowl', u'BreWolf', u'BreadSlicer', u'Breadvan19', u'Breedlove', u'Brencr', u'Brenden', u'Brent', u'BrentMC', u'Brenttt', u'BretSikkink', u'Brettster', u'Breuks', u'Brew33', u'Brew34', u'BrewAStorm', u'BrewBastard', u'BrewBlast', u'BrewBoone', u'BrewBra', u'BrewCrew2010', u'BrewDoc12', u'BrewDoctor', u'BrewDrinkRepeat', u'BrewFanatics', u'BrewHops', u'BrewIndy', u'BrewIrish98', u'BrewMaester', u'BrewMan13', u'BrewMan82', u'BrewMaster', u'BrewMasterBurch', u'BrewMasterG', u'BrewMaven', u'BrewMeisterSteve', u'BrewMichigan', u'BrewMonkey', u'BrewRunner', u'BrewSomerville', u'BrewStoutMagic', u'BrewSwillis', u'BrewTat', u'Brewbro000', u'Brewdacris', u'Brewdog22', u'BrewedInHeaven', u'BrewerB', u'BrewerMike', u'BrewerSomerville', u'Brewfan', u'Brewfanatic55', u'BrewinBliz', u'Brewingbanjos', u'BrewitYerself', u'Brewligan', u'Brewlore', u'Brewman334', u'BrewmasterNPB', u'BrewmasterNate', u'BrewmasterT', u'Brewmba', u'Brewmeist', u'Brewmiser', u'Brewmuse508', u'BrewnZ', u'Brewnami', u'Brewno8it', u'BrewnoMarzen', u'BreworFerment', u'BrewsB4Shrews', u'BrewsBrother', u'BrewsBudzNBuzz', u'BrewsCrewSA', u'Brewski4Drewski', u'BrewskiBanks', u'BrewskiLaw', u'Brewsky29', u'Brewsmith', u'Brewsta', u'Brewtalitea', u'BrewtifulMind', u'Brewtr0n', u'Brewzzle', u'Brez07', u'BriPete', u'Brian50Oshen1', u'Brian700', u'BrianBoruma', u'BrianBrewsBeer', u'BrianCavtanker', u'BrianJ', u'BrianKJ', u'BrianOfMayberry', u'BrianOhio', u'BrianSiembor', u'Brianito', u'Brianjames16', u'Brianmerrilyn', u'Briant230', u'Briarbush', u'Briarscratch', u'Bricelyn', u'BricksandPorter', u'Bricky29', u'Brideshead', u'Brillig', u'BringusKilkenney', u'BrinkyBeerBoy', u'Britt6', u'Brittmb29', u'Britton', u'Brizam', u'BrlyHpsWtrYst', u'Brno', u'Brodie', u'Brodirt', u'BrokenStones', u'Brokenbil', u'BronYrAur', u'Bronislaw', u'BrookieRookie', u'BrooklynBlack', u'Brooks44', u'Broombrew', u'Broron54', u'BrotherBear', u'Brouwerij78', u'BrownAleMale', u'BrownNut', u'Browning', u'Brownsfan7', u'Brownshoe', u'BruChef', u'BruMeister', u'BruceAJones', u'BruceBeerman', u'BruceWineworks', u'BruinEric', u'Bruiser81', u'Brumbybeerman', u'Brunite', u'BrunnerG', u'Brushkanna', u'BrutalBeerFan', u'BrutalSusan', u'Brutmasta', u'Brutus55', u'BrutusOrca', u'BryanCarey', u'BryanEast', u'BryanRex', u'BryantTheOgre', u'BryceBidwell', u'Brynbar', u'Brynn', u'Brysky', u'Bryson', u'Bslied', u'Bsmith', u'Bsobotik', u'Btrue121', u'Bubba83', u'BubbaNJ', u'BubbaSteve', u'Bubbalito', u'Bubslang', u'BucBasil', u'BucannonXC5', u'Buck18', u'Buck2', u'BuckSpin', u'BucketBoy', u'BuckettOfBeer', u'Buckettt', u'BuckeyeNation', u'BuckeyeOne', u'BuckeyeSlim', u'Buckeyes67', u'Buckmaister', u'Bucknutty24', u'BucksBrew', u'BuckyFresh', u'BudBoy', u'BudHater111', u'BudKistner', u'BudWizeMan', u'Buddha22', u'BuddhaEK', u'BuddhaNate', u'BuddyNuggsTX', u'BuddyP87', u'Budking', u'Budlum', u'Budro', u'Budz', u'Buebie', u'BuffaloBill91', u'BuffaloBilly', u'BuffaloTapHugger', u'Bufford1234', u'Buggabeer', u'BuggerCheer', u'Buggies', u'Bugman', u'Bugsey', u'Buildscharacter', u'Bulabeers', u'Bulkman', u'BullCityB', u'BullDurham', u'BumpkinBrewer', u'Bumpon10s', u'Bung', u'Bungalo22', u'Bungle2', u'Bunkles', u'Bunnyhop', u'Burdman', u'BurgBrewer', u'BurgerJones', u'BurghBrewPSU', u'Burl41', u'BurnBlueSky', u'BurnInLA', u'BurnsTau', u'BurpingtonDC', u'Burt', u'BuruKaizoku', u'Busbluesman', u'Buschyfor3', u'BushdrinksBeast', u'Bushrod', u'Bustin', u'BusyNinja', u'Butch', u'ButchAleman', u'ButlerBeerworks', u'ButtWizzard', u'ButterScotch', u'Buttermaker', u'Buttstorm', u'Butzen', u'BuxMontBeerLover', u'BuzzLitebier', u'Buzzboyslim', u'Buzzkill', u'ByTor2112', u'Byeast', u'CAMRAhardliner', u'CANinUS', u'CAOMarcos', u'CAP1868', u'CASK1', u'CAbeerCAbeerCA', u'CAcreeks', u'CAnthonyNev', u'CBFanWish', u'CBOLAND17', u'CBenn', u'CBennett', u'CBlack85', u'CBowser', u'CCBadger', u'CCUBA', u'CCalvert', u'CDBeerDisappear', u'CEversole', u'CFHMagnet', u'CFWBDave', u'CFbeermaker', u'CFrank', u'CGeiger0718', u'CH3CH2OH', u'CHADMC3', u'CHICOBEERMATT', u'CHILLINDYLAN', u'CHL', u'CHSLBrew', u'CHickman', u'CJD', u'CJN11', u'CJStout', u'CJfromPhilly', u'CJohn', u'CJthirty7', u'CLBizzle', u'CLevar', u'CMB2012', u'CMW', u'CMiller683', u'CMitchell', u'CNeilP09', u'COBeerBuff', u'CONOR8832', u'CObeerdrinker', u'CPbeerman', u'CPeterson', u'CPfromTX', u'CQuin', u'CRACKHEADNU', u'CRAZYLITHUANIAN', u'CRJMellor', u'CRichardsMN', u'CRooney5787', u'CRossi', u'CS1971', u'CS1Will', u'CSAsylum', u'CSQ1111', u'CSimon', u'CSquared', u'CTDrinks', u'CTRukus', u'CTguy', u'CTraft', u'CU570M', u'CVC', u'CWBlues', u'CWC2003', u'CWiggins', u'CZeman', u'Cabadrin', u'Cadebro', u'Cadetten', u'Cadyfatcat', u'Caesar024', u'Caesar1pup', u'Cagden', u'Caine', u'CajunCavern', u'Cakanator', u'Cakebroue', u'Cakefan', u'CalhounJohn', u'CaliBeerLover86', u'Calico', u'Calicoast', u'Caligula', u'Calimouth', u'CallMeCoolEthan', u'CallMeIschmael', u'Callaghan', u'Callenak', u'Calyps0', u'CameronNoSense', u'CameronTyl3r', u'Cameroon', u'Camp187', u'CampbellKe11', u'Camperdown', u'CampusCrew', u'Campuspartystore', u'CamuMahubah', u'CanaanBob', u'CanadaBlue', u'Canibacea', u'CanisFirebrand', u'Cannabinaceae', u'Cannon6', u'CannonSP', u'Cannoneer', u'CanonJohn', u'CantillonKing', u'CanuckRover', u'Capicu', u'Capicu1987', u'CapitalGains', u'Capitalist', u'CapitalsFan', u'CapitolCrusher', u'CaptAhab76', u'CaptArmo', u'CaptCleveland', u'CaptDavyJones', u'CaptFrothy', u'CaptJackHarkness', u'CaptKirkles', u'CaptMurdock', u'CaptYellow', u'CaptainFuzion', u'CaptainIPA', u'CaptainInsaneO', u'CaptainPascoe', u'CaptainPiret', u'CaptainTripps', u'Captainren', u'CaptinRedBeard', u'CarPus', u'Carac3', u'CarbonIS', u'CardinalBiggles', u'CardinalBrewing', u'Cards81fan', u'Careerinbeer', u'CarfiCZ', u'CargoCulte', u'CarlP2', u'CarlosTheRealtor', u'Carlton1964', u'Carnage0070', u'CarolinaAle32', u'Carolvs', u'Carpathia', u'CasanovaCummins', u'Cascade99', u'CascadeConan', u'CascadeFan', u'Cascadia', u'Casconi', u'Casey10', u'CaseyFig', u'CaseyR22', u'CashMoneyVagrant', u'CasinoAce', u'CaskAleFan', u'CaskBeerouac', u'CaskofFlyingDog', u'CastAStone', u'CatFishHead', u'Caterwaul', u'Cath0de', u'CathWern', u'Cavalier92', u'CavePainter', u'Cavery', u'Cawdog', u'Cberry0037', u'Cchambers', u'Cdunk11', u'Cedromar', u'Ceej1978', u'CelebrityHolmes', u'Celestion321', u'Cellar', u'Cellardweller', u'Celt44', u'Celtic71', u'CelticAleMan', u'CelticKevin', u'Celtics76', u'Cen2112', u'CenCalMario', u'Centennial', u'CervezaMesa', u'Cfahooligan', u'Cfowler', u'Ch1mpy', u'ChEOSU', u'ChRiSt', u'ChadFromCanada', u'ChadQuest', u'ChadSexington1', u'ChadSimmons', u'Chadbrew', u'Chadpaq', u'ChainGangGuy', u'ChainsawStebus', u'ChairmanMeow', u'Challynger', u'Chambic', u'ChanChan', u'Chaney', u'ChappyBrew', u'ChappyCubsFan', u'Chapstone', u'Chapter40z', u'CharacterCounts', u'CharlatanSin', u'Charles5773', u'CharlesDarwin', u'CharlesRiver', u'Charleston', u'CharlieC', u'CharlieLawyer', u'CharlieMopps', u'CharlieMurphy', u'Charlotte09', u'CharlyNovember', u'CharmCityCrab', u'CharmCityTerp', u'Charnews', u'Charthepirate', u'ChaseT', u'Chasem1', u'Chatter', u'Chaz', u'ChazMania', u'CheapHysterics', u'CheckMate', u'CheckmateBrew', u'Cheech22', u'Cheers', u'Cheesemoose', u'CheezyBlaster', u'ChefCook730', u'ChefJ', u'ChefMoore', u'ChefSchipull', u'Chefie', u'Chele1097', u'Chello', u'Chelsea1905', u'CherylM', u'ChestSplitter', u'Chevami', u'ChiBeerKM', u'ChiHophead13', u'ChiPool', u'ChiSox05', u'ChicagoTom', u'Chicchan', u'Chickenbob', u'Chickenhawk9932', u'Chico1985', u'ChicoraBoy', u'Chiefbrutus', u'Chiefoneeye', u'Chiefrocker', u'Chiefy770', u'Child502', u'Chile', u'Chilidogg', u'ChillMike', u'ChimRichels', u'ChimayMayDay', u'ChinHoFive0', u'Chincino', u'Chinon01', u'Chinookie', u'Chizoad', u'Chodite', u'ChokeHold', u'CholYoon', u'Choo', u'ChopperSmith', u'Choppr', u'Chops', u'ChoqlitStout', u'ChouffeSanderson', u'ChowHound', u'Chowdogz', u'Chris19000', u'Chris1999', u'Chris585', u'ChrisA', u'ChrisBK', u'ChrisBakken', u'ChrisBowers', u'ChrisBuster', u'ChrisCage', u'ChrisCastillo', u'ChrisKalejta', u'ChrisMon02', u'ChrisOsman', u'ChrisPro', u'ChrisQ', u'ChrisSSBB', u'ChrisSimpson1968', u'ChrisVA', u'ChrisWashington', u'Chrisco88', u'Chriscrundwell12', u'Chrispyc1211', u'ChristianBlack', u'ChristianBonde', u'Christianholdt', u'ChristopherB', u'Chronofied', u'Chsyhkr', u'Chubby', u'Chubby815', u'ChubbyLushiano', u'ChuckD', u'ChuckMartel', u'ChuckMartel37', u'ChuckR343', u'ChuckTownB', u'ChuckVee', u'Chug1', u'Chugg', u'ChugginOil', u'Chuggnutt', u'Chuggs', u'ChuggyMcBeer', u'Chugmonkey', u'Chugs13', u'ChugsMugs', u'Chumlley', u'ChunkyGravy', u'Church89', u'Chyren', u'Cidersurfer', u'CigarMatt', u'Cinderbike', u'Cindirene', u'CircusBoy', u'Circusboy1082', u'Cisco619', u'Citadel82', u'CityBoy1986', u'ClammyClaude', u'Clamwacker', u'ClanKenneally', u'ClaremontBrew', u'ClarkPinnock', u'ClarkVV', u'ClashCityRockers', u'ClashmoreMike', u'ClassicBrad', u'ClassyLadyJen', u'Claudehenrysmoot', u'Claudius424', u'Clause80', u'ClavinCliff', u'ClavisAurea', u'Clayspapa', u'ClearDog', u'ClearGrit', u'Cleb', u'Clembo1957', u'ClevelandBrew', u'ClevoPiwo', u'Clickerstein', u'CliffBrake', u'ClimbStuff', u'Clippers652', u'Clockwork420', u'ClockworkOrange', u'Clowerweb', u'Clownpants', u'Clubchat', u'Clutch28', u'Clydesdale', u'Cmack15', u'Cmuska902', u'CoSMoSYS', u'Coach', u'Coachaloach', u'CoalCellar', u'CoalPorter', u'CoastieSimon', u'Cobrakai22', u'Cobratrooper', u'Cobrawilly', u'Codnasty', u'CoffeeKaioken', u'CoffeyShop', u'CogSciBierNut', u'Coji', u'Cokie', u'ColForbin', u'ColForbinBC', u'ColSanders123', u'ColdPoncho', u'Colin108', u'Colleen219', u'Collegedrinker', u'ColonelFrobin', u'ColoradoBobs', u'ColoradoRocket', u'Colt4540', u'Colterd', u'Columbanus', u'ComfortablyBum', u'ComicalAli', u'Commandogeraldo', u'ComputerBeer', u'ComradeCanadia', u'ComradeK', u'ConanDan', u'ConchobarNessa', u'Conk', u'ConnHuskyFan', u'Connnor', u'Conqueror', u'Conrad', u'Constellation', u'ConsumerOfBeer', u'ConsumerWhore', u'Contagion', u'Contra', u'Converge', u'CoolBlueDude', u'CoolJosh', u'Coolcheech', u'Cooldill', u'CooperEllis', u'Coorskid33', u'Coplains', u'Corbet', u'CorbinB', u'Cord018', u'Corey82', u'Corker444', u'CormanoWild', u'Cormier29', u'Corndork2', u'CornedBeef', u'CoronaADAMS', u'CorporateTool', u'CortexBomb', u'CosmicCharlie', u'CosmoHopHead', u'Cossacks19', u'Cotterman', u'Cottzilla', u'CouchCobra', u'CountJustinian', u'CountLupulus', u'CountOrgaz', u'CounterVulture', u'Countrysurfertt3', u'CourteManche', u'Coutastic', u'Covert22', u'CowboyDarb', u'CowboyNeil', u'Cowboystout', u'CowsCanBark', u'Coximus', u'Cozzatoad', u'Cpherg', u'CplHunter', u'CpnJunkyard', u'CpnYates', u'CptAubrey', u'CptCaveman', u'CptCha0s88', u'CptnJack', u'Crabbicuss', u'Craboo', u'Crack1Open', u'CrackyMcZap', u'CraftAle', u'CraftAleRookie', u'CraftBeerTastic', u'Craftbrewlvr', u'Crafted', u'Craibcr', u'CraigKodish', u'CraigMac', u'Crajun', u'Cranus', u'CrashWorship', u'CrawlingSpirit', u'Crayz', u'CrazeIrish', u'Crazy4LegMoose', u'CrazyDavros', u'CrazyHorsePete', u'CrazyMacHarris99', u'CrazyMike', u'CrazyOtto623', u'CreamAle128', u'CreamyBeer101', u'CreamyStoutMan', u'Creeoss', u'CrellMoset', u'Cresant', u'CrescentFresh', u'CrescentLake', u'CrestwoodG', u'Crftbrfan', u'Crimefish22', u'Criscoh88', u'Crittervision', u'Crizzle316', u'Croll', u'Crom', u'CromDubh', u'Cromster', u'CrookedStill', u'Crosby', u'Crosling', u'CrossArmant', u'CrossFitAlex', u'CrossansWright', u'Crossmc1423', u'Crossmd', u'Crotor', u'Crousejs', u'Crowls', u'Crowquill', u'Cru', u'CruisaC', u'CrumpledFish', u'Crunch', u'Crundy', u'Cruzin023', u'CrystalPesci', u'CrystalShipMS3', u'Crystufer', u'Cs1987', u'Cschmidt87', u'Ctendall', u'CualityC', u'Cubaneagle', u'Cubsfan1087', u'Cubslover', u'CudOfCow', u'CultureJamMN', u'Cummins9110', u'Cunningham26', u'CupcakeNY', u'CuriousMonk', u'CurmudgeonOmar', u'CurtDoggYo', u'CurtisLoew', u'CuseItUp', u'CushyGig', u'CuttDeez', u'Cuttooth', u'Cuzco', u'CuznRoy', u'Cwalk3205', u'Cwillia9', u'Cwrw', u'CyR', u'Cyberkedi', u'CyclingLush666', u'Cylinsier', u'Cymru7', u'Cyn1c', u'Cyrano41', u'D11', u'D23', u'DAEverett', u'DAILYCHUGGIN', u'DAVEnHOPS', u'DAVIDMAGNUM', u'DAVIDTHEBANDIT', u'DAllspaw', u'DArinello', u'DBoone', u'DC11', u'DCDevilDancer', u'DCPlus14', u'DCX', u'DClikeshops', u'DCon', u'DDCMember', u'DDKennemore', u'DERTY1', u'DESTRO', u'DFHAle', u'DFN', u'DFWCat', u'DGavagan', u'DGryger', u'DHGranstrand', u'DHedeman', u'DHermit', u'DHolte', u'DIM', u'DIPA', u'DIPAbrewer', u'DIYBrewing', u'DJButters', u'DJED69', u'DJHombre', u'DJM13', u'DJRezN00', u'DJRoswell', u'DJSteadman', u'DJindy', u'DK420', u'DKMonroe', u'DKight', u'DKter', u'DLReeves', u'DLXSF86', u'DLtheMD', u'DLucky', u'DM1293', u'DMBoSox11', u'DMXLOX22', u'DMZ', u'DMZG', u'DMac', u'DManMillZ', u'DNA', u'DNICE555', u'DOCALYN', u'DPFRD', u'DPMomutant', u'DPhillips1027', u'DPuro329', u'DRGinLBC', u'DRMcKnight', u'DRODICHOK', u'DRjester', u'DRtacoburger', u'DSmith24', u'DStave', u'DT7', u'DTJPPR', u'DTavares', u'DUBinMIA', u'DUNDERBAK', u'DV8HARD', u'DVTO2', u'DWA', u'DWilliams76', u'Da1nonlyBD', u'DaBrewsNIU', u'DaCheesehead', u'DaPeculierDane', u'Daav', u'DabblinWiscCraft', u'Dabe', u'Dabrownthing', u'DackAchan', u'DadOfMax', u'Daddy1', u'Dadoftwogirls', u'DaeHanL', u'Daehpoh', u'Daementia', u'DaftCaskBC', u'DagFishHead', u'DaggerEyes', u'Dajtai007', u'Dakotablue', u'Dakotah13', u'Daktyls', u'DaleMcMutt', u'Dalem', u'Dallasjohn', u'DamDweller', u'DamYankee', u'Damaged', u'Damian', u'DamienJax', u'DamnedSaint', u'Dan2165', u'Dan3279', u'DanBerliner', u'DanBob35', u'DanChapin', u'DanDaMan77', u'DanDantheIPAman', u'DanGraser', u'DanHefeweizen', u'DanJ', u'DanJan', u'DanK222', u'DanM08', u'DanOLeary', u'DanThomas', u'DanWatkins', u'DanaBeerMaster', u'Danbeer3', u'Danfield', u'DangQuesadilla', u'DangerDawg', u'DangerRukus', u'DangerVoltage', u'Dangermonkey', u'Dangerous', u'Dangus', u'DanielClouser', u'DanielDanza', u'DanielDavis421', u'DanielRP', u'Daniell', u'Daniellobo', u'Danimal', u'Danimaleatdrums', u'Danistheman', u'Danjamin', u'Dank0814', u'Dankuel', u'Danmc200', u'Danny1217', u'Danny2321', u'DannyDan', u'DannyS', u'Dannyb', u'Dannyt', u'Dano420', u'Dansrc51', u'Dansting', u'Dantes', u'Dantetar', u'DantheBeerMan', u'Dantheman4162', u'Dantman', u'DarbyOGill', u'Daredevil', u'Darien', u'DarinRobbins', u'Darius75', u'DarkAngel', u'DarkBeerGuy', u'DarkBeerRuler', u'DarkDryad', u'DarkMagus77', u'Darkale', u'DarkerTheBetter', u'Darkhorse09', u'Darklight', u'Darkmagus82', u'DarrellK', u'DarrinRasberry', u'DarthFedor', u'DarthKostrizer', u'DarthMalt', u'DarthRadb', u'Dartswizard', u'Darwin1975', u'DasBoot91', u'Dasa1044', u'Dave128', u'Dave380', u'Dave412', u'DaveAnderson', u'DaveBeers', u'DaveBlack', u'DaveC93036', u'DaveCS', u'DaveFL1976', u'DaveFromDetroit', u'DaveGood', u'DaveHS', u'DaveHack', u'DaveJanssen', u'DaveMacDave', u'DaveMarner', u'DaveUK', u'DaveWhite', u'DaveonBA', u'DaveyBoy1', u'DavidEddie', u'DavidFBN', u'DavidHawman', u'DavidJFaber', u'DavidLindley', u'DavidST', u'DavidSeanNJ', u'Davidpgibbons', u'Davme76', u'DavoleBomb', u'Dawkfan', u'DawnL', u'Daybis', u'Daytripper42', u'DeAdGuY', u'DeDolle', u'DeGrog', u'DeSoto', u'DeaconBluez', u'DeadGuyRyan', u'Deadheadbill', u'Deadstar', u'DeanMoriarty', u'DearthVader', u'Deas', u'DeathTrain', u'DeathbySexyBT', u'DeauxBoy', u'Deconstructionis', u'DeeMented', u'DeepSix', u'Degus4', u'Deingeist', u'Deit39', u'DelMontiac', u'Delerium', u'DeliciousSeeker', u'Delirium', u'DeliriumDuck', u'Deliteru', u'Delraypete', u'Delta9', u'DeltaBrain', u'DeltaGolfSierra', u'Demer', u'DemonCarcass', u'Denali', u'Dendrite77', u'Dennycurr', u'Dentist666', u'DenverLogan', u'DenverW1', u'DerBayer', u'DerKaiser', u'Derek', u'DerekDudley', u'DerekP', u'DerekStek', u'Derranged', u'Derrich', u'DerrickBerg', u'Dertbert', u'Derwood49', u'DesMoinesMike', u'DeschutesNut', u'DesertDragon', u'Desertstorm', u'Destral', u'Deuane', u'Deus1138', u'DeusExChronica', u'DeutscheJeff', u'DeutschesBier', u'Deutschlandic', u'Deutschmann', u'Devi0us', u'DevilDogBeer', u'DevilSaint78', u'Devildog3', u'DevilsCups', u'Devilsfan87', u'Dewboarder213', u'DgtlDonkey', u'Dhgirl', u'Dhren1979', u'Diablerie', u'Diablo7', u'DiabolikDUB', u'Diagoras', u'Dibujob', u'Dicahomebrewing', u'Dieffenbach', u'Diesel76', u'DieselSnorter', u'Dieseljaxx', u'DigPorter113', u'Diggnation', u'Diggy30', u'Digimaika2', u'DigitalDude', u'DigitalHype', u'Dignan123', u'Dijeriduster', u'DijonKetchup', u'DilleyGafph', u'DingusKhan', u'DioS', u'Dionysius86', u'DionysusII', u'Dipper1234', u'DirtHelmet', u'Dirty1', u'DirtyDan86', u'DirtyPenny', u'DirtybeerguyRI', u'Disclosednot', u'Distilled10', u'Dithyramb', u'DiverDan88', u'DividedAvery', u'Division250', u'Dixonian', u'Dizzle32', u'Dizzy', u'Djedhead360', u'Dleonard', u'Dlish', u'DmanGTR', u'Dmann', u'Dmart1223', u'Dmbhawker', u'Dmoore07', u'Dmorrison', u'DoSerMaN', u'DoShek', u'Dobby', u'Doby', u'DocAJ', u'DocBrewsky', u'DocBrown', u'DocDownUnder', u'DocTheDJ', u'Docer', u'DoctorB2B', u'DoctorDog', u'DoctorRock', u'DoctorStrangiato', u'Doctuh', u'Dodo2step', u'Dodt', u'DoesntMatter46', u'DogFood11', u'DogHouseBrewery', u'Dogbrick', u'DogfishJoe', u'DogfishRyan', u'DogfishTail', u'Dogfishface55', u'Dogfishipas', u'Dogsgogrrrr', u'Dogshirt', u'Dogstooth5', u'Dohdaman', u'Doiv', u'Dojima', u'Dokatz', u'DoktaHops', u'DoktorZee', u'Dolamite', u'DollarCan', u'DomErie', u'Domingo', u'Dominicvampire', u'DonDirkA', u'DonMaroney', u'DonWalter', u'DonaCake', u'Donerik', u'Donnie2112', u'Donnie373', u'DonnieNarco', u'DontCallMeSurly', u'DontToewsMe', u'Donthoseme', u'DooMMonkey', u'Doodler', u'Doodlesby', u'DookDrinkyCrow', u'Dools9', u'Doomcifer', u'DoomyMcDoomdoom', u'Doostin82', u'Dope', u'DopeRawBrewing', u'Doppel07', u'DoppleJock', u'Dopplebock', u'DoreenAndDave', u'Dorian', u'DosBeerigos', u'Doshkin', u'Dostortugas', u'Dotcubed', u'Double06', u'DoubleBagger', u'DoubleD89', u'DoubleDIPA', u'DoubleDeadGuy', u'DoubleDutchin', u'DoubleJ', u'DoubleOught', u'DoubleSimcoe', u'Doublebass27', u'DougBrew', u'DougLomax', u'Dougal', u'DouggiePhresh', u'Doughcifer', u'Douglas14', u'Douglas88', u'DouglasPerron', u'DousedInStout', u'DovaliHops', u'DownDaHatch', u'DownNout', u'DownsouthDrinker', u'DrBell', u'DrColossus', u'DrCronic', u'DrDCon', u'DrDemento456', u'DrDocRudge', u'DrDogbeer', u'DrDoitchbig', u'DrHoppy', u'DrJ', u'DrJay', u'DrJones', u'DrKnoskelson', u'DrLasers', u'DrMalt', u'DrMaturin', u'DrRosenscrotum', u'DrScotch', u'DrSend', u'DrShizzle', u'DrStiffington', u'DrTrobridge', u'DrUFO', u'DrVetur', u'DrWho', u'DrZarkov', u'DrZot', u'DragYourBone', u'DrainBamage', u'Drama99', u'DraperyFalls', u'Drasak', u'DraughtPunk', u'Draughted', u'Draughtsman', u'Drazzamatazz', u'Dreadnaught33', u'DreamInOrange', u'Dredpenguin', u'Drew966', u'DrewCapzz', u'DrewHodges', u'DrewKid4', u'DrewOSU', u'DrewS', u'DrewS667', u'DrewShal9', u'DrewSnyc667', u'DrewV', u'DrewZ', u'DrewZ926', u'Drewcifer', u'Drewer757', u'Drewtholomew', u'DrinkBEEROrDie', u'DrinkSlurm', u'DrinkThemAll', u'Drinkerofales', u'Drinkin4Two', u'DrinkinBoy', u'DrinkinBuddy', u'DrinkingAleToday', u'DrinkingDrake', u'Drinksinthebarn', u'Drinkslinger', u'DrinkumsMcBooze', u'DrinkyGuy', u'Dripdry', u'Drone53', u'Drufus', u'DrummerDan', u'DrunkMcDermott', u'DrunkPagan', u'DrunkRorschach', u'Drunkasamunky', u'DrunkenMaster', u'DrunkenPanda', u'DrunkenPanther', u'DrunknMonkey', u'Dsb3350', u'Dshaw', u'Dspohn', u'Dsqrd', u'Dster', u'DualLines', u'DubBrewer', u'DubRuss', u'DubbelDown', u'Dubber55', u'Dubbercody', u'Dubblebock', u'Dubbledown', u'Dubhglas', u'DuceMcCracken', u'Duckmancgy', u'Ducttape', u'Duder13', u'DudleyRose', u'Duff10323', u'Duff27', u'DuffBeerHere', u'DuffManOhYeah', u'Duffman', u'Duffman929', u'DuffmanOhYeah01', u'Duhast500', u'Duhey2', u'DukeKensington', u'DukeofAle', u'Dukeofearl', u'Dulliwhig', u'DunDun', u'DuncanIdaho', u'DuncanIdaho86', u'DunesBrewer', u'DunkelFester', u'Dunkelhund', u'Dunkle', u'Dunt', u'DuqTroops', u'Durand', u'Durchfall', u'Durge', u'Durisko', u'Durk', u'Durtdiggler', u'DurtyNellie', u'DurtyUI', u'DurwoodSauls', u'DustPanMan', u'Duster72', u'DustinPowers74', u'DustinSmall', u'Dusty278', u'Dusty8807', u'Dutch0ven', u'Duttonic', u'Duvelmonami', u'Duxx', u'DwnTwnBwn', u'DylanEllis', u'Dzugashvili', u'E7bass', u'EA728', u'EAKovac', u'EAlex', u'EBOhopfan', u'ECUbrew', u'ECdOc', u'ECioffoletti', u'EDNOSE', u'EE311', u'EGledhill', u'EJ6759', u'EJFinegan', u'EJNibs', u'EK33', u'ELFERALO', u'ELN', u'EMV', u'EMedic87', u'EORS', u'EPICAC', u'EPseja', u'ERASE21', u'ESATIKKFAN', u'ESPNman', u'EStreet20', u'ETF5000', u'EVLguy', u'EVaughan', u'EWSchulenburg', u'EWWilson', u'EagleAg', u'EagleAndChild', u'EagleTalon', u'Eagles1331', u'EarlNuce', u'Earthchild180', u'EasternDivide', u'Eastman2009', u'EatsTacos', u'EazyR', u'EbPhrygian', u'Ebola', u'Echo1Mike', u'EchoCharlieEcho', u'Echosolace', u'Ecliptica', u'EdTheEdge', u'EddieSTL', u'EddieTheTrooper', u'Edella', u'Edgecrusher', u'Edmund', u'EdmundFitzgerald', u'Edragon', u'Edwaka01', u'EdwardStark', u'EdwardTeach', u'Edwin', u'EdwintheAmish', u'EeRocKK', u'EehaiCJ', u'Ego', u'Ehlonya', u'Ehouse', u'Ehrnstrom', u'Eichenlaub', u'Eigenslam', u'EighchBrews', u'Eiik', u'Eirerate', u'Eisen', u'Ek0nomik', u'EkimGram', u'ElCaholicRacer', u'ElCerverzero', u'ElCommodoro', u'ElDavicho', u'ElDiablo', u'ElGallo', u'ElGaucho', u'ElGeordie', u'ElGordo', u'ElGrecoVerde', u'ElGuapo', u'ElHefeweizen', u'ElJoebo', u'Eldalonde', u'ElderRasputin', u'Elderbeerman', u'Eldritch', u'Elecid', u'ElectricHarry', u'Eleinad', u'Elemental', u'Elendinn', u'Eleutheria', u'Elevator', u'EliBrew', u'Elihapa', u'ElijahCSkuggs', u'Elimination', u'EliotW', u'EliottJW', u'EliteDigger', u'ElizabethCraig', u'Ell', u'EllaLythe', u'Ellbert', u'ElliotNess', u'ElmerBruisery', u'Elric14', u'Elrod23', u'Eltorrente', u'Elviss', u'EmChouffe', u'Emarble17', u'Embers', u'EmeraldMyung', u'Emerging1', u'EmergingZymurgy', u'EmericaMoon', u'Emerson1310', u'EmilNoldSinclair', u'EmoBeerGuy', u'EmperorBevis', u'EmperorStan', u'EnJeiBee', u'EnVinoVeritas', u'Enderdraught', u'EndoftheWorld', u'EnemyWithin', u'Engibeer', u'Engine50brew', u'Engineerbob', u'EnigmaticDream', u'Enigmaticgesture', u'Enlightenedbeer7', u'Enlil', u'EnojysAnyBeer', u'Enola', u'Entityofme', u'Envious', u'Enygma', u'EoCahill', u'Epicedion', u'EpicurEsquire', u'Eramen', u'Erdinger2003', u'Eric8478', u'EricCioe', u'EricHeff', u'EricKufrin', u'EricMichael', u'EricTheJew', u'EricVB', u'EricZeiler', u'Ericcc', u'Ericnpeterson', u'Erigone', u'ErikMay1', u'Eriktheipaman', u'Erish', u'Erix', u'ErlendA', u'Erniek', u'Erocky12', u'Erodr015', u'Errto', u'EruditeWizard', u'Erzengel', u'Eschulz91', u'Esco02', u'EseLocoSS', u'EskimoDave', u'EsoxLucius', u'Espenoza', u'Esper', u'EssexAleMan', u'Estarrio', u'Esters', u'Estocker', u'Estranged', u'EtJ', u'EtOHMD', u'EternityofNight', u'Ethan27', u'Etheldreda', u'EthersTragic', u'Euroman', u'Evan87', u'Evbowski', u'EveL', u'Everdrift', u'Everydayoff', u'EvilFlyingCow', u'EvilGnome6', u'EvilKeith', u'EvilPumpkin', u'EvilTwin', u'Evilchef71', u'Evocatus', u'Evoeater', u'EwaldEichstaett', u'ExMachina1', u'Excalibur33', u'Exiled', u'Exner83', u'Experimentacious', u'ExpertAndrew', u'ExplosivoSR', u'ExpungeTheWorm', u'ExtraStout', u'Extrajoker00', u'Eyedrinkale', u'Ezekiel81923', u'Ezone024', u'F15jock1701', u'F2brewers', u'FACEMEAT', u'FACSman', u'FARGO619', u'FATKIDPWNS', u'FATKIDREVOLUTION', u'FBBrewingCo', u'FBH', u'FCBamberg', u'FCC3', u'FCGrabo', u'FFighter', u'FFudnam', u'FGCUkyleOz', u'FINA', u'FISHTHEINFAMOUS', u'FLAbeergutinMASS', u'FLBeerGuy', u'FLHopHead', u'FLOCCUNATION', u'FLOglida', u'FLYINGSCOOTER', u'FMetzger', u'FOUR', u'FOUREYEDFREAK', u'FPandMM', u'FRANKCROUSE', u'FRivard', u'FSU5385', u'FSUBrad', u'FSUmac', u'FSUplumber', u'FUNKPhD', u'Fabric8r', u'FacistCannonBall', u'Fadefury', u'Fahmaboi', u'Fahmie25', u'Falcon91Wolvrn03', u'FallinDeck', u'Fallonrmq', u'Fallynn', u'Falstaff1642', u'FamousShamus', u'FanofHefe', u'FarBeyondDriven', u'FarmGirl', u'FarmHouseJam', u'FarmerJohnny', u'FarmerJorganic', u'FarmerTed', u'Farmeral', u'Farrell', u'Fartknocker', u'FastEddie50', u'FatBoyGotSwagger', u'FatCaster', u'FatHeadCarl', u'FatSean', u'Fatduck', u'Fatehunter', u'FatheadBrew', u'Fatheranderson', u'Fatherskull', u'FatsoForgotso', u'Fattonyisfat5555', u'FattyJLE', u'Faulconerbrewing', u'Faune', u'Faustgeist', u'FaustieMo', u'Fazulka', u'FeDUBBELFIST', u'Feareon', u'Fearnofish', u'Fengzi', u'Fenrir088', u'Fenris244', u'Fenrisulfur', u'FenwaySquid', u'Fermented42', u'Fermenticusrex', u'FernMaster', u'Fernans', u'Fetus', u'Fezfreak', u'FickleBeast', u'Fieldzy27', u'Fievel321', u'Figgy', u'FightOnAlum', u'FightinScot', u'FightingEntropy', u'Fikash', u'Fillpott', u'Filosoof', u'FinDelMundo', u'FinFan', u'Finatic', u'Finite', u'Finkel', u'Finn', u'Finnman', u'Finster', u'FireEmt37', u'FireStarter6', u'Fireal1222', u'FireorHigher', u'FirkinDave', u'FirstBrewsoon', u'FirstMan', u'Fischy', u'Fiset35', u'Fish113d', u'FishGetter', u'FishHeadLover', u'FishMan123', u'Fishbone', u'Fishdawg71', u'FishinWolf', u'Fitwitchik', u'Fitzgerald', u'Fizzlybear', u'FlBlue2857', u'Fladder', u'FlakyBiscuit', u'Flamefighter', u'FlannelAvenger', u'Flare1728', u'Flashsp2', u'Flashy', u'FleckHead', u'FleeVT', u'Fleetdog', u'Flightoficarus', u'FlikkerDans', u'Flipadelphia84', u'Flippindiscs', u'FloppyDog', u'Florida9', u'FloridaDrinker', u'Flounder57', u'FlounderDouglas', u'Floyd12', u'Floydster', u'Fluffy88', u'Fluffytaster', u'Fluke828', u'Flup', u'Flux', u'FlyFisher2782', u'Flyer', u'FlyinFrog06', u'FlyinHawaiian', u'FlyingHog', u'FlyingRabbit', u'Flynn', u'Fnerk', u'Fnord', u'Foam', u'Foamblower', u'FoamyMustache', u'Foetaphagist', u'Folderol', u'FollowedMyFolly', u'FoodBlog', u'FoodandBrews', u'FoolCircle', u'Foolmonkey', u'FootballFan15', u'ForWhatAlesYou', u'Forb', u'FordBrewing', u'ForkAndSpoonOp', u'FormatKid', u'ForrestWolf', u'Fortheluv', u'FosterJM', u'FoundersFanatic', u'FourBetter', u'FourKicks', u'FourQuarters', u'Foxman', u'Foxtrot', u'FoxxTrottAle', u'Foxxypants', u'Francepants06', u'Franchise', u'Franiblector', u'FrankJ1982', u'FrankLloydMike', u'FrankWBurnsIII', u'FrankZappa', u'Frankcost', u'Frankdaatank24', u'FrankenBeerStein', u'FrankieLovesAle', u'FranklinDBier', u'FranklinPCombs', u'Frankthetank67', u'Franz4', u'Frasier433', u'Fratstar', u'FredTheSeal', u'Fredk24', u'FreeEagle', u'FreeTibet', u'FreekBoi', u'Freestater', u'Freethyhops', u'FreightTrain', u'FreshHawk', u'Freshcraft', u'Freshie', u'FreshmanPour77', u'FriarTuckInLuck', u'FriedGold2010', u'Frijolyqueso', u'FritterFlip', u'FrndthDuvel', u'FrognutUnl', u'Frondeur', u'Frostedluck', u'Frosthazard', u'Frosty288', u'Frosty80', u'FrothHead', u'Frothboss', u'Frothface', u'FrothyBeverage', u'FrothyFogarty', u'FrozenJoe', u'Frozensoul327', u'Frozer', u'FstrungUCoutT', u'FtownThrowDown', u'Fugazme', u'Fulkrum78', u'Fulky', u'Fuller', u'Fumanchu', u'FumblingTowardsX', u'FunHouse99', u'FunkyBrewster', u'FunkyFibes', u'FunkyMacGroovin', u'Furball', u'Furia', u'FutureCowboy', u'Fux', u'Fuzzy1', u'FuzzyGuy84', u'Fweezle', u'Fyourface316', u'Fytopiu', u'G2Brew', u'GANIMAL', u'GAPit', u'GARY1', u'GBB', u'GBRunner24', u'GBalbin', u'GBbrew', u'GCBrewingCo', u'GCGrant', u'GCal05', u'GClarkage', u'GDBEERMAN', u'GDMFSOB', u'GENNER', u'GFSchwab', u'GIG', u'GISentinel', u'GITPF87', u'GIVEMEBACKMYSON', u'GJ40', u'GLD', u'GLM0011', u'GLTHFJ60', u'GNR4life2', u'GNWBC', u'GODofALL', u'GOGRANDE', u'GONZALOYANNA', u'GORDONSWALTHAM', u'GPHarris', u'GParr', u'GQGeek81', u'GRANTmeAbeer', u'GRBrew', u'GREENANO', u'GRG1313', u'GRPunk', u'GRbruR', u'GSK', u'GSmithBeer', u'GWEBB9', u'GWaters', u'Gabemik', u'Gaben', u'GabesAles', u'GabrielM', u'Gaffa91', u'Gagnonsux', u'GainingAPalate', u'Gaisgeil', u'Galathil', u'GalenM', u'GallaghFinest', u'GallowsOak', u'GallowsThief', u'GambachMan', u'Gambelli', u'Gambrinus1184', u'GameFreac', u'Gamemako', u'Gandhified', u'GardenWaters', u'GardnerAleBrewer', u'Garet', u'GarethYoung1', u'Garin', u'GarrettB', u'GarrettM99', u'GarrettMD', u'GarrisWH', u'GarryGarrett', u'GarthDanielson', u'GarthTaargus', u'Gary2863', u'GaryKing28', u'GaryT2', u'Garyh', u'Garzan72', u'Gash', u'Gasp100', u'GatheringBrews', u'GatlinSmeijers', u'Gator1107', u'GatorBait', u'GatorBeer', u'GatorBeerNerd', u'Gattopardo', u'GavDomDadGH', u'Gavage', u'Gaverny19', u'Gavroche', u'GbVDave', u'Geauxnads', u'GeckoD', u'Gedackt16', u'GeeButtersnaps', u'GeeL', u'GeezLynn', u'GehenHerzog', u'Gehoffrey426', u'Gehrig', u'GenCornwallis', u'GeneLowy', u'GeneralZod', u'Generalataris', u'Generik420', u'Genghis22', u'Genji', u'Genry', u'GentlemanCole', u'Genuine', u'GeoJ', u'GeoffFromSJ', u'GeoffM', u'GeoffRizzo', u'GeoffW', u'GeoffnotJeff', u'Geonious', u'George24', u'GeorgeAldi', u'GeorgeIV', u'Georgiabeer', u'GermanHero', u'GetMeAnIPA', u'GetYourRiotGear3', u'Getinthevan', u'Geuzedad', u'Gfunk720', u'Ghenna', u'GhettoFabulous', u'GhostMtnAbbey', u'Ghostface', u'Giaach', u'Giavid', u'Gigan988', u'Gigantis', u'Giggaman', u'Giggy', u'GilGarp', u'GilaMinumBeer', u'Gilgemesh', u'Gillard', u'Gilly1980', u'Gilmango', u'GilmooDaddy', u'GimmeAGuinness', u'GimmeAles', u'GimmeGumballHead', u'GimpyCane', u'Ginacow', u'GioannBagoss', u'Giovacchini', u'Giovanni', u'GirlInRed', u'Girlybeer', u'Gish', u'Gitboxer09', u'GitcheGumee', u'Gitguy', u'Givekidsmeth', u'Givemesome', u'Gizmo', u'GlassCityBrewer', u'GlassFreeek', u'Glax69', u'Glazed144', u'GlennSt', u'Glibber', u'GloTownBrew', u'Globetrotter', u'GlockAmore', u'Glory', u'Gluek', u'Gmann', u'GnobRekot40King', u'GnomeKing', u'Gnosis', u'GoApps', u'GoBrewOrGoHome', u'GoGators', u'GoGriz', u'GoNowhere', u'GoRedlegs', u'GoalieRon33', u'Goatshaver', u'Goban', u'Gobigvt7', u'Goblinmunkey7', u'GoblueMS', u'Gobzilla', u'GodOfBeer', u'Godard', u'Godot', u'Godspeed', u'Goejoe', u'Gogol', u'Goibniu', u'GolamKovach', u'GoldHorde', u'Golddove07', u'Golden', u'Golden2wenty1', u'GoldenChild', u'GoldenJet', u'GoldenVIKE', u'Goldfish', u'Goldfish19', u'Goldopelgt', u'Goldorak', u'Golfstudisd', u'GolgiIPAratus', u'Goliath', u'GoneDogFishing', u'GonzoPizzaBurger', u'Gooball201', u'GooberMcNutly', u'GoodBeerTire', u'GoodKnight1220', u'GoodNamesTaken', u'GoodOldDuke', u'Goop721', u'Gordito', u'GordonQuid', u'GoreStorm', u'Gorefiendus', u'Goregazm', u'Gorf', u'Gorgoroth', u'GorillaJake', u'Gorillaz', u'Gosox8787', u'GossageBrewery', u'GotHood', u'GottBier', u'Gouldsby', u'Gouxman', u'Gr00veMerchant', u'Grabbin2nd', u'GradyS1', u'Graebner', u'Graeme23', u'Grafter', u'Graham21', u'Graham5161986', u'GrahamWalters', u'GrainDamaged', u'GrandCruDrew', u'GrandmaCrouton', u'Grandwazoo', u'Granhaugen', u'GrantCorbett', u'GrantDuthie', u'Grass', u'GratefulBeerGuy', u'Grathan', u'Gravelost', u'Grayhog', u'Greasetrap', u'GreatEastern', u'GreatJob', u'GreatLakesGirl79', u'GreatLeo', u'GreatMNFlyer', u'GreatPondBrewer', u'GreatSatchmo', u'GreatWeisseHope', u'Greatheil', u'GreenCard', u'GreenJetta912', u'GreenPea', u'GreenTara', u'GreenThumb', u'GreenWBush', u'Greencoat', u'Greenfloyd', u'Greenlabel', u'Greenleaf', u'Greenst82', u'Greer', u'Greg529', u'GregBlatz', u'GregBrewski', u'GregMcQ', u'GregPearson33', u'GregSVT', u'Greggy', u'Greggy2Crazy', u'Gregorious', u'Gregory', u'GregoryFrazier', u'GregoryShmegory', u'GregoryVII', u'GregorywBrown13', u'Gremner', u'Grendelgrey', u'GreyMorel', u'Greywulfken', u'Gribbs23', u'Griddlestacks', u'GrillMeister', u'GrimGuzzler', u'Grimes', u'GrimmReaper', u'Grimsooth', u'Grin', u'GrinNBeerIt', u'GrindFatherBob', u'Grintbrad', u'Gritch', u'Gritsak', u'GrittyMug345', u'GrizXTKEX519', u'Grizzld', u'GrizzlyBeer1282', u'GrizzlyBehr', u'GrizzlyBrew', u'Groomsy', u'Grossbier', u'Groucho75', u'GrowingEden', u'GruitGood', u'GrumpyGas', u'Grundle20', u'Grunewald', u'Gruntlumber', u'GruvisHops', u'Gtg642', u'Gtheroux', u'Gtreid', u'Guardian', u'Guden', u'Gueuzedude', u'GuezednConfused', u'GuillaumeDurden', u'GuinNess86', u'Guinness21', u'Guinness4Duff', u'Guinness4me', u'GuinnessGuinness', u'GuinnessHero', u'GuinnessSmurf', u'Guitarctica', u'GuitarmanST', u'Guizzy', u'GuldenBoy', u'Gulfnut036', u'GumbaHops', u'Gump', u'Gunnell', u'Gunnz', u'Gunruner', u'Gunslinger711', u'GurneySausage', u'GuruDel', u'GusDom', u'GusESB', u'Gushue3', u'Gusler', u'GusterFan', u'Gutensheisse', u'Guzzler78', u'Gvader13', u'GweedoeBRew', u'Gyle41386', u'H1N1', u'H473CR4F7', u'HAB', u'HABike', u'HAVANABEERTINI', u'HBS', u'HBang', u'HBeagle', u'HBeezley', u'HBomb81', u'HCYJ', u'HESSLER500', u'HIFF', u'HOMEPL8', u'HOPOLOGIST', u'HOPPYKC', u'HOSSHICKS', u'HRCam', u'HSThompson', u'HTGthird', u'HURTemHIZZY', u'HUXC', u'HaVoKnYnJ', u'Habanero58', u'Habmike', u'Hachiman', u'Haessly', u'Hagbard', u'Haggard', u'HagueBrook', u'Hahake13', u'Hahhbs', u'HairOfTh3Dog', u'Halcyondays', u'HalenRush', u'HalfFull', u'Halldog', u'Hallsey9', u'Hammarby', u'HammerOfThor1', u'Hamp', u'Hampton73', u'Hampton77', u'Hamsteroceros', u'HanTran', u'Hanby', u'HandOfOmmegang', u'Hands22', u'Handybierdrinker', u'Hanger', u'HansBlix', u'Hap', u'HaplessHero', u'HappiestCow', u'HappyBivouac', u'HappyHourHero', u'Happyhour', u'Happyshooter', u'HardTarget', u'HardcoreKeith', u'Harfatum', u'Harlequin', u'Harley1', u'HarleyGirl', u'HarleyQuilter', u'HarleyRider', u'Harmzy00', u'HaroldStarr86', u'HarrisonDean', u'Harry1936', u'Harry72', u'HarryPoondini', u'Hasser82', u'HatTrick', u'Hatch', u'HaticousPrim', u'HattedClassic', u'Hatzilla', u'Haufniensis', u'Hauguinness', u'Haunter', u'Haus', u'HausBrewer', u'Hautacam', u'Havinapretzel', u'HawkeyeDaz', u'Hawktane', u'Hawoh', u'Hawthorne', u'HayatoJin', u'Haybeerman', u'HayesdaHophead', u'HaysAmerica', u'Hayward', u'Hayyan', u'Hazer115', u'HeabyMetawHunta', u'HeadE', u'HeadFullaHops', u'Headfirst', u'HeadofHops', u'HeadwatersFinest', u'HeartPAC', u'HeatherTuckiee', u'HeathersBEERguy', u'Heatwave33', u'Heavenisbeer', u'HeavyCsOptician', u'HeavyG', u'HeavyMetalBrew', u'HeckYeah', u'HeeNalu', u'Hefe', u'Hefe21', u'Hefedrinker', u'Heferwiezer', u'HefeweissbierCWC', u'Hefeweizguy', u'Hefewise', u'HeightsEats', u'Heinens11', u'Heischman', u'Hellabeerguzzler', u'HellsBELLS24', u'Hemi', u'HemingwayDrinker', u'Hempdigler', u'Hendo', u'HenryH', u'HenrySwank', u'Hephaestus', u'HerculesRM', u'Herefishey', u'HereticDivine', u'Heritage02Rider', u'Herky21', u'Hermanater77', u'HeroJH', u'Herodotus', u'HeroicDoses', u'HerrBob', u'HerrKommissar', u'Herrbrokt', u'Herrless', u'Hershdawg', u'HersheyRhino', u'Hessy', u'Hex92', u'HeyItsChili', u'Heynik1885', u'Hhawk06', u'HiAIPA', u'HiGravShawn', u'HiLLWiLLiam', u'HiMyNameIsDerek', u'Hibernator', u'HighCarbDiet', u'HighCotton', u'HighOctane', u'Highbrewer', u'Higravity', u'HikerCT', u'HimerMan', u'HipHop5', u'Hiphop1', u'HippityHopps', u'Hiram357', u'HiroProtagonist', u'HisDorian', u'Hitman23', u'HitokiriNate85', u'HmmmmBeer', u'Hoagie1973', u'Hobbiman', u'Hobbitjedi', u'Hobbz', u'HoboAGoGo', u'HochFliegen', u'Hockeyabe', u'Hockeyfan1189', u'HockeytownBrew', u'Hoegaardener', u'Hoescheg', u'Hofer', u'Hofmann', u'HogHill', u'HoganRJ', u'Hogie2005', u'HogieWan', u'Hojaminbag', u'HokieNoPokie', u'HokieWolf', u'Hokies', u'Holden', u'Holland', u'Hollenbeck2', u'HollidaySlim', u'Hollister', u'Hollowleg', u'Hollybee', u'Holmes1135', u'Holmes698', u'Holyterror', u'HombreWing', u'HomeBrewGut', u'HomeBrewJunkie', u'HomeRunBaker', u'Homebrew35', u'Homebrew63', u'HomebrewPgh', u'Homebrewer4ever', u'HomelessShoes', u'Homer27', u'Homer7530', u'HomerSimpson742', u'Homerbag', u'Homeroaster', u'HoneyLamb', u'HoneygoWS', u'HonoluluLouie', u'Honza', u'HoopTime', u'Hoops4life511', u'Hoopster4hire', u'HoorayBeer', u'HoosBrews', u'HoosierInOhio', u'Hop2it', u'Hop505', u'HopBacchus', u'HopCrazy', u'HopDamn', u'HopDawg', u'HopDerek', u'HopDevil', u'HopDiggityDawg', u'HopDisciple', u'HopDr', u'HopDuvel', u'HopEnforcer', u'HopEnthusiast', u'HopGoblin', u'HopHead1982', u'HopHead29', u'HopHead84', u'HopHeadHerman', u'HopHeadHurls', u'HopHeadJim', u'HopHeadKen', u'HopHeadLouie', u'HopHeadMerlin', u'HopHeadMike', u'HopHeadMoe', u'HopHeadRyan', u'HopHeadTuc', u'HopHearted', u'HopHed', u'HopHedz', u'HopHobo', u'HopHog', u'HopHog22', u'HopHooligan', u'HopHottie', u'HopJ', u'HopJack', u'HopJen', u'HopMaster', u'HopMasterFlex', u'HopMe77', u'HopNelius', u'HopNuggets', u'HopOverdose', u'HopSkank', u'HopSlap72', u'HopTaco', u'HopTroll', u'HopWallopguy22', u'Hopalong29', u'HopasaurusRex', u'Hopdaemon39', u'Hopdam', u'HopeinHop', u'Hopfenpeter', u'Hopfist', u'Hopforte', u'Hophead101', u'Hophead717', u'HopheadEd', u'Hopheadburke', u'Hopilator', u'Hopine', u'Hopittome15', u'Hopnobbin', u'HopoPotomus', u'Hopoholic', u'HoppedUp420', u'Hoppensniffer', u'Hopperbolic', u'Hoppington', u'Hoppy27', u'HoppyAlesToYou', u'HoppyBen', u'HoppyHachey', u'HoppyInfidel', u'HoppyMcStout', u'HoppyMofo84', u'HoppyMonkey', u'HoppyPopster', u'HoppyPotter', u'HoppySuds', u'Hoppydude1980', u'Hops1', u'Hops23', u'Hops67', u'HopsAreOverrated', u'HopsGirl7', u'HopsHopenstein', u'HopsHops', u'HopsKeepDroppin', u'HopsMcGee', u'HopsNPot', u'HopsRunner', u'HopsYeast', u'Hopslady', u'Hopswagger', u'HopsyTurvy', u'HoptimusPrimeIPA', u'Hoptometrist', u'Hoptoss', u'Hoptrollop', u'HopzMan', u'Hornet2003', u'Horsley54', u'Hortator', u'Hortus', u'HosP', u'Hoser77', u'Hoss76', u'HossMcGraw', u'HotHabanero', u'HotHands', u'HotterThanHell', u'Houblonimous', u'HoundDog', u'HoustonTX', u'Hovellord', u'Hoves', u'HowellVillage', u'Hrolhp', u'HubsInn', u'HugePlume', u'Hugerat', u'HugoGrim', u'Huhzubendah', u'Hujak22', u'Hullabaloo2', u'HumuloneRed', u'Humulus85', u'HumulusLupuLust', u'Hunter', u'Hunterbrewhaha', u'HuppMJH', u'HurricaneMo', u'HuskyinPDX', u'Husslerc', u'Hutson', u'Hybrid', u'Hypersomnia', u'IAmNinjor', u'IBU99', u'IBUStu', u'IBUlover', u'IBUnit63', u'ICCULIS', u'ICPrice', u'IChuChuChuzBEER', u'IDS', u'IDrinkAllot', u'IHABrew', u'IHC', u'IHasaFlavaFlav', u'IIKaRuII', u'IIPA', u'IKHOURY', u'IKR', u'ILOVESTOUTS', u'ILessThan3Brett', u'ILhophead', u'ILikeBeer13', u'ILikeGoodCider', u'ILiveOffHops', u'IMPERIALWILL', u'IMincedTheKing', u'IPA35', u'IPA4LIFE', u'IPA4me', u'IPABrewer', u'IPADAN', u'IPAHound', u'IPAIPA', u'IPALOVER', u'IPALover23', u'IPASetter', u'IPAcraig', u'IPAescotch', u'IPAguy2009', u'IPAkindaguy', u'IPAlot', u'IPAs4lyfe', u'IPAsippa', u'IPhantom', u'IRNBRU', u'IRONRakkasan', u'IRequireBeer', u'ITK4ever', u'IZoot', u'Ian522', u'IanAnthony', u'IanCAnderson', u'IanH84', u'IanPaleAle', u'Ianhockey91', u'IceAce', u'IceEyes', u'IceHog', u'IceStation', u'IceTrey9785', u'Icehouse57', u'Iceman77', u'IcemanYaw', u'Icepak', u'IchabodcraneIpa', u'Idea', u'IdentityAles', u'Idodgepucks', u'IdrinkGas', u'Ieatlambfries', u'Ig0r', u'IggyTT', u'IgnatiusReilly', u'IgnorantBastard', u'IgotsHops', u'Iguana', u'Ihearthops', u'Iheartstouts', u'Ijimmy', u'Ikhoudvanbier', u'IlIlIllIlIllIlIl', u'Ilacquin', u'IllNate', u'Illini5596', u'Illinick', u'Illtryit', u'Iloverasputin', u'Ilovesuds', u'Ilushny', u'ImBOBtheBEERguy', u'ImWithStupid', u'Imbiber', u'Immacolata', u'Immortale25', u'ImpairedPirate', u'Imperial313', u'ImperialAndy', u'ImperialKitten', u'ImperialPashka', u'ImperialScott', u'ImperialStoat', u'Impfan', u'Impsonsay', u'Imsothirsty', u'Imstillthegman', u'ImusBeer', u'InDreams', u'InIBUsWeTrust', u'InandOutBeerGuys', u'IndiaCalebAle', u'IndolentReader', u'Indulgence', u'IndustrialCanine', u'Indy', u'Indybeer', u'Indybier', u'InebriatedJoker', u'Ineedabeerhere', u'Infamous7100', u'InfiniteLoop', u'Injemanze', u'Innocentexile', u'Insanity', u'Insomnicat', u'InspectorBob', u'IntegratedPi', u'Intelligentsia', u'Interfectus', u'Internatbrewlove', u'Intimidtor', u'IntoIPA570', u'IntoxicatedRat', u'Intrinsic', u'IntriqKen', u'Invisoclam', u'Ior', u'IowaBiertrinker', u'IowaHawkeyesFan', u'Ipameister', u'Ipatsfans', u'Irie', u'IrieJackalope', u'Irish212', u'Irish619', u'IrishAndSurly', u'IrishBeerMan', u'IrishCowboy', u'IrishEyes32250', u'IrishJava', u'IrishMan34', u'IrishMike', u'IrishPirate', u'IrishRacer', u'IrishRedBeard', u'IrishRedRock', u'IrishTed122', u'Irishchick22', u'Irishdagger', u'Irishfamilyboy', u'Irishmadden', u'Irishtexan', u'Irishwallaby', u'IronCitySteve', u'IronDjinn', u'IronGiant', u'IronLover', u'IronMickey', u'Irondookie', u'IronicLuddite', u'Irrigate', u'ItMakesMeHappy', u'Italianemperor', u'Italianish', u'Italktomyself77', u'Ithaca', u'Itlan', u'Itoclown', u'ItsTheLimit', u'Ivanthehero', u'Iwegen', u'Iwhitney', u'IwuvBEER', u'J0E', u'J0EL', u'J23hc', u'J4de', u'JAA', u'JACKandGINGER', u'JAL67', u'JAMESN8OR', u'JAMdaBuilder87', u'JANASKI', u'JAStheAce', u'JAXBrewHouse', u'JAXSON', u'JAYAR1', u'JAYBLACK', u'JAZwara', u'JArami', u'JAramini', u'JB12383', u'JBClaypool', u'JBG', u'JBMorrissey', u'JBStith', u'JBamin', u'JBmadera', u'JBogan', u'JBrew13', u'JBritt50', u'JBuff41413', u'JBushEsq', u'JC5886', u'JCAMPBELL', u'JCBears', u'JCDenver', u'JCIV', u'JCWeaze', u'JCaweinstein', u'JCellars', u'JChristopher', u'JChurch', u'JDBeer', u'JDFish', u'JDH2000', u'JDK', u'JDM02370', u'JDRourke', u'JDV', u'JDew', u'JDizzle', u'JDogg', u'JEFFRIBEGGIN', u'JEdmund', u'JEngler', u'JFarrell', u'JFazekas', u'JFurey', u'JGS', u'JGrooveDrums', u'JHackney87', u'JHamm', u'JHara', u'JHawkBrew', u'JHutton', u'JISurfer', u'JJBlanche', u'JJJ22', u'JK4Stout', u'JKIRBY', u'JKrout', u'JLShepard', u'JLaB', u'JLan86', u'JLebowski', u'JLeege', u'JM03', u'JMB22', u'JMBSH', u'JMD', u'JMD1970', u'JMD71', u'JMOvechkin', u'JMWEB2', u'JMac311', u'JMad', u'JMastrangelo', u'JMazzic', u'JMendyka', u'JMforman', u'JNewbs', u'JOENAMATH1', u'JOEYvegas', u'JONNYC', u'JONNYFJ', u'JOT', u'JOaikido', u'JP024', u'JPA5768', u'JPB', u'JPBCrown', u'JPMONEY88', u'JRG', u'JRMluvsbeer', u'JROCK8588', u'JRS', u'JRdaSconnie', u'JRed', u'JRhode', u'JRoweMDN', u'JSMarsolais', u'JSchn0w7', u'JSommers', u'JT2875', u'JTAndres', u'JTL', u'JTSbeerislife', u'JTWILDOATS', u'JTZimmerman', u'JTahoe', u'JThysens', u'JToad', u'JTrona11', u'JWD', u'JWFokker', u'JWHColdOne', u'JWU', u'JWolf', u'JZED', u'JaYsOuL', u'Jables', u'Jablonski', u'JackRose', u'JackStraw22', u'JackTheRipper', u'JackWeizen', u'JackieTH', u'JackieTreehorn', u'Jackinape', u'JacoBiz666', u'Jacobob10', u'Jacobpaul81', u'Jadjunk', u'Jae27', u'Jagcorps', u'Jagger', u'Jaguar', u'JahNoth', u'Jake1605', u'JakeManor', u'JakeSuperior', u'Jakerelli', u'Jales140984', u'JalfPsu', u'JamesBerry', u'JamesMcPolin', u'JamesP123', u'JamesPGH', u'JamesRobbins', u'JamesS', u'JamesSchutz', u'Jameskorte', u'Jameson480', u'JamfSlayer', u'Jamison27', u'JamisonM', u'Jammies', u'JamnesCameron', u'JanM', u'Janbobbo', u'Janderson91', u'Jangles', u'Janus', u'Japerrault', u'JaphyRyder', u'Jared3118', u'JaredKent', u'JaredWolgemuth', u'Jaredmcarrier', u'Jarhead271', u'Jarod', u'Jarpo', u'JarrodK', u'JasStewart', u'Jasel', u'Jasmarie86', u'Jason', u'JasonA', u'JasonCoop', u'JasonStrauss', u'Jaup', u'JavelinPride', u'Javers', u'Jawn', u'Jaxxon61', u'JayAre46', u'JayDreamin', u'JayDub', u'JayHill', u'JayMooch1', u'JayNH', u'JayQue', u'JayRey', u'JayS2629', u'JayT', u'JayTheFinn', u'Jaycase', u'Jayhawk', u'Jayhawk1995', u'Jayli', u'Jaymad', u'Jayman931', u'Jayna', u'Jaynuze', u'Jayo3000', u'Jazz1', u'Jazzcrop', u'Jazzfan333', u'Jazzpatel', u'Jbelokur', u'Jberb', u'Jbino34', u'JbirdWI', u'Jcarrane', u'Jcb890', u'Jcdolan', u'JdRotten', u'Jdecarol', u'Jdiddy', u'Jdmpolk', u'Jdog66', u'Jdub983', u'JeTToBOyzInc', u'JeanO', u'Jedimaster1', u'JednoPivoProsim', u'Jeebs', u'JeepCop', u'Jef59', u'JefNat', u'Jeff271828', u'JeffBob', u'JeffH', u'JeffMcAwesome', u'JeffTibbetts', u'JeffV', u'Jeffo', u'JeffreyG', u'Jeffro96', u'Jekster', u'Jemonster', u'Jenkster4', u'JennyJam', u'Jents71', u'Jeplacek', u'Jerdmier', u'JeremyBrews', u'JeremyK', u'Jeremym27', u'Jerermy', u'Jeriacor', u'Jeriba', u'Jerico', u'Jermbrew', u'Jerone', u'Jeronimo', u'Jerreve', u'JerryBullfrog', u'Jerrytas', u'Jersey', u'JerseyDevil980', u'JerseyKirk', u'JerseyPaul', u'JerseyToughGuys', u'JerzDevl2000', u'Jerzdevil1116', u'Jerzy86', u'Jespao', u'Jesse13713', u'Jesse14', u'JesseP09', u'Jessearellano', u'Jessefive', u'Jesstyr', u'JesteR14', u'JesusShoes', u'JetSmooth', u'Jethro6191', u'JethroAdam', u'Jetlag767', u'Jetlichan', u'JetsterDajet', u'Jettanbass9', u'Jfo1987', u'Jfraser', u'Jhandy', u'Jhasoe', u'Jhaysohn', u'Jhun', u'Jiggamyte', u'JimBird', u'JimFalzone', u'JimKal', u'JimLetson', u'Jimbo07', u'Jimbo87', u'JimboHD2005', u'JimbobAlonymous', u'Jimboozle', u'JiminKY', u'JimmieFrisbee', u'JimmyK77', u'JimmyKane', u'JimmyTango', u'Jimmys', u'JimsArcade', u'Jinholic', u'Jips', u'Jishguy', u'Jisho', u'Jivicin', u'JizackFH', u'Jjonbur', u'Jjt', u'Jlaw12', u'JmOdrkrk', u'Jmamay22', u'Jman0086', u'Jmaths', u'Jmchrz9', u'Jmoore50', u'JoBoTo', u'JoBobJim', u'JoEBoBpr', u'JoKo', u'JoLight', u'JoeA7', u'JoeAC', u'JoeAmerican77', u'JoeBCBC', u'JoeBloe', u'JoeCeez', u'JoeFourstringer', u'JoeLlama', u'JoeML', u'JoeMayo', u'JoeMertens', u'JoeNobody', u'JoeOfParma', u'JoePabeerno', u'JoePat', u'JoePopa', u'JoeST', u'Joel', u'Joel1515', u'Joey7F', u'JoeyBags1', u'JoeyBeerBelly', u'JoeyHotrod', u'JoeySchlitz', u'JoeyV', u'Joeycnews', u'Joeynocturnum', u'JohannBock', u'John', u'John1985', u'John42', u'JohnCurran', u'JohnFatAss', u'JohnGSO', u'JohnGalt1', u'JohnGalt57', u'JohnHoyos', u'JohnL9013', u'JohnMeinhardt', u'JohnNickel', u'JohnPPutz', u'JohnPecod', u'JohnQVegas', u'JohnRossKirby', u'JohnScav', u'JohnSmiths1', u'JohnW', u'JohnWaynes44', u'JohnY', u'JohnfromDublin', u'Johnnn', u'JohnnyBarman', u'JohnnyBeer', u'JohnnyChicago', u'JohnnyDuvel', u'JohnnyHopps', u'JohnnyK', u'JohnnyM2002', u'JohnnyP3', u'JohnnyS17', u'JohnnyV8312', u'JohnnyWS6', u'Johnnyfacelift', u'JohnnysBarIsIt', u'Johnwesleyhardin', u'JohnyK7', u'Jojoknows', u'Jok3r', u'JokeInsurance', u'Joker2008', u'JollyRodger', u'JollyToper', u'Jon', u'JonB1958', u'JonCus', u'JonMich13', u'JonSD', u'JonathanCrites', u'JonathanFalco', u'JonathanG', u'JonathanL7890', u'JondaRam', u'Joneyee', u'JonnieC', u'JonnyAtlas', u'JonnyDiablo', u'JonnyHud', u'Jono0284', u'Jonopoly', u'Jonp82', u'Jonte', u'Joplisan', u'Jordan', u'Jordan1985rec', u'JordanC', u'JordanChabot', u'JordanEllwanger', u'JordanParfitt', u'JordoBeerlady', u'JordonHoltzman', u'Jorel', u'Jorex', u'Jorge', u'JorisP', u'JosephLondon', u'Josephkeene', u'Josh311', u'JoshBeer86', u'JoshD', u'JoshJ', u'JoshJayne', u'JoshRadTxist', u'JoshVandy', u'JoshW', u'JoshuaCain', u'JoshuaJ', u'Josiah2729', u'JosiahS', u'Josievan', u'Joss', u'Jp7010', u'Jparkanzky', u'Jparker37', u'Jpatrix', u'Jprebs', u'Jprobinson', u'Jpwv', u'Jra1985', u'Jreb79', u'Jredner', u'JryAro0507', u'Jshaouni', u'Jslay77', u'Jtschupp04', u'Jtthegreat', u'JudgeRoughneck', u'JuggaloPhatMatt', u'Juggernaut', u'JugglerPeter', u'JuicesFlowing', u'JukeboxEmperor', u'Jules11788', u'JulieRFoster', u'JuliusWolf', u'July2Nov', u'Julz', u'Junior', u'JunkYardJake', u'Junnila', u'JupiterJesus', u'JustEarl', u'JustHarmless', u'JustIPAs', u'JustLovinBeer', u'Justin0001', u'Justin23060', u'JustinAniello', u'JustinBathurst', u'JustinJTisdale', u'JustinMann', u'JustinMatthew', u'JustinOSU99', u'JustinQ', u'Justinmclane', u'Jwaks', u'Jwale73', u'Jwren5', u'JxDuff', u'Jynxbaby', u'Jyubei', u'K270', u'K7M', u'K7online', u'K9AleingPiss', u'K9H20', u'KAF', u'KALIKGOLD', u'KAP1356', u'KATE12', u'KAVSE', u'KAdams', u'KBBA', u'KBC1', u'KBHops', u'KBomb', u'KBoudreau66', u'KBrady487', u'KC8LTL', u'KCHopHead', u'KCHops', u'KChardstock', u'KChurch86', u'KClarkin', u'KCoemgen', u'KDReeves', u'KDawg', u'KDeLibero', u'KEL', u'KELPAK', u'KFaulkner', u'KHallas', u'KI9A', u'KIMIfan', u'KINGSIZE', u'KJGAGNE', u'KJH', u'KJay1408', u'KKosmoski2', u'KLAYNE87', u'KMDouds', u'KMcG', u'KOPBeerDrinker', u'KOrtega', u'KRMBeerGuy', u'KSac4115', u'KTCamm', u'KUpolo', u'KWally', u'KYBrewgrass', u'KYFriedChildren', u'KYbrewgal', u'KYlawyer', u'Kadonny', u'Kadugen', u'Kaerous', u'Kahlerbock', u'KaiMiller', u'Kaie', u'Kain292', u'Kaiser777', u'Kaiser81', u'KaitouShiroi', u'KajII', u'Kakaraht', u'KalH', u'Kala1073', u'Kallessin', u'Kallsays23', u'Kamahl75', u'Kamuimusackie', u'Kanebanger', u'KansasBeerLover', u'KansasNate', u'Kanyon22', u'KarlHungus', u'KarlosT', u'Kartoffeln', u'Karyyk', u'Kasia', u'Katahdin', u'Katherinek6968', u'Kathleen', u'Kato', u'Katulus7', u'Kaydogg', u'Kaydoh', u'Kayn169', u'Kazechka', u'KazikliBey', u'Kbogac', u'Kc12349', u'Kc4shore', u'KeOw', u'Keblar', u'KeefD', u'Keene', u'Keeton', u'Keffa', u'KegMasta621', u'Kegatron', u'KeggerKen', u'Keginator70', u'Keith238', u'KeithOhio', u'KeithPatton', u'KeithStolte', u'Keitherduder', u'Keithmac115', u'Keithstone44', u'Kelly88', u'Kelp', u'Kemmerlin', u'Kemperfi', u'Kempleton', u'KenC', u'KenC411', u'KenDawg19', u'KenGage', u'KenOnBass', u'Kendo', u'Kenny411', u'KennyB', u'Kensai', u'Kensanity', u'Kenshin', u'KentT', u'KentonDunson', u'KentuckyBeerCat', u'Kerin', u'Kerrin85', u'Kessel', u'Kestrel452', u'Ketchup75', u'KevBrews', u'KevPet84', u'KevSal', u'Kevin400', u'KevinB', u'KevinBrewer', u'KevinCurtis', u'Kevinator', u'Kevuas', u'KevyKev', u'Kexx', u'Khano', u'Khazadum', u'KhourysBeerGuy', u'KickInTheChalice', u'Kickass', u'KickbacksSteve', u'Kicksmile67', u'KidneyBean', u'Kidrythm', u'KidsDoc', u'KieranValla', u'Kierkegaardian', u'Kikkycat', u'KilgoreTrout27', u'Kilonad', u'KiltedCulinarian', u'KiltedSnowman', u'KimenTshom', u'KindBeer', u'KingColliwog', u'KingDarkLord', u'KingEdward', u'KingFarm', u'KingG', u'KingHefey', u'KingMoomie', u'KingNoonan', u'KingPuuChuu', u'KingRamer', u'KingSlender', u'KingSpank', u'Kingdom4aPint', u'Kingpin', u'Kinsman', u'Kirby', u'Kirch', u'Kirkles', u'Kiser', u'Kitt', u'Kiwano', u'KixRules', u'Kjendahl', u'Kjos29', u'Kkottonmouthkngz', u'KlausKinski', u'Klgkenny', u'Klondike', u'Kloug', u'Klunco', u'Klym', u'Kmad55', u'Kmccabe33', u'Kmosiman', u'Knapp85', u'Knecht', u'Knifestyles', u'Knives', u'Knodel', u'Knowledge612', u'Knuckles', u'KoG', u'Kobangus', u'Koblentz', u'Kodiak', u'KodyBrannon', u'Kolsch', u'KomodoDragon', u'KomradeKraft', u'Kongquistador', u'KonigObHops', u'Kookiekwan', u'KoolWhp', u'Koolbreeze2', u'Kooz', u'Kopp', u'Koufax21', u'Kpowers', u'KraegerB', u'Kraken', u'Krakistophales', u'Kranders', u'Krebsy', u'Kreuger', u'Krevee', u'Krieg', u'KrisPaulk77', u'KrispyKirk', u'Kristing', u'KristyLeigh', u'KroMagnon', u'Kromes', u'Krovtar', u'Krunchky', u'KrupaTroopa', u'Krypton1001001', u'Kshock', u'Kubus', u'Kudashov', u'KuehneBe', u'Kuemmelbrau', u'Kulrak', u'Kulyboy', u'Kumicho', u'Kunsan90', u'Kurioser', u'Kurland', u'KuroNekoSama', u'Kuromaru', u'Kurtism', u'Kurtland', u'Kvltbm', u'Kvlterbm', u'Kwak', u'Kyanite', u'Kyle987', u'KyleMWood', u'KyleVick4', u'KylightZone', u'Kylito87', u'Kyrgyzbrewer', u'L337ish', u'L4t3rg4t3r', u'LAMAGS', u'LAWDAWG', u'LBBeer', u'LBHops62', u'LBIguard', u'LBrito', u'LFHaines', u'LGF', u'LHOOQ', u'LHOwasFramed', u'LJArsenal', u'LOCAL', u'LOVEALES', u'LPcreation', u'LPorter33', u'LRAC', u'LSIVA', u'LSUDranker', u'LSUExplorer03', u'LSUPT', u'LTMac', u'LTS', u'LVBen', u'LWG1970', u'LXIXME', u'LaChaBennDotcom', u'LaCoursiere', u'Labonix', u'Lacesoutcody', u'LacquerHead', u'LadyBastet27', u'LadyGisellys', u'LadyOfMuchBeer', u'Ladybugger', u'Lafe', u'Lagaffe74', u'LagerFiend', u'LagerMan', u'LagerandGospel', u'Lagerfeld', u'Lagerglatze', u'LairdChisholm', u'Lakers805', u'Lakes', u'LambicKing', u'Lambstrong', u'LanceW', u'Lancer211', u'Lancer39', u'Landfill21', u'Landgolier', u'Lando', u'Landser116', u'Landshark67', u'Landshrk83', u'LaneMeyer', u'Lantern', u'LarrBear', u'LarryKemp', u'LarryMac', u'LarryV', u'LarryWilliams', u'Larrytown', u'Lars3', u'LauraAlberts', u'LauraG', u'Lauthaha', u'LawHog', u'Lawl3ss', u'LayinLo', u'LaymanReviews', u'LazFTW', u'Lazerlobe', u'LazyL', u'LeCanonnier', u'LeMoose', u'LeRay', u'LeRose', u'LeTonneau', u'LeafCutter', u'Leafs18', u'LeathChuinn', u'LebronJeremy', u'Lecithin', u'Lee45102', u'LeeMarvin', u'Leebo2007', u'LeeinVA', u'Leemen1983', u'LeeryLeprechaun', u'LeffeHanded', u'Leftfield00', u'LeftonJackman', u'Lefty1881', u'LeftyBWS', u'LeftyEtc', u'LegendaAcBn', u'Lemke10', u'Lemmiwinks', u'LemmyRamone', u'Lemon', u'Lenny2884', u'LennyV', u'LeoEnergy', u'LeoPanna', u'Leocohen', u'Leon', u'LeonTrotsky', u'Lepley', u'Lerxst', u'LesStewart', u'Lesbrad', u'LessthanLuke24', u'LestatSabastian', u'LethalChickens', u'LetsGoHawks2009', u'LetsGoQuakers', u'Lev', u'LeviAllen', u'LeviLovesBeer', u'Leviathan', u'LevitatedEep', u'LewisMartin', u'Lexicon', u'Lexluthor33', u'Lexx', u'Lezbrew', u'LiamMcFee', u'LiamStLiam', u'LibertyTurns', u'LibraryTom', u'LicherRules', u'LieutenantD', u'LieutenantSour', u'LieutenantWort', u'LifeIsGood', u'LightEnthusiast', u'Lightbearer2012', u'LikaThaHops', u'Likeburning', u'LilBeerDoctor', u'LilMatrix', u'Lillenk', u'Lillie1128', u'Limberg316', u'Limenitis', u'LimoBarbie', u'Limpeye', u'Linda', u'Lindeman', u'Lintyfresh', u'LinusStick', u'LiquidBread219', u'LiquidBreadMan', u'LiquidCucumber', u'LiquidLord', u'Liquids', u'LiquorB4Berrr', u'LiquorLockerVP', u'Litterbean', u'LittleBreeze', u'LittleBug31', u'LittleCreature', u'LittleDon', u'LittleOtts', u'LittleWolf', u'LiveOakMarket', u'LiveRight', u'Livelaughlovep', u'LiverDonor', u'Liverpool08', u'LivinTheBrews', u'LizzieDearest915', u'Ljunkan', u'Lldeegan', u'Llewellyn9', u'Lnedrive14', u'LoadedSchells', u'Loadedgunz', u'LoblawBeer', u'LoboLikesBeer', u'Lockedin', u'Locker101', u'Lofgrep', u'Loftarasa', u'Loki', u'Loki83', u'LokiTheDog', u'Lolli1315', u'Lomofo', u'London1985', u'Long813', u'LongBeachHopHead', u'Longhorn22', u'LonghornBrewer', u'LongsPeakAveBrew', u'Longstaff', u'Lookalive07', u'LooksCouldKiilll', u'Looneybiz', u'Loot', u'Loppuu', u'LordAdmNelson', u'LordBag', u'LordChesterfield', u'LordFinley', u'LordHammer', u'LordHarris', u'LordKvlt', u'LordOdin', u'LordSMAF', u'Lordbacchus', u'Lordcheez', u'LordofTime25', u'Lordquackingstic', u'Lordsloth', u'Lordsoth', u'LosAngelesJoinMe', u'LosRobots', u'Lothar666', u'Lothore', u'LotusGt111', u'Louie1031', u'LouieF', u'Lounge14ABV', u'LoveBeerNo7', u'LoveMeAGoodBeer', u'Lovinthebrew', u'Lsmith', u'LtCracker20', u'LucaBrasi', u'Lucarelli3062', u'Luchman', u'LucienDeRubempre', u'Lucklys', u'LuckyBrewer', u'LuckySeven', u'LuckySevens82', u'LuckySkuff', u'Luckyboy81', u'Luff', u'Luigi', u'Luk13', u'Lukafer', u'Luke9311', u'LukeAnthony', u'LukeD23', u'LukeK1231', u'LukeShep31', u'Lukecook', u'Lukie', u'LumpyGuitar', u'LunaChick', u'LunarU4EA', u'Lunch', u'LunchBoxOfBees', u'Lunchmade', u'Lupe', u'Lupin', u'Lupuliniac', u'Lurchington', u'Lurius', u'LusciousJackson', u'Lushbesi', u'LuskusDelph', u'Luster', u'LuthersLager', u'LuthersMug', u'Lutter', u'Luvzsurfrz', u'LuxBuddy', u'LvilleIPA', u'Lynux', u'LyonsHead', u'LyriCa1z', u'M01', u'M0stlyHarmless', u'MA08', u'MAB', u'MABZ', u'MADhombrewer', u'MASPuros', u'MBABJJ', u'MBPChead', u'MBrausen', u'MC6', u'MCDuhamel', u'MCfunkyJ', u'MChobanian', u'MCorrea', u'MCrtn', u'MDAWG81', u'MDDMD', u'MDekker', u'MECU', u'MEPBlue', u'MEhophead', u'MEsoJD', u'MEsquandoles', u'MEverritt', u'MGL', u'MGrimley', u'MILECO', u'MIZZOBrew', u'MIbeerfan', u'MJR', u'MJRusso', u'MJnar1', u'MKEHophead', u'MLasoski', u'MLegendre', u'MLucky', u'MMAJYK', u'MMCCX', u'MMansfield', u'MNJR', u'MNRon', u'MNstout', u'MOB210SA', u'MOLASSESnsuch', u'MONKandTUCK', u'MOShepp', u'MOTrout89', u'MP72', u'MPLS', u'MPrint', u'MQ4188', u'MRLMedic', u'MRSPORTS', u'MS22', u'MS2k', u'MSchae1017', u'MScottLedoux', u'MT59917', u'MTMugs', u'MTNboy', u'MUHAWKRUNNER', u'MURF0320', u'MUSHROOMCLOUD', u'MVassar', u'MVotter', u'MWKozak', u'MWP', u'MWellington', u'MYGUINNESS', u'MYJELLOMISFIT', u'MYSTIKPIZZA', u'MaGno', u'MaaikeMae', u'MacDaddyJ', u'MacDomer', u'MacEnvy', u'MacMan1980', u'MacQ32', u'Macca', u'Macdoyal', u'Machiavelli2', u'Machinehead', u'Macky20', u'Maction', u'MadCat', u'MadElf25', u'MadHopz', u'MadMike80', u'MadTown1000', u'MaddogOrlando', u'MadeInOregon', u'Madigan', u'Madmax99', u'Madtowner', u'MaduroMike', u'Maedhros', u'Maerzen', u'Maestro', u'Mag00n', u'Magery', u'MagicHatFan', u'MagicLantern', u'Magicc82', u'MagnusJager', u'Magpie14', u'MagyarPuska', u'Mahgeetah527', u'Mahlik', u'Mahones', u'MainSpark', u'MaineBeerGuy', u'MaineBeerMan', u'MaineBirdMan', u'Majestic', u'MajesticKodiak', u'Majorscrilla', u'MakeIncuSciBus', u'MakeMineAPBR', u'MakeMischief', u'MakeshiftBrew', u'Mako82', u'MaldonGold', u'Malfunkt', u'MaliciousBot225', u'Malina', u'Malpa', u'Malt', u'MaltFrazier', u'Maltab', u'Malted', u'MaltistLupulist', u'Maltoftheearth', u'MaltsOfGlory', u'MaltyBob', u'MaltyGoodness', u'MaltyHoppyGood', u'MamaMeier', u'Mamerong', u'MammothBrew', u'ManVersusBeer', u'ManWithHat', u'Mancer', u'Mandark', u'MandatoryJimmy', u'Mandrake', u'ManekiNeko', u'Mangus', u'ManicD', u'Mannix', u'ManofMead', u'ManofWax', u'Manoftyr', u'Manos', u'Manosbeeroffate', u'Mantis05753', u'ManuelHerrera', u'Mao', u'Mar02x', u'Maracuja', u'MarcGetty', u'MarcatGSB', u'Marcrates', u'Marcus6679', u'Mardukk', u'MarenJensen', u'MargaritaDAD', u'MarineHokie', u'Mario61Aler', u'MarioL66', u'Mark', u'Mark4', u'MarkBeer', u'MarkBlackout', u'MarkFy', u'MarkIntihar', u'MarkNLaura1', u'MarkSCCOT', u'MarkVegas', u'Marplot', u'MarsMoose', u'MarshallMan', u'Martin2D', u'MartinVanBrewin', u'Martindelaware', u'Marty', u'Marty30', u'Martyartie', u'Marveljess', u'MarvinSnyder', u'MarvinTheMarzen', u'MaryMoTu', u'MaryS80', u'MarzenBierManiac', u'MarzenMan', u'MashMouth', u'MasonBeerMan', u'MassDriver', u'MasterNate2003', u'MasterSki', u'Masterson', u'Mastodactyl', u'Matador', u'Matcpd', u'MathBadger', u'Mati', u'Matt1234', u'Matt1516', u'MattAtAmeriCraft', u'MattBrooks', u'MattChaos', u'MattCote', u'MattFrenzy', u'MattM901', u'MattMacLeod', u'MattMcGinnis', u'MattPL', u'MattSweatshirt', u'Matteox3', u'Matthew', u'MatthewPatthew', u'Matthewislee', u'Matthias726', u'Matthoc116', u'Matticus03', u'Mattrh07', u'MattsLilBeerLuvr', u'Mattvg67', u'Matty1918', u'Matty67', u'MattyDonny', u'MattyG85', u'MattyV', u'Mattysox', u'Mattyssox', u'Maudite', u'Mauerhan', u'Mauhyr', u'Mavajo', u'MaxBrewell', u'MaxBrews', u'MaxSpang', u'Maxax', u'MaximusDecimus1', u'Maxwell106', u'MaxxDaddy', u'Maxxthepenguin', u'MayLattimore', u'Mayhem976', u'MayorAdamWest', u'Mazaman', u'Mazda3', u'Mazdajoe', u'Mazeraski', u'Mbarnes304', u'MbpBugeye', u'McBastard', u'McClungbrew2', u'McCrae', u'McCranky', u'McD0uche', u'McDiddyPop', u'McDizzle', u'McDosey', u'McFarlandJ', u'McGIPA', u'McGuire75', u'McHall', u'McKibben25', u'McKnightOwl', u'McLaughlin5350', u'McLovinmybeer', u'McNealc31', u'McNuts', u'McStagger', u'McThirsty', u'McWoods', u'Mcburks', u'Mcculler', u'MchugN', u'Mdog', u'MeLikeBeer', u'MeMyselfNAles7', u'MeadDrinker', u'MeadGuyfromMD', u'MeadMardigan', u'MealInAGlass', u'MeanGene', u'Meandmymonkey', u'Means0451', u'MeatHunter', u'Mebuzzard', u'Mechphisto', u'Med', u'MedicineMan', u'MediocreatBest', u'Meeg', u'Meerkey', u'Meeseface', u'MeganElyse', u'Meik', u'MeisterBurger', u'MelJohn', u'Melachai', u'Melchizedek', u'Meliorist', u'MelissaJ', u'MellowG', u'MenamenaDooDoo', u'MeninCleats', u'MenloBeer', u'MentorBeerGuy', u'Merchant46', u'MerkinMan', u'Merkur', u'Mertzy', u'Meshuggah135', u'Mess', u'Messiahbolical', u'Messiinnnaaaa', u'Metal4Breakfast', u'MetalBoozingBen', u'MetalHopHead6', u'MetalandBeer', u'Metallix6403', u'Metalmonk', u'Metalmoon', u'Methodd', u'MetlGuy', u'MetroOhio', u'Metropole', u'MetsQNY', u'Metuo', u'MexicanSkittel', u'Mexinate', u'MiScusi', u'Mibeerfan239', u'MicEp', u'Micahman', u'MichaelBurns', u'MichaelGreene', u'MichaelJSmith', u'MichaelLynBryant', u'MichaelMeister', u'MichaelMote', u'Michaelbeer', u'MichaelinFishers', u'Michalak', u'Michelle1069', u'MichiBrew', u'MichialTanner1', u'MichiganHopHead', u'Mick', u'MickGoBrach', u'Mickelswit', u'MickeyHops', u'Mickrowbrue', u'MicroBeerMan1980', u'Microbrewtaster', u'Midfielder', u'MidgetX', u'MidnightWatch', u'Midway', u'MightyCasey', u'MightyCow9', u'MightyMonk', u'MiguelMandingo', u'MihcaelBarb', u'Mike191', u'Mike3865', u'MikeB094', u'MikeB20', u'MikeBlemker', u'MikeBrandman', u'MikeCheck88', u'MikeCrime', u'MikeCz', u'MikeDelta1', u'MikeEveleigh', u'MikeGill', u'MikeInIowa', u'MikeInThe517', u'MikeM40', u'MikeMello', u'MikeOPFL', u'MikePenn', u'MikeRa', u'MikeRoper1989', u'MikeSr619', u'MikeT', u'MikeT77', u'MikeTaz', u'MikeWard', u'MikeWilson', u'MikefromDormont', u'Mikes360', u'Miketwolf21', u'Mikeus', u'Mikey58', u'Mikey905', u'MikeyHamilton', u'MikeyMikee', u'MikeyMisfit', u'MikeyRx', u'Mikeyboxx', u'Mikeyr89', u'MikeytotheB', u'MikieV', u'MilanoItaly', u'Miles2go', u'Milestone221', u'MillRat', u'Milla', u'Millerman', u'Millski7', u'MillySox', u'MiltonWaddams', u'Mindabyss', u'Mineo', u'Minkybut', u'MinnesotaRIS', u'MinorThreat', u'Minotaur', u'Mints', u'MirImage', u'MiracleMets22', u'MirkoCroCough', u'MischiefMtnC', u'Misfit025', u'Misfit138', u'MissA', u'MissDev', u'MissKristin', u'MissLynx', u'MissOrch', u'MissYaJim', u'MississaugaMatt', u'Mississipping', u'MistaC', u'MisterClean', u'MisterDeeds', u'MisterE', u'MisterElephants', u'MisterSH', u'MisterStout', u'MisterSub', u'MisterTiat', u'Mistofminn', u'Mit', u'MitchSauget', u'MitchW', u'Mitchel', u'Mitchill', u'Mitchster', u'MithosYggdrasil', u'Mithrandir', u'Mitro', u'MittenBeer', u'Mjoepp', u'Mjones15', u'MjrMjr', u'Mkfitz', u'Mkgrenwel', u'MlhopeTC', u'MmmIPA', u'Mmmaibock', u'MnDCochenour', u'MoBitter', u'MoJoe', u'MoLynch', u'MobBarley', u'ModemMisuser', u'ModernJester', u'Moe55', u'MoeSizlak', u'Mohoney', u'Mojoman8561', u'Mokattam', u'Molson2000', u'MondoMan', u'Monfort', u'Monk0383', u'Monk1', u'Monk11', u'Monk67', u'Monkey962', u'Monkeyknife', u'MonkeymooTJ', u'Monkeypaws', u'Monkieman2000', u'Monsone', u'MonsoonSeason', u'Monsteruss', u'Montrose79', u'Mooch273', u'Moodybeer1', u'MookDawg', u'MookieMoo', u'Moon2Goddess', u'Moonraker7', u'Moontang', u'MooreHopps', u'Moorkop', u'Mooseky', u'Mora2000', u'Morbo', u'MoreBeerforTimm', u'MoreThanWine', u'MorelandBrewer', u'Morethanbitter', u'Morey', u'Morfie', u'Morgasm', u'Moriya', u'Morlup', u'MorningBeer', u'MorningDove', u'Morningside', u'Morningstar', u'Morphoenix', u'Morris729', u'MortNoire', u'Mosley1212', u'Mosstrooper', u'Motladiwa', u'MoundOfSound', u'MountainBeagle', u'MoustacheHero', u'MouthFullOBeer', u'MowryJC', u'Moxley', u'Mozz74', u'MpPierce', u'Mposha', u'Mr3dPHD', u'MrAleman', u'MrArmageddon', u'MrB2006', u'MrBaconpants', u'MrBen', u'MrBendo', u'MrBigB', u'MrBlueShirt', u'MrBungle', u'MrCraggs', u'MrDanders', u'MrDanno96', u'MrDark', u'MrDerp', u'MrDibbs', u'MrDirt', u'MrDonQuixote', u'MrDriscoll', u'MrE', u'MrELovesBeer', u'MrFade26', u'MrFootstones', u'MrGaryFish', u'MrGraybeard', u'MrHadack', u'MrHall', u'MrHassellYaHurd', u'MrHellsKitchen', u'MrHirschybar', u'MrHolland', u'MrHungryMonkey', u'MrHurmateeowish', u'MrIncognito', u'MrKegs', u'MrKennedy', u'MrKsBeer', u'MrMatt', u'MrMcGibblets', u'MrNuggets', u'MrOH', u'MrOsgood', u'MrPsychic', u'MrRetardedMonkey', u'MrRogers88', u'MrSeth', u'MrSkyGuy', u'MrSmoogle', u'MrSnrub', u'MrStark', u'MrSwitch', u'MrThursday', u'MrTopher', u'MrVisegrips', u'MrVonzipper', u'MrWeaselWheat', u'MrWinky', u'Mrbassjedi', u'Mrcalrizion', u'Mrkinkle', u'Mrmarmot', u'Mryup', u'MsMandy', u'MsRif', u'Mscarpen', u'Msquared2', u'Msundt', u'MtAiryMike', u'MtGoat', u'MtVernon', u'MtnBikingandBeer', u'Mubbly', u'MuchoCerveza', u'Muck4', u'MuddyFeet', u'MuddyMcGinny', u'MuddyMikes', u'Muddybuddy', u'Mudja', u'Mudpuppet', u'MuenchenerKindl', u'MufflnMan', u'MugOfGoodness', u'Mule600', u'Muller', u'Mumbly', u'Mummygrabber', u'Mumps', u'Mumsbrew', u'MunchkinDrinker', u'Munkaboo', u'MunkeeD', u'Murchmac', u'MurdaMassMan', u'Murph', u'Murphious', u'MurphyKieran', u'MurphyMacManus', u'MurphysIrish', u'Murrdogg', u'Murrhey', u'Muse', u'MusicAndBeer', u'MusicalBeers', u'MusicaleMike', u'MusicmanSD', u'Musition12', u'Musky', u'Mustard', u'MutualAid', u'Mvega909', u'MyGoodness', u'Myk', u'Myke', u'Mypintishalffull', u'MysterySwirl', u'MysticRuler', u'Mythologian', u'Myyry', u'N8TheGreat', u'NA1NSXR', u'NATOuk', u'NBake', u'NBradley2', u'NCBeerFan', u'NCBeerman1', u'NCBeernut', u'NCSUdo', u'NClifestyle', u'NCoastWineBeer', u'NDPDuke', u'NDZonie', u'NEB1', u'NEbeerbro', u'NEhophead', u'NHGrafx', u'NHJim', u'NHLakesBrewer', u'NHbrewer', u'NICKV1117', u'NJBeerFan', u'NJBeerguy', u'NJBrewer', u'NJIPA', u'NJJereme', u'NJWerewolf', u'NJbeerman', u'NJpadreFan', u'NLCBULK', u'NLtex', u'NNY2DC', u'NODAK', u'NOOGIE', u'NOX', u'NRa4ever', u'NStLincoln', u'NV9', u'NVbeer', u'NWC', u'NWer', u'NYCBoy212', u'NYCWheatFanSC', u'NYJRE85', u'NYMETSSS', u'NYManc', u'NYPongBeast', u'NYRfan4ever', u'NYbeerwolf', u'NYfold', u'NaLoGra', u'NachlamSie', u'Nachojon', u'Nadja6123', u'Naerhu', u'Naes', u'NahpunGnome', u'Napalm85', u'Naples', u'Napone', u'NardiByNature', u'NascarJDS', u'Nascartailgatefa', u'Nashvillain', u'NastyCanasta', u'NastyDogg72', u'Nastynas95', u'Natainos', u'NatalBrewingCo', u'NateMac13', u'NatetheGreat', u'Nathan3496', u'NathanBeerFoo', u'Nathanielgl', u'Natural510', u'Nature777', u'NatureSon', u'Naugled', u'Naugros', u'Navalartichoke', u'Nay', u'NealCassady', u'NealVsBeer', u'NearerMyBeerToMe', u'NebulousNate', u'Nectar', u'Nedjimb0sTavern', u'Neecee513', u'NeedBeerNow', u'Needsbeer', u'Neehan', u'NefariousR', u'Neffbeer', u'NegativeCreep', u'NegativeSpin', u'Neilio', u'NekotoNikku', u'NeoMoose', u'Neorebel', u'Nerdmom', u'Nerfherderhan', u'Nermal', u'Nero', u'NeroFiddled', u'Nerudamann', u'NerveStorm', u'Neskimo', u'Nesued', u'Netdigger2', u'NeuroticNectar', u'NeutraAir', u'NeutroMan', u'Never2Dark', u'New2TheBrew', u'NewBedfordBrewer', u'NewCastle56', u'NewGeneric', u'NewSc2', u'NewcastleLover', u'Newglarusguy', u'Newkie', u'Newmerator', u'Newsman', u'Newworlddan', u'Nezzy', u'Nhoddus', u'Nibbley', u'NicAutry', u'NiceGuyMike', u'NiceHead', u'NiceTaps', u'NicholasCasber', u'NicholasMiller', u'NicholasSchell', u'Nichts', u'Nick3', u'NickBus', u'NickCel1', u'NickEMTn', u'NickG', u'NickH07', u'NickH44', u'NickHerrmann', u'NickLovesBeer', u'NickQ', u'NickRWB', u'NickRivers', u'NickTsU', u'Nicked', u'Nickls', u'NicoCruz000', u'NicotineDesire', u'Night', u'NightINgale', u'NightProwler86', u'Nightwielder', u'Nihilanthic', u'NikkiMacBrain', u'Nikkibrews13', u'NilsFrisk', u'NinjaDave', u'Ninjabrew', u'Ninjaworm', u'Nipitato', u'NitroGen', u'NittanyBeerFan', u'NittanyNation', u'Nixon', u'NixonsHead', u'Niziekiel', u'Nizinski', u'NoBitterFace', u'NoClearBeer', u'NoDeity', u'NoFC', u'NoHipTee', u'NoLiberty', u'NoLite', u'NoRoadtrippin', u'NoSignsOfPain', u'NoTearsInMyBeer', u'NoahSYGG', u'Noahman23', u'Nobody420', u'Noctilucus', u'Noelito76', u'NolanGTI', u'NolateM', u'NonChica', u'NonServiam', u'Noneverest', u'Noobster', u'NoonanDBarbarian', u'NorCalYeti', u'NordeastBrewer77', u'Nordicmonk', u'Nordicsk8er', u'NordikWolf', u'Nordstrand', u'Norfawkers', u'Norica', u'Normski', u'Norse23', u'Norsebrew', u'NorthbayStout', u'NorthernVA', u'Northjames', u'NorthsideFred', u'Northsider', u'Nostradamus', u'NotACommunist', u'NotBlonde', u'NotMyRealName', u'NottinghamRon', u'Nowhereman529', u'Noxious26', u'Nrod', u'Nrokitka', u'NuBrewm', u'Nubster', u'NuclearDolphin', u'NuclearEra25', u'NuclearWarhead', u'Nucleozoid', u'Nugganooch', u'NuggetNectar22', u'Nuggethops', u'Nuggetnectarfan', u'Nuke77', u'Nukeman3000', u'Nukesquad', u'NumbSensation', u'Number967', u'Nurb', u'NurseJody', u'Nutleybeer', u'NyackNicky', u'Nycko', u'Nytemare', u'OBeerMeGreatOne', u'OCBeerBaron', u'OChaos', u'ODBRIP', u'OHLRangers', u'OKCNittany', u'OKMadMonk', u'OKTAVIAN', u'OLaw', u'OMGTheyKilkenny', u'ONUMello', u'ONeill', u'OPWN3NTSL4Y3R', u'ORM1', u'ORothlain', u'OSUBeerStudent', u'OSUbrewman', u'OStrungT', u'OWSLEY069', u'OZz', u'Oahu', u'Oakagedyeti', u'OakedCanuck', u'OaktownFunk', u'OatherS', u'OatmattStout', u'Oatsoda', u'Ob1kanobi', u'ObeerwanCO', u'Ochsenblut', u'Octagonal', u'OddNotion', u'Oddefellowe', u'OdinsApprentice', u'Offa', u'OhDaNnYbOy', u'OhSoHoppy', u'OhYesILoveBeer', u'OhioBulldog', u'OhioHopDevil', u'OhioUTOD', u'Ohiovania', u'Okey', u'OkiDevil', u'Oktoberfest', u'OlRasputin989', u'OldEngineOil', u'OldFrothingSlosh', u'OldGregC', u'OldGreyBeerd', u'OldGrowler', u'OldIronLungs', u'OldPenguinHunter', u'OldRaspi', u'OldRaysputin', u'OldSchoolGamer', u'OldSkoolNintendo', u'OldSock', u'OldStyle', u'OldYoda', u'Oldbagofbones', u'OldeEnglishD', u'OldeGolde', u'Oldscramch', u'OleJohnnieAle', u'Olebiker', u'OliasOfSunhillow', u'OlieIPA', u'Olivander', u'OliverTweek', u'Olorin', u'Omegabyte', u'Ommegeddon', u'Ommy', u'Omniscia', u'OmygodOmmegang', u'On2Wheels', u'OnThenIn', u'Onceeven', u'One2Remeber', u'OneBadBird', u'OneDropSoup', u'OneEyedJack', u'OneLowChevy', u'OneWildRover', u'Onenote81', u'Onestepderek', u'Onibubba', u'Onicochetu', u'Only23', u'Onslow', u'OoompaLoompa', u'Ooter', u'OpIvy', u'OpenMic', u'Opethsprite', u'Opiadic', u'Oppoponax', u'Optimat0r', u'Optimator', u'Optimator7', u'OrangeAmps', u'OrangeCharlie', u'Orangesoda111', u'Orangevango', u'Orbitalinput', u'OregonLightning', u'OregonPaul', u'Oregonfiresteed', u'OremLK', u'OrganicBeer', u'Orgasmicbrew', u'OrioleWay', u'OrionImprisoned', u'OrionsBow', u'OronoChris', u'OrpheusTheSnake', u'Orrshow', u'Ortt', u'Orval1109', u'Osiris9588', u'Osirus', u'OskarL', u'OsuJohn', u'Osurak', u'Otacon', u'Otesanek', u'OtherMillerTime', u'OtherShoe2', u'Otis911', u'OtisCampbell', u'OtisStreetBrew', u'OtisinAZ', u'Otsaika', u'Otterburn', u'Ottertude', u'OttoBomb', u'OttoPeeWee', u'OudErnest', u'OutFox', u'Outchillen', u'OuthouseBrewing', u'OutlawJoseyWales', u'OverToad', u'Overlord', u'Owlwithknees', u'Oxymoron', u'OysterMonkey', u'Oz1516', u'OzarkElmo', u'Ozone34', u'OzzyDog', u'PABSTMASTER', u'PABSTPUSHER', u'PALMEJ1', u'PATECO', u'PAYankeeFan', u'PAvolksbiermann', u'PBBC', u'PBEAR', u'PBRdestroyer', u'PBRstreetgang', u'PBoegel', u'PCBrewski', u'PCampbell', u'PCaravan', u'PCmofo', u'PDK', u'PDX2LA', u'PDXHops', u'PEBKAC', u'PEIBeerGuy', u'PEIhop', u'PFCblue', u'PGCelebration', u'PGHeppJr', u'PHawk', u'PJ33', u'PJC', u'PJKSR02', u'PJipa', u'PLANETBUSTERRAVE', u'PLG', u'PMoo', u'PORTalianBrewess', u'PRemi', u'PRpitmaster', u'PSUBeerman', u'PSUBrew', u'PSUDREW', u'PSUguru', u'PTB25', u'PTMcB', u'PZuke', u'PaRappa746', u'Pabs311', u'PabstMan252', u'PacNWDad', u'Packforever1976', u'Paddez', u'Padron4KM', u'Pagzzz', u'Pahn', u'Paincane', u'Paisan', u'PaleAleHater', u'PaleAlien2', u'Palealetial', u'Palesmith', u'Palmcroft', u'Pamola', u'Pancakes', u'Panch', u'PandorasBottle', u'PangaeaBeerFood', u'PanicUnited', u'Panterrorist', u'PantherLightning', u'PantherProwLs', u'PantsOptional', u'PanzerFaced', u'PapaChabre', u'PapaEugene', u'PapaGemutlich', u'Papi', u'PapillonJohn', u'PappaT', u'Pappers', u'PappinAce', u'Parched', u'Pardishcreel', u'Parky1', u'Parrotbeak', u'Parrotshake', u'Partsdriver', u'PartyBear', u'PartyHatjo', u'PasadenaVicar', u'Pashtet', u'Paskalini', u'PatLarsen', u'PatYoda', u'PatandDavid', u'Patchmaster', u'PaterIovisLII', u'Patrick999', u'PatrickJR', u'PatrickKing', u'PatrickSullivan', u'Patrickbrusil', u'PatronWizard', u'PattynSuicide', u'Paul2505', u'Paul68', u'PaulAD', u'PaulM', u'PaulStoneAnchor', u'PaulW', u'PaulfromNoVa', u'Paulny', u'Paulster88', u'Pauly2X', u'Paulydeets', u'Pawel', u'PayLayAle', u'Paymygasbill77', u'Payso10', u'Pballa4lyfe', u'Pblives', u'Pbomb', u'Pdavidsoncycle', u'Pdiddey3d', u'PdxBeerNut', u'PeBelanger', u'PeaDiddy', u'PearlJam1221', u'PeatReek', u'Pecafaced', u'Peconic', u'Pecorasc', u'PedanticBrewing', u'Pedro07', u'PeerlessMark', u'Pegasus', u'PeggyHill', u'Pehlman', u'Peleador77', u'Pellinore1', u'Pencader', u'Pencible', u'Penguin3200', u'PenguinBeerFan', u'Pengvim', u'Pentastar', u'Pepeton', u'PepitoneConQueso', u'PeprSprYoFace', u'PerHops', u'PerfesserHomer', u'PerkBrewing', u'Perkyanda', u'PerroGrande', u'Perrucci', u'Perrumpo', u'PerzentRizen', u'PeskySaurus', u'Pete0403', u'Pete0714', u'Pete27lax', u'PeteIPA', u'PeterIngemi', u'PeterLemonjello', u'Petrislav', u'Pexkool', u'Pezcraig', u'Pfeifer', u'Phade42', u'PhageLab', u'PhantomVodoo', u'Pharazon', u'Pharkle', u'Pharmr', u'PhatAtUT', u'PhatMatt', u'Phatz', u'PheerNoBeer', u'Phelps', u'Phenom', u'Phertt', u'PhiGDeltaBrewman', u'PhiOmega', u'PhilFisher06', u'PhilH23', u'PhilLandfill', u'Philabeerphia', u'PhilfromPA', u'Philfromakron', u'Philipp', u'PhillaTheSpilla', u'Phillbus', u'Phillie', u'PhillipJFry', u'Philly82785', u'PhillyCop', u'PhillyDrinker1', u'PhillyHopMonster', u'PhillyLovesBeer', u'PhillyMonk', u'PhillyStyle', u'Phillyduke', u'Phillyphilms', u'Phillysportswhiz', u'PhiloPsych', u'Philosophic', u'Philousa', u'Philter85', u'PhineasGage', u'Phinner', u'Phishboy568', u'Pho', u'Phocion', u'Phoenix2443', u'Phormula', u'PhragMunkee', u'Phread', u'PhuckinPhil', u'PhunkyBeerGuy85', u'PhxHorn', u'Phyl21ca', u'Phylomatic', u'PicoPapa', u'PiecefulToker', u'PiecesOfFlare', u'PierceMyers', u'PigSkinFilms', u'Pigwings6', u'PileOwnz', u'Piliper', u'Pilky', u'Pillowhead', u'Pilsnerman44', u'Pimento', u'PinataRobot', u'Pineywoodsrooter', u'Pingotas', u'PintGlass', u'PintOHops', u'PintOfNoReturn', u'PintPiner', u'Pinto21', u'PintofPlain', u'Pintofbrown', u'Pipmeister', u'PiratePete', u'PirateUlf73', u'PisoMojado', u'Pisshead', u'Pisstank52', u'PistolB', u'PistolCreep', u'PistolPete86', u'PistyPete', u'Pitmonkey', u'PittBeerGirl', u'Pittsburgh', u'PittsburghAJ', u'Pity', u'PizzaQueen1', u'Pjev11', u'Pjhuppenthal', u'PlanBBar', u'Platinum88', u'PlaywrightSam', u'Pleepleus', u'Plenum', u'PlinyBeMiney', u'PlinyTheKid', u'Plinythechugger', u'Plokhooy', u'Plonk', u'PlowKing', u'Plughfish', u'Plumbwader', u'Pmazz19', u'Pockey', u'Pointman', u'PoisonOakAdam', u'PoisonedMushroom', u'PokerGod', u'PokerRick', u'PolarBear3', u'Polifemo', u'PollardsVision', u'Polycarp', u'PonchoEquihua', u'Ponsism', u'PonyBar', u'Pooba001', u'PoolhouseRebel', u'PoorArtist', u'Poormon79', u'Poorpatz', u'Pooter', u'PopScene', u'PopeJonPaul', u'Popkas', u'Popkorn615', u'Popov', u'Popp24', u'Poppleton', u'Poppypitbull', u'PopsBrew', u'Popsinc', u'Porkchuck', u'Porkfist', u'PorterForMe', u'PorterHall', u'PorterJan', u'PorterJunkie', u'PorterLambic', u'PorterLover83', u'PorterNicole', u'Porterholic', u'Portertime', u'Portiabella', u'Poser', u'PossumJenkins', u'PossumMunsen31', u'Possumlad', u'PotownAl', u'Pounddog', u'PrAndo', u'PrairiePenguin', u'PrayingColonel', u'PreacherBrewer', u'Preisman', u'Preismj', u'PremiumPete83', u'PresidentSkroob', u'Preston6578', u'PretzelCity', u'PretzelsNBeer', u'Priam', u'Prime16', u'Primetime1337', u'Primitivechef', u'PrinceDarren', u'PriorateOden', u'PrivateEquity', u'ProLiquorMan', u'ProbFrank', u'Probie', u'Procrastinator', u'ProdigalSon', u'ProducerBRBeer', u'ProfessorCJ', u'ProfessorHomer', u'ProfessorHops', u'Progenitor', u'Prosper0', u'Prost', u'Prost1812', u'Prostman81', u'Proteus93', u'ProudBeerSnob', u'ProudGreen89', u'Provocajade', u'Prufrock', u'Psilo707', u'PsychoJedi', u'Psydrith', u'Psyopticon', u'Pualee', u'Pubcrawler', u'PubliusII', u'PuckLSHS', u'PuckX', u'PudTinkler', u'Puddintane', u'Puddleglum', u'Pudge43', u'Pullen', u'Punch', u'Pundarquartis', u'Punker', u'PunkyBrewmeister', u'Pup', u'PureGonzo', u'PurpleCloud', u'Pusa', u'PutsDeBnABV', u'PvtVile', u'Pwnzilla', u'Px2GrafX', u'PyroPete', u'Pyronite', u'QXSTER1', u'Qacman', u'Qnix', u'QtipsandGrits', u'Quaffer', u'Quasmo', u'QuaterTill2', u'Quaxile', u'Quazgaa', u'Quej', u'QuentinCall', u'QuentinCompson', u'Quesadilla', u'QuestionableScum', u'Quimosabe', u'QuinnFam', u'Quinnpin', u'QuintKillsSharks', u'R1chdrinksBeer', u'RA1NMAN1205', u'RAFTER', u'RAdragna', u'RBassSFHOPit2ME', u'RBorsato', u'RCHatfield', u'RCStout', u'RDAdams', u'RDHerm', u'RDUImperialStout', u'REDBIKE22', u'REP012', u'RFModeler', u'RHCP313', u'RISky', u'RIbeaz', u'RJBeverage', u'RJJahnke', u'RJLarse', u'RJUGA03', u'RJay', u'RMBoswell', u'RMDuff', u'RMI15', u'ROBORB', u'ROCKETMAN998', u'ROLL', u'ROMER79', u'RPFinn', u'RPG', u'RQC', u'RRC87', u'RRRRRT', u'RRoeb1123', u'RSRIZZO', u'RSchaeffer', u'RTJakarta', u'RTL44', u'RThomas436', u'RTrain12', u'RWNewhouse', u'RWalschlager', u'RYGIANT22', u'RadNitroMan', u'Radar', u'Radiodred', u'Radley521', u'Radome', u'Raebies', u'Rafovargas', u'Ragedman', u'Ragedominion', u'Ragingbull', u'Raine', u'Rainintheface', u'Rainne', u'Ralelen', u'Raligitano', u'Ralphs66', u'Ralphus', u'Rammstein', u'Rampage1', u'Ranbot', u'Ranchito', u'RanchoMaduro', u'RandomBattle', u'Randori', u'RandyKemka', u'RandyR', u'RandyV', u'Randyweizen', u'RangerBeecham', u'Rangerator', u'Rangermonk', u'Ranic', u'RankRefugee88', u'Rantingfury', u'Rapax', u'RareMonkey', u'RashyGrillCook', u'Rasolante1', u'Rasputin', u'RasputinsRevenge', u'Rastacouere', u'RateOn', u'Ratman197', u'Rattlehead', u'Raugupatis', u'Rauknar', u'RaulMatisse', u'Raven051', u'Raven3464', u'Ray', u'RayDeMundo', u'RayMcCusker', u'Rayek', u'RayenK', u'RaysJazz', u'RayzorRay', u'Rayzorspur', u'Razor', u'Rbald42', u'Rbehrens', u'RblWthACoz', u'Rchap1', u'Rciwws', u'Rddymk', u'ReDNeCk98', u'ReDave', u'ReFill31', u'ReadChesterton', u'ReadyFireAim', u'Reagan1984', u'Realale', u'RealityDeviant', u'RealityGrill', u'ReallyBadReverb', u'Reanimator', u'Reaper16', u'ReaquiredHabit', u'Reason2B', u'Reaviate', u'RebelJunior', u'Recordgrooves', u'RedBaron', u'RedBeerHead', u'RedBeerchetta', u'RedBiddy', u'RedBrewer83', u'RedChrome', u'RedDiamond', u'RedHaze', u'RedHunter', u'RedLetterDay', u'RedLion', u'RedPorter', u'RedRocker5152', u'RedShoeBeerBabe', u'RedSoxFan1983', u'RedSpecial1', u'RedTrooper', u'RedWhiteArcher', u'RedWingsRool', u'Redbear', u'Redfoot19', u'Redhawk2feathers', u'RedneckBeerz', u'RedneckChemist', u'Redrover', u'Redsox09', u'Redteketed', u'Redweasel', u'Redwood21', u'RedwoodGeorge', u'ReebShorts', u'Reed415', u'ReelBigwigFish', u'Regenpak', u'ReggieC', u'Reidrover', u'Reiksguard', u'Reils', u'Reimtime', u'ReindeerFlotilla', u'Reinheitsgebot71', u'Reino', u'Rekrule', u'ReluctantScooper', u'Remedynj', u'RemittanceMan', u'RemyLeBeau', u'Renberg', u'Reneejane', u'RennoVattio', u'Rennpferd', u'RenoZymurgist', u'RepMichigan', u'ResearchTeam', u'ReservaPrivada', u'Reswald', u'Retail1LO', u'Retsinis', u'Reux', u'RevBiz', u'RevChico', u'RevDrDark', u'RevDru', u'Reveille1984', u'Reverand', u'RevereBeer', u'Revolver', u'Revvy', u'RexPaladin', u'RexlySnipes', u'ReynardenBrew', u'Reznick', u'Rezzin', u'Rguardian989', u'Rhadryn', u'Rhett', u'Rhettbuck', u'Rhettroactive', u'Rhode17', u'RhodyBrewzah', u'Rhynes2', u'RicardoPino', u'Riccymon', u'Ricelikesbeer', u'RichBenn', u'RichLightweight', u'RichRobb27', u'RichScherle', u'RichT73', u'RichVetter', u'RichardWalter', u'Richardberg', u'RichieS2', u'RichmondBeerGuy', u'Richter35', u'Ricjaywhit', u'Rick187', u'RickDPgh', u'RickJP', u'RickKrumenacker', u'RickRicardo', u'RickS95', u'RickSawyer', u'Rickery', u'Ricklinator', u'Ricky1964', u'Rickythejeweler', u'RicoBrew', u'Ricochet', u'RidiculedDisplay', u'RidleyBrewery', u'RiekerStarBrew', u'RievyRW', u'Rifrafboy', u'Rifugium', u'Riggo', u'Riggsy', u'Rijtjeshuis', u'RileyRowan', u'Ringo9er', u'Ringwoodbrewer', u'Rio', u'Rippeddisc', u'Riptides', u'Risser09', u'Riv3r', u'RiverCityBrews', u'RiverDog', u'RiverheadBev', u'Riverwarrior', u'RixBeer', u'Rizalini', u'Rizow', u'Rjhami', u'Rmac111', u'Rmason104', u'Rmassimiano', u'RnRCircus', u'RnRManifesto', u'RoBotGod', u'RoRoMKW', u'RoadLizard', u'RoadPhish', u'RoamingGnome', u'Rob315', u'Rob6852', u'RobAlsbury1', u'RobH', u'RobJTejas', u'RobbieB5555', u'RobertColianni', u'RobertDwight', u'RobertFL', u'RobertMichael', u'RobertTaylor', u'RobertTh3Texian', u'Robertgc', u'RobeyStreet', u'RobinLawrence123', u'Robje', u'Robtobfest', u'RocPorterFanatic', u'Rochefort10nh', u'RockandRoll', u'RockerD', u'RocketFrog', u'RocketWidget', u'Rocketman8911', u'Rocklandbagpiper', u'Rocko', u'RockyTopHeel', u'RodBurg', u'Rodan', u'Rodekill', u'Roderick', u'RodneyFarva', u'RodneyX', u'Rodrickor', u'RodyRod', u'Roeters', u'RogGobshire', u'RogueTzarok', u'Roguejaguar', u'Roguester', u'Rojopunk', u'Roke87', u'RollTide05', u'RollingRock', u'RollingRocker', u'Rollzroyce21', u'RomanW70', u'RomaniIteDomum', u'Rommel', u'RomulanAle', u'Romulus141', u'Romulux', u'Ron860', u'RonBeerBox', u'RonaldTheriot', u'RonfromJersey', u'RonnieBear', u'RonofPA', u'Roofieweizen', u'Rooney107', u'Rootdog316', u'RootedFool', u'Rors', u'RoryDoherty', u'RoryGilmore', u'RossCain', u'RossPeterson', u'Rossi', u'RoterTeufel', u'RothBrews', u'RothenbergXXX', u'Roughstock', u'RoundelMike', u'Roy3268', u'RoyalT', u'Royalenfield1990', u'RppIII', u'Rsobotka', u'Ruaidhri', u'RuckusDu', u'RudeNorthernBoy', u'Rudgers73', u'Ruds', u'RudyDawg', u'Ruffio', u'RugbyBeerRepeat', u'RugbyGreg', u'Ruination2007', u'RuinationMan', u'RuinationPress', u'Rukasu', u'RumRiverWorthog', u'RumRunners', u'Rumblebelly', u'Rumplemintz', u'Rumpole', u'Rumrunner', u'RunDWP', u'RunForYourBeer', u'RunawayJim', u'Running4beer', u'RuntoBarleywine', u'Rupertlikesbeer', u'RushLimbmalt', u'Ruslanchik', u'RussK', u'Russellmania', u'RussianImperial', u'RussianRiverFan', u'Rustoleum', u'RustyDiamond', u'RustyShackleford', u'RustythePelican', u'Rutager', u'RutgersBeerGuy', u'RuudJH', u'RyToy', u'RyWill', u'Ryaka', u'Ryan011235', u'Ryan4', u'Ryan805Beer', u'RyanBelle', u'RyanC', u'RyanC3958', u'RyanC84', u'RyanF82', u'RyanH', u'RyanLigeia', u'RyanOkonski', u'RyanPB', u'RyanPS', u'RyanS107', u'RyanWo', u'Ryanbob', u'Ryanm1', u'RyeIPA', u'Ryggwelted', u'Rymar9', u'Rynoman', u'Ryphraph', u'Rzzzzz', u'S7R4nG3', u'SAABtech', u'SABERG', u'SACraig', u'SAMUEL999', u'SAS', u'SASN', u'SAmori', u'SAtaMi', u'SAxDRC5', u'SBALDWIN', u'SBPCGuru', u'SBXLII', u'SCastardi', u'SDDanC', u'SDHoffers', u'SDbeerguy', u'SDtastentune', u'SEOhioSipper', u'SERENGETI', u'SFBeerGuy', u'SFC21', u'SFGuy187', u'SFLpunk', u'SFRider', u'SFrankBrew', u'SHO', u'SHODriver', u'SIRIUS1', u'SIRIUS2', u'SJI', u'SKMO', u'SLOBGOBLIN', u'SLObeer', u'SLOcooker', u'SLeffler27', u'SLubben', u'SMADMS', u'SMF', u'SMILLIE', u'SMark', u'SMcGuire33', u'SMortiL987', u'SPLITGRIN', u'SPRichard', u'SPThirtyThree', u'SQNfan', u'SQUIDPORT', u'SRFeldman79', u'SRJohnson', u'SRossman', u'SSBrennan', u'SSGPat', u'SSJPhatMatt', u'SShelly', u'SSstout', u'ST2', u'STEELERJIMMY34', u'STEG', u'STKPICR0720', u'STLStoutAddict', u'STLbeerwriter', u'STLbrewman1', u'STRONGALE', u'SUjunkie', u'SV650TN', u'SWMeyer4141', u'SaCkErZ9', u'Sabby2000', u'Saccian', u'Sachsenfreude', u'SacoDeToro', u'SacredBeverage', u'Saeyddthe', u'SafariJoe420', u'SafeAtFirst', u'Sage', u'SageO', u'Saint', u'SaintArnold', u'SaintJonah', u'SaintNathaniel', u'SaintPeter', u'SaintsFan', u'SaisonInTheAbyss', u'SakisRakis', u'Sallerj', u'Salo', u'Salpta', u'SaltyLime', u'SalukiAlum', u'Sam21', u'SamAdams', u'SamMiller0', u'SamN', u'Samadamsfan2', u'Samalamahamdam', u'Samashley', u'Samdaddy', u'Samichlaus', u'Samichlaus85', u'SammiJo', u'Samminator', u'SammyB', u'SammyDavisJrJrJr', u'Samoht126', u'Samp01', u'SamsonAKAK', u'SamuelJackson45', u'SamuraiJack', u'SanAnMan', u'SanDiegoBeerLove', u'SanDog', u'SanantoneRob', u'SanderR', u'SandieBeaches', u'Sandstone', u'SandstormPaul', u'Sanford', u'SarahRenee', u'SargeC', u'Sasha130', u'Sassafrassa', u'SassyBootblack', u'Satchboogie', u'Saturday', u'SauceBoss', u'SaucyA', u'SaucyJack', u'SaunaKing', u'Saunapoika', u'Sauron2012', u'SausageTurkish', u'Sav623', u'Savagelibations', u'Savnok', u'SawDog505', u'SayYaToDaUP', u'Sayson', u'Sbkrogers', u'Scantron', u'ScarletFire', u'ScarletLady', u'Scelestus', u'ScenicWoozy', u'SchaefMan', u'Schagc01', u'SchavenBawls', u'Scheity', u'Scherring', u'Schitzengiggle', u'SchlaflyFan', u'SchlatherHouse5', u'Schlete', u'Schlitzcooler', u'Schmack', u'Schmaltzy', u'SchmichaelJ', u'Schmidts', u'Schmidty', u'Schmit', u'SchmittyRexus', u'Schmittymack', u'SchmoTerp', u'Schneic8', u'Schnitzel', u'Schnitzengiggles', u'Schoney62', u'Schooly', u'Schracky', u'Schreibeers', u'Schwab', u'Schwarz', u'Schwarz04', u'Schwarzbart', u'Schwarzenegger', u'Schwarzwald', u'Schwer', u'Schwoopty', u'SciFiHorrorShow', u'Scoats', u'Scojo2usa', u'Sconnie', u'Scoobydank', u'Scooter70', u'Scooter77', u'ScooterMcJ13', u'Scootser', u'Scoott', u'Scoppa', u'Scorpious', u'ScorpyX', u'Scotchboy', u'Scott29', u'Scott414', u'ScottAW', u'ScottCameron', u'ScottCoffee', u'ScottF2345', u'ScottS', u'ScottUCF84', u'Scottasaurus', u'ScottishBrew83', u'Scottiv', u'Scottsan', u'ScottyC', u'Scottyboy', u'Scourge07', u'ScoutOutStout', u'Scrancy', u'Scrapss', u'ScreamForMe', u'Scriba', u'Scribbles', u'Scrumtralecent', u'Scrylol', u'ScubaStevebcd', u'Scubatim', u'Sdesenberg', u'SeaBiscuiT', u'SeaBrew40', u'SeaOfShells', u'SeaUrchin', u'Seahawk480', u'Seahorse', u'Seakyden', u'Sean9689', u'SeanChouffe', u'SeanColl84', u'SeanFlanagan', u'SeanLassiter', u'SeanMacGC', u'SeanRCole', u'SeanRedd', u'SeanRossy', u'Seanbear13', u'Seanibus', u'Seanish', u'Seanizzle', u'Seanont', u'Seanstoppable', u'Seanv', u'SeasonalBrew', u'SeattleAdam', u'SeattleBeerBlog', u'SebD', u'SebastianBock', u'Sebletitje', u'Secsip', u'Seebs847', u'Seeker41184', u'Sekkes', u'Selenolycus', u'Sendji', u'SenkoSnack808', u'SenorBeaver', u'SenorHops', u'Sensaray', u'Sensibud2488', u'Sephiroth', u'SepticDeath', u'Sergey', u'SerieDNo3', u'Seru1', u'Sesmu', u'SetarconeX', u'SethB2', u'Setix', u'Seumas', u'SeussMD', u'SeveOllllO', u'Severum27', u'Sevoking', u'Seyhan', u'Sgolenbo', u'Sgorzynski', u'SgtStout', u'Shades', u'ShadesOfGray', u'Shadman', u'Shadow1100', u'ShadowRunner', u'Shadowzz4', u'Shadteks', u'ShadyD', u'Shaggy9356', u'Shagtastic', u'Shakenbarley', u'Shakesbeere', u'Shakujin', u'Shalabi', u'ShamasUVA', u'Shamgar', u'Shandias', u'Shane94941', u'ShaneBertou', u'ShanePB', u'ShaneStump', u'Shaner', u'Shango42', u'Shango4232', u'Shannon', u'ShannonHoon', u'Shaon94', u'ShareANevada', u'Sharkophile', u'Sharma', u'ShavedWookie', u'Shaw', u'Shawn1974', u'ShawnKemp', u'ShawnRock', u'Shearwater', u'Shearwater912', u'Shecky', u'SheepNutz', u'Shefus', u'Sheldon', u'ShemRahBoo', u'Shepman', u'ShermanHelms', u'Sheva', u'Shibbykaiyai', u'Shibs', u'ShiftyCapone', u'Shikitohno', u'Shiloh', u'ShinerStArnoldTX', u'ShiningWater', u'Shinreineko', u'Shinypoptart', u'ShireExfiguniter', u'ShireReeve', u'Shiredave', u'Shmeal', u'Shmohel', u'Shmota', u'ShockDiesel', u'ShoeLaw', u'Shoegaze99', u'Shoehornhands', u'ShogoKawada', u'Shonkers', u'Shooter1960', u'Shovelbum', u'ShowMeYourHops', u'ShrLSU', u'ShredVicious', u'Shredz', u'Shrews629', u'ShrinerMcBitey', u'Shrun', u'Shuffledaddy', u'Shultzerdugen', u'Shumania', u'Shumista', u'Shuppiluliumas', u'ShwarzAl3r', u'SiB57', u'SickBrew', u'SickGnar', u'SickNukes', u'SickPythons', u'Sicknot', u'SidVicious619', u'Sidabeef7', u'SideOrder', u'SideShowBob3', u'Sidebordz', u'Sidedrummer', u'Sideswipe', u'SidewinderX', u'Siegmund', u'SiepJones', u'SierraGS', u'SierraNev4Life', u'SigEp', u'Siggy125', u'SiggyFay', u'SigmaSocko', u'Sigmund', u'Signal61', u'Sigurd', u'SilentBob2u2', u'SilentBrew', u'SilentSabre', u'Silentmalaise', u'Silenus', u'Silenus89', u'SillyCheez', u'SilverFoxxy', u'SilverJew', u'Simkin1', u'SimmoGee', u'Simmy7000', u'SimpleBeerLover', u'SimpleM', u'SimplySinister', u'SindriMar', u'SingleCell', u'SingleFin1969', u'Sipchue', u'SiphonKing', u'SippinOnSomeHops', u'Sippy', u'SirAndyR', u'SirBenton', u'SirBurpsalot', u'SirChugsAlot', u'SirDrinxAlot', u'SirEO', u'SirEgbert', u'SirGreensworth', u'SirLexington', u'SirLicksalot', u'SirRuss', u'SirSaranac', u'SirSketch', u'SirSmokeALot', u'SirTheory', u'SirVeza420', u'SirWalkAbout', u'Sirbaron', u'SiriusAth', u'SiriusBock', u'Siriusfisherman', u'Sirwootalot', u'Sirzuke', u'SisuPride', u'Sixofsigmas', u'Sixpack595', u'Sixpoint', u'Sixtus6', u'Sixtyeight', u'Sjokvistarn', u'Sjvek', u'SkaRocker31', u'Skagbaron', u'Skanska', u'Skarod', u'Skarphedinn', u'Skeeter', u'Skeeter206', u'SkeeterHawk', u'Ski39Off', u'SkiBum22', u'Skidud313', u'Skidz', u'SkinneeNate', u'SkinnyElvis', u'SkipWeathers', u'Skitowneric', u'SkittleBrau82', u'SkitzIrish3', u'SkolVikings', u'Skolks', u'Skoodog', u'Skrudzas', u'SkullFission', u'SkunkMan', u'SkunkWorks', u'SkunkleDunkel', u'SkurvvyPirate', u'Sky2625', u'SkyBlueWaters', u'SkynetResistance', u'Slar211', u'Slasa', u'Slater042887', u'Slatetank', u'Slats', u'Sleepisforthewik', u'SleepyMonk', u'Sleestak', u'Slim', u'Slimfatty', u'SlinkyBluefoot', u'Slipperys', u'SloMoSlovak', u'Sloth', u'SlowCentury', u'SlowTwitch', u'SluggerOToole', u'SlyFox21', u'Slygato', u'Slyjoker87', u'Slynger', u'Sm00thHoperator', u'SmallestArt', u'Smalty', u'Smartestmonkey', u'SmartyPints', u'SmasNadroj', u'Smatty4483', u'Smeagol', u'Smile', u'SmilinMofo', u'Smithj86', u'Smithson49er', u'SmithwicksNut', u'Smittysguinness', u'Smixam', u'SmokeMonkey', u'Smokee', u'Smokehouse2012', u'SmokinSmyth', u'Smorgasbord', u'Smurf2055', u'Snaggy', u'Snamnoum', u'Snappo', u'Snazzinator7290', u'Sneekeren', u'Sneers', u'Sneevel', u'Snodog', u'Snorkapotamus', u'Snorlax', u'Snow81', u'SnowGoon99', u'SnowLovesIt', u'Snowman14', u'Snyder18', u'SoCalStout', u'SoCaliC8', u'Soaker', u'SoberCajun', u'SoberKid', u'Socalz', u'SoccerCoachSam', u'Socrates', u'SodoSyco', u'Soilworker', u'Solafide', u'Soldier000', u'Solidarity1', u'SolipsismalCat', u'Solomon420', u'SolomonGrundy', u'SolsticeDreamer', u'SomeLady', u'Someguy1989', u'Somrakj', u'Soneast', u'SonofScots', u'SoobyDoo', u'Soonami', u'SoonerNY', u'Soozy', u'Sorgasm', u'Sorrow', u'SortaAmbivalent', u'Sorvahr', u'Sosh', u'Souleman', u'SourBatchKid', u'SourHopHead', u'Source', u'Sourcorn', u'SouthAtholSuds', u'SouthFLBeerLover', u'SouthLoopSuds', u'SouthTexasAaron', u'Southernbrew', u'SovereignBCS', u'Soybomb', u'SpaceAce119', u'SpaceMadness', u'Spacegrass', u'Spadoof', u'Spankyman333', u'SparklePants', u'Spartan517', u'Spartan602', u'Spasmolytic', u'Spcoly', u'SpdKilz', u'SpeakFreely', u'Speakeasy01', u'SpecialCare', u'SpecialK088', u'SpecsBEERMAN', u'SpeedwayJim', u'SpencerDB', u'SpencerSauce', u'SpencerT', u'Sperzel', u'Sphere', u'Spica66', u'Spider889', u'Spiderhouse', u'Spidey13', u'Spiekerbox', u'Spikester', u'SpillyBeers', u'SpinachEater', u'Spineypanda', u'Spiri7', u'Splunny', u'Spock187', u'Sponan', u'Sporkus', u'Springdogg', u'Sprows', u'SpruceFish', u'Spump78', u'Squam256', u'Squaretooth', u'Squatchito', u'SqueeCantCook', u'Squelch', u'SquirrelBoy', u'Squizzo', u'Sreidy12', u'Srodri10', u'Srsly', u'StADrinker', u'StAlex', u'StAnthony', u'StBoisterous', u'StJamesGate', u'StLThrash', u'StMichael', u'StRocco', u'StaEva', u'Stacy53', u'StacyD', u'Stagi', u'StaleBeerFart', u'Stamp3r', u'StanW', u'Stanford', u'Stang895', u'Stanhagen', u'Stankonia', u'Star80', u'StarSAELS', u'Starchild', u'StargherKing', u'StarlightSeraph', u'Starpuppy', u'StarshipPoopers', u'Statman', u'StatutoryGrapes', u'Stavage', u'StaveHooks', u'Stavebomb', u'StayWhatYouAre2', u'StayWounded', u'Steaks', u'Steamhead', u'Steedee', u'SteelKettle', u'Steelcurtain', u'SteelerChris', u'SteelerNation', u'SteelersX', u'Steelman', u'SteepH2O', u'Steimes', u'StellaMan', u'Stengah', u'Stephen63', u'StephenNorman', u'StephenRich', u'Steppenwccr', u'Stereobeer', u'SterlingNass', u'Steve188821', u'SteveCram', u'SteveDavies', u'SteveGNC', u'SteveGus', u'SteveLyman', u'SteveMcKinney', u'SteveO1231', u'SteveO80', u'SteveP', u'SteveP763', u'SteveS1', u'SteveToronto', u'StevenBilodeau', u'StevenGu3', u'Stevenab', u'Steventos', u'SteveoNY', u'StevieCasino', u'StevieW', u'Stew1284', u'Stew41', u'Sticket', u'Stigs', u'Stimack', u'Stingray5', u'StinkBall', u'StinkyD', u'Stinkypuss', u'StlHopHead77', u'Stocean1', u'Stockfan42', u'StoneBrewFanatic', u'StoneDisciple', u'StoneTSR', u'Stonebreaker', u'StonedRugger', u'StonedTrippin', u'Stoneman78', u'Stonepot', u'StonesPublic', u'Stoney123', u'StoneyDoc', u'Stoneyrok', u'StonyB', u'Stopper', u'StormKing47', u'StoryOfTheGhost', u'Stosh', u'StoutBulldog', u'StoutCream', u'StoutFan', u'StoutGoddess', u'StoutHearted', u'StoutHouse', u'StoutHunter', u'StoutKing0104', u'StoutLoverJon', u'StoutMaster77', u'StoutPiper', u'StoutRugger', u'StoutScout', u'StoutSlayer', u'StoutToGetYa', u'StoutandBitter', u'Stoutdude', u'Stoutfan23DJ', u'Stoutfield', u'StoutishDan', u'Stoutman88', u'StoutmanMiller', u'StoutofHeart', u'StoutsMcgee', u'StoutsnIPAs', u'StoutyMcHaggis', u'StoutyMcStouters', u'Strages', u'Strand', u'StrangeBrew1', u'StrangeBrewer76', u'Stranger5582', u'StrangerBrew', u'Strategery', u'Strawbs', u'Stretch270', u'StrictlyStout', u'Strider119', u'StringSmoke', u'Stringth', u'Strix', u'Stro23m', u'Strom1', u'StrongandSmooth', u'StuFox', u'StuartCarter', u'Stubbie1', u'Stumpenstein', u'Stunner97', u'SturgeonHead', u'SturmWolf', u'StyAndOrDem', u'Stygr', u'SubPop77', u'SubpoenaDeuces', u'SubtleHammer', u'SudNut', u'SudburyWineBeer', u'Sudmissle', u'Suds', u'Sudsdog', u'Sudsy89', u'SugarBunny', u'SugarMagnolia13', u'Suick', u'SummitVA', u'SunDevilBeer', u'SuncrestBeerMen', u'SundaySour', u'Sunnanek', u'Suomi411', u'SupaCelt', u'SuperBreeze', u'SuperBrian', u'SuperNova777', u'SuperSpy', u'SuperStory', u'SuperWale', u'SuperWhite92', u'Superbeerguy', u'Superdaunte', u'Superfreak', u'SupernovaReborn', u'Supersweetshirts', u'Supertyfon', u'Supes', u'Suprasman01', u'Surefire', u'Surfbeverage', u'SurferJ', u'Surfinsoljah', u'SurgeonGeneral', u'Surlington', u'Surly87', u'SurlyDuff', u'SurlyMe', u'SurlyZach', u'Sushi', u'SushiSquid', u'SusurusIgnoramus', u'Sutardja', u'Suzilla', u'Sveiks', u'Svejk', u'Swalden28', u'Swann', u'Swarp', u'Sweasty', u'Swedes21', u'SwiftyMcBeer', u'Swill5786', u'SwillBilly', u'SwillinBrew', u'Swilllover', u'Swim424', u'Swimsum', u'SwordandSorcery', u'Sycodrummer', u'SykDoc', u'SylviaFaye', u'Symphonic', u'Symposium', u'Symptomu', u'Systembolaget', u'Szinker', u'TAMU99', u'TANSTAAFB', u'TAPJMartin', u'TAREUA', u'TATTORSO', u'TB2', u'TBKeys', u'TBeer07', u'TBoner', u'TCFA1', u'TCHopCraver', u'TCMike', u'TCadillac', u'TCgoalie', u'TCog', u'TDisbennett', u'TEUFELHuNDEN420', u'TEXTONE', u'TFoxD', u'TFrankMac2140', u'TGCleric', u'TGFB', u'TGINaturday', u'TGates13', u'THEBEERBAR0N', u'THECPJ', u'THEMGG', u'THEOPTIMATOR88', u'THERoss', u'THESTORMKING', u'THETRONSPECIAL', u'THORN', u'TIAAN', u'TIMMYJ21', u'TIP', u'TJBAIHWL', u'TJBurgess', u'TJOhara', u'TJP52', u'TJustice', u'TK5150', u'TK905', u'TKCastle', u'TKEAnimal', u'TKEbeerman', u'TKempe', u'TLITD', u'TLJ', u'TLove', u'TMB0424', u'TMinton22', u'TMoney2591', u'TNKEMIST', u'TOMHONE', u'TOOSE', u'TPINC3', u'TPSReports', u'TPatuto', u'TPoling', u'TRAICH', u'TRICKYD1CK', u'TRIFECTA', u'TSOFan0000', u'TSOFan88', u'TStandley13', u'TStron', u'TTAmod', u'TVScientist', u'TVolt1', u'TWhjite', u'TXAggie', u'TXHops', u'TXTider', u'TYE', u'TYVP', u'Tabitha', u'TableTopJoe', u'Tabni', u'TackleDummy', u'Tackledorange', u'TacoSaladin', u'TacoShark', u'Tadbubbs', u'TaddyPorter', u'TaekwonDylan', u'Taelec', u'Taera', u'Taffle', u'TagOnlyForNow', u'TagoMago', u'Tahoeman1971', u'Taibiz', u'Taipans', u'Tajmoben', u'Takahiro', u'TakeTheMonyNrun', u'Talisker', u'TallDrinkOfLager', u'TallPaul07', u'Tallboy', u'TamTamIam', u'Tamarack22', u'Tang07', u'TangTKE402', u'Tani357', u'Tanuja', u'TapTitan', u'TapeDeck', u'TapleyBrewery', u'TappaKeggaBrew', u'Tarmac', u'Tarps68', u'Tartarus', u'TasteTester', u'TastyTaste', u'Tates', u'TattoedSailor', u'Taverner420', u'Tawnos', u'Taylor88', u'Taze', u'Tballz420', u'Tbn2', u'Tbone', u'Tdizzle', u'TeamSeabass', u'TeamSeinfeld', u'Tearik', u'TechMyst', u'TechTriumph', u'Technik', u'TedKaczynski34', u'TeddyBG', u'TeddyBrew', u'Tee76', u'TeeCee', u'Teeter', u'TehAnkh', u'TehJon', u'Teke0611', u'Teleweizen2', u'Telix', u'TempeBeerMan', u'TempestJones', u'TenEighty', u'TenHi', u'TenHornsProud', u'TenSpoons', u'TenaciosE', u'Tenchi221', u'Tenderstone', u'TenmaNeko', u'TequilaSauer', u'TerenceMc', u'TerenceNyc', u'Terics', u'TerjUGA', u'Terp96', u'TerpInHotLanta', u'Terrasco', u'TerrenceOBrien', u'TerryW', u'Tesno', u'Tetano', u'TeutonicKnight', u'TexIndy', u'Texan29', u'TexasBrewSlinger', u'TexasPensFan', u'TexasTowHead', u'Texasbeerman08', u'Texasville', u'Textures', u'Tford', u'ThEbEErKiNg', u'ThaBobfather', u'ThaCreep', u'ThaSmokinGun', u'Thaddeaus', u'Thads324', u'Thanby', u'ThatWineGuy', u'The1WineGuy', u'The3rdbeer', u'TheAcacian', u'TheAdventurella', u'TheAlamoWrocker', u'TheArse', u'TheBCrew', u'TheBear11D', u'TheBearWakes', u'TheBeerAlmanac', u'TheBeerAuthority', u'TheBeerBaron14', u'TheBeerCarl', u'TheBeerDetective', u'TheBeerLovesYou', u'TheBeerWarden', u'TheBeerWatcher', u'TheBeerWolf', u'TheBeermaster', u'TheBeerologist', u'TheBierBand', u'TheBigBoy', u'TheBigE5', u'TheBishop', u'TheBlackMallard', u'TheBoog013', u'TheBrewViking', u'TheBrewo', u'TheBrother', u'TheBungyo', u'TheCarboyKid', u'TheCervezaChica', u'TheChauffeur1', u'TheClampdown', u'TheClassical', u'TheCommonwealth', u'TheCondor', u'TheCorkStopsHere', u'TheCrane', u'TheCrowsNest', u'TheCyturn', u'TheDM', u'TheDTrain', u'TheDane19', u'TheDantMan', u'TheDayIsMine', u'TheDean82', u'TheDeuce', u'TheDinger', u'TheDodge', u'TheDole', u'TheDoorman', u'TheDragonTony', u'TheDreadnought', u'TheDrunkMonk', u'TheDudeBeers', u'TheDudeRules', u'TheEclecticGent', u'TheEdge', u'TheElusiveAlexT', u'TheEmperor', u'TheEnd0fSilence', u'TheEpeeist', u'TheEremite', u'TheFallenOne', u'TheFeintingGoat', u'TheFightfan1', u'TheFiremanNJ', u'TheFirstKnight', u'TheFlern', u'TheGAC', u'TheGarvenator', u'TheGipper', u'TheGoon', u'TheGordianKnot', u'TheGov', u'TheGreatReverend', u'TheGrunt', u'TheHammer', u'TheHopCharacter', u'TheHopMonster', u'TheHopfather', u'TheHoppiest', u'TheHopster', u'TheHungryHiker', u'TheIronHammer', u'TheJackel', u'TheJoj', u'TheJollyHop', u'TheJones', u'TheJudge', u'TheKahuna', u'TheKegerator', u'TheKelsey', u'TheKingofBeers', u'TheKingofWichita', u'TheKingsOfHop', u'TheKtulu7', u'TheLVBeerGuy', u'TheLastEngineer', u'TheLastSediment', u'TheLegendaryGary', u'TheLightweight', u'TheLiterati', u'TheLocust830', u'TheLongBeachBum', u'TheMUBM', u'TheMadChef10', u'TheMadJack', u'TheManiacalOne', u'TheMattJones88', u'TheMetalBrew', u'TheMightyGUEST', u'TheMightyGwin', u'TheMiser', u'TheMistler', u'TheMultiYeast', u'TheMurse', u'TheName', u'TheNapkin', u'TheNewBrew88', u'TheNightbird', u'TheNightwatchman', u'TheObsession', u'TheOtherBob', u'TheOtherMike', u'TheParchedOne', u'ThePeskyDingo', u'ThePorterSorter', u'ThePortlander', u'ThePudgeman', u'TheQuietMan22', u'TheRealBigC', u'TheRealDBCooper', u'TheRealEss', u'TheRedScare27', u'TheRexter', u'TheRowan', u'TheSSG', u'TheSaboteur', u'TheSandman', u'TheSarge', u'TheSchnork', u'TheSeeker61', u'TheSevenDuffs', u'TheSicilian33', u'TheSignPost', u'TheSinfonian', u'TheSixthRing', u'TheSkollsBeer', u'TheSkunk', u'TheSnakeFish', u'TheSpeakeasy', u'TheSquirrel801', u'TheStBernard', u'TheSteiny', u'TheStig', u'TheStoutAholic', u'TheStove', u'TheSupremeAJ', u'TheSushiBoy', u'TheTallOne', u'TheThirdFloyd', u'TheTippler', u'TheTot', u'TheTrevor', u'TheTromboner', u'TheViceBlog', u'TheViolator666', u'TheVrolok', u'TheWargraveArms', u'TheWhaleShark', u'TheWhiskerReview', u'TheYeagermeister', u'TheZakOne', u'Theabyss', u'Thedaver4220', u'Thefinerthings', u'Thehuntmaster', u'Thehurt01', u'Theitos', u'TheodorHerzl', u'Theredtroweller', u'TheseusT', u'Thesis', u'Thevenin', u'TheycallmeTim', u'Thezapper', u'Thia417', u'ThickNStout', u'ThickestHead', u'Thickfreakness', u'Thiestru', u'Thingus', u'ThirdCoast', u'ThirdGen', u'ThirdLap', u'ThirstyBird', u'ThirstyBoy', u'ThirstyClyde', u'ThirstyFellow', u'ThirstyHerf', u'ThirstyHobbit', u'ThirstyHopHead', u'ThisWangsChung', u'ThistleKing', u'ThomHolland', u'Thomajt', u'ThomasFeeney1', u'ThomasMetal75', u'ThoreauLikeAGirl', u'Thorpe429', u'Thorrgrimr', u'ThorsHammer', u'ThoughtPolice', u'Thrash', u'Thrasher', u'ThreeDimesDown', u'ThreeDollarDewey', u'ThreeGorchMan', u'ThreePistols', u'ThreeWiseMen', u'Threelittlefish', u'Thrill62', u'ThrillerBee', u'Throckmorton', u'Throwrug', u'Throy67', u'Thrymfal', u'Thunderball', u'Thur123', u'Thurston03', u'TiMX', u'Tianjoja', u'Tick', u'TicklishSubject', u'TicksAndLeeches', u'Tiderion', u'Tifore', u'TigerFriend', u'TikkiGodxxx', u'Tiklmelmo', u'Tilley4', u'Tim', u'Tim2000', u'Tim460', u'TimC', u'TimDudley', u'TimHoss', u'TimInPA', u'TimP2115', u'TimPowell', u'TimTheGoodman', u'TimWeizen1', u'Timba', u'Timdean1964', u'Timmace', u'Timmah11', u'Timmush', u'TimmyNolan', u'Timtac', u'TinPigeon', u'Tinfoilrcr', u'TinusTime', u'Tinybaum', u'TippySelenoid', u'TitanTake', u'Tizzod', u'Tlomp11', u'Tmappin', u'Tncapehart', u'ToAzwethinkweizm', u'ToThePain', u'ToadManA1A37651', u'Toaster565', u'ToasterChef', u'TobiasGoth', u'TobyRocksSoHard', u'Todd', u'ToddT', u'Toddv29424', u'Todler', u'ToeNee11', u'Toggle', u'ToggleEyes', u'Tolann', u'Tolnik', u'Tom8Analise', u'TomBier', u'TomBottos', u'TomGavin', u'TomStew', u'Tomas77', u'Tomblerone', u'Tombomb', u'Tomdee74', u'TommyBuckeye', u'TommySudz', u'TommyW', u'Tone', u'ToneControl', u'Tonesy', u'TongoRad', u'Tonka74', u'TonyBaloney', u'TonyBrew', u'TonyC', u'TonyHoprano', u'TonyReaves', u'TonySoprano', u'TonyT', u'TonyVic', u'ToolHead', u'TooleBurger', u'Toowombaus', u'Topher78', u'TopherRI', u'Torch', u'Torchiest', u'TorpedoIPA', u'Torps', u'TotallyHoppy', u'TotallyHosed', u'TownDunkel', u'Trajega', u'Transatlantic', u'TrapFan11', u'Trapiste389', u'Trappissed', u'TrappistFan', u'TrappistJohnMD', u'Trappistfan1', u'Trappster', u'Traquairlover', u'TravelingBeerMug', u'Travix1516', u'Travlr', u'TrebleStauter', u'Treborofmoria', u'Tree', u'Tree43088', u'TreeTopFlyer', u'Treebs', u'Trenton', u'Trentonator', u'Trevor33', u'Trevor7', u'TrevorGW', u'Treyliff', u'TriGuy20', u'TrickFinlay2', u'TrickKnee', u'Trigcove', u'Trilogy31', u'TrinkGermanBier', u'TripT', u'TripelBelly', u'TripelDouble', u'TripelJ', u'TripelMajor', u'TripleTap', u'Triples', u'Tripphop', u'TrippnFiasco', u'Trizzle', u'Troegman', u'TrojanBrewer', u'TrojanMan', u'Tromba', u'Tron67', u'Tropicalslip', u'TroughLolly', u'TrouserSneeze', u'Troy518', u'TroyS', u'Troyone', u'TrubSlinger', u'TrueRates', u'Trueant1', u'Truh', u'Trystero', u'Tschnab', u'Tsmalley', u'TtheGrey', u'Ttoille', u'TubaManJack', u'Tubesox', u'TuckerCarlson', u'Tuckstar', u'Tucquan', u'Tucson25', u'TucsonPIRAAT', u'TucsonTom', u'Tudval', u'Tuey13', u'TuffLuff', u'TulipSnifter', u'Tulkas', u'Tumpster', u'Tunafever73', u'Tundruth', u'TupakSade', u'Tupperwolf', u'Turbansurfer', u'Turbohio', u'TurdFurgison', u'Turnerp561', u'Turrry', u'TurtleCove', u'TwelveOunces', u'Twerknasty', u'Twerp28', u'TwinButte', u'TwinSox33', u'TwistedDigit', u'TwistedRaisin', u'Twitch', u'Twitchsey', u'TwoHeartedMale', u'TwoPack', u'Twombly', u'Ty1erC', u'TyBogey', u'TyDaws', u'Tybarnett', u'Tyler', u'Tyler08', u'TylerAddisonJ13', u'TylerBGoode', u'TylerJones62', u'TylerLutz', u'TypeSJess', u'TyrainDreams', u'Tyrawlings', u'U2FAN', u'U4ic', u'UA8', u'UBERBOCK', u'UCLABrewN84', u'UDbeernut', u'UFGUY2122', u'UGADawgGuy', u'UHRHAN', u'UHRedCat', u'UKBeerman', u'UMNbeerhunter', u'UPbeergirl', u'UPtheHAMMERS', u'USAF', u'USCTrojanBrian', u'USNMark', u'USSDOLPHINSailor', u'USSRNUKE9', u'UTCengOwl', u'UTee28', u'UWDAWG90', u'UWagner', u'UberHopped', u'UberWasser', u'Uberbastard', u'UconnHusky', u'Ueberales', u'UglyBaby', u'Uhlikm', u'UintaBrooklyn', u'UkiPiper', u'UltimateDisc29', u'UltraZelda64', u'Umbra', u'Ummagum', u'UnDeadly', u'UncleAddie', u'UncleAl', u'UncleBubba', u'UncleDads', u'UncleEd', u'UncleFlip', u'UncleFrank', u'UncleHammy', u'UncleJimbo', u'UncleRicoII', u'UncleanBastard', u'UndeniableMalt', u'UnderPressure', u'Ungertaker', u'Ungespundet', u'Unhopped', u'UniBottler', u'Unibroue84', u'UnionMade', u'UnknownKoger', u'UnskinnyHop', u'Unsuited', u'UnsungBeero', u'UpNorthLager', u'UpToMeBeer', u'UpdateSet', u'Upgrayedd', u'UplandFan', u'Urbancaver', u'Urthiln', u'VHL', u'VICVALLIN', u'VIEILLE', u'VMWhelan', u'VPSax', u'VTBobcat', u'VTCRAFTROCKS', u'VTCRAFTSALESREP', u'VTaler', u'VTbeerbroad', u'VWBuggirl', u'VaRam', u'VaTechHopHead', u'Vahur', u'Vaison', u'Valarauko', u'Valevapor', u'Validus', u'Valmor88', u'VanHopper69', u'Vancer', u'Vancoubeer', u'Vandilioff', u'Vanlingleipa', u'Vansmack', u'Varkias41', u'Vashtar', u'VaterRoss', u'Vaylaus', u'Vdubb86', u'Vec2267', u'Veedubb22', u'Veejer', u'Veggies', u'Veillantif', u'VelvetJones', u'VelvetMonkey', u'Vendetta', u'Vengeance526', u'VerbingNouns', u'Verecund', u'Verticalgambit', u'Viajero', u'Vibbly', u'VicDip', u'VicSlick', u'VicVonFoam', u'Viciousknishs', u'VictorEHuskie', u'VictorZaidi', u'Vidav', u'Vierenner', u'VietPong', u'Viggo', u'VikeMan', u'Viking', u'Viking1985', u'VikingBeer', u'Villa', u'Vilmer', u'VincentVanGogh', u'Vincenzo839', u'Vineyard', u'Vineyardselite', u'VinnieVanGogh', u'Vinny150', u'Vinny71', u'Vinodiuz', u'Vinyeard', u'VinylHanger', u'Vipsanius', u'VirginiaSpirit', u'VirtualAsylum', u'VitBAficionado', u'VitaEBella87', u'Vito', u'VivaHops13', u'ViveLaChouffe', u'Vixie', u'Vman', u'Vmaster', u'VncentLIFE', u'VoiceOfTheSoul', u'VolcomBrewer', u'VonBoozenberg', u'VonSteinhoist', u'Vonerichs', u'VoodooBrew', u'Voonder', u'Voss', u'VtBeerRun', u'VtBrew', u'Vvall', u'Vylo', u'W11B2349', u'WAN2RIDE', u'WAP', u'WBCFM', u'WCBCFrank', u'WDorning', u'WEBBEER', u'WEISSASS', u'WFU03', u'WHOLEBEER', u'WHROO', u'WHYB', u'WIBeer', u'WIBeerGuy', u'WJDobbs321', u'WJVII', u'WMBierguy', u'WMEugene', u'WOLFGANG', u'WORT', u'WOTO97', u'WPRebelFan', u'WPhilabrew', u'WRXedUSA', u'WSB', u'WSPWeasel', u'WTBash', u'WTexas', u'WVRadar', u'WVbeergeek', u'WWWade', u'WYVYRN527', u'WaXHeLL', u'Wackyfoot', u'Wadsey', u'WaffleSauce', u'Wafflstat', u'WakeandBake', u'Walken', u'Walker8810', u'WalkingStickMan', u'Wallstreet', u'WallyBoag', u'WalrusJockey', u'Walsar', u'WaltTrombone', u'WalterSobchak', u'WalterWalter', u'Wamba', u'Wamesit', u'Wamphyri', u'WanderingFool', u'Wanderlust89', u'WankelEngine', u'Wantbeer', u'WarsteinerIceman', u'WasTrinkenSie', u'Wasatch', u'Washburne', u'Wasteofpaint911', u'WastingFreetime', u'WatchMeJumpstart', u'WatouKentucky', u'Watti', u'Wattsox', u'WaveRebel51', u'Waveform', u'WayneRooneyFan', u'WboweIII', u'Wd2048', u'WeR138', u'Weasel', u'Webbalicious', u'Webby64', u'WeeObese', u'Weebay', u'WeedKing4', u'WeezyBoPeep', u'Wegbier', u'Wegee', u'Wegomlegging', u'Wehrmacht', u'WeiXinkai', u'WeimtimeBier', u'Weingeliebter', u'WeisGuy', u'WeiseOldMan', u'Weisnmeister', u'Weissbierman', u'WeissbrauMeister', u'Weissenheimer', u'Weizenmensch', u'Weliketheporter', u'WelshBoy', u'Welsman', u'Wench', u'WendyandCraig', u'WertMaker', u'WesFCSI', u'WesM63', u'WesWes', u'WestValleyIPA', u'Westmallelight', u'Westsidebuddha', u'Westsidethreat', u'WetCoaster', u'Wetpaperbag', u'WeymouthMike', u'Whadawookie', u'WhatsNewinBooze', u'Wheatmanny', u'Wheeble', u'Wheelinb', u'WhiskerWrangler', u'WhiskeyFist666', u'WhiskeyNinja', u'WhistlingBird', u'WhiteDevil', u'WhiteDog2006', u'WhiteInfidel', u'WhiteOak', u'WhiteRiverSuds', u'Whitefolks305', u'Whiteweasel', u'WhiteyHesa', u'Whitley', u'WhittlingWombat', u'WhoDey', u'Whobody', u'WholeFoodsDerek', u'WhyBeNormal', u'WickedSluggy', u'Wickenstein', u'Wiessmonkey', u'Wikipeteia', u'Wilburn', u'Wilceaser', u'WildFermenter', u'WildKarrde', u'WildMaverick1200', u'WildRage', u'WildTurkey', u'Wildman', u'Wildman23', u'Wiles', u'Will46andbrew', u'WillCarrera', u'WillClark', u'Willamette', u'Willclark1', u'WilliamD', u'WilliamDeFronzo', u'WilliamHardgrove', u'WilliamLee', u'WilliamLious', u'WilliamPhilaPa', u'Willibomb', u'WillieJenkins', u'WillieMoe', u'WilsonBenA', u'Wilsonjr1', u'Wimberley87', u'WindUpBird', u'Windigo', u'Windigstadt', u'Windowdog', u'WinstonSmith', u'Winter', u'Wintermute', u'Winters', u'WinthrHOPHEAD89', u'Wisconsin', u'Wisconsin93', u'WisconsinDavid', u'Wisconsinality', u'Wisconsuds', u'WishYouWereBeer', u'Witbierlover', u'Witchlord', u'WitteBelgique', u'WmWest', u'WmcBean', u'WobblyPopps', u'Wogs', u'Wohzah', u'Wolf', u'WolfKeeper', u'WolfeEats', u'Wolfhausen', u'WolfmanK', u'Wolfpack2005', u'Wolfsdenbrew', u'WolverineWench', u'WonderWoman', u'WonderfulSam', u'Wonka', u'WoodBrew', u'WoodHammer', u'WoodenWizard', u'WoogityBoogity', u'Woosta', u'Working4Beer', u'Workodactyl', u'WorldWideStout', u'Wowcoolman', u'WrathsU', u'WreckDiver', u'Wreckoncile', u'Wren', u'Wronsky', u'Wtbrooks', u'WuKAZUKI', u'Wutang1', u'Wutz', u'WwRGSwW', u'WxAxGxS', u'Wyattz0r', u'WynnO', u'Wyrdbrew', u'XCobra427X', u'XVPierogies', u'XXAmber', u'XXX', u'Xadoor', u'XanderCruz', u'XmotormanX', u'XsoreXsubjectX', u'Xul', u'XxBeerIsBestxX', u'XxNitExX', u'Xziz', u'YAPO', u'YOOJ', u'Yagman3000', u'YankChef', u'Yanks8000', u'YannickB', u'Yaz8', u'Ybsnroh', u'Yeastcakes', u'Yegg', u'Yekaterina', u'YellowTail', u'YesFest', u'Yesac', u'Yetiman420', u'Yetti', u'Yimosan', u'YippiesRhinos', u'Ynot2', u'YoYoPete', u'YogiBear', u'Yojimbo1941', u'YonderWanderer', u'Yongshan', u'Yoonisaykul', u'Yooperduder', u'Yoshiplace', u'Yotus', u'YouSkeete', u'YoungRasputin', u'YourMomDrinksBud', u'Ysgard', u'YuenglingMan1987', u'YukataNinja', u'YuleBeHoppin', u'YumYumGumGum', u'Yvaithe', u'ZAP', u'ZDub', u'ZOXXO', u'ZPB', u'ZSimon', u'ZX6Chris', u'ZacHart', u'Zaccone', u'ZachGates', u'ZachTaylor', u'ZacharyJ', u'Zadok', u'Zaimejs', u'Zak', u'Zap2008', u'Zaplt', u'Zaradog', u'Zash', u'Zasty', u'Zebus0', u'Zeckster', u'Zeke', u'Zekezilla', u'ZenAgnostic', u'Zenblend', u'Zephenbrewid', u'Zeppelindude', u'ZeroSignal', u'ZeroToLove', u'Zerric', u'Zhugs547', u'Ziek', u'ZiggyStarbuck', u'ZimZamZoom', u'Zimbo', u'Zimri', u'Zinsk', u'Zippie9999', u'Ziro', u'Zodijackyl', u'Zogman100', u'Zoh', u'Zoid', u'ZombieDon', u'Zombiedestroyer', u'Zonthark', u'Zoot', u'ZorPrime', u'Zorba', u'Zorro', u'ZotDuivel27', u'Zoxygen', u'Zraly', u'ZumbieBeerBear', u'Zundo', u'Zurc', u'Zwetschgen', u'ZymasefungiI207I', u'Zymurgo', u'Zynski10', u'Zywiec06', u'Zzyzx', u'a061183', u'a10t2', u'a4ester', u'a4tuurbo', u'a74gent', u'aNONbudlightgirl', u'aabgirl', u'aahynick', u'aalappatel', u'aandresen', u'aapp', u'aaron', u'aaron12', u'aaronbeach69', u'aaroncoop', u'aaronh', u'aaronhanson', u'aaronxsubaru', u'aaronz', u'aarunt1', u'aasher', u'aayooper', u'abaculy', u'abaer123', u'abankovich', u'abar22', u'abastias', u'abby', u'abc3', u'abcentfishing', u'abcfan', u'abcsofbeer', u'abduke678', u'abecall98', u'abedenbaugh', u'abeerlovr', u'abents', u'abfraser', u'abgba121', u'abizzles', u'ablaze', u'aboyle', u'abramorton', u'abrand', u'abraxel', u'abrethanson', u'abriggs1', u'abru17', u'absolUtmagnitUd', u'absolete', u'absolom', u'absoludicrous', u'absolutbc2001', u'abstractpablo', u'abtcabe', u'abuliarose', u'acarrb4', u'acarroll413', u'acbe', u'acbpharm', u'accordselux', u'ace125koo', u'ace3', u'acehart1', u'acelin', u'aceman60', u'acer95', u'achek74', u'acidmojojojo', u'ackleydg', u'acoatley', u'aconder', u'acrawf6', u'actone2001', u'acurtis', u'acwaest89', u'ad5os', u'adam32386', u'adam42381', u'adamb02155', u'adamboeckman', u'adamdarcy', u'adamdotson', u'adamdrap', u'adamette', u'adamhdv', u'adamhimself', u'adamingersoll', u'adamks', u'adamlangolf', u'adammacmillan', u'adammets', u'adammetz', u'adammills', u'adamngram', u'adamparker05', u'adamritchie', u'adamrobertt', u'adams82', u'adamwhite5', u'adamwonak', u'adarby', u'adastraperaspera', u'addiegg', u'addmorehops', u'adefa', u'adevans', u'adil', u'adkirkish', u'adman08', u'admiralcrunch', u'adnielsen', u'ado485', u'adowney523', u'adpietsc', u'adrian910ss', u'adrianwallbridge', u'adriatic502', u'adrock1978', u'adrock7309', u'adsomers', u'advill88', u'advm1', u'aefbjo', u'aelthwin', u'aeminter', u'aeolianshredhead', u'aepb1', u'aerin184', u'aerozeppl', u'aesopsgato', u'aewinte1', u'afacini', u'afatty', u'afausser', u'afdempse', u'aficionado', u'aficionado224', u'afinepilsner', u'afksports', u'afoersch', u'afogg0855', u'aforbes10', u'afordney', u'aforwark', u'afrokaze', u'afrye29', u'after5', u'againes', u'agbarr', u'agent2550', u'aggiearcher13', u'agiato', u'agirginis', u'agirlnamedjess', u'aglose45', u'agomega', u'ahalloin', u'ahatch551', u'ahatcher78', u'ahking', u'ahlavato', u'ahogue', u'ahoverton', u'ahpark', u'ahq514', u'ahrkchum', u'ahurd11085', u'aibkstaff', u'aidanskinner', u'aidanxfriesen', u'airforbes1', u'airheadmtrcycle', u'airmike', u'airohead2001', u'ajAGOFF', u'ajacobs', u'ajanesz', u'ajaxivan', u'ajayma', u'ajbick', u'ajcobb24', u'ajd912', u'ajfa531', u'ajg83', u'ajhod', u'ajm11', u'ajmoody76', u'ajp0483', u'ajr24', u'ajs4bd', u'ajsdad06', u'ajsuper1221', u'ajuarez', u'ajwillys', u'ak329', u'ak7071', u'akahn', u'akajimmyd', u'akarmadillo', u'akeeper', u'akenethon', u'akgrandon', u'akinsja', u'akk101', u'akogrady', u'akokandy', u'akorsak', u'akronzipfan', u'aksavi', u'aksuited29', u'al3', u'alHiboux', u'alabamagolf', u'alabeer', u'alabencki', u'alacrimsontide1', u'alalvarez75', u'alamere', u'alamode', u'alankwak', u'alanms00', u'alanp11', u'alarusse', u'alaskaiscold', u'alaskajoe', u'albern', u'albertjr21', u'albertmdh', u'albinolion', u'albo', u'alcooper', u'alcstradamus', u'alcurtsinger', u'aldizy', u'aldujaparov', u'ale1', u'ale2theking', u'alea711', u'alec7717', u'aleckpa', u'aledrinker26', u'alee42', u'alehead87', u'alehopman', u'alehouseadam', u'alejandro', u'alejandrostyle', u'alemakesmestrong', u'aleman01', u'alenonbeeradv', u'alephilmac', u'ales4baldo', u'aletale', u'aletales', u'alewarrior', u'alex667gbg', u'alexAK', u'alexatlatx', u'alexgash', u'alexgrahamlv', u'alexhahn82', u'alexhammond', u'alexipa', u'alexkeil', u'alexmeier175', u'alexmpino', u'alexonate', u'alexpkoehler', u'alexrichman', u'alexsess', u'alexskovan', u'alexw', u'alexwag', u'aleyeast', u'aleyin', u'alf212', u'alfistheman', u'alisah318', u'alittlehazy', u'aliveguy17', u'aljordan', u'alk3kenny', u'alkchrios', u'alkemy', u'all5n', u'allagashfan', u'allanorn', u'allanplaysguitar', u'allboutbierge', u'alldaydrinker', u'allengarvin', u'allergictomacros', u'alleykatking', u'allforbetterbeer', u'alli4051', u'allrizz', u'allthatAles', u'allymcteo', u'almychristopher', u'alobert', u'alohaC', u'alohaspicoli', u'alovesupreme', u'alphagnome', u'alphaking', u'alphanon', u'alphawolf', u'alpinebryant', u'alpineclimber', u'alspaleale', u'altadenabrou', u'altctrlsdelete', u'altgeeky1', u'alumley', u'alus', u'aluskungs', u'always4beer', u'alwbii', u'alwolfen', u'alyankus', u'alysmith4', u'alysonwhite', u'alzy', u'amallen', u'amandebates', u'amanofbeer', u'amateur', u'amatuerbeerguy', u'ambluhm', u'amc', u'amc2341', u'amccormi', u'amcmaho1', u'americanaqualung', u'americanbeerbuzz', u'americanwolfdrea', u'amesfan', u'amherstdrew', u'amhudson77', u'amicar', u'amidabha', u'amightyfinebeer', u'amightywind', u'amiles', u'aminobutyricacid', u'amneziak', u'amoebalink', u'amp138', u'amphion1065', u'ampzilla', u'ams0286', u'ams4k', u'amstelcat', u'amsterdamaged', u'amtriska', u'amusingdream', u'amw315', u'amyhran', u'anacrime', u'anaduja', u'anakar', u'anap', u'anarchobrew', u'anchordrinker', u'ancientelixir', u'andebrice', u'anders36', u'anderson', u'andjusticeforale', u'andr27', u'andrao', u'andre66', u'andreasinvicta', u'andreasmwatt', u'andrecrompton', u'andrenaline', u'andrewdodd86', u'andrewengler', u'andrewgator', u'andrewinski1', u'andrewjm82', u'andrewjraab', u'andrewm190', u'andrewmartin', u'andrewme2', u'andrewprange', u'andrewroush', u'andrewsporter', u'andrewt960', u'andrewtraughber', u'andrewvit', u'andrwjedi', u'andyf847', u'andyfrancis', u'andyg2smooth', u'andyinsdca', u'andyj', u'andylipp', u'andyluvbeer', u'andyo', u'andythegief', u'andythejerk', u'anell213', u'angelmonster', u'angelogarcia3', u'angie497', u'anglagard1', u'angrybabboon', u'angrygrimace', u'angrywolf', u'angus13', u'angusdegraosta', u'aniano', u'animal', u'animal69', u'animalchin', u'animortician', u'annatar', u'annawees', u'anneseg', u'anotherbeerguy84', u'anotherpg', u'ansurdu', u'ant5431', u'ant707', u'antaydos', u'anthony120ipa', u'anthony914', u'anthonyvolpe', u'antilogic', u'antioch', u'antique', u'antlerwrestler19', u'antoines15', u'antonio16309', u'antonlauter', u'antwan3421', u'antword', u'antzman', u'anycrew', u'anygivenbelgian', u'anzalonec', u'aogilvie', u'aorloski', u'aowen355', u'apache119', u'aparoche', u'apbarwood', u'apfactor', u'aphor', u'apierce1', u'apintofknowledge', u'apmarkey', u'apollo11', u'apowar', u'appenzeller', u'appliancesex', u'applky', u'apratsunrthd', u'apresskibrewer', u'apwilla', u'aqsprint', u'aquaderek', u'aquaphiliac', u'aquaphyre', u'aquatonex', u'aquilontendants', u'ar70584', u'aracauna', u'aramk', u'aranheaney', u'aravenel', u'arboristfish', u'arbrinkman', u'archaeofreak', u'archiespeck', u'arcticstout', u'ardmoreryan', u'argenti44', u'arghbowl', u'arglynn', u'argock', u'argon', u'arguemaniac', u'aricpaul', u'aristeros', u'arizcards', u'ark1ebs', u'ark57', u'arkhamresident', u'arktos', u'arkurzynski', u'arlo', u'arlo19', u'arlugg', u'armedgardener', u'armock', u'arnold1975', u'arnoldbrew', u'arnulfooxblood', u'aromatorio', u'arrangerx', u'arsheets', u'artcurtis', u'artdob', u'artistintheambul', u'artruism', u'arturorg', u'artusory', u'artvandelay', u'arvjunk', u'asabreed', u'asauer', u'ascavuzzo', u'ascenzi', u'aschwab', u'ascrivens', u'aseiter', u'ash111', u'ashleyshalyn', u'askantik', u'aslanskeep76', u'asnider', u'asphaltbuffet', u'assmandugle', u'assmasterson', u'association330', u'assurbanipaul', u'astout', u'astrasday', u'astrobrewer', u'astronaut888', u'asuirish121', u'at1234', u'at7000', u'atate', u'atbump', u'atchernev', u'athensbeermaster', u'athlete420', u'athmeous', u'atigerlife', u'atis', u'atlanta', u'atlantisrob', u'atlason', u'atlasproaudio', u'atliens81', u'atom420', u'atomicbeer', u'atomicbolt', u'atomicbwax', u'atorres600', u'atowle25', u'atozymurgy', u'atpben', u'atr2605', u'atremains', u'atrus138', u'atsprings', u'atthetone', u'atuite', u'au1sec', u'aubuc1', u'auburngrad82', u'audacian', u'auderale', u'audiocheck', u'audiodav', u'audiojon', u'audioserf', u'audirs4s', u'auggiedoggy', u'augievikings', u'augusta', u'augustgarage', u'auntfloyd', u'aunwin', u'auro0006', u'auroraborealis', u'auroracrisis', u'ausonius', u'aussiebilly', u'aussielars', u'austinbroker', u'austinhensley', u'autokratic', u'auxiliary', u'avaccani', u'avail316', u'aval89', u'avaldivia', u'avalon07', u'avaulteriam', u'aventinus829', u'averagejoeshmoe', u'averbisadverbera', u'avius', u'avocadoz', u'avuros', u'avvs', u'avw555', u'avylover', u'awalk1227', u'awall422', u'awatkins54', u'awermuth', u'awesomeandrew', u'awester462', u'awhipker', u'awinkro', u'awmiller', u'awolcfh5150', u'awright', u'aws666', u'axeman9182', u'axfelix', u'axisjones', u'axxis64', u'aychbomb', u'ayellayen', u'azabyss', u'azagthoth', u'azdback', u'azorie', u'azsupra', u'azureoval', u'b0r3dguy', u'b33rM4achine', u'b33rb3lly', u'b3barron', u'b3shine', u'b5d106', u'babaracas', u'babydoc', u'babydoctor', u'babyhobbes', u'babywhooper', u'bac37', u'bacabuck', u'backfat', u'baconbourbon', u'baconquest', u'baconsausage', u'badapplebrewing', u'badbassrandy', u'badbeer', u'badbonez', u'badboris', u'badboyrsl84', u'badbread', u'baddy579', u'badenglishihave', u'badesign', u'badlydrawnbeauty', u'badmandy', u'badmoon', u'badturtle', u'badtzmaru', u'bag057', u'bagelmiester', u'baggio', u'baggylean', u'bagpiper2005', u'bags6lax', u'bah44', u'bahua', u'bahumutx', u'bainard', u'baiser', u'bak8976', u'bakeller', u'bakerslp', u'bala747', u'balberts', u'balconybrew', u'baldben', u'baldiegooner', u'baldmasterflex', u'baldycmu', u'ballenc', u'ballewblake', u'ballmouse', u'ballz50401', u'balzern', u'bamadog', u'bamojr', u'bangelos80', u'banjaxed', u'banker', u'baos', u'barbarian', u'barczar', u'bardyar', u'barefootbrewer', u'barfly', u'bargainboytrav', u'bargerking', u'bark', u'barknee', u'barleyPops', u'barleyman', u'barleynvinebrew', u'barleypop', u'barleypopmaker', u'barleyroad', u'barleysandwich', u'barleysangel', u'barleywhine08', u'barleywinebrewer', u'barleywinefiend', u'barleywineman', u'barleywort', u'barneby', u'barnettch', u'barnuba', u'barnzy78', u'barondebourgogne', u'baronofthebrew', u'baronvonotocon', u'barrelman', u'barrelroller', u'barrenbane', u'barrettds', u'barrettf', u'barretthead22', u'barronkr', u'barroomhero1234', u'barrylitchfield', u'barrymccochener', u'bartle', u'baseballrock', u'bashiba', u'basi76', u'basica', u'baso', u'basscram', u'bassman83', u'bassmantin', u'bastardface', u'bastu', u'bataround', u'batman1935', u'batman3', u'bator22', u'batsdc', u'batsolo653', u'battlekow', u'batty', u'baugherlager', u'bax72', u'baxterbrew', u'baybassboy', u'bayinghound', u'bayoubeerguy', u'bayougutter', u'bb8189', u'bballmj2k', u'bbarrows', u'bbb099', u'bbdog', u'bbeane', u'bbeerman', u'bberrey', u'bbirks', u'bbkd3b', u'bboelens', u'bbold', u'bbothen', u'bboven', u'bbqwings', u'bbrown29073', u'bc2208', u'bcastine', u'bcdees47', u'bceaglejoe', u'bceagles39', u'bcf', u'bcgantz', u'bcgoldtoe', u'bcgpete', u'bckelso', u'bcklick', u'bcm119', u'bcmurray66', u'bcole002', u'bcolflesh', u'bcollar', u'bcollegeoston', u'bcostner1', u'bdb', u'bdb08', u'bdeast1', u'bdelanghe', u'bdevilbullet', u'bditty187', u'bdjacoby', u'bdkbrown', u'bdkucharski', u'bdnyed', u'bdo894', u'bdolphens', u'bdp1201', u'bds1313', u'bdupree', u'bdutton', u'beabear', u'beace', u'beachbum1975', u'beachfirebrews', u'beachian', u'beachscrat', u'beagle75', u'beaglemac', u'beaker2651', u'beakerboy', u'beals', u'beamishman', u'beanbagg', u'beanboots1912', u'beancounter', u'beanieb', u'beans281', u'bearadvocate', u'bearass', u'bearcamp', u'bearcobb', u'beardtongue', u'bearfootdaddy', u'bearish', u'bearrunner44', u'bearsxco', u'beastdrink', u'beastfromtheeast', u'beatingwings', u'beautifulday', u'beauweaver', u'beavers', u'bebbcorp', u'bebopabilly', u'bebopkola', u'beck2008', u'beckerboots', u'beckje01', u'beckscrusader420', u'becktone', u'bedavis', u'bednie', u'beebz1087', u'beefbait', u'beefytee', u'beehivechaos311', u'beejayud', u'beenitty', u'beep71', u'beer1018', u'beer256', u'beer272', u'beer2day', u'beer30somewhere', u'beer348', u'beer420dope', u'beer4colin', u'beer4jesus', u'beerNdarts', u'beerSexualizer', u'beeraboo', u'beerad666', u'beeragent', u'beerandcycling88', u'beerandsandals', u'beerandwaffles', u'beerattorney', u'beerayrton', u'beerbart', u'beerbeacon', u'beerbeas', u'beerbellydaddy', u'beerbiatchMD', u'beerbill', u'beerbitch', u'beerblanket', u'beerboy21', u'beerboy90', u'beerboy9876', u'beerboy9960', u'beerboygb', u'beerbrains', u'beerbrewerdan', u'beerbuddah', u'beerbully', u'beerbum05', u'beerbutcher', u'beercap', u'beercar', u'beercat11', u'beerceller99', u'beerchick', u'beercollector', u'beerdad', u'beerdavis', u'beerdedking', u'beerdedpunk', u'beerdeity', u'beerdepartment', u'beerdiablo', u'beerdown77', u'beerdrifter', u'beerdrinker4life', u'beerdrinkerhellr', u'beereality', u'beerenjoyer1', u'beerera4', u'beerfairy', u'beerfan82', u'beerfan99', u'beerfanbill', u'beerfinder', u'beerfish68', u'beerforceltics', u'beerfox', u'beerfree', u'beerg0ggles', u'beergambit', u'beerganica', u'beergardener', u'beergeek279', u'beergirltammy', u'beergod1', u'beergoot', u'beerguru14', u'beerguru15', u'beerguy04', u'beerguy101', u'beerguyfromalma', u'beerguzlor', u'beerguztom', u'beergynt', u'beerhan', u'beerhandy', u'beerhappy', u'beerhawk', u'beerhermit', u'beerhistory', u'beerhobo22', u'beerinator', u'beerindex', u'beerindulger', u'beerineer', u'beerinmorning', u'beerislove', u'beerislovely', u'beerismysavior', u'beeristhefuture', u'beeritron', u'beerjerk', u'beerjunkie420', u'beerkatz', u'beerkeeper', u'beerking1', u'beerkittycat', u'beerkoz', u'beerkrump', u'beerlassie', u'beerlikesme', u'beerlolo', u'beerlove', u'beerlove82', u'beerlover3692', u'beerlovergirl', u'beerlovinbaptist', u'beerluva', u'beerluvr', u'beerlyhere', u'beermaker1', u'beerman061587', u'beerman20', u'beerman207', u'beerman21', u'beerman599', u'beerman999999', u'beermanWV', u'beermanbrian', u'beerme5582', u'beermebeerman', u'beermolly', u'beernbbq', u'beerneeder', u'beernightscout', u'beernoobreviews', u'beernut', u'beernut7', u'beernuts4u', u'beeroclock', u'beerogre', u'beeronesse', u'beeronthebrain', u'beerorRIP', u'beeroverwineguy', u'beerpadawan', u'beerpainting', u'beerphan', u'beerphilosopher', u'beerphotographer', u'beerpirates', u'beerprovedwright', u'beerquestman', u'beerrocks', u'beerrookie', u'beers2danno', u'beersabound', u'beersalesman', u'beersands', u'beersarang', u'beersensei305', u'beersgood', u'beersheppard', u'beershrine', u'beerslut007', u'beersnaub', u'beersnoop', u'beerstallion', u'beersteak', u'beerswamie', u'beertastegood', u'beertaster13', u'beertattoo', u'beerthirtysa', u'beerthulhu', u'beertooth', u'beertownbaron', u'beertravel', u'beertunes', u'beerudrthebodhi', u'beervana1858', u'beerwads', u'beerwolf77', u'beeryama', u'beerznmoon', u'beesy', u'beforeitsallover', u'begforme4484', u'belbogen', u'beldav', u'beldin96', u'belenita', u'belgaridub', u'belgbeerdrinker', u'belgian4ever', u'belgianbeerlover', u'belgionbeerelf', u'belgiumbud', u'belgiumking', u'belhav0322', u'belias', u'believeinpeople', u'belizethehop', u'bellafromsocal', u'bellan01', u'bellealtesse', u'bellebouche', u'beltranzandar', u'beltyrion', u'belzo35', u'ben68cat', u'ben94gt', u'benagame', u'benbeerman', u'benbou17', u'benclimbs', u'beneeball', u'benfons', u'bengtaaron', u'benhemp', u'benimator', u'benito', u'benj9', u'benjamin1cs', u'benjammin643', u'benjathelion', u'benjilek', u'benlaitman', u'benlovesbeer', u'benmiliron', u'bennetj17', u'bennorthenor', u'benoit', u'benpopper', u'benpst', u'bens0n', u'bensamann', u'bensiff', u'benteach', u'benthousand', u'bentrider1957', u'benwah22', u'benwiley', u'benyerd', u'benz08', u'benzy', u'beorn7676', u'beragg', u'berebrando', u'beresnaub', u'bergands', u'berkeley', u'berkey', u'berley31', u'berliner07', u'bernardus1212', u'bernie879', u'bernie896', u'berniejr', u'berpwillie', u'berserker256', u'bert13tj', u'bertacular10', u'bertram', u'bertwagner', u'betaamylase', u'betajeff', u'betsona', u'betterbgood', u'bevdaddy', u'bevenson', u'beveragecaptain', u'beveragesampler', u'beveritt', u'bewareOFpenguin', u'beweller', u'bewley', u'beyah', u'bezakjon', u'bfboy', u'bfecteau', u'bfflo', u'bfields4', u'bfife', u'bfirkin45', u'bfitzlaw', u'bfr1992t', u'bfree', u'bgarrity', u'bgcookie', u'bgildea', u'bgjohnston', u'bgramer', u'bgraney', u'bgreene14', u'bgreg3', u'bguzz', u'bhal', u'bhalter8', u'bhb', u'bheilman', u'bhitt', u'bhodgson0739', u'bhodsden', u'bhoffman681', u'biacone', u'bianchibuddy', u'biboergosum', u'biegaman', u'bierSnob', u'bierbrauer', u'biercircus', u'bierdabbler', u'bierenutz', u'bierfly', u'bierfreundlich', u'biergeniesser', u'bierguru', u'biergut', u'bieristgut', u'bierkoning', u'bierman2000', u'biernuss', u'bierschmecktgut', u'biershurk', u'bifrojm', u'bifrostguard', u'biga7346', u'bigaizsosexy', u'bigalcole44', u'bigalk', u'bigaltemple', u'bigbeeersrule', u'bigbeerbrett', u'bigbeerdrinka', u'bigbelcher', u'bigbluebeerguy', u'bigblueheron', u'bigbodybussey', u'bigboytim28', u'bigbrewbowski', u'bigbubba', u'bigchiefbc', u'bigchiefcoconuts', u'bigchris1313', u'bigd123', u'bigdaddybrewery', u'bigdaddyd069', u'bigdaddyv10', u'bigdan908', u'bigdave11', u'bigdeuce', u'bigdogplaypen', u'bigdonniebrasco', u'bigdrewsmoove', u'bigdutchblue', u'bige2118', u'bigelguapo', u'bigelo1016', u'bigeyedfish', u'bigflatsbeerman', u'bigfnjoe', u'bigfoot13', u'biggerboat88', u'biggied', u'biggietattoos', u'biggjohnstudd68', u'biggmike', u'biggred1', u'biggsbowler', u'bighoppymonster', u'bighops', u'bigjilm', u'bigjohn', u'bigk', u'bigkactus', u'bigkahunas4', u'bigkamp', u'biglickbrewer', u'biglite351', u'bigliver', u'biglobo8971', u'bigluch1', u'bigman147', u'bigmike55', u'bigmoneybastard', u'bignick', u'bigolbeerbelly', u'bigone4', u'bigoten13', u'bigpatvoodoodad', u'bigpb04', u'bigpoppacueball', u'bigred4343', u'bigredchronic13', u'bigreduw64', u'bigremy', u'bigrond', u'bigrzman', u'bigsassyster', u'bigshawn87', u'bigsilky', u'bigsquirrel', u'bigwern', u'bigwillystyle9', u'bigwoody117', u'bikehorn', u'bikencycle', u'biker24a69', u'biker30x', u'bikerboy', u'bikeymoy', u'biking4beer', u'bill93063', u'billab914', u'billbradleyjr', u'billez62', u'billiambomb', u'billiardman1', u'billinlafayette', u'billiumk', u'billmiky', u'billshmeinke', u'billthethrill', u'billyb14', u'billybob', u'billybrew21', u'billyshears', u'billysj', u'billyzoom666', u'billzav', u'billzee', u'bilyboy65', u'bimish', u'binkman', u'binnysbrat', u'bionerd', u'biophiliadude', u'birchstick', u'bird18', u'birdbrawn', u'birddogg66', u'birderbeerer', u'birdman200', u'birdman9251979', u'birdyone', u'birdypowder', u'birkhouse', u'bishes', u'bishopdc0', u'bishopgary', u'bishopscollar', u'bismarksays', u'bisonkron', u'bisoubisou', u'bissel', u'biteme398', u'biteur', u'bitjanitor', u'bitterbeerguy', u'bitterdestroyer', u'bitterdude', u'bitterking', u'bittersweet', u'bitterthebetter', u'bitzbach', u'bizzlebrew', u'bjacobsen', u'bjamin', u'bjasvensk', u'bjcmoney', u'bjkrog', u'bjlovers68', u'bjn714', u'bjohnson', u'bjorumj', u'bjoyce12', u'bjs', u'bk3nj', u'bkett01', u'bkilpatr', u'bklyn1rr', u'bklynbeerbaron', u'bkny27', u'bkregel', u'bkrueger', u'bl400315', u'blabla19', u'black13', u'blackandtanman', u'blackandwhitemax', u'blackbear', u'blackbearywheat', u'blackc5', u'blackcat34', u'blackcompg', u'blackcrow911', u'blackdiamond', u'blackdog1101', u'blackearth', u'blackenmn', u'blackfish73', u'blackhammer', u'blackheartbilly', u'blackhole', u'blackie', u'blackjack000', u'blackjack21', u'blackkristos', u'blacklabel67k', u'blackterror', u'blackthistle', u'blackwelma01', u'blah114', u'blaheath', u'blaje', u'blakelive784', u'blakeman12', u'blakereik', u'blakesell', u'blaketwahoo', u'blakkheim', u'blammasterj', u'blamoe', u'blane1', u'blankie41', u'blastyaker', u'blatherbeard', u'blatzmenstout', u'blausebas', u'blazin5050', u'bld81', u'bleacherbum', u'bled', u'bleeng', u'blewisg', u'blgianbeer', u'blimey', u'blincoln', u'blink1371', u'blitheringidiot', u'blittle', u'blitz134', u'blivingston1985', u'bljebd', u'blkknight02', u'blklab2007', u'blknikon', u'bloberglawp', u'blodgetm', u'blojewski', u'bloodzombie', u'bloominhop', u'blsdmf33', u'blsfreak', u'bltzburgh', u'bluHatter', u'bluebrew', u'bluecoat', u'bluegrassbrew', u'bluegrasscat', u'bluehulk', u'bluejacket74', u'bluemoonswoon', u'bluemoundshines', u'bluenosebrewery', u'bluesfan1181', u'bluesoul', u'bluesplit63', u'bluethumb87', u'bluetravlr', u'bluetyger86', u'blueyedman', u'blumonkey', u'blynes75', u'bm0095', u'bm7094', u'bmacaskill', u'bmack94536', u'bmanning', u'bmbig', u'bmcclure', u'bmcnamara', u'bmeyer', u'bmillen22', u'bmills1608', u'bminor7', u'bminus', u'bmo56', u'bmohead', u'bmoney', u'bmonty412', u'bmoses', u'bmvla', u'bmw0825', u'bmwats', u'bmwfan1987', u'bmwgirl9606', u'bmxer87', u'bnes09', u'bnewall3', u'bnieman', u'bnuttz', u'boMD', u'board45', u'boatshoes', u'boatyard', u'bob3701', u'bob5958', u'bobapfel', u'bobarito', u'bobbinalong', u'bobby32', u'bobbybou', u'bobbyc881', u'bobbygunit33', u'bobbypaulson', u'bobbyrlg', u'bobdabutt', u'bobfraples', u'bobgrave', u'bobhits', u'bobholt', u'bobinnola', u'bobinverted', u'bobjonesSD', u'boblawson', u'boblinneman', u'bobljr', u'bobloblaw22', u'boblog', u'bobman006', u'bobpanz', u'bobquick', u'bobsed', u'bobsmuddley', u'bobstockwell', u'bobsy', u'bobthebiker', u'bobutt', u'bobv', u'bochi23', u'bodegajohn', u'bodybyadam', u'boelker62', u'boett', u'bog', u'bogeypro64', u'bogus564', u'bohemiandonut', u'boilermakerbrew', u'boilers', u'boisehack', u'boldcity2008', u'bolddeciever', u'boldej', u'bolerosanchez', u'bolus14', u'bombinthepotty', u'bonapartist1', u'bonbini26', u'bonbright7', u'bondjedi', u'boneboy', u'bonemuse07', u'bonezx86', u'bonk0076', u'bonk420247', u'bonkers', u'bonski', u'bonsreeb85', u'boogles', u'boogyman', u'bookem', u'boomer31', u'boookak', u'boostsr20', u'boothbeer', u'boothy443', u'bootlegger1929', u'bootylicious', u'boozers', u'boralyl', u'borchsenius', u'bordsox', u'borktron', u'bornridiculous', u'bort11', u'bosco1', u'bosco7', u'bosox941827', u'bosoxbily', u'boss302', u'bossmanjg', u'boston2bburg', u'bostonbrew', u'bostoneo', u'bostonstoutman', u'botham', u'bottleneckedblog', u'boudreaux', u'boudreauxgg', u'boulderaz78', u'boulderglassmonk', u'boulevard2', u'bound4er', u'bourbonandbeer', u'bourbonbock', u'boutleg32', u'bovinecrusader', u'boweave', u'bowersdm', u'bowmanbrew', u'bowz32', u'box299', u'boxofepilepsy', u'boxvic', u'boyda', u'boyermi206', u'boyessen', u'boyfromthenorth', u'boynabubble', u'bozebus17', u'bozman9', u'bpalfrey10', u'bparks85', u'bpaugie06', u'bpbieste', u'bpelowski', u'bpfishback', u'bpgpitt10', u'bpharr', u'bpierce2', u'bpiwarzyk', u'bpw28', u'bpwatl', u'br3wmeister', u'brad97z', u'bradcochran', u'bradcochran1234', u'bradford', u'bradg77', u'bradlemay', u'bradley0114', u'bradley194', u'bradleyp', u'bradleyseven', u'bradmann', u'bradriverview', u'bradsmithjr', u'bradyan820', u'bradybeer', u'brakspear', u'bramsdell', u'branden', u'brandnewchair', u'brandon0350', u'brandon911', u'brandonbynum', u'brandoncox', u'brandoneast', u'brandtr3', u'branimal9', u'brantadid', u'branwynne', u'braski', u'bratley', u'braubeater', u'brauseboof', u'bravejoejoe', u'brazilhead', u'brc', u'brdc', u'breadnerd', u'breakchair', u'breakfastandbeer', u'breakofdawn', u'brealbg', u'breals', u'breathinblue', u'brees6221', u'breeze', u'breity', u'brendan13', u'brendanbeer', u'brendanec', u'brendaniel', u'brendanmoody', u'brendanos', u'brendanspub', u'brentblackwell', u'brenthaertlein', u'brentk56', u'breslaubrewer', u'bret27', u'bretmaverick24', u'bretquiring', u'bretseeley', u'brett1989h', u'brettheartshops', u'brew3crew', u'brew4health', u'brewQ', u'brewadelphia', u'brewandbbq', u'brewanddrink', u'brewandstew', u'brewapprentice', u'brewbacca', u'brewballer', u'brewbasser', u'brewbasterd', u'brewboat', u'brewbubba', u'brewbubba1', u'brewbucker', u'brewcast6', u'brewcat', u'brewcity414', u'brewcitybeerman', u'brewcore', u'brewcrew76', u'brewdan', u'brewdaniel', u'brewdenver', u'brewdlyhooked13', u'brewdoc75', u'brewdogmrb', u'brewdub17', u'brewduck', u'brewemstrong', u'brewer27513', u'brewerb223', u'brewerburgundy', u'brewerdub', u'breweryaprntc13', u'brewgetter', u'brewgirl', u'brewha13', u'brewhaven', u'brewingmatt', u'brewingmonk', u'brewintheLou', u'brewjones', u'brewkrew', u'brewman6', u'brewmanDJ', u'brewmandan', u'brewmaster411', u'brewmasterash', u'brewmudgeon', u'brewmunster', u'brewmyster', u'brewnic', u'brewnickbrew', u'brewnut11', u'brewone', u'brewpaab', u'brewpaul', u'brewpig', u'brewsandscrews', u'brewsclues', u'brewshakes', u'brewski09', u'brewski101', u'brewskier', u'brewskifan55', u'brewskitier', u'brewsky24', u'brewsterz', u'brewtal', u'brewtalizer', u'brewusmatt', u'brewwhat', u'brewymcgee', u'brewyou2', u'breyton490', u'brfbeerdrinker', u'brgurley', u'bri7755', u'brian23456', u'brian252', u'brian420', u'brian44556', u'brianandpiper', u'brianbeerman', u'briancantrell', u'briancroz12', u'briandkne', u'brianh78', u'brianj555', u'brianjay', u'briankrespan', u'brianlg', u'brianlindman', u'brichaz', u'bricksandivey', u'bridgeporter', u'bridgetowhophead', u'briggssteel', u'briman', u'bringonthehops', u'briscott99', u'bristei', u'bristerboy', u'bristol2120', u'britzdog', u'briwood', u'brjr508', u'brndwn', u'brobeerbot', u'brobot', u'brock146', u'broken22', u'brokenleadedcask', u'brokennedy120', u'broker0078', u'bronco94', u'broncobeerguy', u'broncojockey', u'brontosaurus', u'bronxlord', u'bronzeside', u'broodog', u'brooks4', u'broom420', u'broompa', u'broozer81', u'brothercannon', u'brotherloco', u'brouwer', u'brouwerijman', u'brow1901', u'brown2cu', u'browna71', u'brownaler', u'brownbeer', u'brownbottlehall', u'browncrayon', u'browner', u'brownlderek', u'brownwu', u'brsett', u'brskoff', u'brstilson', u'brstls4drmrs', u'bruachan', u'brubrew2001', u'brucepepper', u'brucer1', u'brueger', u'bruemaster', u'brugge2004', u'bruinhoppy', u'brundo4', u'brunellj2000', u'bruningmd', u'brunop', u'brunrn1', u'brushpig', u'brushtachio', u'brvijay', u'bryanbrick', u'bryanmetzger', u'brycemc', u'brydeen', u'bryehn', u'bryman1999', u'bryskal', u'brystmar', u'bs870621345', u'bsaavedra1', u'bschinelli', u'bsdlite', u'bsdrums', u'bsend', u'bshanly', u'bsherb', u'bshirley', u'bshrode', u'bskrtz', u'bsoakley', u'bsp77', u'bspersonal', u'bstewyb', u'bsu2005', u'bsuedekum', u'btbkorn', u'btchesandsake', u'btcook007', u'bthompuz', u'btighe428', u'btkennett', u'btmo', u'btorsdog', u'bturton', u'btuthill', u'bubba59', u'bubba87', u'bubbaoyster', u'bubbapit', u'bubbler', u'bubenry', u'bubrewer', u'bubseymour', u'bubtronic', u'buck1futter', u'buckeyebing', u'buckeyesox', u'buckiflyer', u'buckit', u'bucklemyshoe', u'bucko', u'buckobrock', u'bucktana', u'bud914', u'budducci', u'budgood1', u'budley922', u'budsboy', u'buellers', u'buffalexander', u'buffalotheorybc', u'buffettfan', u'buffs9', u'bugaboo416', u'builder53', u'bukowskiwasright', u'buliwuf', u'bulldogp04', u'bulldogsturge', u'bulletrain76', u'bullwinkle88', u'bultrey', u'bulwer', u'bum732', u'bump8628', u'bunbury', u'bundtpan', u'bundy462', u'bunn4funn', u'bunnyhustle', u'bunster316', u'buphreshphil', u'burbs89', u'burcher', u'burchetts', u'burda', u'burden', u'burgerandbeer', u'burkyburk', u'burner', u'burnerfinger', u'burnheartsMKE', u'burningrome', u'burns', u'burns1066', u'burnstar', u'burring', u'bursty', u'burtonb', u'burtonbe', u'busa89', u'buschbeer', u'bushbeer75', u'bushwhacker', u'bushwik', u'bushwilliams', u'business32', u'busternuggz', u'busterthecat', u'busterwhite', u'butlerj', u'butlertd', u'buttcat', u'butti001', u'buxwheat', u'buyBinboaVodka', u'buyaa', u'buzzardman', u'buzzedup', u'buzzgreg', u'buzzworthy', u'bv74550p', u'bvanpelt', u'bvarn', u'bvburnes', u'bventure', u'bwan15', u'bwarbiany', u'bwatson', u'bwb0402', u'bwd110', u'bwhite105', u'bwiechmann', u'bwieckert', u'bwmichaud', u'bworley', u'bwyker', u'bxbeerdepot', u'bymyheelicarenot', u'byrd', u'byrdman16', u'byrdman33', u'byteme94', u'bythebeerofnight', u'bythisaxe', u'bytor', u'bzzpop', u'c1377', u'cDubs', u'cLFlaVA', u'cMonkey', u'caSSino', u'cabsandking', u'cactusjuggalo', u'cadaugherty', u'caddybuyer', u'caddyguy', u'caddyshack199', u'cadenwhitaker', u'cadetpher', u'cadizkyguy', u'cafemondegar', u'cagocubs', u'cakebread', u'cakennedy', u'cakennedy2006', u'cakirkl', u'cakirkl2', u'cal82', u'calcio360jrd', u'calebmills', u'calebroberts811', u'californiakebab', u'californiakulak', u'calinative68', u'calir1', u'calise1122', u'callhimishmael', u'callmeclemens', u'callmemickey', u'callmeopus', u'callmescraps', u'calltond', u'calluci', u'calsbeek', u'calupax', u'cambabeer', u'camcgrath', u'camcroteau', u'camel92', u'cameraman', u'cameraready', u'camferranti', u'camil1mj', u'caminiti', u'camklein', u'cammall', u'cammark35', u'cammc', u'camp0474', u'campbellj21', u'canadianbarman', u'cancino45', u'canes420', u'canislupus88', u'canjeeps', u'cannabanaceae', u'cannon800', u'canoehornpoint', u'canolte42', u'cantloveemall', u'canucklehead', u'canuckns', u'capaneus', u'capeannbass36', u'capimex', u'capn', u'capnbob', u'capnbobby', u'capo56', u'capogeannis', u'capps24', u'capra12', u'capsule33', u'captainhops', u'captainjferjado', u'captaj', u'captenaj', u'captj', u'captnamerca', u'capybara', u'carach', u'carbonfiber', u'cardigan', u'cardinal25', u'cardtosser', u'cardwel1', u'caresville', u'carlborch', u'carln26', u'carlosd74', u'carlspeed', u'carlton012', u'carolinahophead', u'carp420', u'carparker', u'carpecervesi', u'carpezytha', u'carps12', u'carregado', u'carsonplunkett', u'cartagena', u'cartdan', u'carterbt', u'carwreCk', u'casadebia', u'case4816', u'casechopper', u'casemw', u'casetlc', u'cash22', u'cashbyjohnnycash', u'cashm', u'casinojkh', u'caskstrength', u'casper85', u'cassandralane', u'cassanoj', u'cassy36', u'casualbeerman', u'casualfan', u'casualone', u'catbert913', u'catgirl4276', u'catmann', u'catrone', u'causey007j', u'cavedave', u'cavemanlawyer', u'cawthonb', u'cb102348', u'cb462', u'cbaird2', u'cbak999', u'cbarrett', u'cbarrett4', u'cbbjr', u'cbeard13', u'cbeer88', u'cbeerbomb', u'cbgVT', u'cbgbslev', u'cbilek06', u'cbill', u'cbingham24', u'cbl2', u'cbleary', u'cbless97', u'cbmatt', u'cbn', u'cbn620', u'cbniles', u'cbo2122', u'cbonham', u'cbrakel', u'cbray', u'cbreitro', u'cbrenberg', u'cbriggz', u'cbros', u'cbrowndsotm', u'cburian', u'cbutova', u'cbw1978', u'cbwufpack', u'ccahoon22', u'ccam123451', u'ccampo', u'ccarney2', u'ccbassman', u'ccbrewer138', u'ccbrewing', u'cccarson', u'cciesiel', u'ccj', u'ccm414', u'ccoffeegod', u'ccolumbus1977', u'ccory1971', u'ccrampton29', u'ccrida', u'ccs', u'ccskiandrun', u'cdViking', u'cdbooth219', u'cdeem', u'cdfairchild31', u'cdflem', u'cdfree', u'cdizinno', u'cdkrenz', u'cdmastro', u'cdmop', u'cdog3', u'cdondera', u'cdoublev', u'cdparker2', u'cdpike', u'cdrogers', u'cdrummer', u'cds3717', u'cdubb', u'cdwitmer', u'ceable', u'ceaser', u'cedricwarner', u'ceeman', u'cekgriffith', u'celeriac', u'celinett123', u'celistealth', u'cellarwillpower', u'celldog', u'cellopudding15', u'celticfutblclub', u'celticgladiator', u'cenci1m', u'centbeerfest', u'centurian62', u'cer40', u'cerambus', u'cerevisiae', u'cerevisiaephilus', u'cerveza5150', u'cervezale', u'cervezango', u'cetae', u'cetherid', u'cfergusn', u'cfh64', u'cfinch2', u'cflanagan', u'cfleisher', u'cflore6', u'cflury', u'cford1', u'cfpct', u'cfrancis', u'cfriend2', u'cfrivera1', u'cgarviereg', u'cgdogg', u'cgludko', u'cgmees', u'cgraham5', u'cgstarry', u'ch3nzi', u'ch473', u'chOAKbarrell', u'chadadams44', u'chadd11', u'chadhops', u'chadjulius', u'chadlebald', u'chadmoe1', u'chadn', u'chadsexington', u'chadspivey', u'chadu', u'chaduvel', u'chagf', u'chainsawhutch', u'chairman', u'chakadrum', u'challandler', u'challenja', u'chalsk', u'chambers138', u'champ103', u'chance269', u'changeup45', u'changus', u'channelzero0', u'chano', u'chaps77', u'chargerfanjess', u'charladam', u'charlatan', u'charlesbyrd', u'charleseddy', u'charlesmcd', u'charlesmingus55', u'charlesw', u'charliedango', u'charliedvrs', u'charlieos', u'charliez', u'charlottebeer', u'charlottebeerguy', u'charlzm', u'charmcityboh', u'chas1326', u'chase2634', u'chasebrownyeah1', u'chasintrout', u'chaswisler', u'chatham7', u'chaunur', u'chaz01', u'chaz410', u'chazmatz', u'chcfan', u'chchchchia', u'chcmiller', u'cheMan', u'cheapdatebeer', u'cheapxceptbeer', u'cheath', u'checkfeet', u'cheers2beers', u'cheesepuffs', u'cheezdawg', u'chefboy812', u'chefdaddy18042', u'chefdejour', u'chefelf', u'chefhatt', u'chefkevlar', u'chefmikeanderson', u'chefnash51', u'chefscott79', u'cheftasia28', u'chefzach', u'cheggly', u'chelovek', u'chemidtown', u'chemmie', u'chenzo9999', u'cherokeedan', u'cheryline', u'chesapeakegoody', u'chesterc87', u'chesterspot', u'chetp', u'chetripley', u'chetti76', u'chewy41464', u'chewyboy', u'cheztor', u'chezztone', u'chiapet', u'chiapete', u'chicagoabbot', u'chicagobeerriot', u'chicagobill13', u'chicagoish', u'chicagospots', u'chicano4craft', u'chiccabeer', u'chickenandrice', u'chickencoop', u'chickenflea', u'chickenm', u'chicowildcatbeer', u'chief3fingers', u'chiefcrazydawg', u'chiefgtx', u'chiefjames', u'chiefkellen', u'chiefthreebeers', u'chieftjc', u'chiefydawg', u'chiguy2420', u'chileman13', u'chilibeer', u'chiliboy98', u'chilidog', u'chillmunity', u'chillwinston', u'chilly460', u'chimaybier', u'chimaychimaynot', u'chimaylvr', u'chimney', u'chinchill', u'chinesebandit', u'chinning', u'chipachu2', u'chipaway', u'chipper', u'chiral3', u'chma', u'chocbrandy', u'chocosushi', u'chodinheaven', u'choicyalcoholic', u'chokmah33', u'chorizoandeggs', u'choyhosoi', u'chrhowe', u'chris11554', u'chris217', u'chrisa7777', u'chrisafari', u'chrischandler71', u'chriscolby', u'chrisdenny', u'chriseay', u'chrisemmons123', u'chrisgn', u'chrisgyory', u'chrishart74', u'chrishickman', u'chriskc', u'chriskozma', u'chriskq', u'chrislouden', u'chrism86', u'chrismac676', u'chrismg', u'chrismilner20', u'chrisms86', u'chrisny4205', u'chrispot', u'chrisrhoppe', u'christetro', u'christianAK', u'christmasg', u'chrisweingart', u'chriswilkes33', u'chrizow', u'chromemittenman', u'chronicbeerback', u'chronicflash', u'chsanders', u'chscjo84', u'chuchoteur', u'chuck19', u'chuckd123', u'chuckl8899', u'chuckm', u'chuckmastazero', u'chucko', u'chuckp', u'chuckq', u'chucktrivette', u'chugalug06', u'chugamugofsud', u'chuke', u'chukles', u'chumba526', u'chunkylover53', u'chupacabra', u'churchillps', u'chuuzetsu', u'chwilliams', u'ciDigital', u'ciachef1212', u'cichief', u'ciderfaerie', u'cigarchitect', u'cigardave', u'cilldalua', u'cincodm', u'cincycats02', u'cincyfan90', u'cindiwindi1025', u'cindyjeffsmith', u'cinemadust', u'cinematicgypsy', u'cipherbyte', u'circlenine', u'circuitmonkey', u'circuscyaneus', u'cisteve', u'citadelgrad', u'citan133', u'cittadipace', u'civilizedpsycho', u'cixelsydima', u'cj2002', u'cjacobsen', u'cjbeatty130', u'cjbinvt', u'cjgator3', u'cjgreen79', u'cjharris', u'cjhofelt', u'cjl1209', u'cjm', u'cjoc83', u'cjohnson', u'cjveitch', u'ckaufman', u'ckbailey97', u'ckcanady', u'ckeegan04', u'ckimchi', u'ckkrafty', u'ckollias', u'cktison', u'claaark13', u'claaberules', u'clabaugh', u'claireoakhammer', u'claminat420', u'clamper1069', u'clareo', u'clark123456', u'clarkjohnsen', u'clarkkr', u'clarkm04', u'clasher', u'claspada', u'claybeer', u'claykeller', u'claymanhb', u'clayphilly', u'clayrock81', u'claytong', u'claytri', u'claytron', u'clb', u'cld253', u'cldrc', u'cleanfeet', u'cleanneon98', u'clearlydiluted', u'cleeze', u'clef', u'clefoodandbrews', u'clegolfski', u'clegrand', u'clemsonbrewer', u'clemtig76', u'cleolicious', u'cleopas1028', u'clept', u'cleptosid', u'clevebeerlover', u'cleverbeername', u'clickpush', u'cliffnorm', u'cliftoncr', u'climax', u'climbhighnz', u'clingman71', u'clings', u'clint1019', u'clintone', u'clippersfanbob', u'clivem', u'cloakNdaggar', u'clockwerk', u'clonebrewer', u'clooney', u'clover44', u'clvand0', u'clwaldin', u'cmac1705', u'cmaloy', u'cmannes', u'cmartin45', u'cmeyer45', u'cmillard', u'cmiller1l66', u'cmistre', u'cmkendrick', u'cmmprez', u'cmoney311', u'cmoon', u'cmq103', u'cmula', u'cnally', u'cncbofh', u'cneville', u'cnikirk', u'cnits66', u'cnjohn19', u'cnozzy', u'cntryinthecty', u'cnybrewblog', u'coachdonovan', u'coalandsilver', u'coalclear', u'coalcracker', u'coasterfreak75', u'coastie04', u'coastiefish', u'coaxthefire', u'cobalt60', u'cobrarax', u'cocogan', u'coders11', u'codewarrior', u'codfeast', u'codhole', u'codsmith', u'codycia22', u'codynevels', u'codysjb', u'codyw', u'coffeebeing', u'coffeybreak', u'coggrog', u'cohumulone', u'cokes', u'colbyrodgersfire', u'coldchill', u'coldmachine', u'coldmeat23', u'coldriver', u'coldwarkid', u'cole2', u'colebenoit', u'colefsuwr', u'colforbin73', u'colinsk', u'collander', u'collegemate', u'collinsroth', u'colonelpants', u'colsandurz', u'colt45n', u'coltrane4me', u'colts9016', u'columbo', u'comat0se', u'combatswimmer', u'comeongethoppy', u'comfortablynumb1', u'comingbackdown', u'commandercool', u'commis', u'compass40204', u'conductorbrandon', u'confer', u'connecticutpoet', u'connoisseur', u'conpewter', u'constahoogan', u'cooch69', u'cook76', u'cookedw', u'cookin420', u'coolbrew', u'coolchris1400', u'cooler4life', u'coolitamigo', u'cooncat', u'coonjiggy', u'coonmanx', u'coopbrewer', u'coopd3ville', u'cooperstown', u'coorslitesucks', u'cooter', u'copasetic', u'cope0021', u'copyguyadam', u'corby112', u'corcoranjc', u'cordelia3310', u'corey0212', u'corey23', u'coreyfmcdonald', u'coreylag', u'cornet1', u'coronac23', u'coronajm', u'corporatejim', u'corpulent', u'corsendonkfan', u'coryking', u'corylew', u'coryroth', u'cosberger', u'cosmicevan', u'cosmo4u', u'cosmonick', u'cottone', u'cottonkoozie', u'cotullaguy', u'counselor', u'counterpart9', u'countrocula', u'courtneysd', u'covepark', u'covingtonky', u'cowace2', u'cowboy9from0hell', u'cowens22', u'cowislander', u'coy', u'cozmohollis', u'cpagh', u'cpanossian', u'cpetrone84', u'cpl78', u'cplbeisel', u'cpmau11', u'cpmichael', u'cpn920', u'cpo', u'cpolking', u'cpone', u'cpr2of7', u'cprice5', u'cproioi', u'cps98', u'cptierney', u'cptnjck101', u'cptnspeed1', u'cpz28', u'cr0ckett', u'crabsandbeer', u'cracgor', u'cracker', u'crackerpooch', u'crackmc', u'cradke', u'crafbrewwhore', u'craftaddict', u'craftbeerguy', u'craftfreak', u'cragus', u'craigo19', u'craigowens', u'craigreed', u'cranius', u'crashdavisinoh', u'crashlimo', u'crashoveride', u'crass751', u'cratez', u'crawfow', u'crawlingchaos', u'crayolahalls', u'crayphish', u'craytonic', u'crazeddaffy', u'crazeguy', u'crazybrody06', u'crazyc1', u'crazydiamond21', u'crazyfred', u'crazyivan', u'crazyjoedivola', u'crazynipple', u'crazyreagan', u'crazyyellowfox', u'crazzyf10', u'crckrmn', u'crenegar', u'crestwood37', u'cretemixer', u'crewealexandra', u'crewfan16', u'crhensel', u'crieken', u'crimsoncuda', u'crimsontide1013', u'crispy620', u'critterbug', u'crizmo2352', u'crnipeter', u'cro250klr', u'croc', u'crockdaddy', u'crockett70', u'crocodillonIPA', u'croct', u'crookedhalo', u'crosamich', u'crossovert', u'crowncapcollect', u'crowsoup', u'crs98', u'cruland', u'crumpsbrother', u'crunchiesdad', u'crunkchiggin2002', u'crunkonthereg', u'crushedvol', u'crusian', u'crusty123', u'cruzncomet', u'crvcac', u'crwills', u'cryinginmybeer', u'crzyc', u'crzyd12', u'cs45977', u'csais75', u'csalley2', u'csandsdenver', u'cschepers', u'cschwab', u'csg01752', u'csgreen', u'csheppard', u'csiewert', u'cskysbread', u'csmiley', u'csrbv', u'cstadoln', u'cstanhope555', u'cstayton', u'cstorm', u'csuho', u'cswhitehorse', u'ctbeggs5', u'ctbowman1980', u'ctdeathbrew', u'ctdfalconer', u'ctf12', u'ctfixer', u'ctgui', u'cthcarr', u'cthulu81', u'ctmaiden', u'ctownsoul', u'ctrlfreak', u'cualax23', u'cubang8r', u'cubbyswans', u'cubedbee', u'cubedoggy', u'cubsfan2004', u'cudmud', u'cudowninazbay', u'cueball52', u'cukeman', u'cuksumstu', u'cullen0013', u'cullenvens', u'culver501', u'cunife', u'cupcakequeenie', u'curasowa', u'curbfeetcub', u'curly31989', u'curly80', u'currysage1', u'curtisb8', u'curty42082', u'custardcb', u'cutlaz', u'cutmemick', u'cutout', u'cuttsjp', u'cuzinpete00', u'cvanderwerff', u'cvaypai', u'cvfish', u'cvm4', u'cvoss', u'cvs241', u'cvstrickland', u'cwachtel', u'cwc', u'cwcolby74', u'cwd', u'cwguy5', u'cwjames', u'cwocasio', u'cwok1980', u'cwps48', u'cwsattgast', u'cwylie0', u'cyanrules', u'cyberbmcd', u'cybergear', u'cybermecium', u'cyberstout', u'cyclescott', u'cyco', u'cycoduck', u'cyden', u'cyfan', u'cyguyjg', u'cynical1027', u'cynicgiraffe', u'cypressbob', u'cyraxx', u'cyrenaica', u'cyrock1', u'cyrusthecyrus', u'cyrusthepup', u'czechsaaz', u'czfreeman', u'czmate', u'czoch75', u'd07c0m', u'd0ggnate', u'd1blet', u'd1dane', u'd1ucb4u', u'd2thom', u'd4114', u'dBmV', u'dEM1972', u'daaldridge', u'daaowee', u'daaru', u'dabears', u'dabrews', u'dabruguy', u'daburtman', u'dac', u'dac0152', u'dacrza1', u'dacull', u'dacz76', u'daddycrack', u'dadonabike', u'daedalus', u'daedalusfinch', u'dafizzif', u'dafla67', u'daforrds', u'daftafne', u'dag06001', u'dahlen22', u'dajerzy52', u'dak246', u'dakeller80', u'dakeynr', u'dakid618', u'dalan', u'daledeee', u'daledm1', u'daleleboeuf', u'dalepryor', u'dalherring', u'dali27', u'daliandragon', u'dalimsta', u'dalion037', u'dalkvist', u'dalri', u'damato', u'damiandavila', u'damienblack', u'damifino', u'damndirtyape', u'damnfoolforbeer', u'damon', u'damuraus', u'dan4th', u'danadeny', u'dananabanana', u'danbar', u'danbehr', u'danbristol', u'dancingnancie', u'dancinwillie', u'danczyk', u'dandrews74', u'danedelman', u'danehycr', u'danetaylor', u'danetrain0101', u'danfisher1', u'dangle47', u'danglero', u'dangruver', u'danieelol', u'danielcc', u'danieldavies', u'danielespen', u'danielharper', u'danieljohn629', u'danielocean03', u'danielofthedale', u'danielplainview', u'danielsonc', u'danieltothemax', u'dankanatius', u'dankbrew21', u'dankelsey', u'dankendall8888', u'dankman38', u'dankster', u'danman0125', u'danman83', u'danmcg62', u'danmecum', u'danmouer', u'danneckar', u'dannon71', u'danny013', u'danny2209', u'danny88', u'dannyac', u'dannyancient', u'dannydetox', u'dannyhipps', u'dannyvee', u'dannywest26', u'danoeltico', u'danriverbrew', u'danrodrigue', u'danronian', u'dansett50', u'dansm', u'dansmcd', u'dansteino', u'danstheman', u'dantecl', u'dantheman13', u'danydakid', u'danzyl', u'dao46', u'dapabstfan', u'dar', u'darjoh', u'darkbeerlover89', u'darkbeeronly99', u'darkbegbie', u'darkbrew5', u'darkcarrington', u'darkeststoutman', u'darkfang34', u'darklager', u'darklordlager', u'darkmartin', u'darkmaven', u'darknova306', u'darkside7268', u'darkwise', u'darleys', u'darlinclementine', u'dart147', u'darthmiles', u'darthpeepee', u'darthweef', u'darylvelez', u'dasani', u'dasbootjoe', u'dasenebler', u'dasfunker', u'dashirey', u'dashmartino', u'dasmith52', u'dastrn', u'datalager', u'dataskatt', u'dauss', u'dav', u'dave097', u'dave12285', u'dave1822', u'dave43', u'dave750', u'daveGsus', u'daveatbharti', u'davec004', u'davedahl', u'davednyc', u'davelindquist', u'daveo876', u'daves1186', u'davestar', u'davestripel', u'davesway10', u'davetharave', u'davewade44', u'davewlfpckfan29', u'davewrona', u'davexisxrabid', u'davey', u'davey101', u'daveyb007', u'daveytheformer', u'david131', u'david18', u'david23', u'david370', u'davidaubrey', u'davidboone', u'davidbowers13', u'davidchollar', u'davidexactitude', u'davidf45', u'davidfoley', u'davidfortunato', u'davidhilgen', u'davidjphillips', u'davidlown', u'davidnboone', u'davidshamoon', u'davidt', u'davidvaz', u'davidw987', u'davis66', u'davod23', u'dawatts', u'dawg', u'dawgontap', u'dawwwgs', u'dayswonder', u'daythree16', u'dazdave', u'db27', u'db81', u'dbDaz1017', u'dbONE', u'dbaker61', u'dball', u'dbals', u'dbalsock', u'dbamarsj', u'dbastardman', u'dbatch', u'dbc5', u'dbedway', u'dbek', u'dbennett04', u'dberthia', u'dbexpert', u'dbhall', u'dblinkhorn', u'dblipajunkie', u'dbmata', u'dbmcrorie', u'dbmernin83', u'dboe', u'dbonecc', u'dboon', u'dborginis', u'dbossman', u'dbow56', u'dbraz45', u'dbtoe', u'dc55110', u'dcajero', u'dcall384', u'dcam1437', u'dcamella', u'dcgrp', u'dchester', u'dchew85', u'dciBA', u'dciskey', u'dcloeren', u'dcook11', u'dcosmas', u'dcoux09', u'dcrouanzoin', u'dcrubin', u'dcsoke', u'dcstish', u'dcteas17', u'dctrscola3', u'dcurfman', u'dcx10music', u'dcxxray', u'ddahlen', u'ddallas', u'ddanania', u'ddarden', u'ddarity', u'ddean', u'ddebals', u'ddellarocca', u'ddgrant', u'dditto2', u'ddtprm', u'deBeers', u'deaconblues', u'deaconoflove', u'deaconsmith', u'deadbody', u'deadguykelly', u'deadliest', u'deadmonkees', u'deadonhisfeet', u'deadsquirt', u'deafcat', u'deanhead', u'deano1118', u'deanwilson', u'deapokid', u'deathblosom', u'deathbysuplex', u'deathcab', u'deathdealer666', u'deathonthemounta', u'deathray', u'debaniel', u'decadance', u'decafron', u'decasere', u'deciding39', u'decimator', u'deck05', u'deckjohn', u'decks24', u'decom', u'dedalus', u'dederer', u'dedge85', u'dedrick', u'dedrinker', u'deebo', u'deejaydan', u'deepbass77', u'deepchills', u'deeplennon', u'deepsouth', u'deereless', u'deezbrewz', u'defnofmark', u'defubar', u'deg', u'degerbah', u'degochapa', u'dehsign', u'dejrrma', u'delahani', u'deletedmemory', u'delevy16', u'delicious', u'deliciousdude24', u'deliriumfest', u'deliriumtremens', u'delmarnate', u'delmet', u'delnoche', u'deltamike', u'deltatauhobbit', u'dem', u'demcorhip', u'dementionX', u'demetrius', u'demitriustown', u'demo3210', u'demodave', u'demuzik', u'denali99755', u'denflyr', u'denjen', u'denmah', u'dennarb', u'dennho', u'dennis', u'dennisil', u'denton2221', u'denver10', u'depechemode1983', u'derandscott', u'deranma', u'derbierTeufel', u'derek77', u'derekmorris7', u'derrickt007', u'ders', u'deruiz10', u'derwayne04', u'derwestone', u'descartes', u'deschutesGROWN', u'desertbronze', u'desiderius', u'designergeoff', u'deskim', u'despainmakesbeer', u'detlefchef', u'detroiter', u'detters', u'deuschbag', u'devgolfs', u'deviger', u'devilben02', u'devildog1633310', u'devilduckie', u'devilishprune', u'devils3cups', u'devinoconnor', u'devo', u'dewalt', u'dexcool707', u'dexterk1', u'dexterlovejoy', u'dfbvFBFBDFBDFbVb', u'dfclav', u'dfernandez77', u'dfiliaggi', u'dfillius', u'dfitch81', u'dfolmste', u'dfourh', u'dfranke', u'dfranks', u'dfried', u'dfuller', u'dfunkadillio', u'dgaddis', u'dgallina', u'dgb3', u'dgebler', u'dgfair', u'dgherm', u'dgilks', u'dgm6689', u'dgorski2', u'dgriffis', u'dgrof13', u'dgthompson', u'dgugliuzza', u'dgv0', u'dhannes', u'dhansen68', u'dhartogs', u'dhchatfield', u'dhd1491', u'dherling', u'dhilltop2000', u'dhollar2', u'dhowe', u'dhr', u'dhvnu', u'diabecktic', u'diablo14', u'diabolicaldumbas', u'diakron', u'diamondc', u'diamonddave', u'dick783', u'dickieb', u'dickroop', u'diddly', u'diddyb', u'dieBierStube', u'dieKanone', u'diechipmunk', u'diederich', u'diego', u'diegoangeles', u'diegobonatto', u'diesect20022000', u'dieselboy914', u'dieselmilk', u'dietenhofer', u'diezman', u'digita7693', u'digitalbullet', u'digitalczech', u'digitalhifi', u'digitalketchup', u'digkv', u'digporter', u'digr', u'dill', u'dillweed', u'dimenhetfield', u'dimhof78', u'dimitrius', u'dingo', u'dinnersd', u'dino213aa', u'diomz88', u'dionisio', u'dionysianarbiter', u'dippy', u'dirkchivers', u'dirt825', u'dirtbikejunkie', u'dirtsocks', u'dirtydeadbeat', u'dirtylou', u'dirtyoldtown53', u'dirtyskunk', u'dirvish', u'disastermouse', u'discovolante65', u'dislogik', u'dismal', u'dispholidus1', u'dissectional19', u'distantmantra', u'distichlis', u'ditch', u'ditmier', u'divecj5', u'dividius', u'divination3', u'divineaudio', u'diybrun', u'dizheafta', u'dizknee24', u'dj3001', u'djaeon', u'djamestc', u'djamieson', u'djbow', u'djbreezy', u'djbriane', u'djcrean', u'djcriple420', u'djeffbee', u'djeucalyptus', u'djgray1200', u'djhowell', u'djk7', u'djlilj', u'djmichaelk', u'djmincer', u'djmitche', u'djohnse', u'djoucy', u'djriggs', u'djsmith1174', u'djura', u'djvike', u'djwilson', u'dk83022', u'dkboileau', u'dkeramaty', u'dkfick', u'dkoehler42', u'dkrusekontrol', u'dlamie1', u'dlandry427', u'dlap', u'dleemiller', u'dlefand', u'dlello2', u'dlmatt', u'dlmccabe1', u'dloose', u'dlp1010', u'dluth2', u'dmad50', u'dmamiano', u'dmarch', u'dmbfrat420beers', u'dmbgator', u'dmbgirl', u'dmbsteve', u'dmcbeerington', u'dmfrench', u'dmgnyc', u'dmilo', u'dmits', u'dmk139', u'dmoney03', u'dmortens', u'dmowen', u'dmsohyea', u'dmtaylor', u'dmumper', u'dmvstu', u'dnarx', u'dnichols', u'dnjmed', u'dnolan36', u'dnonchalant', u'dnrobert24', u'dobiechief', u'doboy', u'doc10house', u'docfmf', u'doconnell46', u'docsrock', u'doctchad', u'doctor333', u'doctorjoeyboey', u'doctormo', u'doctortau', u'dodaro', u'dodgerrigo', u'dodgestratus', u'doerickson', u'dog', u'dogbones', u'dogboy', u'dogden3', u'dogfishandi', u'dogfishhead1117', u'dogfishlove120', u'dogfooddog', u'dogfoodman', u'dogger6253', u'dogman', u'dohastmich', u'doho95fu', u'dojobrewco', u'doktorhops', u'dolbex', u'doleeo', u'dolem98', u'dolemite77', u'dolphlungdren', u'dolzan', u'domancr', u'domba007', u'domjwl', u'domtronzero', u'donManguno', u'donaldchapman', u'donatebeerhere', u'donchata', u'dondeez21', u'donius', u'donkeyrunner', u'donmonkey1', u'donnebaby', u'donniecuffs', u'donnyw', u'donotknowme', u'donovanneb', u'donteatpoop', u'dontworrybeh0ppy', u'donutlord', u'doodah', u'dookiepower', u'doopiedoopiedoo', u'doopydoogle', u'doormats42', u'dopehousex3', u'doppelbock', u'doppelbockrob', u'doppelme', u'doppelmeup', u'dopperpod', u'doppler', u'doraex', u'dorianmarley', u'dorjeghost', u'dorsey', u'dortmunder7', u'dotlikeimpact', u'dotsonjamesg', u'doubledslc', u'doubledteague', u'doubleipa', u'doublenickel', u'doubleshovels', u'doucmehu', u'dougfir', u'douggoodavage', u'dough', u'doughanson78', u'dougjonz', u'douglasbarbin', u'douglasr', u'dougmaher434', u'dougofthefuture', u'dougriddle', u'doverhills', u'downes51', u'downhilldrift', u'downlo', u'downpulse', u'dozerdude', u'dozey', u'dpalsinger', u'dpasotti', u'dpaulmiller', u'dpcoz', u'dpd729', u'dpend', u'dpeters', u'dpeteuil', u'dph147', u'dpittard', u'dpjosuns', u'dpkpr', u'dpm12786', u'dpnelson1978', u'dpodratsky3', u'dpool', u'dpsychoholic69', u'dpuia', u'dqderrick', u'dqrull', u'dr23flavors', u'drSmoothie', u'drabmuh', u'draconianhand', u'dracula68', u'dragon0524', u'dragonWhale', u'dragonarcher', u'dragonbrew', u'dragonclan15', u'dragonglen', u'dragonofblood', u'dragonslayerdan0', u'draheim', u'drakelax42', u'draknurd', u'drathbone', u'drawbackwards', u'drbarnes', u'drbeef', u'drbeermd', u'drbenzo', u'drcarver', u'drdr48', u'drea0695', u'dreadnatty08', u'dreamandcream', u'dreamgazer', u'dreamstate7', u'dreed3333', u'dren', u'dretceterini', u'drew2u', u'drew37', u'drewba', u'drewbage', u'drewbudd', u'drewd', u'drewd0g', u'drewdoggydogg', u'drewmprs', u'drewone', u'drewsy', u'drewy813', u'drez511', u'drgarage', u'drgonzo3705', u'drh524', u'drhall61', u'drhinehart', u'drifter29', u'drink1121', u'drinkHoppy', u'drinkalot123', u'drinkandbemerry', u'drinkankuss', u'drinkathon', u'drinkdankbrews', u'drinkeroffortune', u'drinkinhman', u'drinkininthewood', u'drinkirish', u'drinkiusmaximus', u'drinkmybeer', u'drinknewbelgium', u'drinkofczars', u'drinksalotofbeer', u'drinksandeats', u'drinksyrup', u'drizzam', u'drjamyma', u'drjimmy', u'drjones633', u'drkfal', u'drluke21', u'drlumps62', u'drmario47', u'drmike', u'drnknmnky', u'drobo', u'drocpsu', u'droomyster', u'dropkick2356', u'dropout86', u'dropshotmusic', u'drotski', u'drouss48', u'drowland', u'drowninginhops', u'droyce', u'drparilla', u'drpdaddy', u'drperm', u'drpickles', u'drpimento', u'drseamus', u'drtacks37', u'drtampa33615', u'drtth', u'drugsbunny', u'drumenigma', u'drumhaggart', u'drumline', u'drummerben', u'drummermattie02', u'drummerwill03', u'drumminbrewer', u'drummstikk', u'drumnjake', u'drumrboy22', u'drums4matt', u'drumstik', u'drunkboxer1', u'drunkenmonk', u'drunkensailor', u'drunkkelly', u'drunkmonk', u'drunkskunk', u'drxandy', u'dsa7783', u'dsantos', u'dsartwell72', u'dscholl', u'dshawnm', u'dshockey', u'dsigmon', u'dsocaciu', u'dspell13', u'dspoonrt', u'dsprainman', u'dstanmyer', u'dstc', u'dstickel', u'dstrand', u'dsw4b', u'dswyman1', u'dtbr', u'dtceltic', u'dteal1', u'dthomase', u'dtivp', u'dtreindl', u'dual1246', u'dualcitizen', u'dubbletrouble', u'dubc19382', u'dubhlain', u'dubinsky', u'dublife1', u'dubman003', u'duckdown', u'dude', u'dudeandhisrug', u'dudecandle', u'dudelove7485', u'dudemuskie', u'dudeski', u'dudey', u'dudley', u'duece27', u'duells2000', u'duffcalifornia', u'duffextracold', u'duffman000yeah', u'duffmanrob', u'dugaldh', u'duhbled', u'duhrider', u'duicepop', u'duke1258', u'dukedevil0', u'dukew456', u'duluoz', u'dulwich', u'dumbledoom', u'duncan9idaho', u'dungaree', u'dunit697', u'dunleav1', u'dupee14', u'dupreydd', u'duracell', u'durango2005', u'dustified1234567', u'dustinTN', u'dustine', u'dustinjkline', u'dustylong', u'dutchboognish', u'dutchbrew2', u'dutchlq7', u'dv8', u'dvar', u'dvaughn78', u'dvb', u'dvorsd', u'dvotypka', u'dvs112', u'dvsbizzyb', u'dwalters', u'dwarbi', u'dwarf', u'dwarvenfriend', u'dwarvenspirits', u'dwarvenstout', u'dwatson', u'dwaz', u'dwc93086', u'dwclarkson', u'dweideman', u'dwennis', u'dwilkins', u'dwilson01', u'dwpiercetx', u'dwvarner77', u'dyan', u'dye7', u'dyezak', u'dyingwrist', u'dylanmiller', u'dylanrossi', u'dylnthmsn', u'dyoung3', u'dyremohr', u'dza360', u'dzedaschroeder', u'dzni', u'e036109', u'e11a627', u'e11iott', u'e2kmck', u'eCraig', u'eRoc', u'eaglefreak', u'eaglephile', u'eagles22', u'eaglescout48', u'eaglzphan', u'eallured', u'eamays', u'eammmbeer89', u'eandolina', u'earshplitten', u'earthboundagain', u'earthling', u'easement', u'eastwardbloke', u'eat', u'eatabagofbooger', u'eatdrinknbmerry', u'eatsleeprepeat', u'eatyourveggies', u'eaweiss', u'eb003', u'eballard', u'ebby82', u'ebeard2', u'eberkman', u'ebernabe', u'ebin', u'ebin6', u'ebingen', u'ebit', u'ebolden', u'ebraun', u'ebrauser', u'echdk3', u'echoes', u'eckerrob', u'eclaycamp', u'eclectic', u'eclipse54', u'eclipsehts', u'ecoastman', u'ecoboy', u'econ', u'ecooper', u'ecorrado', u'ecrawley', u'ectomorph', u'ecutler1', u'edbeer', u'edbeered', u'edchef1850', u'edchicma', u'eddiebo', u'eddiechilton', u'eddiekop98', u'eddocron', u'edegnan', u'edelweiss', u'edfish', u'edfitzjoneser', u'edgarderby', u'edge5', u'edgelow', u'edgeofcenter', u'edinchapelhill', u'edmastny', u'edmedina', u'edmonan', u'edmonds', u'edmundfitzoil', u'edoetsch', u'edonovan0', u'edrachman', u'edraid', u'edraven667', u'edsanchezz28', u'edskirk3', u'edstirling', u'edthecat', u'eduardoWB', u'eduardolinhalis', u'eduque14', u'edwardearl26', u'edwardeckel', u'edwardhenry', u'edwardhopper', u'edwardk', u'edwino', u'edzilla216', u'eeeesdeweis', u'eeguguy', u'eelriverbrewfan', u'eepopporkahah', u'eerbayman', u'eewhiz', u'ef88', u'efhart', u'efitton', u'egajdzis', u'eganissexy', u'egerlach', u'eggland', u'eggodoom', u'eggplantwiz', u'egreenbery', u'egshaun', u'egy', u'ehagedorn', u'ehammond1', u'eheff', u'ehlpitel', u'eholde', u'ehorn13', u'ehoyme', u'ehudbarniv', u'eijerkamp', u'einar85', u'einmt33', u'einx', u'eisbock1', u'ej285701', u'ejacques', u'ejames', u'ejcat', u'ejeffer11', u'ejimhof', u'ejl4', u'ejquin', u'ejr1953', u'ejyoung', u'ekardz', u'ekempey', u'ekfinn', u'ekmoody', u'eknee', u'ekpyrotic', u'ekstedt', u'elNopalero', u'elandant', u'elars', u'elbowone', u'elcaminodan77', u'elcapitano', u'elcapness17', u'elcervecero', u'electric27', u'electricfields', u'electrified', u'electrojosh', u'elephantrider', u'elfcounsul', u'elflake', u'elgiacomo', u'elginirishpunk', u'elguapo47', u'eliju', u'elinash', u'eliot', u'elitza', u'elizabethfowler', u'eljefe', u'eljefe21', u'ellflle', u'elliot23', u'elliottp', u'ellisdee97', u'ellman', u'elmocoso', u'elmore', u'elniko', u'elpistolero', u'elpollodiablo', u'elreekie', u'elricorico', u'elrom', u'elsinore', u'elton044', u'elvish', u'elvisnj', u'elwood522', u'ely2000k', u'emaciated', u'emagana', u'eman245', u'emancomeith', u'emanon', u'emerge077', u'emericanchaos', u'emersonlane', u'emetib0081', u'emilmuzz', u'emilystrange1', u'emiricius', u'emmasdad', u'emmasrue1', u'emmaxwell', u'emooze', u'emor8t', u'emptywords', u'emre007', u'emsoud726', u'emsroth', u'enaglio', u'ender10', u'endincolorado', u'endorphns', u'endovelico', u'enemyisyou', u'enfield249', u'engagechad', u'engineeringpunk', u'engisch', u'enigmattic122', u'enki', u'enolan24', u'ensign11', u'enso', u'entheogen', u'enzocc', u'eoffdog000', u'eonbluekarma', u'epearson', u'eph', u'epicness', u'epiinephriine', u'epistax', u'epk', u'eporter66', u'ergodyne', u'eric5bellies', u'erica', u'ericalbion', u'ericb5756', u'ericbeer', u'ericduran', u'ericj551', u'ericlawton007', u'ericmorgan', u'ericmunley', u'ericp87', u'ericsdawson', u'ericwgbeer', u'ericwo', u'eriduran', u'erik320', u'erikdwallace', u'erikeifert', u'erikjon', u'erikm25', u'eriknelson65', u'erikwibaeus', u'erindanika', u'ermeis06', u'ernie', u'erok', u'erosier', u'erp2', u'errantnight', u'erratic', u'errica', u'eruckart', u'erwin08', u'erz316', u'es42289', u'esbullsheet', u'escapegoat', u'escapements', u'esch', u'eschbach', u'eschuber', u'eslemarc', u'esperanto', u'esprit', u'essanceofcool', u'essie', u'estefano', u'estelja', u'estereich', u'estereicher', u'esurreal', u'esv', u'etaggie09', u'etenbus', u'eternaljester81', u'eth916', u'etherashe', u'ethon', u'ethosx19', u'etkndr', u'etn3000', u'etxparch', u'eulcedes', u'euro6er', u'euroshark', u'euroslvt', u'euskera', u'evanackerman', u'evanburck', u'evanc', u'evanlarkin', u'evansrdbrew', u'evantwomey', u'eveninghawk', u'everetends', u'everettsbeerguy', u'everfrost', u'everiand', u'evh883', u'evhwolf', u'evilbeefchan', u'evilbunnee', u'evilgeniusluke', u'evilinc', u'evilkalla', u'evilsoda', u'evlu1441', u'evolbob', u'evoljetta', u'evyoung', u'eweneek83', u'ewlarson', u'ewpgolf2', u'ewright', u'ewurm', u'exanimo', u'exciter', u'exitor', u'exlex', u'exodus1369', u'exolinear', u'exonthebottle', u'exparte', u'expatsteve', u'explorer83', u'explosivebeer', u'extralighter', u'exuma11', u'eye2', u'eyeamthewind', u'eyeenjoybeer', u'eyefeelgood', u'eyeheartIPA', u'eyera', u'eyncognito', u'eypmcfg', u'eze153', u'ezperkins2', u'ezpottsy', u'eztommyd', u'f0gg', u'f12', u'f355x3', u'fabiansoliz', u'faernt', u'fahne23', u'fainster', u'fairdinkum2', u'fairway31533', u'fakedelight', u'fakeducks', u'falbom3', u'falcn5', u'falcon1', u'falcon14', u'falcozappa', u'fallboyrappellin', u'fallopia', u'falloutsnow', u'fandgale', u'fank2788', u'fanofbond06', u'far333', u'farHillsBrewer', u'farkus888', u'farlieonfootie', u'faroutadventure', u'farrago', u'farside411', u'fartingdog', u'fartist71', u'fartkowski', u'fascistfaction', u'fastd03', u'fastfwd', u'fastpass17', u'fastsrt', u'fastwrx05', u'fat58hwy', u'fatalbert', u'fatalbert23', u'fatbot', u'fatdog', u'fatherbeer427', u'fatherofgirls', u'fatkahuna29', u'fatmcb1', u'fatmcq', u'fatmusic14', u'fattire513', u'fattyMcbutter', u'fattychubs', u'fattyre', u'faubs', u'fav628', u'fav920', u'fbandc', u'fbinla', u'fbone', u'fbs004', u'fbxdan', u'fcaf', u'fdkayti', u'fdoosey', u'fdrich29', u'fdw3', u'fdxeng', u'fear025', u'fearnloathing', u'federalwine', u'feedmechili', u'feedsasquatch', u'feelmefoam', u'feilb', u'fejlar027', u'felipe2toes', u'felipesegundo', u'feloniousmonk', u'femALEist', u'femmebiere', u'fenwaybeer', u'fergbag', u'fernz18', u'ferrari29', u'ferrisskull', u'fes1', u'festivechicken', u'fetzko', u'fewa', u'feylure', u'fezmeister', u'ffcpa2', u'ffejherb', u'ffenski', u'fff', u'ffking18', u'ficknish', u'fido', u'fields336', u'fightindaman', u'fightingirishcmk', u'fightingwords', u'filabrazilia', u'fillstation09', u'filthyphil', u'finagler', u'findlayfan', u'finepaws', u'fingerlaker', u'fingolfin72', u'finkployd', u'finz925', u'firedog23', u'fireman462', u'firkinhophead', u'fischerr3', u'fishacura', u'fishbrew', u'fishean', u'fisherman34', u'fishtownhxc', u'fitzy21', u'fitzy84', u'fivehoursfree', u'fiveo2270', u'fiver29', u'fixintheworld', u'fizikalbliss', u'fizzy', u'fizzyfred', u'fjordhook', u'fl0w', u'flacks360', u'flag8r', u'flagmantho', u'flaminghomer', u'flanmedic51', u'flannelman808', u'flarnrules', u'flatblack80', u'flatspin187', u'flavorshark', u'fletch1', u'flexabull', u'flexinwext', u'flieg44', u'flike', u'flipper2gv', u'flipshevanel', u'flood', u'floraday', u'flowerysong', u'fltmedic', u'fluffyjenn', u'flyerduke', u'flyingpig', u'flyingspatula', u'flyingv63', u'flyman683', u'flynnc', u'flyphisherman', u'flypn', u'flytyman', u'fmccormi', u'fo1ksguitar', u'fo5s', u'foXXtail', u'foamer', u'foamyhead', u'fobeer', u'fodeeoz', u'foggylovesbeer', u'foggymountainman', u'foil4you', u'foles', u'foles75', u'followfollow162', u'folsomharrier', u'foobeer', u'foofight11', u'foofightingfrog', u'foogerd', u'footballhead771', u'footy802', u'forcedlaughter', u'forrestio', u'forsakenpariah', u'forty', u'fostachild', u'fostah', u'fosterific', u'fostermutt', u'fostwal', u'fountainofyouth', u'foureyedgeek', u'fourkiddad', u'fourplayed', u'foursquare', u'fouty', u'fox227', u'foxbat2500', u'foxfiremike', u'foxmouse23', u'foxmul924', u'fpsdean', u'fragilehearted', u'fragilemacabre', u'frampin', u'francisfrisina', u'francisweizen', u'frank4sail', u'frankbro', u'frankburp', u'frankd97', u'frankdank', u'frankiepop', u'frankld2', u'franksnbeans', u'franktheman', u'frankypoo351', u'frayos', u'frazbri', u'freakinfrog', u'freddiesnow', u'freddpa', u'fredferrell', u'freed', u'freeeekyyy', u'freescribbles', u'freetake2', u'freewheelinbob', u'freewill35', u'frenchblood21', u'frenchtoast1982', u'frequentgear', u'fretlessman71', u'fretspyder68', u'fri3dric3boi', u'frickersticker3', u'friendofthedevil', u'frieralex', u'friesfox5', u'frimairist', u'frndthdevl', u'frog223', u'froggiestomp13', u'froggyfrog', u'froghop', u'frogjamm', u'froglord', u'frognot', u'fromage', u'froman694', u'fropones', u'frosty', u'frostycoldmug', u'fryman', u'fsears', u'fsimcox', u'fsunole', u'fsvan', u'ftsgibson', u'fuchebu', u'fugitive', u'fugitiveinkblot', u'fullsweep', u'funckygibbon', u'funhog', u'funkel81', u'funkendunkel', u'funkengruven', u'funkifiedus', u'funkmaster229', u'funkninja52', u'funkyaudio', u'funkybuddha', u'funkymuppet', u'funkyspunk87', u'funnyface27', u'funwithknives', u'furbs', u'furiousxgeorge', u'futaboots', u'futura123', u'futurefjp', u'futureman69', u'fuzzycasserole', u'fvernon', u'fwine36', u'fx20736', u'g00dness', u'g00ey', u'gab351', u'gabe1989', u'gabe23', u'gabedivision', u'gabeerfan', u'gabeerfanswife', u'gabeerman', u'gabemasiulis', u'gabeshanks', u'gabgab', u'gabrielpicasso', u'gabrielsyme', u'gadlor', u'gafferjohn', u'gainesvillegreg', u'galante27', u'galengueuze', u'gallagherman', u'galland944', u'galleech', u'gam3', u'gamanley', u'gamblor21', u'gameat10', u'gameface23', u'gamwich', u'gangrel7', u'garbanzobean', u'garbercury', u'garchooga', u'garcia2a', u'gardenofsound', u'gargamel01', u'gargonz', u'garp', u'garrettfitz', u'garrettmgruehl', u'garthwaite', u'garuda', u'garyc2112', u'garydemp', u'garylee', u'garylisk', u'garymoose13', u'garymuchow', u'gator0877', u'gatorbreath', u'gatorguy', u'gatorguy813', u'gatorhophead', u'gatorjames85', u'gatornation', u'gatornibs', u'gatorsuf1', u'gau8a', u'gauchebag', u'gaugebozo', u'gavdomdad', u'gavinstoub', u'gavmeconi', u'gawnphishin', u'gayg', u'gazongas', u'gbarbee', u'gbarron', u'gbbass16', u'gbeerletic', u'gbmoore', u'gbontrag', u'gbooch', u'gboy515duo', u'gbpackers84ale', u'gc4hokies', u'gcarl', u'gciccarelli', u'gcpanda', u'gcpxavier', u'gdanieljones', u'gdfan47', u'gdfullwv', u'gdkersey', u'gdodd12', u'gdogalishus', u'gdrakeman', u'gdrydenc', u'gdud14', u'gdw2', u'gearbike', u'gearkraft', u'gecasa', u'geckointhebox', u'geeooff1', u'geepus', u'geetlord', u'geexploitation', u'gellmeister', u'gemhooch', u'genaro', u'geneb', u'genek', u'generallee', u'generalnotsew', u'generationmy', u'genetru', u'gengoro', u'genitempo', u'genog', u'gentlebubbles', u'genuinedisciple', u'geodude', u'geoffersen', u'geoffsaidso', u'geographie', u'geokills', u'geomedic', u'geord', u'georgebrettisgod', u'georgehasara', u'georgekingfish', u'geovitray', u'gerardoguzmanh', u'gerardoluna', u'gerite', u'germanbeer1', u'germaniac', u'gerryd', u'gerrytripel', u'geryeb624', u'gestalt162', u'gestyr', u'getalife2k5', u'getch', u'getgetgettleman', u'getinmebelly', u'getkrunkhoe', u'getoffmylawnbro', u'gezondheid', u'gflo77', u'gford217', u'gfreed', u'gfshoexc', u'gfsufb', u'gfthree7', u'gg69nb', u'ggalex', u'ggaston82', u'ggaughan', u'ggddaaee1', u'ggibson793', u'ggilman', u'ggourde', u'ggrande2676', u'ggroller', u'gh02t', u'ghamal', u'ghaverfield', u'ghebb', u'ghebel', u'ghetto90007', u'ghettobrown', u'ghostdeini', u'ghostee', u'ghostmech007', u'ghostofpaulman', u'ghostwalker', u'ghowehattrick', u'ghscash', u'ghurux86', u'ghuston', u'ghwolf', u'gibby', u'giblet', u'gigaknight', u'gigem2423', u'gigi112086', u'gildobeer', u'gilem', u'gilli24', u'gillis', u'gilman', u'gimmedanger888', u'gimmehead', u'ginemesis', u'ginormousbrain', u'girlfriend', u'gixxerman', u'gixxerrider21', u'gizman609', u'gjh', u'gjoker321', u'gkatsoris', u'gks5004', u'gkunkle', u'glaketek', u'glamphetamine', u'glasscleaner', u'glassjaw25', u'glaze0101', u'glazeman', u'gleefulfiend', u'glennl', u'glib', u'glid02', u'glockf', u'gloobygloob', u'gloriousglo2', u'gluemouth', u'glyng', u'glyphus', u'gmc234', u'gmcfarre', u'gmf1991', u'gmfessen', u'gmhoover', u'gmuller', u'gmw', u'gnargnar', u'gnarlsbarley', u'gnaussea', u'gnbird', u'gnemesis', u'gnoeou', u'gnoff', u'gnuisance', u'goalie33', u'goaliepride', u'goast8127', u'goat000', u'goatgoat', u'goatherder', u'goatse', u'goatsgo2hell', u'goatxpower', u'gobias', u'goblet', u'goblue3509', u'gobucks1', u'godfathermg57', u'godless1one', u'godlessape', u'godsmoldingclay', u'goethean', u'goetta', u'goindownsouth', u'gojo1970', u'golazo', u'goldbot', u'golden1', u'goldeneye', u'goldenflake', u'goldenmonkey1', u'goldennectar', u'goldenpeanut', u'goldold', u'goldsackb2', u'golffan8', u'golfjunkie13', u'golfnbeer13', u'gomejar', u'gonedrinking', u'gonger', u'gonuts31', u'gonzales6', u'gonzo138', u'gonzo46and2', u'gonzogambler', u'gonzogrover', u'goo', u'gooch10186', u'goochpunch', u'goodatbeer', u'goodbyeohio', u'goodbyesoberday', u'goodheflover1280', u'goodmaml', u'goodonezach', u'goodspeed94', u'goofyfootrr', u'googoo1212', u'goom', u'goonster', u'goose13', u'goosewhisperer', u'gopens44', u'gorby10826', u'gorby16', u'gordonsliquor', u'gorilla19', u'gormerik', u'gory4d', u'goryshkewych', u'gos42', u'goschool', u'goster', u'gosurfobx', u'gotbeer', u'gothaicus', u'gotmeashiner', u'gottajiboo2', u'gotweid', u'gouldnash', u'govtmule', u'goz', u'gpatt55', u'gpcollen1', u'gpia7r', u'gpioski', u'gpogo', u'gportale', u'gps2388', u'gpzhumphrey', u'gqfiji', u'gr8brew', u'grac1970', u'gracebeliever', u'graebner3306', u'graffiti62', u'grag', u'graham515', u'grahambo', u'grahamprice', u'gramatton', u'grandq', u'granger10', u'granite', u'grannun', u'granola82', u'grapemaster', u'grapetonix', u'graphia', u'grasshopper', u'grassrootsVT', u'gratedjuice', u'gratefuld', u'gratefulstu', u'graveRacker', u'graveshifter666', u'gravytrain', u'grayburn', u'grayjg', u'graywalker', u'grbennett', u'grcash', u'grdahl', u'greaser', u'great7dividers', u'greatfookin', u'greatkindness', u'greebsnarf', u'greebz', u'greenbean3', u'greenbeaner', u'greenborn', u'greenengineer', u'greengorilla', u'greengourd', u'greenjeff4141', u'greenlab', u'greenlance', u'greenman2112', u'greenmiller', u'greenmonstah', u'greenmountain', u'greenpumas', u'greenreese', u'greenwood143', u'grees20', u'greg202stewart', u'gregalobeer', u'gregb13', u'gregc', u'gregf', u'gregg329', u'greggdogg', u'greggerino', u'greggivan', u'gregmoscetti', u'gregmurer', u'grego', u'gregobrew44', u'gregsandiego', u'gregshead', u'gregy55902', u'greid', u'greshdoghophead', u'greybeardloon', u'greydog', u'greygooose', u'greyvoodoo', u'greywolf', u'grhm', u'grikmok', u'grilledsquid', u'grimbo216', u'grimreeser', u'grindcore666', u'grinreaper31', u'grittlermoomoo', u'grittybrews', u'grizzly700', u'grmarcil', u'groganb', u'grogory', u'grogshopMike', u'gromis', u'groovemonster', u'groovy24', u'grospopperino', u'grote', u'grotonmarketguy', u'grover37', u'grs8313', u'grssmnperez', u'grub', u'grubas', u'gruberbeer', u'gruen', u'grumpy', u'grumpygerman', u'grumpyowl', u'gruvn', u'grynder33', u'gsanstra', u'gsh', u'gshak', u'gskitt', u'gte893m', u'gtermi', u'gtershel', u'gthornton', u'gtlaw', u'gtn80', u'gtochld11', u'gtw4c', u'gubbt', u'guel1977', u'guess98224', u'gueuzegeek', u'gueuzeonhigh', u'gueuzer', u'guild337', u'guinness310', u'guinness33', u'guinness72384', u'guinness9880', u'guinnessdoc', u'guinnessfan', u'guinnessman', u'guinnessnyc', u'guitarcrazy3', u'guitarguy2308', u'guitarmage', u'guitarninja', u'guitarsnbeer', u'gun1now', u'gundys10', u'gunhaver', u'gunick06', u'gunnerman', u'guntherhophead', u'gurpapete', u'gurulegend', u'gus', u'gusbuster811', u'gusdabrew', u'gushov', u'guthrie', u'guyforget', u'guyvershin', u'guywelch2000', u'guzzle211', u'gvbbjfalcon', u'gvntofly05', u'gwfrankpsu', u'gwguest', u'gwong', u'gwood', u'gwpom', u'gxm99', u'gyllenegrrrl', u'gyllstromk', u'gyoder', u'h00dak', u'h0pg0blin', u'hWordsmythe', u'haazer', u'habanero', u'habanosdarklord', u'hacienda', u'hackaxle', u'hackmann', u'hackomal', u'haddon', u'hadesvi', u'haggard1', u'haggis', u'hahahadave', u'hailtotheale', u'halfP1NT', u'halfacres05', u'halfassedjedi', u'halfbeer', u'halfbrewed', u'halfhorsefilms', u'halfpgl', u'halfpintsill', u'halfwaytoheaven', u'halloran4', u'halo21', u'hamilton23', u'hamletmachine72', u'hammer09', u'hammerhead', u'hammy', u'hamrick1', u'hanco005', u'hangclean', u'hangh', u'haningj2', u'hankster77', u'hannydawg', u'hansendc', u'hansgruber', u'happilysurly', u'happy4hoppybeer', u'happybear', u'happybrewer', u'happygnome', u'happyhappyjoyjoy', u'hardrockerdave94', u'hardy008', u'hargettf', u'harkjohnny', u'harlanhu28', u'harley101', u'harleymonster1', u'harmonmsp', u'haroldp', u'harperman69', u'harpo111', u'harpus', u'harris020106', u'harrmatees', u'harryhood1', u'harrymattcody', u'harrymel', u'harsley', u'hartsoet', u'harvester', u'harveystarr', u'hasbeen', u'hashiru', u'hasslerj', u'hastings', u'hathaway78', u'hatrix', u'hattingc', u'haver', u'havoc531', u'hawaiianguy', u'hawks10', u'hawkseven', u'hawksfan82', u'hayalex6', u'haydukeqc', u'hayes31', u'hayesez', u'haygood', u'haywire77', u'haz77', u'hazakaza', u'hb812', u'hbh739', u'hbielawski', u'hbis2gut', u'hchinaski', u'hckyfn9999', u'hdelavega', u'hdf561', u'hdofu', u'hdog09', u'headbucket', u'headhopper', u'headlessbob', u'headlessclown', u'headlessparrot', u'headofmyglass', u'heapofaoatmeal', u'heartofgold', u'heath1agnew', u'heathbaa132', u'heathtm', u'heatmiserSD', u'heavy216', u'heavyblanket', u'hedgiewan', u'hedonist91', u'hedonistjive', u'heebes', u'hefe300', u'hefegrizzly', u'hefehead', u'hefelover', u'hefevice', u'hefeweizbier', u'hefewisseguy', u'hegelec', u'hehndogg', u'heidelbeerg', u'heine1', u'heine21', u'heinekenike', u'heintzer', u'heinzdog9', u'heissebier', u'heliosphann', u'hellbilly', u'hellcatsjg', u'hellfire', u'helloglob', u'helloloser12345', u'hellomcfly', u'hellsing3', u'helmet', u'helmstreet', u'heman1kid', u'hemi611', u'hendecatope', u'hendrix2k', u'henryd30', u'henryspam', u'henrysunset', u'henskejk', u'hensonv', u'herbalist', u'herbg', u'herefordjeep', u'herman77', u'hermes01', u'hermesch', u'hero27', u'herter001', u'hevbus', u'heygeebee', u'heyitsbyron', u'heymikew', u'heynonono', u'heysuz', u'heyta', u'heythere', u'hga2009', u'hgais', u'hgrong', u'hhboulder', u'hickmancase', u'hideous', u'hiflynhamsterman', u'highsam', u'highvoltage61', u'highwa51', u'highwaychile82', u'hiikeeba', u'hijinx', u'hike20', u'hikebikemike', u'hikix', u'hiku7', u'hilbillyinca', u'himmelhuber', u'hindbender', u'hippityhophead24', u'hippityhops85', u'hippk9', u'hitokiri', u'hitter114', u'hiway58', u'hixsonj', u'hmc', u'hmf05', u'hmk22', u'hmmmmmm', u'hmph', u'hobbes2112', u'hobbes2150', u'hobbitking54', u'hobojon', u'hockeyblades', u'hockeydude', u'hockeyhead', u'hockeyzep', u'hodby', u'hodgsongreg', u'hoeferweisen', u'hoegaardenhero', u'hoffan1939', u'hoffman', u'hogansbrew', u'hoggerdog', u'hohnx012', u'hojuwestlake', u'hokies1999', u'holco34', u'holden303', u'hollicetales', u'hollis092', u'hollodonius', u'hollydae77', u'holycrapamoly', u'holyfool22', u'holzmann', u'hombrepalo', u'hombreverde', u'homebrew311', u'homebrewer88', u'homebrewhawk', u'homebrewz', u'homersimpson', u'homersimpson67', u'hondo2160', u'honestdave', u'honeybrewer', u'honkey', u'hoobaga', u'hooch', u'hooligan', u'hooliganlife', u'hoopermcbeal', u'hooplehead', u'hoosier3334', u'hootie', u'hooverw1', u'hopalongglassy', u'hopbar', u'hopburster', u'hopdog', u'hoped', u'hopfacebrew', u'hopfenteufel', u'hopfiend666', u'hopflop', u'hopgoddess76', u'hophead1901', u'hophead1981', u'hophead21210', u'hophead247', u'hophead4', u'hophead5353', u'hopheadben', u'hopheadgirlie', u'hopheadjuice', u'hopheadsal', u'hopheadtony1', u'hophopandaway', u'hophunter', u'hopjack13', u'hopjuicer', u'hopking311', u'hoploaf', u'hoplover82', u'hopluva1', u'hopman333', u'hopmania', u'hopmarx', u'hopmeamadeus', u'hopmonger', u'hopmonkey', u'hopper333', u'hopperhead1984', u'hoppheadIPA', u'hoppough', u'hoppusmaxximus', u'hoppyFreshness', u'hoppybrewer', u'hoppyeverafter', u'hoppygirl', u'hoppyhampy', u'hoppyhobby', u'hoppymcgee', u'hoppymeal', u'hoppyray', u'hoppyserpent', u'hoppyweasel311', u'hopquaffer', u'hoprock', u'hoprocketeer', u'hops1337', u'hops4life', u'hops4me', u'hopsaplenty', u'hopsbreath', u'hopsession', u'hopsgirl35', u'hopshopshops', u'hopslamds', u'hopsleeroy', u'hopsolutely', u'hopstat', u'hopstorm', u'hopstradamus', u'hopsyum', u'hoptimusprim3', u'hoptrip619', u'hoptualBrew', u'hopyardvmp', u'horndecker', u'hornitosmonster', u'horseblanket', u'horshack7', u'hosehead83', u'hoser', u'hossua34', u'hotboyz67129', u'hotliquor', u'hotmanflab666', u'hotmetal', u'hotsidehot', u'hotstuff', u'hotzenklotz', u'houdini', u'houghtrain', u'houma1965', u'housten', u'howandmeg', u'howielong', u'howlinowl', u'howser', u'howsyournipples', u'hrd', u'hreb', u'hrking', u'hrmhrm', u'hrockefeller', u'hseritt', u'hsway', u'htomsirveaux', u'hu5om', u'hubbjm', u'hube', u'hubearth', u'huck1081', u'huffstang', u'hughes1724', u'hughesm4', u'hughjohnson', u'hugopower', u'huguey', u'huhl23', u'hulahoophugs', u'hulmanite', u'humanawho', u'humanbeer', u'humanfactor', u'humanjoe', u'humbleevenstone', u'hummni', u'humuluslupulus8', u'hungerfordj', u'hungryghost', u'hunteraw', u'hunterrose2000', u'huntert', u'hunthearin', u'huricrane47', u'hurleymanvw', u'hurricaneez1', u'hurricaneez2', u'hurricanelars', u'husar', u'huskerdu', u'huskermike12', u'hustlemuscle', u'hustlesworth', u'huxcrunner', u'hworking', u'hwwty4', u'hwy61mb', u'hxcluv', u'hyattdaman', u'hyland24', u'hylton44', u'hyped83', u'hypercraft', u'hyprlt', u'hyuga', u'hyzershot', u'hz23hz23', u'iAmOverrated', u'iBeer16', u'iD9', u'iDrinkAlot', u'iDrinknewglarus', u'iGulp', u'iLovehops23', u'iMcBain', u'iNHaze', u'iPaleAle', u'iRoy', u'iRyan77', u'iSTOLEyourPOPE', u'iSip', u'iSrALE', u'iabeerbaron', u'iadler', u'iambeerviking', u'iamheasyouareme', u'iamjuanvaldez', u'iammatt', u'iamnitrox', u'iamntbatman', u'iamphillipjfry', u'iamsemigloss', u'iamthird36', u'iamtyler', u'ianL', u'ianbev', u'ianjsullivan', u'ianmhall', u'ianorama', u'ianranderson', u'ianrca19', u'ianroodt', u'iasanlee', u'ib7jhurley', u'ibashmuck', u'ibbjamin', u'ibeplato', u'ibrewaletx', u'ibryce', u'ibtuten', u'icculus304', u'iceball585', u'icebergfat', u'icecube', u'icefisherman', u'icehornet', u'icemanrulz', u'icemonkey908', u'icepik', u'icetrauma', u'icetraxx', u'iceviper22', u'icharus84', u'icheadle90', u'ichigodisaster', u'iconoklaztor', u'ictmattb', u'idResponse', u'idarwin', u'iddqd', u'idge', u'idiot', u'idiothek', u'idlepress', u'idrinkitup', u'idunno', u'idurra', u'ifixufly', u'iflah45', u'ifnkovhg', u'ifurlong', u'ig88b', u'igoristanimov', u'igotmilk', u'iguenard', u'ihaveabrain18', u'iheartIPA', u'iheartcraftbeer', u'iheartfreetshirt', u'iheartsheafstout', u'ihoffman', u'ihscout426', u'iiinterstate', u'ikantspel', u'ikats', u'ike4tay45', u'ikonoklast7', u'ilikebeerandski', u'illevor', u'illidurit', u'illinibeerman', u'illinijer', u'ilovebeer84', u'ilovebeer87', u'ilovedabeers', u'ilovesudz', u'iloveyani', u'ilpazzo', u'iluvBA4life', u'imacoug', u'imagese', u'imagineiii', u'imaguitargod', u'imanidiot777', u'imaregularjoe', u'imasickboy', u'imasloth', u'imblane', u'imdw', u'imintune2', u'imkittle', u'immacomputer', u'imn2it', u'imnotadoctor', u'imperialbigswig', u'imperialstout27', u'imperium11', u'importguy', u'imprezawrxsti', u'imrichbeeeatch', u'imwalle', u'in780', u'inane', u'inanimal', u'inathought', u'inbeertruth', u'indeed', u'indesertum', u'indiana1414', u'indiana24', u'indianastoutman', u'indiapaleale', u'industrialswill', u'indy169', u'indybigtom', u'indysamra', u'inebrius', u'ineva', u'infestaxion', u'infi', u'infinitejester', u'inflatablechair', u'inhoc', u'inhoc00', u'inhoclupo', u'inhopswetrust', u'inilegna', u'injuredreserve', u'inlimbo77', u'inman66', u'innersanctum', u'inpursuitofhops', u'insaneshow', u'insomnboy', u'inspektor', u'instantlunch', u'instrumentality', u'intensehops', u'intensify', u'interrogatrix', u'inthebeeraisle', u'introvertedone', u'invertedrdm', u'inxy', u'iohovah', u'iokals', u'iowaero', u'iowaherkeye', u'ipa7djh', u'ipa88', u'ipacac', u'ipaequalslove', u'ipafool', u'ipaloveit', u'ipaunfiltered', u'ipazilla', u'ipeeale', u'ipogios', u'ipscman', u'irirshsoldier', u'irischmatt', u'irish', u'irish53b', u'irishevans', u'irishgurl4', u'irishismyname', u'irishking1977', u'irishkyle21', u'irishmadness', u'irishman06', u'irishman14', u'irishmoss', u'irishtimepiece', u'irishtjb11', u'irisier', u'irmish', u'iron78', u'ironarrow42', u'ironbike1', u'ironchefchris', u'ironin', u'ironlung', u'irrevjim', u'irs', u'is11amtooearly', u'isaac', u'isaacpopp', u'isaiahcutright', u'isitsavage', u'isjohnder', u'iskivolkl', u'islandboi8204', u'isleroyale', u'ism', u'iso', u'ispeakfree', u'israel', u'israelleoni', u'isthatbeer', u'isthisme2', u'isualum12', u'isubsmith', u'itch135', u'itcomesnpints', u'iterationzero', u'itfaculty02', u'itfitz', u'ithacabaron', u'itlnstallion11', u'itp', u'itsagoodpicture', u'itsfreeasinbeer', u'itsmemandave', u'itsopy', u'itsromy', u'iubball', u'iuhoosier336', u'iuhophead87', u'ivan52', u'ivanwatling', u'iwantmorehops', u'iwantsomerocks', u'iwanturgrlfrnd', u'iwrs', u'ixodus', u'izombie', u'izzybeer', u'j2johnst', u'j37geogaddi', u'jDictionary', u'jDoubleU', u'jIsh', u'jUmB0', u'jab5161', u'jabel9', u'jabergess', u'jables7', u'jabocu', u'jabswitch', u'jack11c', u'jackhammer54', u'jackhig', u'jackie7787', u'jacklovesbeer', u'jackndan', u'jackofclubs', u'jackorain', u'jacksback', u'jackscrow', u'jacksonattack', u'jackthewelshman', u'jacob1226', u'jacob4999', u'jacobseyb', u'jacwomyn', u'jadejaws', u'jadpsu', u'jag0007', u'jag21', u'jagoffyinzer', u'jahannah', u'jahdan', u'jaheussner', u'jahickerson', u'jahilgen', u'jahlers', u'jahred', u'jahrun', u'jahsausage', u'jaialainut', u'jajablon', u'jakdracula', u'jake19drinks', u'jake87', u'jakeblues', u'jakekohut', u'jakelamotta', u'jakenunes', u'jakester', u'jakeyb', u'jakon', u'jakpot', u'jal30', u'jale', u'jalexanderhood', u'jaluria', u'jamdugan', u'jameaterblues', u'james1968', u'jamesashley', u'jamescain', u'jamesclark', u'jamescott', u'jamesdantes13', u'jamesdergen', u'jamesdr1968', u'jamesfrazer', u'jameskennedy', u'jamesm7485', u'jamesmbirchnyc', u'jamespub', u'jamesrobertson86', u'jamestsanders', u'jameswaldo', u'jamex', u'jamie2dope', u'jamiejohnson', u'jamiesessions', u'jammalamma', u'jammapamma', u'jampics2', u'jamsmad', u'jamusblack', u'janegrimaldi', u'jangotaurus', u'jantonius', u'janubio', u'japcmiller', u'japetus', u'jar2574', u'jaredvanderview', u'jarmby1711', u'jarraine1980', u'jarrettskibeer', u'jarryd', u'jarsh', u'jarspag04', u'jas0n50', u'jas30060', u'jaschones', u'jascox2', u'jashall99', u'jasmith', u'jasongootjes', u'jasonguit', u'jasonhender', u'jasonjlewis', u'jasonm', u'jasonmac', u'jasonmason', u'jasonpeckins32', u'jasrbrd', u'jastack', u'jaster', u'jault52', u'jaustin72403', u'javahwy', u'javaj79', u'javajeep1972', u'javatime', u'javelinarhae', u'javenbohall', u'javier', u'javincik', u'jawstone', u'jaxl', u'jaxon53', u'jay11284', u'jay52', u'jayavery', u'jayb', u'jayc333', u'jaycount', u'jayczar', u'jaydanahy', u'jayfarley3', u'jayhawk73', u'jayjay1976', u'jaymesbawned', u'jaymirage', u'jaymyers', u'jaypetermen', u'jayrod20', u'jayt206', u'jaytwo', u'jaz', u'jaz58', u'jazappi', u'jazer', u'jazzbone', u'jazzmac', u'jazzmanblue', u'jazzsmokes6786', u'jazztoloc', u'jazzyjake', u'jazzyjeff13', u'jb413', u'jbails007', u'jbakajust1', u'jballeng', u'jbarber1534', u'jbart', u'jbartlett89', u'jbase', u'jbbjr0387', u'jbcook311', u'jbear725', u'jbeaver', u'jbennett1919', u'jbertsch', u'jbhuxley', u'jbiafra', u'jbie', u'jbird1023', u'jbjohnso', u'jblo', u'jbm5', u'jbmorch', u'jboib82', u'jbonapar', u'jbone78', u'jboucher', u'jbowers56', u'jbphoto88', u'jbramley', u'jbrewer3', u'jbriggs7036', u'jbro', u'jbro434', u'jbsg02', u'jbsmth', u'jbsteiny', u'jbuddle', u'jbull', u'jburgo', u'jburns4', u'jbwrb', u'jbye4334', u'jc85', u'jcalabre', u'jcantrall', u'jcarper', u'jcartamdg', u'jcd2010', u'jcdgoad', u'jcdiflorio', u'jcghys', u'jchaney1', u'jcharlesmith', u'jchelf', u'jchow79', u'jcipa88', u'jcivetz', u'jckp64', u'jclone', u'jclovebrew', u'jclzony', u'jcm8756', u'jcmotz', u'jcnd9803', u'jcompton', u'jcoolgroove', u'jcpaulun', u'jcreegan', u'jcrizzle', u'jcrow97', u'jctribe25', u'jctull', u'jculler82', u'jcurtis55', u'jcw', u'jcw122', u'jcwenzel1', u'jczn', u'jd6stringman', u'jda007', u'jdaelhousen', u'jdanoff', u'jdavin', u'jdb8507', u'jdbuck', u'jdcollens', u'jdcomposer', u'jde123', u'jdeason', u'jdefont', u'jdense', u'jderflinger', u'jdetpsteel', u'jdflyer06', u'jdg204', u'jdgainor', u'jdhende', u'jdhilt', u'jditty', u'jdizzel', u'jdklks', u'jdlarkins', u'jdlaughead', u'jdm', u'jdmcel', u'jdmdrummer', u'jdmorgan', u'jdnovato', u'jdoherty', u'jdoncbus', u'jdoolin', u'jdrio', u'jdrury245', u'jds1469', u'jdskinns', u'jdspears41', u'jdub24', u'jdubjacket', u'jduffy21', u'jdweaver2', u'jealousmonk', u'jeanbenetti', u'jebert', u'jeburgdo', u'jed', u'jedahan', u'jeddsp', u'jedel', u'jedi77', u'jedschlueter', u'jedtheavenger', u'jeepboy76', u'jeeper2000', u'jeepreppert', u'jeepurz', u'jeff1973', u'jeff2486', u'jeff5451', u'jeffaz02t', u'jeffbearer', u'jeffbeck', u'jeffboo', u'jeffbrister', u'jefferyc', u'jefferz5000', u'jeffjeff1', u'jeffjfindley', u'jeffmart22', u'jeffmonarch', u'jeffpip', u'jeffreydurbin', u'jeffreyobrien', u'jeffry', u'jeffsala', u'jeffsket', u'jeffthecheff', u'jeffwhit', u'jegillikin', u'jegross2', u'jejingo', u'jekemp', u'jekka', u'jellis00', u'jellycabbage', u'jelsdad', u'jelsen', u'jenama', u'jenbys2001', u'jenitivecase', u'jenny7', u'jennyp', u'jennyrobot', u'jennyweanbean', u'jeonseh', u'jeortizrubi', u'jepflast', u'jera1350', u'jeranbrews', u'jerbaugh', u'jeremiahjsmith', u'jeremy13586', u'jeremy2027', u'jeremy93', u'jeremyd365', u'jeremyk00', u'jeremyn', u'jerlleutz', u'jermar', u'jermc68', u'jerradep', u'jerryc123', u'jerryj', u'jerryjeff', u'jerrymiller', u'jerryphil1', u'jerseyemt', u'jerseyguy', u'jerseyjoe', u'jerseyshore5', u'jerskine', u'jesey', u'jeshii', u'jesperm', u'jessecarr', u'jessecollins', u'jessejamesorez', u'jessycho', u'jester27lax', u'jester5120', u'jesushorse', u'jetfanzee', u'jethro479', u'jethrodium', u'jetpilots1', u'jettjon', u'jewbank', u'jewel942', u'jewski', u'jf2', u'jf60657', u'jfdean', u'jfisher', u'jfitzy78', u'jfmorey', u'jfp9198', u'jfr5049', u'jfrancis808', u'jfrank85', u'jfritsch', u'jfro', u'jfunkk79', u'jgagne', u'jgalbjr', u'jgans82', u'jgap', u'jgasparine', u'jgaston', u'jgbuff', u'jggibbs', u'jgirotto', u'jglazer75', u'jglenn49', u'jgnam', u'jgreenearrow', u'jgurley', u'jhaitsma', u'jhall00', u'jhammel01', u'jhammerly', u'jharrington', u'jhartley', u'jhaven007', u'jhchan', u'jhenderson88', u'jhicks12', u'jhimstedt', u'jhire70', u'jhoban19', u'jhollick', u'jholmes', u'jhonnieG', u'jhp40219', u'jhreginaldi', u'jhscarborough', u'jhtipton', u'jhu1995', u'jhubeifc', u'jhughb', u'jhughes23', u'jhyatt', u'jibbyvonjibb', u'jifigz', u'jifranz', u'jiggahertz', u'jii', u'jikvig', u'jillmart', u'jim102864', u'jim1904', u'jim45804', u'jimboeric', u'jimbomill', u'jimbotrost', u'jimboween', u'jimbus', u'jimcmiller2003', u'jimdkc', u'jimhonnaker', u'jimhowardsmith', u'jimiboi', u'jimifranchise', u'jiminindy', u'jimithebeerguy', u'jimiv73', u'jimixr', u'jimj21', u'jimland', u'jimlin', u'jimmaay', u'jimmothy86', u'jimmy82063', u'jimmydfrompa', u'jimmys3rdEye', u'jimmytheleg', u'jimmyvegas', u'jimnolimit', u'jimray', u'jims4210', u'jimsimply', u'jimspivey8', u'jisom123', u'jizdepski', u'jizfiasco', u'jj21', u'jj311', u'jjamieson36', u'jjanega08', u'jjansen', u'jjayjaye', u'jjazz', u'jjboesen', u'jjboyd', u'jjchristiano', u'jjfancybeers', u'jjflash20', u'jjh19', u'jjhbrfdds', u'jjhuffo', u'jjjeremy', u'jjkatter', u'jjkindalli', u'jjmunro', u'jjohnnyj', u'jjohnson', u'jjshowal', u'jjsleeper', u'jjubinvi', u'jjudge', u'jkaiser150', u'jkanavel', u'jkane101', u'jkaufman', u'jkbusman', u'jkc88', u'jkcurran99', u'jkdrummer', u'jkeane22', u'jkeller', u'jkempe11', u'jkempton', u'jkendrick', u'jkgraham', u'jkk109', u'jklinck', u'jknotwell', u'jkoogler', u'jkorbes', u'jkpm', u'jkrich', u'jktooley', u'jkwikkel', u'jkwuc89', u'jl8ltj', u'jla12', u'jlandis', u'jlannon', u'jlapennas', u'jlaplume76', u'jlb307', u'jlb502', u'jlenik', u'jlervine', u'jletts', u'jlewin', u'jlh8643', u'jlindros', u'jlipski', u'jlmarshall', u'jlmjl', u'jlpayne', u'jlpepper13', u'jlpred55', u'jlpressel', u'jlpryan', u'jlruthven84', u'jm1229', u'jmacdaddy2008', u'jmackeen', u'jmacpher', u'jmadrigal2', u'jmagnus87', u'jmalex', u'jman42', u'jman892', u'jmapple111', u'jmarc559', u'jmarklan', u'jmarsh123', u'jmarvin4189', u'jmatthew', u'jmaur345', u'jmbranum', u'jmc44', u'jmcgnn', u'jmdrpi', u'jmeador85', u'jmerloni', u'jmeyers78', u'jmfc8237', u'jmh210', u'jmhart', u'jmich24', u'jmichaeldesign', u'jmichaelp', u'jminsc76', u'jmjackson6880', u'jmkleymann', u'jmkratt', u'jmmakare', u'jmont1962', u'jmooy', u'jmp491', u'jmperez', u'jmpizzo', u'jmrydholm', u'jmscott', u'jmshipe', u'jmshulk', u'jmubrewer', u'jmugg', u'jmunsters', u'jmusic', u'jmvecchio1', u'jmw141', u'jmyers89', u'jmz62565', u'jnaz', u'jneiswender', u'jnelriley', u'jnelson54', u'jneuff', u'jnezda', u'jnfs', u'jngle24', u'jniagar1', u'jnm2008', u'jnn4v', u'joannavandenhaag', u'jobcrackerbah', u'jobyone', u'jockoELP', u'jockstrap2234', u'jockstrappy', u'jocosa', u'jodmike2000', u'jodyanthony', u'joe1510', u'joeack', u'joeament', u'joebags', u'joebeerdude', u'joeblackasnite', u'joebrewer', u'joebrewinesq', u'joecast', u'joedon', u'joedougherty', u'joefeidt', u'joefuzz', u'joegerards', u'joegrimes', u'joehawk333', u'joehiatt', u'joehop67', u'joejost', u'joek440', u'joekfsu', u'joekintyhtt', u'joekoolsnoopy', u'joeland', u'joelbb14', u'joeldp144', u'joeldtaylor', u'joellongview', u'joelshults', u'joemacpherson', u'joemcgrath27', u'joemeister', u'joepais', u'joepav92580', u'joeplyr', u'joeren', u'joerodiii', u'joesc230', u'joeshmo21', u'joesixpack', u'joeskirkie', u'joesmithrealname', u'joev', u'joeyels', u'joeykratz', u'joeysmokedporter', u'joeyspit', u'joezak5', u'jogadubwise', u'johannasclimacus', u'johanvond', u'johlendorf', u'johnbarrett', u'johnbjaeger', u'johnbonham1980', u'johncampbell', u'johnd513', u'johndoe8', u'johndrinkspliny', u'johne30587', u'johnfroy', u'johnfurbock', u'johnjuan8', u'johnkale', u'johnmacera', u'johnmichael712', u'johnmichaelsen', u'johnnasset', u'johnniemarg', u'johnnieoz', u'johnnnniee', u'johnnyb3', u'johnnybgood', u'johnnybgood1999', u'johnnyblaze1979', u'johnnybravo', u'johnnydollar', u'johnnygolden', u'johnnyirishman', u'johnnylandmine', u'johnnymoto', u'johnnysky16', u'johnnytfresh245', u'johnpmitchell', u'johnqdiablo', u'johnrf', u'johnrobe', u'johnsaulrubio', u'johnshuster', u'johnsonkr', u'johntangus', u'johntbs', u'johntp', u'johnwarne', u'johnymac2', u'jojomdma', u'jojox', u'jokeefe80', u'jokelahoma', u'jomo', u'jonB', u'jonahjuice', u'jonakerman', u'jonandhisflask', u'jonasfjt51', u'jonb5', u'jonbad19', u'jondeelee', u'jonedm', u'jones140', u'jones3aj', u'jonesy613', u'jonesy77', u'jongillin', u'jongullotti', u'jonkissee', u'jonnylieberman', u'jonnyoyeah', u'jonnypopgun', u'jonstep', u'jonsvws', u'jonvan04', u'jonworth', u'jonziefle', u'jool', u'joozyboozy', u'jophish17', u'jopl', u'jordanblaskey', u'jordankoza', u'jordanmattes', u'jordanmills', u'jordoo', u'jordynelson', u'jorg2619', u'jorjoria', u'josebartz', u'josefnewsong', u'josephoselander', u'josh07039', u'josh239', u'joshbatt', u'joshgambit', u'joshk', u'joshkennedy', u'joshlara', u'joshleo', u'joshmickelson', u'joshmkelly', u'joshmv', u'joshotron', u'joshrob06', u'joshrosborne', u'joshsbeerblog', u'joshstevens87', u'josht', u'joshuaburge', u'joshuacavett', u'joshuadlight', u'joshuaholt10', u'joshuasamantha', u'joshuaseresse', u'joshuatow', u'joshwilliams', u'joshwlt', u'josiahschlender', u'jourdanUGA', u'jovy1097', u'jowilant', u'joyastarr', u'joythief07', u'jozols', u'jp007', u'jp62099', u'jpagewatts', u'jpalarchio', u'jpaltan', u'jpbdeutschland', u'jpbebeau', u'jpelder1', u'jperls', u'jpeterman', u'jpgoodin', u'jph424', u'jpinkard', u'jpiper', u'jpittman80', u'jpkoch1962', u'jpm30', u'jpmclaug', u'jpnasty', u'jpoder', u'jpopejoy', u'jporf911', u'jporter188', u'jpr022', u'jpro', u'jps40', u'jpschouest', u'jpwadd', u'jpweisel', u'jpwild240', u'jpwilliamson', u'jr0d420', u'jr333', u'jradams76', u'jrallen34', u'jrarthur', u'jraycee', u'jrb1001', u'jrbuch', u'jrc01003', u'jrc64', u'jrdegriselles', u'jrebew', u'jred98rt', u'jrehmert', u'jreid53', u'jreitman', u'jrenihan', u'jrenn', u'jrhitchings', u'jrish', u'jrjohnso', u'jrnold', u'jrnyc', u'jrobbyrob', u'jrockstar90', u'jrodvog148', u'jrosene', u'jrsone', u'jrsully77', u'jrtobin', u'jrw5061', u'jsanford', u'jsanto', u'jsapunor', u'jsavino', u'jsbrendle', u'jschmitz', u'jschuster', u'jscondon', u'jscottku21', u'jsdunlop', u'jsed14', u'jseekamp84', u'jsg2220', u'jsgpu90', u'jsgreen16', u'jsh420', u'jsimmons', u'jsimon816', u'jsimons8', u'jsinnott', u'jsisko01', u'jskinner10', u'jskoog', u'jsled', u'jslern', u'jslot38', u'jsm1289', u'jsmurphy', u'jsolack', u'json83', u'jsouza', u'jsp', u'jsp2', u'jspace3', u'jspegg', u'jspooner', u'jsprain1', u'jspruit', u'jss38', u'jss79', u'jssheets', u'jstassi', u'jsteak523', u'jstilwell', u'jstnlowe', u'jstocksazag12', u'jstrahan', u'jsul3155', u'jsulko', u'jswigart', u'jsword25', u'jt31914', u'jt9636', u'jtd1969', u'jte', u'jtell', u'jtfest', u'jthahn', u'jtharrisbeer', u'jtheheist', u'jthomp000', u'jthor018', u'jtierney89', u'jtingue', u'jtinks', u'jtk', u'jtm5044', u'jtmOBX', u'jtneal111', u'jtothamo', u'jtpaperstacks', u'jtrem14', u'jtrockchalk', u'jtschroeter', u'jtslay', u'jtstott', u'jtucker7', u'jtw5877', u'juankzas', u'jubnat', u'juddalovin', u'juhl31', u'juiceboxdotnet', u'juicestam', u'juicy1484', u'juju341', u'juju7', u'jujubeast6000', u'jukeboxbox', u'jukesk9', u'julian', u'julian1117', u'julian89', u'julie1485', u'jumb0jet', u'jungleboof', u'juniorforce', u'junjun', u'junker18', u'junkman203', u'jupe13', u'jushoppy2beer', u'justcas', u'justfranks', u'justiceavocado', u'justin7742', u'justincobb', u'justincolts', u'justinjj1280', u'justinmartz', u'justintcoons', u'justncase80', u'justubean', u'juzy', u'jvajda', u'jvande7', u'jvdineen', u'jvillefan', u'jvlpdillon', u'jvmudd01', u'jvoelker', u'jvonkluck', u'jwalker37', u'jward', u'jwarren2388', u'jwax13', u'jwaybrewben', u'jwc215', u'jwebster412', u'jwellborn', u'jwff', u'jwfleck', u'jwhancher', u'jwhawkins81', u'jwheeler85', u'jwhite1979', u'jwhite82', u'jwillcourt', u'jwilli7122', u'jwilly03', u'jwilson', u'jwinkleblech', u'jwinship83', u'jwjeep1', u'jwjon1', u'jwm232', u'jwoizesk', u'jwolfie70', u'jwpurdy', u'jwweaver77', u'jxboldaslovexh', u'jxg948', u'jxhill', u'jxhowell', u'jyeast101', u'jyuhas', u'jzeilinger', u'jzholloway', u'jzm2500', u'jzmaxson27', u'jzolli', u'jzsams', u'k374', u'k3n', u'k3punk', u'k75', u'k7sw', u'kRaa', u'kaboose72', u'kackerlacka', u'kaelingirl', u'kagent777', u'kahjdfh', u'kaidasz', u'kaimcm', u'kaips1', u'kaiserbrown', u'kajerm', u'kakti', u'kalkavekkian', u'kallay', u'kamiller', u'kangarooAdam59', u'kansascity', u'kansascitytrader', u'kansasjohn', u'kanshiketsu', u'kaos14', u'kappldav123', u'karengarys', u'karin', u'karlbronson', u'karlf', u'karma99', u'karmaghost', u'karros270', u'karst', u'kaseydad', u'kashmir67', u'kashmoney', u'kasper', u'kaszeta', u'katan', u'katdaddy210', u'katelovesbeer', u'katethegreat', u'katieandtodd', u'katiebecck', u'katlynn04', u'katybee', u'kawilliams81', u'kayaeye', u'kayalla', u'kaybort', u'kaydeKat', u'kazmanbrew', u'kazmaniac', u'kb199', u'kballer', u'kbanks13', u'kbeals', u'kbkayla', u'kbm', u'kbnooshay', u'kboett77', u'kbrady9', u'kbraniga', u'kbrinson', u'kbub6f', u'kbuff13', u'kbutler1', u'kbuzz', u'kcbearkat', u'kcbrewfan', u'kcdc', u'kchag', u'kchannel9', u'kcillini77', u'kcinlober', u'kcirtap', u'kcopelan002', u'kcr357', u'kcsc007', u'kcstevens', u'kdales77', u'kdawg105', u'kdb8r4', u'kdiggidy', u'kdmcguire10', u'kdmorse', u'kdoc8', u'kdog630', u'kdorgan12', u'kdp2011', u'kdpark', u'kdpine', u'kdrobb2k', u'kds10011', u'keanex', u'keaston', u'keaton', u'kedlav', u'keeganfrank', u'keenberg87', u'keeper006', u'keeperchaos', u'keepersj12', u'keethrax', u'kegerator', u'kegger22', u'kegstand', u'keifffff', u'keilerdunkel', u'keith712', u'keith98895', u'keithmurray', u'keitho', u'keithricker', u'kekasper', u'kell50', u'kellertrumpet', u'kellog', u'kellsean', u'kellypodz', u'kellyst', u'kellywilson50', u'kels', u'kelticblood', u'kelvarus', u'kemoarps', u'ken2cart1', u'ken3c', u'kenatbeerswap', u'kenco12', u'kenito799', u'kenkochiss', u'kenn', u'kennedymattj', u'kennethska', u'kenneyho', u'kennin', u'kennylopez', u'kennyo', u'kenoftheyear', u'kenpo23', u'kensuthe', u'kent4beer', u'kentawan', u'kenwick', u'keoki182', u'keplertronics', u'kerklein2', u'kernalklink', u'kerouac', u'kershner23', u'ketchepillar', u'kevanb', u'kevd193213', u'kevenw98', u'kevin62', u'kevin718', u'kevinbudd', u'kevinconroy', u'kevindudek28', u'kevinglin', u'kevinhagen', u'kevinhulit', u'kevinjosephlee', u'kevinl6', u'kevinphish', u'kevinv', u'kevman527', u'kevo237', u'kevrob822', u'kexp', u'keydiddy', u'keyn', u'keyrouse', u'keyserkeg', u'keysofebony', u'keytones', u'keytown', u'kflack', u'kflorence', u'kfordham281', u'kfoss99', u'kfsv034', u'kgmurphy13', u'kgotcher', u'kgreen2k1', u'kgrober', u'kgs', u'kguyty', u'khagglund', u'kharaku', u'khd420', u'kheldar', u'khgeffigy', u'khiasmus', u'khill', u'khinman7', u'khoff82', u'khumbard', u'kickapoodude', u'kickert', u'kicktothehead', u'kidcas', u'kiddwhiz', u'kiddynamite920', u'kidhatesyou', u'kifn2', u'kikobcn', u'kilks', u'killthehatred', u'kilustration', u'kimber45acp', u'kimbo33', u'kimcgolf', u'kimd03', u'kimmoa147', u'kindacold', u'kindahungover', u'kindestcut', u'king75', u'kingalthe1st', u'kingchowchowwoof', u'kingcrimson', u'kingcrowing', u'kinged8th', u'kinger', u'kingface', u'kinggeedorah', u'kinghotpants', u'kingjames1', u'kingothewoods', u'kingrob615', u'kingtheater', u'kinnaird', u'kinupanda', u'kipling', u'kirkhorse', u'kirkmichel', u'kirkpjr', u'kirok1999', u'kirschy805', u'kitty66', u'kittylitter', u'kittylover7249', u'kittyplop', u'kittywamp', u'kiwanomelon', u'kiya', u'kizzypuppy', u'kjburrows', u'kjc51478', u'kjcourt', u'kjh5040', u'kjkopenski', u'kjloewe', u'kjlued', u'kjritt', u'kjussel', u'kjyost', u'kk73', u'kkipple', u'kkosmoski', u'kkoz', u'kkrez', u'klaybie', u'kldobbins', u'kleffman', u'kleing', u'klevelandrocks', u'klewis', u'klikger', u'klink40', u'klintok21', u'klk', u'klkatz', u'klow1', u'klshanks', u'kmac101', u'kmacphail', u'kmasi345', u'kmatlack', u'kmbaker', u'kmcnair', u'kmdawber', u'kmelwing', u'kmeves', u'kmk272727', u'kmo1030', u'kmoore149', u'kmpitz2', u'kms399', u'kms910', u'kmsimon', u'kmudrick', u'kmyers1214', u'kneeland', u'knephews', u'knepper', u'knight84', u'knightred', u'knm', u'knofac', u'knowledge', u'knox07', u'knoxtennessee', u'knucks999', u'knullefaen', u'kobainisalive', u'kobe9985', u'kobeer', u'kochea7', u'kohoutek', u'kojevergas', u'kola', u'kolbe', u'konabrewer', u'konadrinker', u'koolchas', u'koolex11', u'koolk', u'koolkat', u'koopa', u'kootermeatman', u'kooy005', u'kopper65', u'korektphool', u'korguy123', u'korndog', u'kosmoraios', u'kotayk', u'koticphreak', u'kozmo', u'kpantz', u'kpcart', u'kpmule', u'kpoole25', u'kpr121', u'kpw1000', u'kpwill07', u'kraken6100', u'kralmatej', u'kramerboy', u'kramerjt', u'kranker23', u'krantul', u'krasznaig', u'kratos69', u'krausenman', u'kraven', u'krawdaddy7', u'krayziejman', u'krazyboi', u'krazycure', u'krazyorange', u'krberg', u'krckrjck', u'krdowney', u'kreeper', u'krendelfish', u'krenjur', u'krequa', u'kripke', u'krisandajt', u'kristenrae8', u'krizzause', u'krkearney', u'krukster', u'krunchie', u'kruse', u'kruthar', u'kry1027', u'kryorkill', u'ksbeernuts', u'ksbrainard', u'kscaldef', u'kshankar', u'kshiemke', u'ksimons', u'kslsc400', u'ksmi116', u'ksmiley', u'kspongeworthy', u'kstokem', u'kstoltz', u'ksullnh', u'ktel', u'ktmaineiac', u'ktrillionaire', u'ktrout', u'ktsaiucla', u'kubilus1', u'kuchen75', u'kueric', u'kuhlektore', u'kundabuffer', u'kundog18', u'kungpao', u'kunstdrache', u'kunzbrew', u'kuranes', u'kurlare', u'kurp001', u'kurtiobst', u'kurtissellen', u'kurtisw', u'kush428', u'kush6875', u'kuykendall', u'kvazzo', u'kvltmetalhead', u'kw24ever', u'kwakwhore', u'kwalters', u'kwc017', u'kwesib', u'kwiik', u'kwill', u'kwjd', u'kwm13', u'kxcdman', u'kyleec', u'kyleelton', u'kyleg', u'kylegillick', u'kylehay2004', u'kylehayworth', u'kyleisdumb', u'kylejohnson03', u'kylemittskus', u'kylephillips', u'kylers', u'kylesobrien', u'kytashie', u'kzczp0', u'kzoobrew', u'l33tNinjaPirate', u'l3ftonm3', u'l4n3', u'labowski', u'lackenhauser', u'lackingfocus', u'lacqueredmouse', u'ladyfirefighter', u'ladygodiva', u'laffinsays', u'lagerbagger', u'lagermanny', u'lagomswedish', u'lagrin', u'laintringulis', u'laituegonflable', u'lakersfan16', u'lakestclairgoose', u'lakevalley', u'lakeviewmike', u'lamarr04', u'lambpasty', u'lamergod', u'laminado', u'lampkins', u'lanamj', u'lanbewardin', u'lancecenter', u'lancecjohnson', u'landonh', u'lanechaffin', u'langcpa', u'langept', u'langfot99', u'langm12', u'lansingj24', u'lantern1977', u'lapbplayr', u'larcoal', u'largadeer', u'largecar73', u'larisonbrew', u'lark', u'larryi86', u'larrytm56', u'larsee01', u'larsenju', u'larstheberserk', u'lastauss', u'lastdoctor', u'lastnightintown2', u'latackbeer', u'latercol', u'laughatdanger11', u'laurennn', u'lavalamp69', u'lavellen', u'lawaaaw', u'lawlerj', u'lawman834', u'lawrence76', u'lawrenceVZ', u'layinbrix', u'laza1979', u'lazjuarez', u'lazy8', u'lazyboy247', u'lazyloser', u'lazyslacker', u'lbaker', u'lbf', u'lbk105', u'lbkornlb14', u'lbower860', u'lcarlo', u'lcbNO', u'lcollis4', u'lcramer', u'leaddog', u'leadguit1', u'leadman', u'leagr', u'leakyfaucet12', u'leansean88', u'leantom', u'lecherous', u'lechowski', u'lechroy', u'ledemie', u'ledomelor', u'ledzepp817', u'leeaa01', u'leeburg', u'leechungsr', u'leecschmidt', u'leedorham', u'leeenglewood', u'leem', u'leepw2313', u'leeswagerty', u'leetyankees', u'lefchr051', u'leftmindedrighty', u'lefty', u'legalpete19340', u'legatovibrato24', u'lehawes', u'lehkost', u'lehows', u'leif86', u'leighton', u'leinie13', u'leipsicbob', u'lemasney', u'lement92', u'lemons', u'lemonwood', u'lenin2040', u'lennerja', u'lenzj247', u'leojharris', u'leokbelo', u'leonjenks', u'les1721', u'lesann87', u'leschkie', u'lespaul006', u'lespaul85', u'lespaulrocker', u'lessthanhadley', u'lestat314', u'lester619', u'letLoose', u'letsgoMets', u'letsgoblue89', u'letsgopanthers', u'letsgopens', u'letsgowhalers', u'letters4jeff', u'letzgo86', u'levbec', u'leviathan85', u'levifunk', u'levir08', u'levurek', u'leweascoba', u'lewis1rg', u'lewis8', u'lewwjr', u'lewybrewing', u'lewzer99', u'lexicondevil', u'lfd807', u'lflesh', u'lfrouse', u'lhaqq', u'lhibbard', u'liabobia', u'liammaloney', u'liamt07', u'libbekat', u'libbey', u'libeerguy', u'libertygrails', u'librarysports', u'liddytime', u'liecker', u'lifebeer', u'lifeboyq', u'lightindarkness', u'lightspeedplus1', u'likestoswallow', u'likethetaste', u'lilbigbudy', u'lilbuddha', u'lilbug09', u'lillearner', u'lilnardey', u'lilp', u'lilwineman', u'limabeverage', u'lincoln44', u'lindenboy', u'linecook12', u'linemanrt60', u'linguicafest', u'linkboy77', u'linnet', u'linusbwell', u'linuxn00b2004', u'lionchow', u'lionking', u'liporto', u'lipschitz', u'liquidcraft', u'liquide', u'liquidluker1', u'liquidnoise', u'liquidsunshine', u'liquorbucket', u'liquoredgoat', u'lisaode', u'lisomiso', u'litheum94', u'litlrch', u'littlebibs', u'littleeguiedo', u'littleg', u'littlekidlover', u'littlelorib', u'littlesgtpepper', u'littleshamrocks', u'littleshovel', u'liveandletdie', u'livedrinkbeer', u'livewire05', u'livewire78', u'livin4jc', u'livingregret', u'ljbrisson', u'ljette', u'ljs61387', u'llitsua', u'lllarzzz', u'llllDrGONZOllll', u'lloyd83', u'llyushin', u'lmdengis', u'lmuir', u'lnashsig', u'lobisser', u'loboD113', u'localhost', u'localone703', u'locarboy', u'locstir', u'locthebloke', u'loftisCT', u'logan0203', u'loganmule', u'logansboat15', u'logdogg', u'logelinjl', u'logicallypositiv', u'logmacschlog15', u'lokicat444', u'lokiikol', u'lolki', u'lollygagr', u'lolo317', u'lolwut', u'london1o1', u'lonestar1836', u'lonestar4lunch', u'long4hops', u'longarm', u'longbongsilver', u'longdivision', u'longpondbeerman', u'longwaytofall', u'loobear', u'lookitsfelias', u'lookitsmp', u'lookslikeabum', u'loosey', u'loozer789', u'lord2408', u'lord2464', u'lordbrad1', u'lordcoltcom', u'lordeche', u'lordfauber', u'lordkman', u'lordofthesox', u'lordofthewiens', u'lordredsnake', u'loren01', u'losdizzel', u'lostandwandering', u'lostbearbrew', u'lostdesperato', u'lostfrost', u'lostsurf24', u'lostwars', u'lotsuvhopsuv', u'lou50rp', u'lou91', u'loukennel', u'loutibbs', u'louturc', u'loveingminor', u'loveitdark', u'loveshischimay', u'lovesoutherntier', u'lovesweatbeers', u'lovethedeadguy', u'lovetranquillity', u'lovindahops', u'loving44', u'lowbrau', u'lowbrau68', u'loweball727', u'lowgear', u'lownote', u'lpayette', u'lpb1970', u'lpdean', u'lph0911', u'lpritchard', u'lr99gt', u'lramsey48', u'lrb23', u'lreice', u'lrntsrg', u'lsfrontman', u'lsholtzen', u'lsrose', u'lstokes', u'ltjska04', u'ltwhiskers', u'luc2057', u'lucasbm', u'lucasj82', u'luchris80', u'luciusgilmer', u'ludachris', u'luecke23', u'lugosi33', u'luigi205', u'luisfrancisco', u'lukeharrison', u'lukekruse1', u'lukester', u'luketerlaak', u'lukymann', u'lumberjackism', u'lumikuuro', u'lunchbox704', u'lungboy', u'lured2fish', u'lurpy1', u'lusciouslambic', u'lush101', u'luvGoldenMonkey', u'luvND', u'luvbeer', u'luvsMeaBock', u'luxbwin', u'lvbs', u'lweaver18240', u'lwhcchh', u'lwillitz', u'lwootton', u'lxCheshireCatxl', u'lykonluck', u'lynchmob9', u'lynchtae', u'lynx1245', u'lyons5223', u'lyonsthe3rd', u'lysistrata', u'lythea', u'lyttleb', u'm1ked', u'm1kekim', u'm2paulun', u'm3shuggah', u'ma121606', u'maawallace', u'mabirch', u'mabs', u'mac56', u'maccroz', u'machinelf', u'machostacos', u'mackd', u'macktbone', u'mackwhitlock', u'macleod', u'macmaster761', u'macpapi', u'macphersonj', u'macrent2', u'macster', u'mactrail', u'macx420', u'madamebeer', u'madarab55', u'madbrewer9', u'maddamish', u'maddmatt48', u'maddmaxstar', u'maddog13lb', u'maddogruss', u'maddydaddy', u'madeindade', u'madelf', u'madeofsteel', u'madjr80', u'madking666', u'madman69', u'madmanjf', u'madmax1775', u'madnick', u'madpentzer', u'madsquish', u'madtappers', u'madtowndmb1', u'madtrixter787', u'madvermin', u'madvoice', u'madwoodee', u'maek228', u'maestrophil', u'maestrotmbg', u'mafeeker', u'mafiasentinel21', u'magget', u'maggotbrain', u'magicgnome', u'magictacosinus', u'magictrokini', u'magikbaker', u'magine', u'magnj', u'magnod', u'magnus', u'magoo0903', u'magoo1960', u'mah0019', u'mahargcornsilk', u'mainlyale', u'maitiuoceallaigh', u'majaqua', u'majesticsock', u'majorhavok', u'makdeco', u'makinbacon', u'makisupa', u'makoshark', u'malabar21', u'malarichm', u'malcolm723', u'malcontent', u'maleman', u'males', u'malibujohnny', u'malloyca', u'mallthus', u'malmquna', u'maltedmilk', u'malthead', u'malthegal', u'maltiavelli', u'maltician', u'maltlikker', u'maltmaniac', u'maltmelon', u'maltmonster', u'maltnhop5', u'maltomeal', u'maltstress', u'maltusaurelius', u'malty', u'maltydog', u'maltymama', u'maltysfalcon', u'malysz7', u'mambiso1123', u'manahansf', u'manbrognig74', u'manchester81', u'mancide', u'mandarin', u'mandolinhomebrew', u'mandoskippy', u'mandudoguyo', u'manfrombadaxe', u'mangledorf', u'maniac', u'manitouman84', u'manja0banja', u'manjanai', u'manko99', u'manleyphoto', u'mannish', u'manofmanners', u'manutd5', u'manwich', u'manzilla86', u'maples', u'mapman97', u'mapofhawaii', u'mapofthedead', u'marble', u'marburg', u'marc77', u'marc956', u'marcel', u'marcellaproust', u'marchoftheclouds', u'marclaurence2000', u'marco', u'marcobrau', u'marcpal', u'marct', u'marcusR111', u'marden74', u'mareth01', u'mareyna82', u'margo', u'mariecupcake', u'marikoangel', u'marinebiostu', u'marinermc', u'marinobrew', u'mariposafan', u'maristfan', u'marjenmiller', u'mark5032', u'markaberrant', u'markas101', u'markb', u'markb33', u'markb40', u'markbatonrouge', u'markboarder', u'markchev', u'markcondit', u'marketesq', u'markferdinand', u'markgugs', u'markhobbs1', u'markjanderson86', u'marklar', u'markman', u'markpiazza', u'markrubbo', u'marksahara', u'markschiedon', u'markskar', u'marksto', u'marksweiner', u'markwise', u'marlinsfan4', u'marmenta', u'marqoid', u'marquinoftroy', u'marrisotter', u'marshallyyz', u'marshmelt', u'marshrat63', u'martincm', u'martinmayhem', u'martja', u'marty21', u'martymc', u'martymoat', u'martyspittler', u'martysullivan42', u'martywest', u'martyyy1', u'marvin213', u'marypha', u'marzen', u'masey222', u'mash4077', u'mashedpotatoes', u'mashmstr2', u'masikon', u'maskaggs', u'maskednegator', u'masonjer', u'masonl', u'massshortage', u'masstransplant', u'mastelma', u'masterallen', u'masterbruewer', u'masterchiefMD', u'masterhomebrewer', u'masterkush', u'masterofchaos', u'mastodonj', u'mat5175', u'mataelbata', u'match1112', u'matchbox9', u'matchz', u'matdot', u'mater', u'mathias', u'matildamd', u'matjack85', u'matracy68', u'matsputis', u'matt062286', u'matt20102', u'matt3lewis', u'matt7215', u'mattXdezzi', u'mattalive', u'mattarnold', u'mattbatt', u'mattbeer', u'mattbell', u'mattbing', u'mattbk', u'mattboyer182', u'mattcomstock213', u'mattcrill', u'mattd017', u'mattdavis452', u'mattdev', u'mattf311', u'mattffrost', u'mattgert', u'mattgreger', u'matthewalee', u'matthewb9', u'matthewduffin', u'matthewfox79', u'matthewfuchs', u'matthewjk', u'mattisloco', u'mattjv', u'mattkooler', u'mattkoon', u'mattloaf1', u'mattman688', u'mattmaples', u'mattmascari', u'mattmcmanus', u'mattmuck11', u'mattocs', u'mattp', u'mattpetti', u'mattpoin', u'mattr20', u'mattsdenney', u'mattsg', u'mattster', u'mattthunder', u'matttttYCE', u'mattviator', u'mattwjones', u'matty', u'matty2790', u'mattyb', u'mattyb319', u'mattyguenther', u'matylight', u'matyp99', u'maui4me', u'maulermithel', u'maundythirsty', u'maurag10', u'mavbrew', u'maven2k', u'mavesba', u'mawacki', u'maximum12', u'maximumsheehan', u'maxk', u'maxpower', u'maxxwelle', u'mayamike', u'maybrick', u'mayor55', u'mayorwalda', u'mazingblue', u'mazstar', u'mbarbuto2002', u'mbarn59', u'mbatley', u'mbbevers', u'mbboc15', u'mbenthall', u'mbjacob', u'mbo34', u'mbradle3', u'mbrady55', u'mbrandon2w', u'mbrasi', u'mbrooks', u'mbrown1102', u'mbrown26', u'mbudner', u'mbulandr', u'mbunje', u'mburkholtz', u'mbusster88', u'mbutter1997', u'mbuzzard', u'mc1775', u'mc98gg', u'mcBrewsAlot', u'mca47', u'mcalceet', u'mcallister', u'mcampanella', u'mcann2pu', u'mcarroll10177', u'mcashby', u'mcaulifww', u'mcb4538', u'mcbSTL', u'mcbackus', u'mcbarry77', u'mcbiydw2', u'mcboi1992', u'mccainca', u'mccarltone', u'mcclurmc', u'mccordbmw', u'mcd333', u'mcdevster', u'mcerka', u'mcfatty23', u'mcfisty', u'mcgeesc', u'mcguirmn', u'mcgwire756', u'mchlipala', u'mci', u'mcintits', u'mckajd03', u'mckemp', u'mckeowbc', u'mclaincausey', u'mclanem', u'mcleester', u'mcleod1455', u'mcmidc', u'mcnabb0001', u'mcnkuckles', u'mcnut', u'mcoh1030', u'mcomben', u'mcowgill', u'mcraw88', u'mcroper', u'mcslain', u'mcslims', u'mcsquint', u'mcstellar', u'mcsweep', u'mcwilson04', u'md311', u'md655321', u'mdagnew', u'mdale13', u'mdalston17', u'mdaschaf', u'mdavis31481', u'mdawson', u'mday', u'mdbdoc', u'mdcrouser', u'mdedwards', u'mdfb79', u'mdhunter', u'mdisher', u'mdkunzman', u'mdm4584', u'mdm46410', u'mdmako', u'mdnowak', u'mdogg', u'mdoyle1', u'mdquigley', u'mdr4669', u'mdresser', u'mdruiz', u'mdubord', u'mdubzfrumpdubz', u'mdumont', u'mduncan', u'mdunman', u'mdup8819', u'mdvatab', u'mdw1980', u'mdwalsh', u'meadhead', u'meatbeagle', u'meathookjones', u'meatmallet', u'meatyard', u'mecell2000', u'mechamifune', u'mechler', u'mechtech', u'meday', u'medic25', u'medic3616', u'medicineman25', u'medicvet66', u'meechum', u'meeekyh', u'meegs', u'meeomie', u'megahurts4', u'megapyro6', u'megatronstein', u'megletaj', u'megsue82', u'meich75', u'meintempe', u'meisburger', u'meister23', u'meisterkirke', u'mejustowen', u'melagnus', u'mello', u'melloashello', u'mellocello2003', u'mellowmark', u'mellowmoocow', u'melmoth100', u'melomel', u'melon123', u'meltinjohn', u'memory', u'mempath', u'memphischas', u'menace', u'mendonjoebeer', u'mendozozoza', u'mentaltraveller', u'mentor', u'mentz99', u'meowmix', u'mephifaust', u'mer191', u'merari', u'merc7186', u'merddyn2002', u'mereed2', u'merlin48', u'merryjoulton', u'merzeone', u'mesadanboogieman', u'mesofat', u'mesperon', u'messyhair42', u'metal850', u'metalhead3', u'metalitool', u'metallistout', u'metaltec15', u'methodius', u'methtlcai', u'metromiami', u'metropolis', u'mets1986', u'metter98', u'mevans05', u'meverbeaver', u'mewanderinghome', u'mexikrainian', u'meyerds', u'mf2004champ', u'mfabian12', u'mfcohiba', u'mfergus3', u'mfg143', u'mfgeorge', u'mfhlucky13', u'mfkr', u'mfleischauer', u'mfloydpink', u'mfreire212', u'mfrogs', u'mfunk9786', u'mgabrielayersu', u'mgaddy', u'mgbickel', u'mgdeth', u'mgeagles', u'mgeraci', u'mghotbi', u'mgmvh', u'mgoblue5743', u'mgobrew', u'mgp2675', u'mgp80', u'mgreenlaw', u'mgy100', u'mhackner', u'mhagan', u'mhatters', u'mhaugan', u'mhaws000', u'mheckman', u'mheide', u'mherring', u'mhewes', u'mhexum', u'mhillard', u'mhoman', u'mhoudeshell', u'mhowell', u'mhpalmer', u'mhraue', u'mht2113', u'mi6234', u'miadw3', u'micahgoldfus', u'micahk', u'micahmax', u'micalj', u'micb', u'michaelbutler', u'michaelc916', u'michaeld23', u'michaelgirvine', u'michaelgrant1983', u'michaelgulden', u'michaelk1985', u'michaelp937', u'michaelpcarney', u'michaelphines', u'michaeltrego', u'michaelwarling', u'michdmb', u'michfan23', u'michiganbeerfan', u'michilovesbeer', u'michizane', u'michultrachick', u'mickeymac', u'mickeyrocs', u'mickmantle', u'mickstepp', u'micmillon18', u'micro108', u'microbrew52', u'micromaniac129', u'micromatt', u'microwavabledish', u'micvin', u'midaszero', u'midcoaster', u'middarobusto', u'midlifec', u'midnite2sixman', u'midweb23', u'midwestbrewers', u'midworken', u'mig78', u'mightyheadbrew', u'mightyhef', u'mightyj', u'mightyjoemoon', u'mightymalt', u'mightymoksha', u'mikaelisu', u'mike1290', u'mike130', u'mike24', u'mike4aker', u'mikeaji', u'mikeal1917', u'mikeale', u'mikebeane', u'mikebeat1', u'mikebiewer', u'mikeborglum', u'mikechance', u'mikecharley', u'mikedashg', u'mikedepue', u'mikedevilsfan', u'mikedgt', u'mikedotnet', u'mikedownstttt', u'mikedrinksbeer2', u'mikeepeck', u'mikefromcanada', u'mikeg67', u'mikegodat', u'mikegreen138', u'mikehartmann45', u'mikehblack', u'mikeissogroovy', u'mikejk305', u'mikejmadden', u'mikejo', u'mikejramsey', u'mikel52588', u'mikelf77', u'mikem0487', u'mikem929', u'mikemcnick', u'mikemoore8711', u'mikeohhh', u'mikepreed', u'mikepthe11', u'mikepuke79', u'mikeracki', u'mikereaser', u'mikeriley', u'mikering', u'mikes2923', u'mikescags', u'mikesgroove', u'mikeshoup', u'mikesreview', u'mikestan06', u'miket163', u'miketd', u'miketizzy28', u'miketyree24', u'mikey711', u'mikeys01', u'mikeyv35', u'miko', u'mikrosnd', u'mikul93', u'miles5000', u'milesfan76', u'milesmayhem', u'milkbaby9', u'milkjunkie666', u'milkthedog', u'millerproject', u'millertime150', u'millertyme71', u'milljs', u'millsn1', u'miltonclipper', u'mimicic', u'mindlucent2007', u'mindspin315', u'mingo1968', u'minion2', u'minishfinish', u'minnesotaryan', u'minnunderground', u'minterro', u'mintjellie', u'minzbigg', u'miollnir', u'miracle1001', u'miramanmike', u'mirdreams', u'mirish72', u'miromanyth', u'misameow56', u'misfit1034', u'mishuggah', u'misinformed', u'miskatonic', u'missdawn', u'missginsu', u'missilesilo', u'missingsense', u'missingtoes', u'mistakebythelake', u'mistaya', u'misterbryanc', u'misterdmac', u'misterdork', u'misterhilleke', u'misterhops', u'misterjeb', u'mistermonkey', u'misterscooter', u'mistersixstring', u'mistygoblin', u'mitche24', u'mitchelsliwa', u'mitchfor3', u'mithrascruor', u'mixcat', u'mixedbrewer', u'mixitchugit', u'mixylplik3', u'mizary', u'mizzoueng', u'mizzouguy', u'mizzourah', u'mj001jk', u'mj71', u'mja07003', u'mjalder2', u'mjarosz', u'mjaseattle', u'mjaskula', u'mjbrewboy', u'mjc410', u'mjd83goblue', u'mjfisher', u'mjforres', u'mjgardner', u'mjgarrett2', u'mjgoode33', u'mjgooner13', u'mjhorn', u'mjl21', u'mjmadden', u'mjmbeer', u'mjn12', u'mjn5036', u'mjnich', u'mjohn27603', u'mjpolzin', u'mjrauch', u'mjrod2142', u'mjrtoo', u'mjryan', u'mjsheehan08', u'mjthor', u'mjtiernan', u'mjurney', u'mjuthewise', u'mjvos', u'mjw06', u'mjw1200', u'mjw2808', u'mjwoolley33', u'mjyoung', u'mk3', u'mkabull', u'mkanesalndean', u'mkaplanes', u'mkennedy119', u'mklinger', u'mklooster', u'mkobes', u'mkopera24', u'mkorpal', u'mkostuch', u'mkotsayfan', u'mkraus', u'mkruz', u'mkyle', u'ml67', u'mlarger', u'mlaroche', u'mlasher1', u'mlazzaro', u'mlermontov', u'mleroux21', u'mlhall55', u'mlibby', u'mlounsbury', u'mlstarbuck', u'mltobin', u'mm931c', u'mmager', u'mmahut', u'mmakunas', u'mmatt1', u'mmaubenh', u'mmcary', u'mmcave', u'mmciz', u'mmedina210', u'mmeinhart', u'mmercede', u'mmielnik', u'mmmbeer', u'mmmd925', u'mmmdonuts12000', u'mmmmBEEEER', u'mmmmmbeeer', u'mmmramen', u'mmoore114', u'mmopt', u'mmr012100', u'mmsikora', u'mmthompson33', u'mmtroop1218', u'mmurphy525', u'mmva321', u'mn6', u'mnapier', u'mnbeerfool', u'mnesporov', u'mnfinnkidd', u'mnj21655', u'mnjeff', u'mnovacanes', u'mnrider', u'mnstorm99', u'mntlover', u'mnwags', u'mo197', u'mobbarley1', u'mobettabeer', u'mobius024', u'mobius387', u'mobud', u'mobyfann', u'mobyviacheslov', u'mochabudd', u'mochops', u'mochunk', u'mocktm', u'modernartblues', u'moderndrunkard', u'modernfollies', u'modpod', u'modus', u'moebeer385', u'moester13', u'moger777', u'mogger', u'mogul37', u'mohamedgoldstein', u'mojo437', u'mojopilot', u'moki', u'moklett', u'molegar76', u'molinator', u'mollymcgrue', u'mon0x1d3', u'mondegreen', u'moneytastesbad', u'mongee', u'mongodestroy', u'monitorpop', u'monkaass', u'monkey911', u'monkeybeer', u'monkeybleu', u'monkeybrew', u'monkeybutler', u'monkeylovebeer', u'monkeynaut', u'monkeyonmaibock', u'monkeyrotica', u'monkeytoe', u'monkjuice', u'monkton317', u'monoXcide', u'montageman', u'montauk7', u'montecristo2', u'montypython', u'montyshoewalker', u'moocey', u'moon0', u'mooner', u'moonman00', u'moonstalker', u'moose151', u'moose3285', u'mooseisloose', u'mooselvlt', u'moosemoose', u'mooseo', u'moosington', u'moosiz', u'mopargoof', u'mophie', u'moratorii', u'morayeel', u'morbiddrumer', u'morc', u'morebeerNOW', u'morebeergood', u'morehoppps', u'morenone', u'morimech', u'morseehj86', u'mortarit', u'moshiric', u'mosswill75', u'mostpoetsdo', u'mot2614', u'mothman', u'motleybrew', u'motleybrew2010', u'motor', u'motorcyclemike63', u'motte', u'moulefrite', u'mound909', u'mountaineer99', u'mountdew1', u'mountsnow1010', u'mousley', u'mouth420', u'movieman', u'movingshadow152', u'movingtrain', u'mowowie', u'moyae84', u'moyalva2003', u'moz9', u'mp33pm', u'mpahnke', u'mpcrump', u'mpensworth', u'mperrin', u'mpg2384', u'mphopkins99', u'mpkill', u'mpl2', u'mplum', u'mpm180', u'mportsch', u'mpoulton', u'mpsul2', u'mpulfer89', u'mpyle', u'mralphabet', u'mrand01', u'mrandolph', u'mrandypandy', u'mrasskicktastic', u'mrbeermug', u'mrbeery', u'mrboost', u'mrbosworth', u'mrbowenz', u'mrbrewer', u'mrcarterxxl', u'mrclean20', u'mrdalton', u'mrdrinkypants', u'mrdudesir', u'mreaid', u'mreffuss', u'mrf008', u'mrferranto', u'mrfosters', u'mrfrancis', u'mrfusty', u'mrgnwlkr', u'mrgrandefromage', u'mrgrinch', u'mrgurbik', u'mrhiccups', u'mriracer2', u'mrjimcat', u'mrjordan', u'mrkc', u'mrkipling', u'mrkoss', u'mrkrispy', u'mrkun', u'mrmanning', u'mrmiles', u'mrmin123', u'mrmuskie', u'mrmysterious', u'mrnobody', u'mroberts1204', u'mrotstein', u'mrpicklerelish', u'mrpivo', u'mrpoizun', u'mrpunan', u'mrquartetman', u'mrryanmf', u'mrseano', u'mrsoul12', u'mrstevens', u'mruniverse', u'mrunseen', u'mryuk', u'ms11781', u'ms1madeline', u'msante79', u'msboyd', u'mschenk', u'mschiefelbein', u'mschofield', u'mschroeder7713', u'mschuman', u'msemich', u'msfoster77', u'msgraves', u'mshallah', u'mshannon', u'msjacilynn', u'msmezher', u'msnow34', u'msolar', u'msos945', u'mspeicher73', u'mspivey15', u'msproles', u'msromberg', u'mstenulis', u'mstral', u'mstrudle', u'mstudley', u'mstyne', u'msubulldog25', u'mt5443', u'mtalley999', u'mtanji', u'mtbbaboon', u'mtberry', u'mtbikeguru', u'mtcarr88', u'mteevin', u'mterrence5', u'mtnbikerpa', u'mtoniatt', u'mtrctyjoe', u'mtrentm', u'mtschmitz', u'mtstatebeer', u'mttaylor1066', u'mttfrog13', u'mtucci19', u'mtullius', u'mtwentz', u'mtwhitney', u'mtyrrell', u'mualphapiper', u'mudbug', u'muddyh2oblues', u'muddyriverduck', u'mudhoney', u'mudpuppy', u'mudshark698', u'muffguy4beer', u'muffins', u'mugglesandhops', u'mugoogio', u'muhoboika', u'mulder1010', u'muletrane', u'mullenite', u'mullenpc', u'mully', u'mummbearsfan', u'munchie101', u'munizr22', u'muqingjing', u'murdoch22', u'murphyl', u'murphysbleachers', u'murraydwertman', u'murrayswine', u'murtyman', u'musashi', u'mushu', u'musicforairports', u'musicjustintime', u'musicman575', u'musingmonkey', u'muskabeatz', u'muskiecf', u'must87anggt', u'mustang70', u'mustangguy1989', u'mustinsmitty', u'mustolense', u'mutd8710', u'mutt', u'mutterfudder', u'muttyd', u'mvanaskie13', u'mvasilis', u'mvforegonian', u'mvice001', u'mvmalesci', u'mvreeland', u'mwNMT', u'mwa423', u'mwagner1018', u'mwagner8', u'mwalters', u'mwc115', u'mwclark2', u'mwcory', u'mwcullnane', u'mwearl', u'mweso2000', u'mwhitmer', u'mwilbur', u'mwill7287', u'mwilson85', u'mwlyons02', u'mwolf1024', u'mwolfe', u'mwrecording', u'mwrseeley', u'mwthomas', u'mx13', u'myatomicpolygon', u'mychalg9', u'mydeadguy', u'myhair', u'mykie73', u'mymrnngjckt', u'mynameisbuzz', u'mynie', u'myocean', u'myost88', u'myoung530', u'myown66', u'myownsavior', u'myreflection462', u'mysphyt', u'myspoonistoobig', u'mysteriouspants', u'mytireisfat', u'myxomatosis', u'mzrebiec', u'mzwolinski', u'n00tz', u'n0315', u'n0blep1ls', u'n0rc41', u'n0rmann', u'n1ckels', u'n2185', u'n6zxe', u'n811', u'n8marks', u'n8tron', u'nach0king', u'naderator55', u'nadiezhda', u'nafnikufesin', u'nagyonz', u'nahthan', u'nairb80', u'naiserie', u'nakedchaplain', u'nakedwaffle', u'nambud', u'nanchen', u'nancyWolf', u'nancylunar13', u'nandemo1', u'nanertak', u'nano', u'nanobrew', u'nanzan', u'naproxen', u'narwhale', u'nas5755', u'nas8558', u'nase', u'nashvillebeerguy', u'nasman', u'nassaubeercop', u'nastley3', u'nasty15108', u'nasty31', u'naswan', u'nataku00', u'natasharai', u'nate4g63', u'natedanger', u'natedoggsd', u'natehead', u'natellis', u'natelocc787', u'natemort13', u'naterock', u'natewells', u'natezenmaster', u'nathanho', u'nathanmiller', u'nathanpenny', u'nathanrford', u'nathi', u'nator76', u'nattefrost', u'nattyking', u'naturalnate44', u'navinsula', u'navyman2', u'nazbotica', u'nbanman', u'nbayma', u'nbbd', u'nbblondie', u'nbeattie', u'nboris827', u'nbree00', u'nbrown', u'nc41', u'ncaudle', u'ncbeermonger', u'ncbrewerbun', u'ncfranklin', u'ncfrey', u'ncjoshman', u'ncketchum', u'ncliberal55', u'ncm45', u'ncmussell', u'ncpenrod', u'ncredible1', u'ncstateplaya', u'ncsutton', u'ncurry0', u'ncvbc', u'nd5282', u'ndaug21', u'ndekke39', u'ndillon45', u'ndm502', u'ndolover', u'ndubs360', u'ne0m00re', u'nebula1999', u'necoadam', u'necrat', u'nectar14', u'nectarkeeper', u'nectarofthegods1', u'neddy191', u'neelyjr1', u'neenerzig', u'nefarious13', u'neg007', u'negroobserver', u'nehllah', u'neil', u'neilgavigan', u'nekronos', u'neliam24', u'nelnutter', u'nelser01', u'nelso334', u'nelson4', u'nem2006', u'neo06051', u'neobassman', u'neophilus', u'neorunner', u'neotempest', u'nephilae', u'nephlim', u'nerdnire', u'nerdrocker101', u'nermo', u'nerow', u'nerual511', u'nesta', u'nestafl', u'new200guy', u'new2beantown75', u'newbiebrew', u'newbiegal4beer', u'newbrew001', u'newbrewer111', u'newcastleme', u'newglaruslover', u'newk340', u'newrbrewr', u'newsage', u'newyawker', u'nextdoorkelly', u'nezelrac', u'nflmvp', u'nfo', u'nfr5069', u'ngandhi', u'ngardner', u'ngeunit1', u'ngilbert', u'ngoins200', u'ngs123', u'nhark', u'nhbrewlover', u'nhindian', u'nhopkin', u'nhudson', u'niall', u'niangelo', u'nicdub', u'nicechalice', u'nicefix', u'nicevillebeer', u'nicholas2121', u'nicholasdes', u'nicholasofcusa', u'nicholsbrewing', u'nick76', u'nickadams2', u'nickapalooza86', u'nickc40', u'nickclarson', u'nickd717', u'nickd84', u'nickdago', u'nickeyx', u'nickfl', u'nickfromsacto', u'nickg902', u'nickhiller', u'nickkraft9', u'nickleslie1009', u'nickls82', u'nickmooduh', u'nickmv', u'nickname', u'nicknameddad', u'nickolasp', u'nickoya', u'nickp33', u'nickporjr', u'nicksawick', u'nickshep7', u'nickspagnolo', u'nickss', u'nicksta', u'nicktay', u'nickthegun12', u'nickthetick', u'nickydel', u'nickynick', u'nicnut45', u'nicpetit', u'nidobanddo', u'nige4958', u'nigglesnoosh88', u'nightcrawler', u'nighthawk', u'nightswatch', u'nightwing002', u'nihil2006', u'nihiloexnihil', u'niibuyaa', u'niklas0770', u'niknar', u'niknot', u'nikoelnutto', u'nikok24', u'nikthewerelion', u'nimrod979', u'ninaturner', u'nine05', u'niner9', u'ninetofive', u'ningfan', u'nishar', u'nisjer05', u'nismo80', u'nitemarebrewer', u'niteserver', u'nitro0292', u'nitroterrance', u'nitrotron', u'nivelper', u'nixhecks', u'niz', u'njbcmatt', u'njbeerdinker', u'njbeerlover', u'njbeernj', u'nje123', u'njmoons', u'njpink1887', u'njstoutguy', u'njthebestofme', u'nkersten', u'nklatt', u'nkmu', u'nkronma', u'nkruback', u'nkupras', u'nkurz129', u'nkwarrior', u'nlmartin', u'nlong', u'nmacsata', u'nmbr0ne', u'nmglick', u'nmoreilly', u'nms1987', u'nmyers', u'nniicckkww', u'nobeer4u', u'nocheinsbitte', u'noclue', u'noduckla', u'noel2977', u'noelcb', u'noeldundas', u'nofalltoofar', u'nogoodreason', u'nohead02', u'noirguy', u'nokes', u'noknife', u'noknife83', u'nolimits105', u'nolvar', u'nomad', u'nomar1', u'nomomentwasted', u'noob', u'nopcbs', u'nopucophop', u'norcar', u'nordicman', u'noremorse1', u'normZurawski', u'normyk', u'norsktorsk', u'northaustin', u'northernbrews', u'northyorksammy', u'nortmand', u'norwichboy', u'nosaj442', u'nosbocaj', u'noser', u'noslenwerd', u'nosurrender23', u'notCreative', u'nota', u'notafood', u'notalagerlugger', u'notchucknorris', u'notdan', u'nothingxs', u'notlob', u'notoriousdav', u'notown', u'notsobeersmart', u'notsoprobeer', u'notwolf', u'notyourdadsbeer', u'nouseforotacon', u'nova009', u'novajeepfreak', u'nowaydude', u'nowise', u'noxidgerg', u'np0x', u'npggefvert', u'npotratz', u'nppeders', u'npslaugh', u'nramsburg', u'nrbw23', u'nregitz', u'nriech', u'nrmiller', u'nrpellegrini', u'nrrd', u'nrs207', u'nsabo', u'nschueller', u'nse239', u'nsmartell', u'nsmit17', u'nsp73', u'nspeissegger', u'nsw', u'ntatum', u'ntillemans', u'ntjenn54', u'ntrogdon', u'nubz77', u'nuggetnectar01', u'nuggetsofnectar', u'nuggy', u'nukem5', u'nullforge', u'numbeercruncher', u'number1bum', u'numenor1', u'numerik2012', u'numinorian', u'nursetim', u'nutinajar', u'nutn', u'nutritionalfacts', u'nuttyviking', u'nutzpk', u'nvcjc', u'nvsblman', u'nwelter', u'nwilson023', u'nwshull', u'nyabinghi', u'nycbeerfreak', u'nycjag', u'nycwinter', u'nydalek85', u'nyjets1248', u'nypizzarules', u'nyrangerfan', u'nze', u'o19', u'oakbluff', u'oaktown', u'oaktown99', u'oatmealjunior', u'ob1Katoby', u'oberon', u'oberscrc', u'obireidkenobi', u'objectivemonkey', u'obphoney', u'obrendano', u'obrike', u'obywan59', u'oc0dyc', u'ocbears', u'occtipus', u'oceanman', u'ocelot2500', u'ocmpoma', u'oconman', u'ocpathfinder', u'octo', u'octongue', u'oddfire', u'oddipaman', u'odeed', u'odelay12v', u'odietrying', u'odonnekg', u'odysseus430', u'oejustin', u'oelergud', u'office888', u'ofosho', u'ogasnor', u'oggg', u'oglmcdgl', u'ohFace', u'ohfish', u'ohiobrewtus', u'ohiohophead', u'ohitsbrad', u'ohmybock', u'ohndray', u'ohnoitsthefuzz', u'ohoh', u'ohoove', u'oilhead', u'ojclark', u'ojdidit', u'ojiikun', u'okiebeermaster', u'okieredneck', u'okra', u'olacub', u'oldaleboy', u'oldbarrel', u'oldbutslow', u'oldcrustacean', u'oldefortran', u'oldfashioned', u'oldgranddad', u'oldgrowth', u'oldhippie247', u'oldirtdog', u'oldirtycaffrey', u'oldp0rt', u'oldpinecone', u'oldsailor', u'oldwinger50', u'olegv40', u'olfolxholme', u'olimpia84', u'oline73', u'olldogg', u'ollie78', u'olmatty', u'oloughlinrj', u'oluap', u'olympicgatorade', u'olympuszymurgus', u'omahawk', u'omar', u'omega4132', u'omgshesaboy', u'omi666', u'ommegangpbr', u'ommegoose', u'omnigrits', u'omnihappiness', u'omnipotentuser', u'omniscientcause', u'omnomct', u'omowasu', u'onansalad', u'oneaday', u'onebigword', u'onechordwonder', u'onecrazybreeze', u'onecrazymofo', u'oneeye', u'oneeyedhoolie', u'onefalsemove711', u'onefiveseven', u'onefmatt', u'onehate02', u'onehomesickalien', u'onehoppygirl', u'onehoppypoppy', u'onemanarne', u'oneredarm', u'oneswellfoop', u'onid678', u'onin2', u'onix1agr', u'onmyslide', u'onsite416', u'ontap', u'onthefarside', u'onyxrev', u'oolite', u'oomir11', u'optigon', u'optikon44', u'optimator13', u'optimistictour', u'optiontwo', u'opus111', u'opwog', u'oracle', u'oraclebrewer', u'orangedive', u'orangemoustache', u'orangesol', u'orbitalr0x', u'orcasteve', u'oregonbeerlover', u'oregone', u'oregonskibum', u'oreilly', u'orenand33', u'oreo', u'orfeu', u'orford', u'organicBrew', u'organicbrewer', u'orgymaggotfeast', u'oricon', u'origais', u'originalsin', u'ormuzd', u'orock25', u'orourkebr', u'orsulacp', u'ortsacul', u'orvalrugger45', u'orz', u'oscardog', u'oscarfuentes77', u'osi', u'oskoreien', u'oss68', u'ostavela', u'osubuckeye99', u'osusullins', u'otakuden', u'otersen73', u'oteyj', u'otter114', u'otto251068', u'ottobon100', u'ottovon', u'outdoorbrewer', u'output01x', u'oval', u'ovaltine', u'overfiend1976', u'ovrlrd', u'owessel', u'oxmasterscream', u'oxnard111', u'oysterchef', u'ozmodium', u'ozymandias', u'ozzmoon', u'ozzyCobblepot', u'ozzyfan97', u'ozzyj1', u'p0wn', u'p1nt', u'pBRale', u'pHunbalanced', u'paKIRK', u'pablot71', u'pabstblue78', u'pabstpunk', u'pabstsmear', u'pacbastard', u'pacchef23', u'paceyourself', u'packetgod', u'packetknife', u'packfanben', u'paco1029384756', u'pacothrash', u'padan7', u'padjo1', u'padraig1775', u'paganbeast', u'paganbraeu', u'pagejohn', u'pagoda2112', u'pagv0098', u'pah', u'paigertx', u'paintball363', u'paintedwall', u'paleale40oz', u'palealejeff', u'palehare', u'paleoplant', u'palffyfan', u'pallagust', u'palliko', u'palma', u'palmdalethriller', u'palmer69', u'palmerocity', u'panamaniac', u'pancho27', u'panda14', u'pandashaver', u'pants678', u'papabogen', u'papaganzhe', u'papaglide', u'papaloukas', u'papat444', u'papazulu', u'paperbackfoster', u'paperhurts', u'papollo', u'papsdatank', u'para2504', u'paradigmblue', u'paranoiajack', u'paraquinius', u'parawiss', u'parchedjay', u'parkeak0', u'parris', u'parsleyd12', u'partyworlddave', u'pasdachuri', u'paskinsj', u'passthatpurpyo', u'pastradul', u'patcoffman', u'patelc75', u'patelldp', u'paterlodie', u'patfshortflip', u'patjrooney', u'patm1986', u'patmcd', u'patoakes7', u'patobandito', u'patol8', u'patpbr', u'patra7', u'patreely12', u'patrick16o', u'patrickbateman', u'patrickbohlen', u'patrickenglish', u'patrickf', u'patrickmcstravic', u'patril', u'patriot76', u'patsalvaggio', u'patsliquor', u'patsmith', u'patsofatso', u'pattack', u'pattermj', u'pattyhopp', u'pattym', u'patvibrato', u'paul0311', u'paul0388', u'paulaner', u'paulbommel', u'pauley22', u'pauleyh', u'paulfear', u'paulginva', u'paulie', u'paulieatworld', u'pauliman', u'paulisme', u'pauljmccain', u'paulkramer', u'paulman86', u'paulozanello', u'pauls132000', u'paulthebeerguru', u'paultierney1', u'paulxqx', u'paulyrimz', u'paulys55', u'paulzy', u'pavandal', u'pavyaz19', u'paxchristi', u'paxkey', u'paxson001', u'paxtonthegreat', u'paylay32', u'paytoplay', u'pb342', u'pb9613', u'pb9617', u'pbcanuck', u'pbecsu2008', u'pbj0069', u'pbjclimber', u'pblank', u'pbmcguire', u'pbnagel', u'pbouley', u'pbr85', u'pbrian', u'pburland23', u'pbvikesfan', u'pcalcado', u'pcalvin76', u'pcardillo', u'pcblion', u'pcicere', u'pd360', u'pdangler', u'pdeepak', u'pdgreen', u'pdoran10', u'pdrizzle', u'pdxwhisky', u'peabody', u'peabody81', u'peacebone116', u'peacehammer', u'peacesignmoose', u'peakoil101', u'peanut070478', u'peanutSauce', u'pearljam118', u'peck95', u'pecochran1', u'pedrito', u'peedee', u'peensteen', u'peggyt', u'pegtheamazing', u'pelle79', u'pemulis', u'penguinjive7', u'pennatale', u'pennsybrau', u'pennvan', u'pennywhistle', u'pens44', u'pentathlete', u'penut', u'peoplewithhands', u'peppertopher', u'pepsican', u'pepsidac', u'perchula', u'perfectkaos', u'pernambucoetc', u'perrinvv', u'perrymarcus', u'perryw', u'pershan', u'petacutlasaurus', u'petebritton2003', u'petemckenzie', u'petemorris', u'petemoss14', u'petercmartin1', u'peterg321', u'petergchambers', u'peterittenhouse', u'peterjk', u'peterlovesbeer', u'peterthepiper', u'petitearvine', u'petrochile', u'petroos', u'pettis', u'pez000', u'pezfiend', u'pezoids', u'pfknapp', u'pfrdaly', u'pgaveau', u'pge17', u'pgenius', u'pgenrich', u'pghhead', u'pgroove', u'pgrow', u'ph2001', u'phaiel', u'phantomwyse', u'pharmer', u'phartzog', u'phatcrayonz', u'phatmatt20', u'phattgeek', u'phattysbox', u'pheggeseth', u'phenomenologian', u'phenoumenal', u'phenry', u'phergy', u'pheurton', u'phiberoptik', u'phichifiji00', u'phideltashaggy', u'phil123', u'phil7568', u'philbe311', u'philberinghele', u'philbertk', u'philcast', u'phildorsey', u'philerman', u'philibum13', u'philip1209', u'philipashley', u'philippehb', u'philipquarles', u'philipt', u'phillipzayas', u'philly224', u'phillybeer7779', u'philmath', u'philmont', u'philmorepunk87', u'philobetto', u'philosobeer', u'philphilphil', u'phils93rul', u'phingdong', u'phirleh', u'phishdaly', u'phishgator', u'phishisphunk', u'phishsihq', u'phisig137', u'phisigben', u'phissionkorps', u'phlaptaylor', u'phnphilly', u'phorty', u'phosphoryl', u'photomike', u'photonicgnostic', u'phreak1983', u'phrygian68', u'phunknerd', u'phunkykim', u'pi5porter', u'pibbxtrasucks', u'pielager', u'pieman25', u'pieper', u'pigc', u'pigdog', u'pigpen', u'pigpen55', u'pijiu', u'pik5el', u'pikemark', u'pilgrimskrew', u'pilka', u'pillu', u'pilosays', u'pilotgod', u'pinballwhizard', u'pinkano', u'pinkwheels', u'pinni', u'pinotboy007', u'pinpin', u'pintnhand', u'pintsized', u'pio', u'pioppo', u'pippin925', u'pirate252', u'piratebrewer', u'pirates', u'pisomojado8', u'pitasoup', u'pitbull89', u'pittcamp', u'pittpenguin', u'pittpens', u'pittsburghfw', u'pittvkyle7', u'pitweasel', u'piwodevo', u'pixieskid', u'pixrob', u'pizzahead', u'pjb171', u'pjblurton', u'pjcors', u'pjcummings', u'pjeagles', u'pjenkins1', u'pjohnston007', u'pjroomy', u'pjs234', u'pjwilson', u'pkaeding', u'pkarlisc', u'pkasten', u'pkeigs', u'pkington', u'pl8man49', u'plaid75', u'planetscott', u'plarson', u'plasma', u'plastik', u'plaztikjezuz', u'pleasewearpants', u'plehnus', u'pletnice', u'plexiprs', u'plfahey', u'plinythethirsty', u'ploobs', u'plowe70', u'plrooney', u'plumcrazyfx', u'plusorminus', u'pluto', u'plynthe', u'pmarlowe', u'pmatz2', u'pmb223', u'pmcadamis', u'pmcavena', u'pmccallum86', u'pmcgill10', u'pmkz', u'pmlondrigan', u'pmoore311', u'pmowen', u'pmphil33', u'pmpknface', u'pmsawyer', u'pnaimoli', u'pnewport', u'pnkHoody', u'pnkRed', u'pnkermiz', u'pnwclimber', u'poakman', u'pocketholes', u'pocwolf', u'poetaster', u'poibag808', u'poindexter85', u'pointyskull', u'pojo41', u'pokesbeerdude', u'pokeyrule', u'polakoff', u'poland7', u'polio', u'polisanl', u'politicsandbeer', u'pollard5', u'polloheavy', u'pollox87', u'polskapanda', u'poluti', u'polyester', u'polygman', u'polykarpos', u'ponderos', u'ponymaster', u'poohbah', u'pookiejn00', u'poonamibaxter', u'pooneej', u'poopsey', u'poopstheclown', u'poorblindman', u'pootz', u'popatop', u'popery', u'poporolo', u'poppercherry', u'poppollutesminds', u'poratfinklives', u'porcelli426', u'porcepic', u'poriggity', u'porkinator', u'porksodaboy', u'porntipsguzzardo', u'portajon', u'porter17', u'porterallen', u'porterboy57', u'porterplease62', u'porterwoobie', u'portia99', u'portlyporter', u'posbasso', u'poseidon8118', u'positiverpr', u'posshogg58', u'possumfollower2', u'postalroger', u'poster112', u'postulanTrappist', u'potownbill', u'poundboy', u'pourmeup', u'pournotha1', u'powellmg', u'powerpop', u'powerss13', u'powoo19', u'pphunkdelux', u'ppoitras', u'pradipta', u'prandolph', u'prattmeister14', u'pratyk', u'praufs01', u'prcrawford', u'prdstmnky', u'precurser', u'prep', u'preshamilton', u'presscaught', u'pressman57', u'pretibrwneyez', u'pretzellogic', u'prg1976', u'primo26xx', u'primrose54', u'princesserika', u'prmurphy63026', u'proc', u'procha1970', u'prodgerm', u'professa', u'professorninja', u'profzoom', u'progress518', u'projectflam86', u'promar', u'promethias405', u'properhops', u'prophetofdoom', u'propstm', u'prosit13', u'prosk8er480', u'prosper', u'prostparkbrau', u'protias', u'prototypic', u'prsguitarsr4me', u'prtwin2a', u'pryan64', u'ps42', u'psbmumbles', u'pschul4', u'psdriscoll', u'pseudo', u'pseudojamesdean', u'psinderson', u'psiweaver', u'psk540', u'psnare', u'pstew85', u'psuKinger', u'psuae98', u'psugrad98', u'psujesus', u'psulovesbeer', u'psumjl269', u'psunate', u'psurandy', u'psycho78', u'psychoholicagogo', u'psychosisgnome', u'psychotia', u'psycl0nb', u'psycle', u'psyco1', u'psycroptic', u'psyphin', u'psyphren', u'ptra1004', u'ptykozoon', u'puboflyons', u'pubrunner', u'pubscout', u'pubwiser', u'puckjer', u'puertobrewing', u'puffybh', u'pugdogbeer', u'puggy211', u'pughce', u'pumapal', u'pumarocks', u'pumpkin1', u'pumptrick', u'pumqueen', u'punisher31673', u'punkindrublic50', u'punkrkr27', u'punkrules45', u'punzak', u'purevinegar', u'purflyers', u'purplehatjoan', u'purplehops', u'purpletape', u'putnam', u'puttyman', u'pvignola', u'pvllbum', u'pvo', u'pvs6', u'pvsob', u'pwaldron', u'pweis909', u'pwent', u'pwi03', u'pwoods', u'pwoody11', u'pwrf12', u'pwsoldier', u'pwydra', u'pygmy67', u'pygmylush', u'pyro701n', u'pyrohsmok', u'pyrostic', u'pyrrha', u'pzrhsau', u'q5hj', u'qazelisc', u'qbushido', u'qchic', u'qcitydarkstar', u'qdeguchy', u'qmainracing', u'qpHalcy0n', u'qthompso', u'qua17', u'quad07', u'quaffsalot', u'quafster', u'quasimoto', u'quaybr', u'queenboadicea', u'queyak', u'quidquam', u'quiggibub', u'quikfish13', u'quilty', u'quincyships', u'quincyxg', u'quine', u'quinlin', u'quinnsi', u'quirkzoo', u'quisatzhaderach', u'qwert59', u'r00tarded', u'r0nyn', u'r12ax7', u'r3dsix', u'r3o', u'r3zim', u'r4ballar', u'rCubed', u'rKunda', u'rab53', u'rabbitdeath', u'rabbivj', u'rabidawg', u'rabsten', u'raceon4', u'racer2k', u'racerx', u'raceway40', u'raclark', u'radiator', u'radioscooter', u'radshoesbro', u'raebow', u'raffy313', u'raffy4', u'rafjr00', u'rafuzo', u'ragekage23', u'ragerx', u'ragglefraggle', u'ragnarsword', u'raid765', u'railcaider', u'railman', u'raiser', u'rajendra82', u'ralflord', u'rallison', u'rallisonsho', u'ralphw56', u'ralree', u'raly03', u'ram3139', u'rambojr03', u'ramob1920', u'ramos', u'rampole', u'ramrod666', u'ramseye4', u'ranbeer', u'rand', u'randal', u'randallpink', u'randawakes', u'randjuke', u'random846', u'randomdanger', u'randyrdh', u'randyw41', u'raney', u'rangel2', u'ranger7', u'rangerred', u'raninator84', u'ranneyj2', u'raoulduke37', u'rapayn01', u'rapidsequence', u'rarbring', u'rarevos', u'rarmbris', u'rashbash22', u'rashmore', u'rasta16ry', u'rastaman', u'rastapenguin22', u'rastaysballin', u'raszputini', u'ratatat', u'ratedz', u'ratm4484', u'ratmonkey', u'ratrod53', u'rattech', u'rattleweed', u'ratty918', u'raven3131', u'raverjames', u'raw', u'rawfish', u'rawhydes', u'rawhydes1', u'rawla', u'rawrgasaurus', u'rawthar', u'rayhead86', u'rayjay', u'raym179', u'raymo55', u'raymondofrish', u'raynmoon', u'raznug', u'razorsdescent', u'rbarrett', u'rbartow', u'rbb1010', u'rbbchbum', u'rbd13', u'rbennett0', u'rbettis', u'rbhockeyfan', u'rborthwick', u'rbowser', u'rbrianforrester', u'rbridges01', u'rbrough', u'rc1', u'rcarson', u'rcfunk', u'rchristensen', u'rcoughlin24', u'rcusick', u'rcwhiteky', u'rdailey76', u'rdel444', u'rdeyoung', u'rdickey', u'rdilauro', u'rdkottke', u'rdpoint', u'rdrummer', u'rdub', u'rdunham', u'readbaron', u'realbama', u'realbeerbaron', u'realbrewfan', u'reallyhoppie', u'realmpel', u'rebel1771', u'rebelred', u'rebelthrower', u'rebis1bear', u'rec', u'recons54', u'red80go', u'redbeard', u'redblacks75', u'reddomino', u'redearth329', u'redelephantdane', u'redfire89', u'redjameskidd', u'redleaves', u'redmagik99', u'redmash', u'redmatter', u'redmosquito', u'redneckchugger', u'redneckfarmer', u'rednrag', u'redred', u'redrocker', u'redsahx', u'redsand22', u'redsonja', u'redsox07704', u'redsox3g2', u'redteg02', u'redwolf1', u'redzone3120', u'reeder', u'reedy212', u'reedyjm', u'reeemer', u'reefkeeper99', u'reelwonders', u'reeseb', u'reesepzor', u'reeverbythespeak', u'reezun', u'refurb', u'reg', u'regeimbk', u'reginaldo', u'reginaldx', u'regionrat37', u'regspeir', u'regsucks', u'rehabis4quitters', u'reignsong', u'reilly88', u'reillybeer', u'rel', u'relapse', u'rell', u'rem5', u'rembrant', u'remhaze', u'remllof', u'remmyreel', u'renegadeburger', u'renekraski', u'renniksdb', u'renolayton', u'repeal06', u'reppertmr', u'reppinthe847', u'resirob', u'respeck27', u'ressletr', u'revbdub5446', u'revdrjbob', u'revdrkevind', u'revkibosh', u'revolt914', u'revolution', u'revwib', u'rexbanner420', u'rexbock', u'rexpostal', u'rexrowan', u'rextheone', u'rez0nator', u'rfabian', u'rfbenavi80', u'rfeld137', u'rfgetz', u'rfifer', u'rflickinger', u'rfwerth', u'rgb2807', u'rgbradley3', u'rgcmusic', u'rgctlc', u'rgdgerard', u'rgf001', u'rgirl', u'rgonzo', u'rgopalani', u'rgore', u'rgrace99', u'rgrholmes168', u'rhartogsq', u'rhenning', u'rhett7660', u'rhinos00', u'rhoadsrage', u'rhodamine', u'rhodeska', u'rhollman', u'rhomsy', u'rhong187', u'rhythmguitartz88', u'rhythmpirate', u'ribby', u'riboflavin88', u'ribsfate', u'ric4003', u'ricchezza', u'richago1', u'richalexander78', u'richardrray', u'richdebs', u'richiedog', u'richkrull', u'richmof', u'richtersf', u'rick0776', u'rickalessi', u'rickards9', u'rickcampie', u'rickcheese', u'rickdiaz', u'ricke', u'ricke49', u'rickj34', u'rickmick', u'rickyg', u'rickyleepotts', u'ricodewey', u'riddler4life', u'ridedammit', u'ridglens', u'ridiculous', u'riemenschneider', u'rigdont', u'riggser61', u'riggsley', u'righlander', u'rightbrained', u'righthereisay', u'rightsideways', u'rijanyoung', u'rikjohnson', u'rilbert', u'rileykr', u'rileyn8', u'rings', u'rinhaak', u'riordan93', u'riored4v', u'riotom', u'rippingstyle', u'rissues24', u'ritter57', u'ritzkiss', u'rivalrome', u'rivermapper', u'riversider76', u'riversidetravlr', u'rivertrance420', u'rizzo', u'rizzyo', u'rjfoster', u'rjhaupt', u'rjimlad', u'rjknyy', u'rjlemos', u'rjochman', u'rjohnson258', u'rjonnz', u'rjplumer', u'rjr8', u'rjs', u'rka758', u'rkarhnak', u'rkcrozier', u'rkdangerously', u'rkhaze', u'rkim420', u'rking', u'rkinsella', u'rkowalick', u'rkozicki', u'rkrisstewart', u'rkuhnel', u'rlambert', u'rlb4444', u'rlcnmeyer', u'rlcoffey', u'rlee1390', u'rlk1220', u'rll52485', u'rlparker3', u'rlshep', u'rluser', u'rm0312', u'rmalinowski4', u'rmarra', u'rmasen', u'rmaste6282', u'rmatson', u'rmcandre', u'rmckay09', u'rmclend', u'rmcnealy', u'rmfyeah', u'rmmm16', u'rmody999', u'rmolledo', u'rmoran', u'rmoriar1', u'rmp5s', u'rmwtsou', u'rnidetz', u'roachandroll', u'roadhouse', u'roadk', u'roadraper', u'roan22', u'roar1345', u'rob7870', u'robboyd', u'robbrandes', u'robbrauen', u'robbtjones68', u'robbyc1', u'robclark19', u'robe424', u'robeno', u'robertfulwiler', u'robertjbell', u'robertjohnson', u'robertmarsh', u'robertmitchum', u'robertp1024', u'robg2251', u'robhudson', u'robhunta', u'robinsmv', u'robkeely', u'roblowther', u'robmbrew', u'robmorris31', u'robmpreston', u'robnewhart', u'robnews', u'robobor', u'robocrouch', u'robotagogo', u'robrobrob', u'robsee', u'robsharpe', u'robtedesco', u'robwestcott', u'roccotuna', u'rochetremens', u'rock082082', u'rockdick', u'rocketmotor', u'rocknhocky', u'rockstarnati', u'rockyfire', u'rockytop', u'rodcom', u'roddwolff', u'rodeloper', u'rodenbach99', u'rodeomolester', u'rodney45', u'rodneyfaile', u'rodneyjankins', u'rodrot', u'rodtidwell', u'rogerse2', u'roggae', u'roggichiwa', u'rogueleonardi', u'roguetester', u'rohrbachsfan', u'rojo', u'rokoch27', u'rolandolopez2', u'rolands6', u'roller', u'romanbeerlover', u'rondogmeat1', u'ronhocker', u'ronicking', u'ronniebruner', u'ronny', u'ronzorelli', u'roodie', u'roopy40', u'roosevelt25', u'rootbeerman', u'rorytmeadows', u'roscoehnj', u'rosebud', u'rosenbergh', u'roskelley', u'rosmhuire', u'rossjp', u'rossmcd', u'rossmctostadas', u'rossthefireman', u'rosszimm36', u'rotfl42', u'rothoman', u'rotsaruch', u'roughboyrob', u'roughsax', u'rousee', u'route66pubs', u'rowew', u'rowey77', u'rowingbrewer', u'rpardon7', u'rpbaldwin', u'rpezl', u'rpgman456', u'rpguy4', u'rpkelly', u'rpowell', u'rpstevens', u'rregan', u'rrg1gb', u'rrheisler', u'rrob311', u'rroberts1013', u'rroper25', u'rrski198', u'rrwiltse', u'rsawyer', u'rsdaugherty', u'rseidlitz', u'rsfleming', u'rsgcwhite', u'rsher12', u'rshwayder', u'rslomin', u'rsm', u'rsrenfro83', u'rstone57', u'rsvlbrwr', u'rsween22', u'rsyberg01', u'rtaps', u'rteis', u'rtepiak', u'rtorres80', u'rtratzlaff', u'ruberbox', u'rubicon1983', u'rubyfruit', u'ruck304', u'ruckus232', u'ruckzuck', u'rudeboy916', u'rudolphjacksonm', u'rudyarmand', u'rudylaw', u'rudzud', u'rueyn', u'ruffbrew', u'rugbycritic', u'rugbyfan13', u'rugerj', u'rugger', u'rugirl4u', u'ruination', u'ruinationation', u'ruinsx', u'ruleof72', u'rummy666', u'rundocrun', u'runesead', u'runfoodrun', u'runner440', u'runner72', u'runningjoke', u'runtoglory', u'ruppert2p', u'rushpatrick', u'russellaaron69', u'russellcricket', u'russellgillette', u'russo', u'russpowell', u'russwaddell', u'russwbeck', u'rustan', u'rustrose', u'rustyhamilton', u'rustyhydrant217', u'rustymoore', u'ruthless325', u'rvandint', u'rvdoorn', u'rvonhagen', u'rwathree', u'rwdkosak', u'rwelsh88', u'rwf08', u'rwinzing', u'rwmiscik', u'rwrk42', u'rxdrewthejew', u'rxmaster', u'ryalmighty1', u'ryan1788a5', u'ryan58813', u'ryanblinkbrand', u'ryandurka', u'ryane', u'ryanfitz47', u'ryanfolty', u'ryanismean', u'ryanj87', u'ryank401', u'ryankliles', u'ryanlanders', u'ryanmac06', u'ryanmc', u'ryanms3030', u'ryanobeirne', u'ryanocerus', u'ryanonline', u'ryanpday', u'ryanriot77', u'ryantaussig', u'ryantho00', u'ryantretiak', u'ryantupy', u'rydar', u'rye726', u'ryejo', u'ryguillian', u'ryguy210375', u'ryno09', u'ryno23', u'ryno525', u'ryolz', u'ryoung66', u'ryrust5301', u'ryseone', u'rzoq', u'rzor', u's005jjf', u's1ckboy', u'sabalon', u'sabinelr', u'sablephish', u'sabre666', u'sabrills70', u'saccro', u'sacfly', u'sachsich', u'sacredduck', u'sacrelicio', u'sacullen', u'sadie23', u'sagito327', u'sahib', u'saigashooter', u'sailorastro', u'sailorjacko', u'saintwarrick', u'saj2694', u'salingrye85', u'salisbury', u'salivar08', u'salmonellahead', u'saltydog', u'salukiKMO', u'salvadorwill', u'salvo', u'samadams86', u'samccoy', u'samchaplain', u'samercado', u'samiam32', u'samiamaway', u'samie85', u'samlikesbeeralot', u'sammartin68', u'sammy44', u'sammyadams617', u'sammytag', u'samoblue', u'samriggins', u'samtallica', u'samueladams76', u'samuelzero', u'samwello', u'samyoung', u'sanatar', u'sanderson', u'sandmaker', u'sanjosey19', u'santa109', u'santafr0g', u'santanas95', u'santomark', u'santoslhalper', u'sar50', u'saradad', u'sarahbs', u'sarahspat', u'sardonic', u'sarigianis', u'sarjim51', u'sarquad', u'sarro', u'sartoric', u'saskguy', u'sasky7777', u'sasquatchsb', u'sassacrass', u'satchmo91', u'satowns', u'sauron681', u'saurus', u'savagearms', u'savagewhisky', u'savannahbrooks', u'savnac', u'sawbones420', u'sawyer776', u'saxman75', u'saxomophone', u'saxsays879', u'sayerofthelaw', u'saztheorybook', u'sb3000', u'sb305198', u'sbauer', u'sbe1', u'sbegraft', u'sbennett22', u'sberman77', u'sbiedenkapp', u'sbirny', u'sbkitty', u'sbricker', u'sbrotschul', u'sbry', u'sbw138', u'sc13ntific', u'scaaven', u'scalffd', u'scaliasux', u'scanlonbrad', u'scanman723', u'scanny79', u'scarfacecrowe', u'scarfield', u'scarlet', u'scarletfire79', u'scarnold8', u'scaudill', u'scbrew', u'sccala', u'scelesti', u'schackj', u'schanker21', u'schatzicat', u'scheissekrieg', u'schellsbeer', u'schemb', u'schenked', u'scherbi', u'scherbs', u'schiaveto', u'schiller75', u'schinebd', u'schlazzgraft', u'schlekeborg', u'schleprock', u'schlimenhaumer', u'schmidlove', u'schmidtn', u'schmit01', u'schmitter', u'schmitty6', u'schmoopsbeer', u'schofunk', u'schoolboy', u'schoolcb', u'schoolglue', u'schoolteacher', u'schrist275', u'schro126', u'schroe58', u'schroederm', u'schuim', u'schultzi22', u'schusterbauer', u'schuyhigh', u'schwaeh', u'schwaiger', u'schwemjw', u'scia', u'scifan', u'scinerd3000', u'scluffman', u'scninmer08', u'scoand', u'scobeer', u'scofielj', u'scohen', u'scojo', u'scol', u'scoley32', u'scones', u'scoobybrew', u'scoot1979', u'scooter231', u'scootny', u'scootpolute', u'scoots511', u'scoppi', u'scorched', u'scotch711', u'scotlandsp', u'scott', u'scott27', u'scott451', u'scottblaze', u'scottbrew4u', u'scottbullard', u'scottchesterhall', u'scottford', u'scottfrie', u'scottg', u'scottie369', u'scottmbolt', u'scottoale', u'scotttale316', u'scottum', u'scottwestphall', u'scotty2dope', u'scotty2hotty', u'scottyb88', u'scottyf1', u'scottyg354', u'scottyk04', u'scottypbeer', u'scottyr2', u'scottysgarage', u'scottyshades', u'scotvega18', u'scout', u'scout19d3', u'scout662', u'scratch69', u'scratchchance', u'scratman', u'scray24', u'scredsfan', u'screwcitybeernut', u'screws', u'scriabin', u'scrizo', u'scruffs2', u'scruffwhor', u'scthaden', u'scubachopper', u'scubahood', u'scubapoet', u'scubasteve04', u'scubazook', u'sculls65', u'scuppers', u'scurfie', u'scurvy311', u'scythemk', u'sd273', u'sd2sfbeer', u'sd42790', u'sdaurio', u'sdbaker2', u'sdbielecki', u'sddappstate', u'sdderek', u'sdj5', u'sdmrtn', u'sdmvd6', u'sdockter', u'sdscotty', u'sdsurfer217', u'se7enchurches', u'seabass87', u'seagis', u'seamonster', u'seamunkie', u'seamusmceagan', u'seanbez', u'seanbhudson', u'seancake', u'seand', u'seangroves', u'seanh99', u'seanlanefuller', u'seanluvsbeer', u'seanmhogan', u'seann', u'seanosh', u'seanpachefddfa', u'seanroto', u'seans86', u'seansvoice', u'seanthornton152', u'seanwhite', u'seanyfo', u'seanzion', u'seaoflament', u'searsclone', u'seasmokiee', u'seaweed', u'secondtooth', u'seditionist7', u'seebus', u'seedee17', u'seedsofchaos', u'seesnow3', u'seeswo', u'seetrider', u'seewitheyesshut', u'seh410', u'seinerHellige', u'seitzka', u'seivech', u'sekaijin', u'seldomsthirsty', u'selecter70', u'sellmeagod', u'semibaked', u'semihobo', u'sendsilk', u'sengbing', u'seniorcleaver', u'senojkram', u'senorhuba', u'senorton', u'sensorglitch', u'sentomaster', u'sepharious', u'sequenceman', u'sergeantstogie', u'sergio1va', u'servo12', u'sescallier', u'sespourteille', u'session1979', u'sessioneer', u'sessycuban', u'sestovez', u'setexascustoms', u'seth608', u'sethgale', u'sethmeister', u'sevefan', u'sevenarts', u'sevenredrabbits', u'sever', u'sevineyes', u'sevopie', u'sewald', u'sfair10784', u'sfm08', u'sfoley333', u'sfprint', u'sfreshnock', u'sfsean', u'sfsean28', u'sfz', u'sg3356', u'sgaloob', u'sgblais', u'sgharris', u'sgn4779', u'sgoodship', u'sgoro', u'sgraham4', u'sgrza316', u'sgsmfdoom', u'sgtaxt', u'sgtpepper1', u'sgtpepper420', u'sgy', u'shabbtastic', u'shadesofblack', u'shadow1961', u'shadow7', u'shaebs99', u'shageman331', u'shaggy151', u'shakercuda', u'shalowlou', u'shaman2788', u'shambeano', u'shamrock7', u'shamsoftabriz', u'shamus', u'shanblur', u'shand', u'shand1', u'shandy', u'shanecb', u'shanem', u'shanetemple', u'shangwang', u'shapudding', u'shark262', u'sharkboy', u'sharkdigital', u'sharkheadlasers', u'sharktank', u'sharpy26', u'shaunb81', u'shaunivan', u'shaunpatrick', u'shawn88ob', u'shawndango', u'shawnhooper1973', u'shawnp', u'shawnrdeane', u'shawnsmith1', u'shawnsmith8275', u'shawnw2', u'shbobdb', u'shealoftus14', u'sheathead', u'shehateme', u'sheikyerbouti', u'shellebrownies', u'shep133', u'shererjt', u'shertz', u'shertzogovina', u'shieldsy', u'shiftgorden', u'shiftypenguin', u'shippos', u'shiptoshore', u'shir0043', u'shirfan', u'shishidojo', u'shivtim', u'shlap', u'shlub', u'shmelke', u'shmidtb', u'shmingas', u'shodrod', u'shoduke', u'shoebacca', u'shoehornteeth', u'shoemillhal', u'shoetree', u'shohog', u'shoik', u'shokri', u'shoky01', u'sholland119', u'shoney', u'shoop12', u'shooter24', u'shooter31', u'shooterCO', u'shootncast', u'shootoman', u'shortbus7', u'shortordercook', u'shortsqueeze', u'shorty19', u'shortysdude285', u'shoude', u'showell', u'showpe01', u'shoxroxice', u'shrago', u'shredsofautumn', u'shroompod', u'shrxxm216', u'shuajw', u'shuriyukum', u'shutter', u'shutupdoodah', u'shuv', u'shwhat', u'sicilian', u'sickclown', u'sickpuppy', u'sictyrannis', u'sid', u'sid606licious', u'sidd', u'sideshowrob', u'sidetracked', u'siege06nd', u'sierra11b', u'sierria', u'sigurdurarnor', u'silasdc', u'silasmoon', u'silenius', u'silentbob44', u'silentjay', u'silentnoiz', u'silks636', u'sillajw0', u'sillygas', u'sillyswa', u'silver0rlead', u'silver1audi', u'silver7447', u'silverelizard', u'silverhorn', u'silverlabel101', u'sim0n17', u'simmons', u'simonjohansson', u'simplexiton', u'simpliciter', u'simskl', u'sincereNc', u'singlebarrel', u'sinistermadman', u'sinistersteve', u'sinistrsam', u'sinkfloridasink', u'sinstaineddemon', u'sionanni', u'sippieman', u'siptrip', u'siradmiralnelson', u'sirbelchalot', u'sirbryan21', u'sirdillon', u'sirdrinkwell', u'sirholdthem', u'sirhoward', u'sirk0rebreg', u'sirosler', u'sirpenny', u'sirpsycho', u'sirsaw', u'sirsteve42', u'sirxtasy', u'sisterray', u'sisuspeed', u'sitarist', u'sitbooboosit', u'sixerofelixir', u'sixstring821', u'sixthglass', u'sizzlemc', u'sj660', u'sjambok1', u'sjantiflow', u'sjccmd', u'sjclay00', u'sjh772', u'sjmacdougall', u'sjohansen', u'sjum29', u'sjverla', u'sjwahoo', u'sk8fr3ak27', u'sk8man121', u'sk8photo', u'skabbo', u'skalogre', u'skandha', u'skar', u'skatterbrainz', u'skaughty', u'skee1080', u'skeeordye11', u'skeetermoses', u'skempen', u'skenyon1811', u'sketchcornwell', u'sketchpunx', u'ski271', u'skiboy', u'skibumdc', u'skibumma70', u'skillerified', u'skimyear', u'skineg', u'skinivinny', u'skinny0ne', u'skippynorton2003', u'skittlebrau', u'skivers', u'skivtjerry', u'skizziks', u'sklinger990', u'skolwitz', u'skomahon', u'skotster13', u'skrib09', u'skridgeus', u'skull6969', u'skullsplitter', u'skullx', u'skunk', u'skunkhuffer', u'skutra', u'skuzalbut', u'skwee', u'skybluewater', u'skye', u'skylab', u'skyline31687', u'skynxnex', u'skypup', u'skywalker268', u'skywizzard', u'slackademic', u'slackerlack', u'slagle9480', u'slaintemhor', u'slaman992003', u'slammgrass', u'slammo', u'slando', u'slap', u'slaphappysnark', u'slapstick33', u'slargthorb', u'slash196', u'slasher007', u'slassy', u'slater1313', u'slaters5050', u'slatetupelo', u'slawsonator', u'slayer3604', u'slayerhellfire', u'slc129', u'sld66', u'sleazo', u'sleephowl', u'sleepingbear', u'sleepy10', u'sleestak4life', u'slentz', u'slept', u'slicecount', u'slick0ne', u'slick7rick', u'slickmick22', u'slicknuss', u'slider', u'slimspady', u'slimstout', u'slinhans', u'slinky0390', u'slitherySOB', u'sliv', u'sliverX', u'slk22', u'sloambbr', u'sloejams', u'sloescher', u'slogan', u'sloopy', u'sloppysocks', u'sloucho', u'slowbie', u'slowhand429', u'slowhead', u'sls0210', u'sluggermatt15', u'sluhdrum07', u'slumslum', u'slushthelush', u'slvrmon82', u'slygrin', u'slyke', u'sm007thie', u'sm0key', u'smadsen8486', u'smakawhat', u'smallbatchbrewer', u'sman262', u'smanders', u'smarcoly', u'smarks2327', u'smbslt', u'smc143', u'smchasta', u'smchenry75', u'smcolw', u'smcreator', u'smcyrone', u'sme4r', u'smedley', u'smekermann', u'smellandsip37', u'smellody', u'smellsofstout', u'smerkinb', u'smerrell', u'smg241', u'smh804', u'smibroncos', u'smilingPolitely', u'smilsdo', u'smithdc33', u'smithflipper', u'smithhomebrewing', u'smithza9', u'smitty1080', u'smitty2717', u'smittyjr', u'sml505', u'smm', u'smokeypeat', u'smorris291', u'smscoles', u'smsub185k', u'smtp4me', u'smttycty', u'smudgewhat', u'smulkowski', u'smurder187', u'smurfyou', u'smurphy77', u'smuttanator', u'smwesson500', u'smxr88', u'snaotheus', u'snarf4', u'snarl', u'snbcdewey', u'sneakybird', u'sneal', u'snegopady', u'sneth019', u'snevine', u'snglmltrblnd84', u'snilsen13', u'snipedthetender', u'sniper061', u'sniperman3006', u'sniperwolf48', u'snlvry33', u'snogglethorpe', u'snowlemur', u'snowranger05', u'snpub540', u'soad5109', u'soakthis', u'sobchack', u'socalde', u'socaltay', u'soccerman7', u'soccerpete', u'socialchug', u'sociallooter', u'sockeye101', u'soco7tyx7', u'socon67', u'sodiepop', u'sofakingawesome', u'sofingraw', u'softcough', u'sogrady', u'sohio', u'soilguy', u'soju6', u'solargoat', u'solidarity77', u'solidoxygen', u'solinvictus', u'solstarr', u'solus5899', u'somabeer', u'some5150', u'somestranger', u'somethingfishy', u'somewhatdamaged', u'sommersb', u'somnus71', u'sonata2008', u'sonicdescent', u'sonicstylee', u'sonicyouth45', u'sonnmr31', u'sonnybrew', u'sonofabeach', u'sonofdon', u'sonomafbi', u'sooperpaulie', u'sopclod', u'soper2000', u'sopernicus', u'sophisticated', u'sopor', u'sorryaboutbrooks', u'soskully', u'sottises', u'soughtbygod', u'soulfly1492', u'soulfly967', u'soulgrowl', u'soulsurvivor', u'soultrain', u'soultrain19', u'sound67', u'soundbarrier', u'soundhole', u'soup35', u'soupermirl', u'soupyman10', u'sourdoughsteve', u'southernbelle09', u'southernmagnus', u'southernshred', u'southjersey636', u'southside', u'southsider', u'southsiderookie', u'soze47', u'spaceboy', u'spacechimo155', u'spacecoyote', u'spaced', u'spaceranger', u'spacerat100', u'spaceycasey', u'spacholl', u'spaciorek', u'spackledust', u'spanky167', u'sparkdinko', u'sparkydoyle', u'spartan2k', u'spartan30', u'spartanfan', u'spartanjd', u'spartikvs', u'sparty0n', u'spazaru', u'spazmonkeyy', u'spdrz', u'spdyfire83', u'speakorspasm', u'specgravity', u'specialbob', u'specksnreds', u'specsbeer06', u'spector551', u'specvthis', u'speedy3d', u'speedybones', u'spencerchristie', u'spencerw', u'speter', u'spewdog', u'spfldcardinalfan', u'spicelab', u'spiffysamurai', u'spike88', u'spike882', u'spikemoves', u'spilhaus', u'spiner', u'spinrsx', u'spitInTheOcean', u'spithrash', u'spittingoutteeth', u'spk154', u'splat215', u'spmagargal', u'spmags', u'spoiledguy44', u'spointon', u'spokeydonkey', u'sponberg', u'spoon239', u'spoons', u'spoonturtle37', u'spoot129', u'spoots', u'sporr', u'sportscrazed2', u'sportsfn10gb', u'sprackops', u'spratmi', u'spree92', u'sprinkle', u'spruce488', u'sprucetip', u'spurr', u'spwalshesq', u'spycow', u'sqquuee', u'squaremile', u'squidbrand', u'squidswilbsquids', u'squidtrick', u'squilky', u'squirrelJS667', u'squirrelpirate', u'squish059', u'sraimondi', u'srandycarter', u'srbeezer', u'srkeefe', u'srlama1', u'srobertson59', u'srrn', u'srroos', u'srvisgod88', u'ss454', u'ssalgado', u'ssam', u'ssavon66', u'ssbeer', u'sschliv', u'sschwartz', u'ssimpson89', u'ssinger', u'ssmoraros', u'sstackho', u'ssuggs01', u'ssznyter', u'stabzmcgee', u'stace', u'stacey14', u'staffweilder', u'stageseven', u'stagger', u'stagman', u'stakem', u'stalefish666', u'stalker5', u'stammmc', u'stanZ', u'standupjack', u'stangbat', u'stangelj', u'stangski83', u'stanley123', u'stanleykoolbrick', u'staples', u'staplesjo', u'stapleton87', u'starflyer58', u'starke12', u'starkystark', u'starrdogg', u'startreker', u'starvinbarley', u'staveoffzombies', u'stawn', u'stayintheshade', u'stbfan', u'stbo101', u'stburke', u'stckhndlr', u'stcules', u'stdavid', u'steadydose', u'steamingheap', u'steanu', u'stearns16', u'steck34', u'steelcutoats', u'steeldoc36', u'steeler', u'steelerguy', u'steelerkiss', u'steelersxl', u'steelrazor', u'steelreign', u'steelscarab', u'steelstrings', u'steeltown71', u'steevo', u'stegmakk', u'stegosaurus', u'steinlifter', u'stellabrew', u'stellashay', u'stemcell001', u'steorn', u'stephadelphia', u'stephen1162', u'stephendedalus', u'stephendr', u'stephenjmoore', u'stephenlouis', u'stephens101', u'stepmash', u'steppnrazr', u'stercomm', u'stereosforgeeks', u'sterlingds', u'sterlingjames', u'sterstar1', u'steve8robin', u'stevecee2003', u'steveclarkus', u'stevecooks', u'stevef', u'stevefinny', u'stevegamburg', u'steveganz', u'steveh', u'stevehagy', u'stevehussey', u'steveja57', u'stevemcqueenjr', u'stevemoug', u'steven9000', u'stevengodkin', u'stevenseg', u'stevenstofen', u'steveshields', u'stevete13', u'stevoj', u'stewart124', u'stewdawg', u'stewfnrocker', u'sthompson519', u'stickman1220', u'stickynotes', u'stickyv', u'stig', u'stilts', u'stimulus', u'stimy', u'stin66', u'stingo', u'stingrayvr6', u'stinoski', u'stiv', u'stjaernstoft', u'stjarnflikka', u'stlbeerguy', u'stlemur', u'stlfan74', u'stlsportster', u'stmod', u'stoad', u'stockingcpl', u'stockton', u'stodbrew', u'stoepsel', u'stof0048', u'stollio', u'stompwampa', u'stone3187', u'stone9000', u'stoned2', u'stonedcrow', u'stonelis', u'stonequarrywest', u'stoner420', u'stonermouse', u'stonesean', u'stopbarking', u'stopmakingsteve', u'stoptime', u'storksonm', u'stormstarter28', u'stormywaters', u'stoudt', u'stout', u'stout1961', u'stoutNdunkel', u'stoutandreds', u'stoutfiend27', u'stoutguy23', u'stoutlove77', u'stoutluvr420', u'stoutman', u'stoutmasterjames', u'stoutordie', u'stouts4me', u'stoutseedling', u'stoutstevie703', u'stouty1', u'strangebrew52', u'strangefate', u'strangemusic', u'strata39', u'strattor', u'straybeer', u'streamrunner', u'streetcommander', u'strengthdoc', u'strichte', u'stricklandia', u'strictly4DK', u'strikertown', u'strimpf', u'strohme2', u'strongbeerrules', u'stryker512', u'strykzone', u'stubens', u'stuckonhops', u'studentofbeer', u'stulowitz', u'stumac', u'stupac2', u'stupefied', u'sturner26', u'stxSS07', u'stylinprofiylin', u'stylzdlux', u'styrene', u'styxnpicks', u'suIIy', u'subie1011', u'sublimesipping', u'subliminalurge', u'subs', u'suburbeer', u'subyman', u'sudsellier', u'sudsface69', u'sudsymcsudserson', u'sudz42', u'suedehead', u'suelpen', u'sugarbrew', u'sugarman71', u'sugeknight6289', u'sugit', u'suglis', u'suizethecat', u'sukwonee', u'sulldaddy', u'sullenbee', u'sullie519', u'sullied', u'sully42', u'sullysbeer', u'summerlightning', u'suncrust', u'sundevilbeerguy', u'sundevildog', u'sundevilstudent', u'suneal', u'sunjayc', u'sunkistxsudafed', u'sunrisechina', u'sunrisesolara', u'sunsetbrew', u'sunshinethewolf', u'supafly43218', u'supak', u'supascape', u'supe11', u'superBman', u'superbeeje', u'supercolter', u'superdavex', u'superdedooperboy', u'superdoopersauce', u'superdudeo', u'superjose', u'supermanjace', u'supermantoine', u'supermeniscus', u'supermetroid', u'supernaut', u'supernuke', u'superspak', u'superswing123', u'supertrirunner', u'superwombatgodde', u'supra429', u'surcorx', u'sureshot08', u'suretolose', u'surfadelic23', u'surfer4life', u'surferman576', u'surfinghaole', u'surfmanjim', u'surfmeister', u'surfnebr', u'suritalachouffe', u'surly1987', u'surlyfurious', u'surlyseth', u'surlysober', u'surlytheduff', u'surplusgunguy', u'surprenant1138', u'suspect', u'sustainabrew', u'sutcliff', u'svcbeerguy', u'svendryden', u'svingo23', u'svraines', u'swamiswamu', u'swanmann', u'swanny28', u'swant', u'sward84', u'swat93', u'sway0925', u'swbyps923', u'sweatpants06', u'swede96', u'sweemzander', u'sweetLew', u'sweetbrew82', u'sweethome', u'sweetkness', u'sweett3k', u'sweetwaterman', u'sweetwillyrolbar', u'swhite11', u'swhitt', u'swid', u'swierczt', u'swiftyschlifty', u'swigger', u'swihart', u'swingdjted', u'swirldog', u'swizzle672', u'swizzlenuts', u'swooshjtb', u'swt1trvlr', u'swthomas55', u'syntheticwings', u'syrupjoe', u'szartman', u't00sl0w', u't0rin0', u't3200', u't3hcho53non3', u't420o', u't8000shx', u't8s8l8', u'tab021', u'tab111', u'tacoman', u'tacubaya', u'tadashi1922', u'tadbrunye', u'taddymaster', u'taddyone', u'tadowdaddy', u'taez555', u'tag0519', u'tah908', u'tahlstro', u'tai4ji2x', u'taigor', u'tailleur', u'tajiandemello', u'takeabrewski', u'talkinghatrack', u'talkingpoints', u'tallar', u'tallboy27', u'tallmidget', u'tallpaullbc', u'talltexan259', u'tambourineman', u'tamedturtle', u'tanarm', u'tanfastic', u'tang214', u'tang3nt', u'tangentrider', u'tankg', u'tanklin001', u'tanousa', u'tanstaafl28', u'tanzaniakate', u'tapman', u'tapthat', u'tar', u'tardiffism', u'targheehucker', u'tarheelboy', u'tarheels86', u'tastechaser', u'tasteegood', u'tastermaster', u'tastybeer', u'tastynubulets', u'tatoodkelt', u'tatterdash', u'tattooed81', u'tattooedtolley', u'taulpepper', u'taverncast', u'tavernjef', u'tavernseeker', u'taxguyjase', u'taxwarrior', u'taylocd', u'taylor714914', u'taylorhamrick', u'taylorparsons', u'tayner', u'tazio', u'tazziedevil', u'tbart428', u'tbase', u'tbbrown', u'tbeck', u'tbeckett', u'tbern007', u'tbill6', u'tbizzle0', u'tblakebraddy', u'tblfan04', u'tbmurphy89', u'tbone53', u'tbone69', u'tbonematt', u'tbonevig', u'tboom29', u'tbow05', u'tbraun1', u'tbrown4', u'tburkhart', u'tburus', u'tbus89', u'tbzinger9', u'tcampbel1', u'tcayiajr', u'tcfishler', u'tch51', u'tchaos', u'tchenery', u'tchurchill7', u'tckattt', u'tclapper', u'tconboy', u'tctruffin', u'td507554', u'tdawgydog', u'tdehnel', u'tdeim2', u'tdevo', u'tdexterc', u'tdm168', u'tdmillerjr', u'tdrshayden', u'tdt560', u'tdubbydub', u'tealeaf', u'teamburma', u'teamhex', u'teamizm', u'teamslayer76', u'techboy', u'techcommdood', u'techdiver', u'techfed87', u'techlady', u'techtatu', u'tecknojoe', u'teddingston', u'tedho21', u'tedingr', u'tedpeer', u'tedsox31', u'tedwilson40', u'teejay76', u'teetee523', u'teg8612', u'tegelaar', u'tegwek', u'tehawful', u'tehchunk', u'tehstevo', u'tehwagon', u'tehzachatak', u'teisho', u'tekk9', u'tekn0ph1sh', u'teknofile', u'teknowaffle', u'telecaster54', u'telecomz', u'telejunkie', u'tempest', u'templar316', u'tempo013', u'tenaciousp65', u'tenant', u'tencents', u'tendermorsel', u'tenebrus', u'tenorvoice0739', u'teovaldi', u'tepickering', u'ter2112', u'terenceokeefe', u'teromous', u'terrabyte', u'terranova770', u'terrapinchris', u'terrapinfan88', u'terrybail', u'terryeckmeier', u'terrysmith', u'terryt5231', u'tesguino', u'tetonka4kzoo', u'tetsuoni', u'tetu', u'tewaris', u'texasbeerguy', u'texascarl', u'texaschainx', u'texasgrape', u'texashammer', u'tfarmstrong', u'tfield', u'tfinn', u'tfp4268', u'tfrench8985', u'tfsimpkins', u'tfuchs', u'tgat', u'tgavaghan', u'tgbljb', u'tgdigital', u'tgncc', u'tgorgz', u'thadbme', u'thagens', u'thagr81us', u'thaichile', u'thain709', u'thanse16', u'tharper', u'tharper178', u'thartman', u'thasnazzle', u'thatbrownbottle', u'thatguy314', u'thatguy3579', u'thatkid', u'thatlongname', u'thatothermitch', u'thatruth', u'thatsfine', u'thatsright', u'thaxomatic', u'thbeer', u'the1DarkLord', u'the1hammer', u'the42ndtourist', u'theAMBAS', u'theBubba', u'theCMPNY', u'theGOOCH', u'theGroove', u'theJollySin', u'theMarksRA', u'theProf', u'theRealDeal', u'theRooster90', u'theSaj', u'theWrkncacnter', u'thealliance', u'thebadman', u'thebarnesbomb', u'thebarracuda', u'thebeerbandit', u'thebeerbuddies', u'thebeerdoctor', u'thebeerisgood', u'thebeeve', u'thebfg', u'thebierbrewery', u'thebighungry', u'thebigyellowhat', u'thebluewizard', u'thebob', u'theboozecruise', u'thebreadguy', u'thebreederswow', u'thebrood1987', u'thebubble', u'thecarster1', u'thecdp', u'thechaacster', u'thechamp', u'thecheapies', u'thechemist', u'theclaudius', u'theclevername', u'thecoldesquire', u'thecrowg', u'thedalziel', u'thedeen123', u'thedeezy', u'thedindaniel', u'thedirector999', u'thedon10', u'thedoubler55', u'thedrewski86', u'thedrizzle', u'theembalmer', u'theerlking', u'thefarstrider', u'thefenst', u'thefinetaste376', u'thefingluke', u'thefireman', u'theformula', u'thefratguy', u'thefrizzle', u'theghost3', u'thegiggy86', u'thegodfather1076', u'thegodfather2701', u'thegreatbeerer', u'thegrillishot', u'thehand', u'thehbchemistry', u'thehenbarris', u'thehiggy', u'thehillsbar', u'thehodgie', u'thehooksman', u'thehopdevil', u'thehopsguy', u'thehosh', u'thehyperduck', u'theirishdago', u'thejewthatbrews', u'thekanna', u'thekevlarkid', u'thekinge', u'theklep', u'thekoz', u'thelagerheads', u'theman336', u'themango', u'themantis1', u'themaxx76', u'themilkman01', u'themotleyfool', u'thenewflesh', u'theo692', u'theo871', u'theopholis', u'theotherone87', u'theotheroneSC', u'theozag', u'thepassingofdays', u'thepegjet', u'thepeter', u'thepitch', u'thequeen711', u'therachinator', u'therapture', u'theraven', u'therealmcclurg', u'therealmccoy3', u'therealnod', u'thereido', u'therica', u'therickguy78', u'therivler1', u'therobot', u'theroboticpirate', u'therover413', u'thersnofork', u'therube', u'thesarahfuller', u'thesiege', u'thesilverhand', u'thesoup', u'thespaceman', u'thesquire', u'thestand818', u'thestuff', u'thesyko56', u'thetachibro', u'thethrone', u'thetomG', u'thetros', u'thevanillaninja', u'thewalkindude', u'thewhale', u'thewhitecosbykid', u'thewho', u'thewolf32', u'theycallmedoc', u'theyellowdart', u'thezenkeeper', u'thickerfreakness', u'thielges', u'thierrynantes', u'thinkbreakfast', u'thinkfull', u'thirdeye11', u'thirg', u'thirtysixbelow', u'thisisbigrob', u'thisismyname', u'thisisshsas', u'thisisxxmyIPA', u'thisnamestoolong', u'thistle3189', u'tholzerman', u'thomasben86', u'thomcatr3t', u'thor638', u'thorvale', u'thourgood', u'thrak', u'thrash420', u'thrashaholic', u'three1six', u'threeviews', u'throwitallaway', u'throwthechaff', u'thryn', u'thstevens12', u'thudy', u'thunderbucks7', u'thydarkprevails', u'tiamariajim', u'tibers', u'ticklechicken', u'tiffanya', u'tiger88', u'tigerbass', u'tigerbot', u'tigerdoc', u'tigernipples', u'tigerpaws', u'tigg924', u'tikibeer', u'tikk', u'tim9887', u'timbeer', u'timbercanoe', u'timbro81', u'timconnel', u'timdog44', u'timellison', u'timericka', u'timers', u'timfredricks', u'timherremans', u'timholio', u'timhoth', u'timjdavis', u'timmafawlz', u'timmah427', u'timmay41', u'timmick', u'timmlimestone', u'timmos1', u'timmy2b', u'timmyfury', u'timmytootimes', u'timobkg', u'timonan', u'timorousme', u'timr62', u'timrice', u'timrosenblatt', u'timski346', u'timspitz', u'timtheenchanta', u'timtim', u'timtwoface', u'timus1119', u'timus19', u'timvandyke', u'tinman1940', u'tinusch', u'tinybones', u'tinyosborne', u'tiodan', u'tipnsip', u'tippebrewcrew2', u'tipsytucsonian', u'tito42', u'titosupertramp', u'tittymcj', u'titusgroan', u'tj4288', u'tjacobs610', u'tjbartjr', u'tjcortez', u'tjd112', u'tjdev82', u'tjfinkle', u'tjfontaine', u'tjinohio', u'tjkinate', u'tjkurz', u'tjmuncy', u'tjsdomer2', u'tjsmith910', u'tjsprague', u'tjthresh', u'tjwarren', u'tkach', u'tkarsies', u'tkeHijacker', u'tkelley', u'tkepx182', u'tkerugger', u'tko741', u'tl00camaross', u'tlamb9', u'tlamond', u'tlazaroff', u'tlinner', u'tlitt2', u'tlnc2006', u'tlong421', u'tmaiaroto', u'tmcelvain', u'tmgcannon', u'tmgiddings', u'tmitch75', u'tmm254', u'tmoneyba', u'tmoore600', u'tmorgan003', u'tmp155', u'tmquire', u'tmurph24', u'tnacho', u'tnaratil', u'tncapt', u'tneel', u'tniless', u'tnlandsailor', u'toadsass79', u'toadstooltodd', u'toastage', u'toastdog', u'toastpowder', u'tobeerornottobe', u'tobelerone', u'tobin', u'tobin999', u'tobyandgina', u'tobyb41', u'tobymugg', u'todatsu', u'todd1', u'toddhett', u'toddjemery', u'toddw8', u'todisht', u'toetag39', u'tofulegend', u'togaman91', u'tom444', u'tomParis', u'tomahawk576', u'tomfneph', u'tomhenderson', u'tominator', u'tomj6', u'tommaco', u'tommak', u'tommiller819', u'tommy78', u'tommyv138', u'tomroeder', u'tomspalla', u'tomstaub', u'tomthumbsblues', u'tomtollman', u'tomvt', u'tone77', u'tonistruth', u'tonk', u'tonloco', u'tony223366', u'tonyb0d', u'tonyburkhart', u'tonyf55', u'tonymoore', u'tonytuffnuts', u'toolbrew', u'tooleypep', u'toolmangonnabe', u'toomuchhops', u'toosexi', u'toothharp', u'tooyoung', u'toppertrav11', u'topshlf', u'torchednoodle', u'torchedpunk', u'toreysan', u'torsoul', u'tosshin', u'totalimmortal24', u'touchmeimsac', u'toutaboutstout', u'toweringpoo', u'towersfall', u'toytan', u'tozerm', u'tozz8', u'tpbernardi', u'tpd975', u'tpdog86', u'tpet96', u'tpistilli', u'tpowenski', u'tprokop7', u'tr0n', u'tr0n2ooo', u'tr4nc3d', u'trachy314', u'trackstar1043', u'traderade', u'trafordboy', u'tragicrock', u'trahantheman', u'traillme', u'trancefishy', u'translucent', u'trappistbest', u'trappistlover', u'travMI13', u'travduke', u'travelfrog', u'travipa', u'travis224', u'travis3113', u'travisd13', u'travise', u'traviserickson', u'travisishigh', u'travisnd', u'travloh', u'travolta', u'travpard', u'trayofcoke', u'trbergman', u'treble', u'trecker', u'tredaug', u'treedoctor5002', u'treehouse', u'treehugger02010', u'treehugginslug', u'trekbiker3000', u'trelihan462', u'trem0lo', u'trenchtown4', u'trentley87', u'trep', u'treque', u'trettinma', u'trevorjn06', u'trevormiller', u'trevorwideman', u'treyfire', u'treyrab', u'treznor', u'trf32', u'trg', u'tribial', u'trickdaddy', u'trill', u'trinitone', u'tripelhops', u'tripelx', u'triplecoil', u'trippoint', u'triptens', u'trisweb', u'trixdout', u'trkerrigan', u'trm424', u'trock355', u'trodersark', u'trolification', u'trolinc', u'tronester', u'troobie', u'trooperp', u'trossi', u'troublebrewin', u'trouserbat', u'troutmask96', u'troysoy2', u'trpng0bily', u'trubeernick', u'truckerzero', u'truckinbob', u'truknon', u'trulyblue85', u'trumick', u'trumpetego', u'truncated', u'truncatedcone', u'truthbrew', u'trxxpaxxs', u'tryemall', u'tryger', u'trygger87', u'tryin', u'ts183', u'tsatem', u'tsauce', u'tsauce2', u'tsbuttry', u'tscheese', u'tschmidlin', u'tsmcneil', u'tsmthrs', u'tsparkinson', u'tspears', u'ttfreek', u'ttinyqc', u'ttrrooyy19', u'ttu94', u'tturaiders', u'tubacharlie', u'tubaguy', u'tubbfan', u'tubbnik', u'tubdog13', u'tubeboy', u'tuckevalastin', u'tucsonwaz', u'tugdriver7', u'tunamcdermot', u'tuo', u'turamarth', u'turbine2475', u'turbocactus', u'turboedtwo', u'turboge', u'turdburglar', u'turfmgr', u'turfy', u'turkob', u'turnblom79', u'turnerr79', u'turnstile', u'tut2528', u'tvail4', u'tvandragt', u'tvault', u'tvazteca', u'tvercil2', u'tvljr', u'tvv375ia', u'tw0st3p', u'twaddlac', u'twade', u'twbrewer', u'twduncan', u'tweeder263', u'tweek87', u'twelvelookslikex', u'twelvepack', u'twelvinlucifer', u'twelvsies', u'twi1609372', u'twichingbrewer', u'twig86', u'twigfarm', u'twiggamortis420', u'twilight', u'twisred57', u'twit', u'twitchr', u'twlynch12', u'twofattires', u'twoheadedboy', u'twoheartedheel', u'twokansamm', u'tworollsbeatone', u'txbeerdrinkr', u'txbrew81', u'txbrewer', u'txrzrbak', u'tyamhydrogen', u'tyanow', u'tyboxr', u'tyee', u'tyhillman', u'tykechandler', u'tykees88', u'tylerjonz', u'tylernim', u'tylerprince', u'tylerss20', u'tytm12', u'tytoanderso', u'tzchandler', u'tzieser', u'u2carew', u'uabigdaz', u'uamtey2', u'uawildcat', u'uberabr', u'uberbrau', u'uberez8', u'uberkane', u'ubermenschen001', u'ubermick', u'ubermunkey', u'ubernetizen', u'ubetchamn', u'ucis', u'uclajd', u'uconnalum2', u'uconnroller', u'udchemist', u'udrick', u'udu86922', u'udubdawg', u'ufoisgood', u'ufotofuturo', u'ugaterrapin', u'uglyblonde', u'uglyguy', u'uhhhaaron', u'uiplanner', u'ujsplace', u'ultima1080', u'ultralarry2006', u'ultrastiledivita', u'ultrasupergenius', u'umfskibum', u'ummswimmin', u'umpquabrewer', u'umtox', u'umustdrink', u'unHipHopHead', u'uncggop06', u'uncle8gil', u'unclecrappy', u'unclederby', u'unclejazz', u'unclejedi', u'unclejimbay', u'unclemeat9', u'unclemorgan', u'uncleozzy', u'unclewhale', u'uncultured', u'undeadozzy', u'undertow46', u'unholy2', u'unibrew', u'unionturf', u'unit555', u'unit91', u'unitas3', u'unitmonster', u'unkiedave', u'unkk33', u'unklesyd', u'unknownlamer', u'uno99', u'unojuno', u'unseenbyyou', u'unskinnyhop09', u'untamedbeer', u'upstateDave', u'urbanexplorer', u'urokosaki', u'urwithdave', u'urza', u'usa4neil', u'uselessgdtaste', u'user0317', u'username8000', u'ush81', u'ushikins', u'usmcphillips', u'usmittymc', u'usryguitar117', u'usualpulp', u'utah44', u'utahbeerdude', u'uticaclub86', u'uturn', u'uustal', u'uvascotto', u'uwharrieguy', u'uwmgdman', u'v8americanpower', u'vacax', u'vader', u'vagreek', u'valdesd1', u'valgalder', u'valosonthor', u'valpodogs', u'vanagon169', u'vancinator', u'vancurly', u'vande', u'vandebe', u'vandeg', u'vandemonian', u'vandenbochi', u'vaneson', u'vangambrel', u'vanrassel', u'vanrun', u'vapodge', u'variousartists', u'vasdef42', u'vazy', u'vcek', u'vdan02', u'vdoz3', u'vdread', u'vdubmatt', u'veachster', u'vecernicek', u'veech', u'vegantreats', u'vegasennui', u'veggiemafia', u'velkyal', u'velmalikevelvet', u'velo343', u'velosuds', u'venneman', u'veratyr9', u'verceman', u'verge', u'veritas88', u'vermeu25', u'veruus', u'veryhumble', u'vespahulb', u'vette2006c5r', u'vfgccp', u'vgarneth', u'vgoreham', u'vhiggins', u'viaingo', u'vic21234', u'vicg12', u'vickersspitfire', u'vicks22', u'vicsju1991', u'victordeprater', u'victory4me', u'victrola42', u'videofrog', u'vidisad', u'viejolander', u'vikingloki', u'vikingmike', u'vikings1988', u'vilago', u'vilerage', u'villainchiwwin', u'vin', u'vince4953529', u'vincentmeloni', u'vincicle', u'vinneef', u'vintagedjd', u'vintajuess', u'vinthebrewer', u'violanojblues', u'violentj', u'viperpiper522', u'virtualshock', u'vishneda', u'vissai', u'vitalnj', u'vitamaltz', u'vitesse', u'vitrael', u'vitriola', u'vivalanation734', u'vividox', u'vkv822', u'vladbzeev', u'vladimerjr', u'vladtheimpaler', u'vncolbert', u'vobr0002', u'voidmyrules', u'volklshred', u'volksman', u'volldampf', u'vonderbrink', u'vondew45', u'voraciousalky', u'voteforgoat', u'voyager', u'vpipkt', u'vpunk', u'vrazionale', u'vrbulldog22', u'vroney', u'vrushing88', u'vsmartinez', u'vtbeast34', u'vtblackdog', u'vtfan77', u'vtisme', u'vtrim', u'vtsaltydogg03', u'vurt', u'vw73182', u'vwaddict', u'vwahaszee', u'vwbus7', u'vwcraig', u'vyzer', u'w1n0', u'w4s', u'w5baron', u'waboone', u'wac9', u'wadds', u'waddsworth', u'wadecats', u'wafers', u'waffle611', u'wafflebeer', u'wagenvolks', u'wagnert', u'wahhmaster', u'wahooman', u'wailingwench', u'wajacobs', u'wakitabanana', u'walder', u'waldoiverson', u'waldon', u'waldowin', u'walker1200', u'wallaceandvomit', u'walleye', u'walloon', u'wallpaperbag', u'wallygatorca', u'wallymowrigley', u'walows', u'walshclimb', u'waltaburge', u'walteez', u'waltek1', u'waltersrj', u'waltertrush', u'waltonc', u'wampahoofus', u'wamu2000', u'wangbruins', u'wanglaoshi', u'wanglow24', u'wanker', u'wapack', u'warbird07', u'warchez', u'wardough', u'wareagle3020', u'warfordium', u'warmdog', u'warmstorage', u'warnecj', u'warnerry', u'warreagle13', u'warrech', u'warrenc', u'warriorsoul', u'warthogred', u'washburnkid', u'washingtonydc', u'washins', u'waskie', u'wasso', u'wataazu', u'watchnerd', u'water2wines', u'watercandy', u'waterintobeer', u'watermelonman', u'watkins', u'watthree', u'waughbrew', u'wavenger', u'wavz', u'waxworm', u'wbc', u'wbfarr', u'wbickerton', u'wbrown', u'wburch1967', u'wca005', u'wcdoyle', u'wcgortel', u'wchesak', u'wchollif', u'wcintula', u'wcpmohr88', u'wcuberos', u'wcudwight', u'wd40', u'wdempster', u'weasbri', u'weatherdog', u'weazal', u'webbcreative', u'webbrew', u'webdog76', u'webmanspidey', u'websherpa', u'wedge', u'wedge3d', u'wedge421', u'wedgie9', u'weeare138', u'weedandchicken', u'weedslegalcousin', u'weeezle1971', u'weefisheads', u'weezyfart', u'weisbierjeff', u'weiserr', u'weissbierdrinker', u'weissbierhead', u'weizenbob', u'weizendoc', u'weizenwittlich', u'welcherHB', u'welldigger888', u'welldogg', u'weller1js', u'wenkalman', u'werbeor', u'werdnacross', u'werewolfbrent', u'wertperch', u'wesblount', u'wesbrownyeah', u'wescj', u'wesclaypool', u'wesl56', u'wesleyhighley', u'wessells', u'wesside89', u'westernflight9', u'westernseraph', u'westlakeview', u'westong', u'westonhood', u'westsidemiller', u'westweasel', u'wethorseblanket', u'weylinfidler', u'wfaulk', u'wferguson', u'wfrigsby', u'wgarton', u'wgk', u'wgkealey', u'wgunders', u'whahoppened', u'whalen2390', u'wharfrat1', u'whartontallboy', u'whatigot3488', u'whatisbeer21', u'whatsleftofyou', u'whatthehull', u'wheatbeer1', u'wheatbeerstyle', u'wheatman106', u'wheaty', u'wheatyweiss', u'wheelinshirt', u'wheetlvr', u'whendeathsleeps', u'whhs55', u'whiplash3825', u'whiskeysoda', u'whisperjet', u'whit', u'whiteangel1238', u'whitehouse50', u'whitemomba', u'whitenickcannon', u'whiterabbit', u'whiterascal', u'whiteskittlz', u'whitestag', u'whittonj', u'whomas', u'whoneeds8', u'whrdabudatduce', u'whtguitarguy', u'whubbard', u'whynot44', u'wicklein', u'wide3345', u'widowmaker', u'wierdo1212d', u'wifehatesbeer', u'wifehatesthebike', u'wikk3d', u'wilbrew', u'wildsailorwolf', u'wildvikes', u'wildwilll445', u'wileycount', u'wilkinsb09', u'wilkowski', u'will1256', u'will4240', u'willPS21', u'willb', u'willbarrett', u'willc11', u'willdraper', u'willestrd', u'willeyone22', u'willgro', u'william5586', u'williambarret', u'williamherbert', u'williamkbeckman', u'williammellon', u'williamt', u'williepep', u'willjansen', u'willjschmidt', u'willmc', u'willseph', u'willyc', u'willysjeep134', u'willytime', u'willyumlong', u'willywise', u'wilofevil', u'wilwfu', u'wimpasaurus', u'windigo32', u'windypete', u'winebarleywine', u'winegourmet76', u'wingedeel', u'wingman14', u'wingnutter', u'winky13', u'wino47', u'winomark', u'winpig3', u'winters19', u'wiscokid920', u'wise456', u'wiseguy142', u'wisnerd', u'wisrarebeer', u'witflee', u'withliterature', u'witster18', u'wizzle', u'wjc26123', u'wjimson', u'wjstewart', u'wkcyr4', u'wke4estguy', u'wknight167', u'wkominos', u'wl0307', u'wlbromley', u'wllmsaccnt', u'wmaldridge', u'wmcneill26', u'wmmatt41', u'wmthorne', u'wmtxbb', u'wnbklb', u'wnh', u'wnhay', u'wo87810', u'wobblymailman', u'wobblynoggin', u'wocket', u'woemad', u'wofat', u'wogreen', u'wojoparkcity', u'wolf26', u'wolf323i', u'wolfbeast', u'wolffman17', u'wolfinthemirror', u'wolfio62', u'wolfpack87', u'wolfsdennc', u'wolfsleepy', u'wolfy', u'wollybugger', u'wolverinerocker', u'wolvie2', u'womencantsail', u'wonderbread23', u'wondrtim', u'wood2430', u'woodchuck69', u'woodjm', u'woodske1', u'woodychandler', u'woodymq', u'woodytele', u'woolhat', u'woolymammoth', u'woooch', u'woosterbill', u'wootenjones', u'wordemupg', u'wordhog61', u'wornout', u'wortchiller', u'wowbagger', u'wowbragger', u'wpattison', u'wray7276', u'wrayjustin', u'wrb357', u'wrcraigl', u'wrightro07', u'wrightst', u'writerLJBerg', u'wrx2ndregime', u'wrycon', u'wryepicures', u'wscaffe', u'wschmit', u'wschumac', u'wsouloa', u'wspscott', u'wstein70', u'wstuart', u'wtarheel1', u'wtfuggles', u'wugambino', u'wuntrikpony', u'wvbeerdad', u'wvbelgique', u'wvdrummer', u'wvmi', u'wvsabbath', u'wvu9787', u'wwbass', u'wwchamberlain', u'wwheeler', u'wwjb', u'wwwyzzerdd', u'wxjunkie', u'wyattearp', u'wyattgene', u'wyattshotmaker', u'wycked54', u'wyllder', u'wytshark', u'x2tallx', u'x63x77', u'xXTequila', u'xandman', u'xanok', u'xare', u'xav33', u'xcephalopodx', u'xcoderzach', u'xcrunner78', u'xdant', u'xdopiex', u'xdream', u'xduderx', u'xenolithic', u'xensure', u'xerenthar', u'xerotime', u'xerxes2695', u'xfactor9600', u'xforce', u'xgabe', u'xgrafcorex', u'xgrigorix', u'xhcadamx', u'xhermit', u'xhuskr', u'xichix', u'xjapanhomebrewx', u'xmahns', u'xmorgan', u'xnicknj', u'xodin', u'xoqx', u'xpando420', u'xpatriate', u'xpdrinker', u'xpimptastikx', u'xpoweruser', u'xq7a', u'xqed', u'xraided81', u'xrdsci', u'xsists', u'xstar823', u'xtacyturbo', u'xtalman', u'xthemystic', u'xtremejammn', u'xuehua', u'xumbi', u'xunorm', u'xuptygm', u'xv43', u'xvertirx', u'xvoltronx', u'xx99mustangGTxx', u'xxHelderxx', u'xxcarpxx', u'xxnite88', u'xxthepatientxx', u'xxxninjacorexxx', u'xybreeder', u'xylophonica', u'xymyl', u'xzqrut', u'y2j2280', u'y2jrock60', u'yadehtsiyadot', u'yaegerje', u'yael6666', u'yagosantgria', u'yakasmitsen', u'yakko', u'yakman', u'yamar68', u'yankeeheel', u'yankeej13', u'yankeetiger44', u'yankiac', u'yapi', u'yardguy', u'yarnto', u'yax75', u'ybnorml', u'yeagerbm', u'yeagmeister1', u'yeahman', u'yeahnatenelson', u'yeastiebeasties', u'yeastpuppet', u'yeastsipper', u'yelterdow', u'yemenmocha', u'yen157', u'yeoldeale', u'yermomma', u'yeroc40', u'yesferro', u'yesthatguy', u'yesyouam', u'yevuta', u'ygtbsm94', u'yinzer', u'yippiIPA', u'yippieIPA', u'yisseroff', u'yit4311', u'yitbos96bb', u'ykncornelius', u'yngvar', u'ynnpar', u'yobeerman', u'yoboy', u'yoda10175', u'yodaseo', u'yogurt', u'yoi55', u'yokefellow', u'yoko', u'yondermeister', u'yosh', u'yoshalan', u'yossarian14', u'yotyz250f', u'youbrewidrink', u'youngblood', u'younger35', u'younggunz', u'youngleo', u'youradhere', u'yourchoice', u'yourdudeness', u'yourefragile', u'yourunclewalt', u'yoyo', u'ypsifly', u'yuenglingfan101', u'yuenglinglover80', u'yuenglingman', u'yuenglings', u'yunggunn2k1', u'yunkers', u'yupitsmeadam', u'yuriruley', u'yusef', u'ywdwarner', u'yzer', u'yzerman', u'z3niMAGiNE', u'zImage', u'zac16125', u'zacarias', u'zacdrinksbeers', u'zach8270', u'zachariaIPA', u'zacharius', u'zachary37', u'zachary80', u'zachisspeaking', u'zachsmith', u'zackcg', u'zackmoney', u'zadams1', u'zagduck', u'zakery', u'zakyj', u'zander4dawin', u'zandy1123', u'zane2hyperzane', u'zao77', u'zapata', u'zapato', u'zapb42', u'zaphodchak', u'zappafan99', u'zappuh', u'zaq37', u'zassenhausen', u'zaxwizard', u'zbellino', u'zbones', u'zbs', u'zbuc919', u'zcapps', u'zchall23', u'zdebyo00', u'zdk9', u'zdyeates', u'zealot', u'zealouszymurgist', u'zeapo', u'zebco', u'zebedee', u'zebulon', u'zee3are0', u'zeff80', u'zeldar', u'zeledonia', u'zen', u'zenjamin', u'zep9865', u'zerk', u'zero920', u'zerofear13', u'zerojake', u'zfjohnson', u'zhadum', u'zhanson88', u'zhooker', u'zic', u'zig77', u'ziggy13', u'ziggycash', u'zigpenguin', u'zimm421', u'zimmerbloke', u'zimmth01', u'zingerhophead', u'zipyth3pinhead', u'zirb', u'zjungleist', u'zk1ipa', u'zloew', u'zminor', u'znarf', u'znichols', u'zodiacv1', u'zodiak3000', u'zooalbert', u'zooga', u'zook74', u'zoolou', u'zoolzoo', u'zorandra', u'zornbeast', u'zorro5683', u'zoso1967', u'zoso493', u'zpeid', u'zplug123', u'zrab11', u'zrmoyers', u'zrrbrrt', u'zseeanz', u'zstewart', u'ztaylor1', u'ztoellner', u'ztprez', u'ztruempy', u'zuccard', u'zuffenhausen', u'zuggy9', u'zuker', u'zulufactor', u'zumicroom', u'zwalk8', u'zwoehr', u'zymrgy', u'zymurgy4all', u'zymurgywhiz', u'zythus', u'zyzygy']],\n",
       "           labels=[[0, 0, 0, 0, 0, 0, 0, 0, 0, 0], [0, 1, 2, 3, 4, 5, 6, 7, 8, 9]],\n",
       "           names=[None, u'review_profilename'])"
      ]
     },
     "execution_count": 21,
     "metadata": {},
     "output_type": "execute_result"
    }
   ],
   "source": []
  },
  {
   "cell_type": "markdown",
   "metadata": {},
   "source": [
    "Check that rows are beers by examining the first few rows."
   ]
  },
  {
   "cell_type": "code",
   "execution_count": 22,
   "metadata": {
    "collapsed": false
   },
   "outputs": [
    {
     "data": {
      "text/plain": [
       "0                                    #9\n",
       "1                        120 Minute IPA\n",
       "2            1554 Enlightened Black Ale\n",
       "3                         60 Minute IPA\n",
       "4                         90 Minute IPA\n",
       "5    Aecht Schlenkerla Rauchbier Märzen\n",
       "6                          AleSmith IPA\n",
       "7               AleSmith Speedway Stout\n",
       "8                        Allagash White\n",
       "9                   Alpha King Pale Ale\n",
       "Name: beer_name, dtype: object"
      ]
     },
     "execution_count": 22,
     "metadata": {},
     "output_type": "execute_result"
    }
   ],
   "source": []
  },
  {
   "cell_type": "markdown",
   "metadata": {},
   "source": [
    "### Calculate distance between beers\n",
    "\n",
    "This is the key.  We have our ratings matrix now and we're going to use cosine_similarity from scikit-learn to compute the distance between all beers in this space."
   ]
  },
  {
   "cell_type": "markdown",
   "metadata": {},
   "source": [
    "Import stuff"
   ]
  },
  {
   "cell_type": "code",
   "execution_count": 24,
   "metadata": {
    "collapsed": false
   },
   "outputs": [],
   "source": [
    "from sklearn.metrics.pairwise import cosine_similarity\n",
    "from sklearn.metrics.pairwise import manhattan_distances\n",
    "from sklearn.metrics.pairwise import euclidean_distances"
   ]
  },
  {
   "cell_type": "markdown",
   "metadata": {},
   "source": [
    "Apply `cosine_similarity()` to `df_wide` to calculate pairwise distances and store this in a variable called `dists`."
   ]
  },
  {
   "cell_type": "code",
   "execution_count": 25,
   "metadata": {
    "collapsed": false
   },
   "outputs": [
    {
     "data": {
      "text/plain": [
       "array([[ 1.        ,  0.27540494,  0.27410345, ...,  0.32928048,\n",
       "         0.34805798,  0.31249922],\n",
       "       [ 0.27540494,  1.        ,  0.25151873, ...,  0.2854835 ,\n",
       "         0.23301356,  0.2802485 ],\n",
       "       [ 0.27410345,  0.25151873,  1.        , ...,  0.31629515,\n",
       "         0.22521858,  0.2737628 ],\n",
       "       ..., \n",
       "       [ 0.32928048,  0.2854835 ,  0.31629515, ...,  1.        ,\n",
       "         0.28025764,  0.34504013],\n",
       "       [ 0.34805798,  0.23301356,  0.22521858, ...,  0.28025764,\n",
       "         1.        ,  0.25526913],\n",
       "       [ 0.31249922,  0.2802485 ,  0.2737628 , ...,  0.34504013,\n",
       "         0.25526913,  1.        ]])"
      ]
     },
     "execution_count": 25,
     "metadata": {},
     "output_type": "execute_result"
    }
   ],
   "source": [
    "\n"
   ]
  },
  {
   "cell_type": "markdown",
   "metadata": {},
   "source": [
    "### Discussion: what type of object is dists?"
   ]
  },
  {
   "cell_type": "markdown",
   "metadata": {},
   "source": [
    "Convert dists to a Pandas DataFrame, use the index as column index as well (distances are a square matrix).  This means we'll have a beers by beers matrix of the distances between every beer from the ratings space.  Check out the first 10 or so rows and columns and make sure things look right (should see 1s on the diagonal)."
   ]
  },
  {
   "cell_type": "code",
   "execution_count": 26,
   "metadata": {
    "collapsed": false
   },
   "outputs": [
    {
     "data": {
      "text/html": [
       "<div>\n",
       "<table border=\"1\" class=\"dataframe\">\n",
       "  <thead>\n",
       "    <tr style=\"text-align: right;\">\n",
       "      <th>beer_name</th>\n",
       "      <th>#9</th>\n",
       "      <th>120 Minute IPA</th>\n",
       "      <th>1554 Enlightened Black Ale</th>\n",
       "      <th>60 Minute IPA</th>\n",
       "      <th>90 Minute IPA</th>\n",
       "      <th>Aecht Schlenkerla Rauchbier Märzen</th>\n",
       "      <th>AleSmith IPA</th>\n",
       "      <th>AleSmith Speedway Stout</th>\n",
       "      <th>Allagash White</th>\n",
       "      <th>Alpha King Pale Ale</th>\n",
       "    </tr>\n",
       "    <tr>\n",
       "      <th>beer_name</th>\n",
       "      <th></th>\n",
       "      <th></th>\n",
       "      <th></th>\n",
       "      <th></th>\n",
       "      <th></th>\n",
       "      <th></th>\n",
       "      <th></th>\n",
       "      <th></th>\n",
       "      <th></th>\n",
       "      <th></th>\n",
       "    </tr>\n",
       "  </thead>\n",
       "  <tbody>\n",
       "    <tr>\n",
       "      <th>#9</th>\n",
       "      <td>1.000000</td>\n",
       "      <td>0.275405</td>\n",
       "      <td>0.274103</td>\n",
       "      <td>0.388364</td>\n",
       "      <td>0.365175</td>\n",
       "      <td>0.253841</td>\n",
       "      <td>0.228479</td>\n",
       "      <td>0.227612</td>\n",
       "      <td>0.340681</td>\n",
       "      <td>0.293315</td>\n",
       "    </tr>\n",
       "    <tr>\n",
       "      <th>120 Minute IPA</th>\n",
       "      <td>0.275405</td>\n",
       "      <td>1.000000</td>\n",
       "      <td>0.251519</td>\n",
       "      <td>0.378258</td>\n",
       "      <td>0.410366</td>\n",
       "      <td>0.262425</td>\n",
       "      <td>0.315971</td>\n",
       "      <td>0.337541</td>\n",
       "      <td>0.282273</td>\n",
       "      <td>0.336796</td>\n",
       "    </tr>\n",
       "    <tr>\n",
       "      <th>1554 Enlightened Black Ale</th>\n",
       "      <td>0.274103</td>\n",
       "      <td>0.251519</td>\n",
       "      <td>1.000000</td>\n",
       "      <td>0.319887</td>\n",
       "      <td>0.314028</td>\n",
       "      <td>0.252486</td>\n",
       "      <td>0.266866</td>\n",
       "      <td>0.261761</td>\n",
       "      <td>0.260275</td>\n",
       "      <td>0.307296</td>\n",
       "    </tr>\n",
       "    <tr>\n",
       "      <th>60 Minute IPA</th>\n",
       "      <td>0.388364</td>\n",
       "      <td>0.378258</td>\n",
       "      <td>0.319887</td>\n",
       "      <td>1.000000</td>\n",
       "      <td>0.533042</td>\n",
       "      <td>0.316928</td>\n",
       "      <td>0.312343</td>\n",
       "      <td>0.307627</td>\n",
       "      <td>0.360975</td>\n",
       "      <td>0.385249</td>\n",
       "    </tr>\n",
       "    <tr>\n",
       "      <th>90 Minute IPA</th>\n",
       "      <td>0.365175</td>\n",
       "      <td>0.410366</td>\n",
       "      <td>0.314028</td>\n",
       "      <td>0.533042</td>\n",
       "      <td>1.000000</td>\n",
       "      <td>0.312861</td>\n",
       "      <td>0.344218</td>\n",
       "      <td>0.358754</td>\n",
       "      <td>0.356804</td>\n",
       "      <td>0.418582</td>\n",
       "    </tr>\n",
       "    <tr>\n",
       "      <th>Aecht Schlenkerla Rauchbier Märzen</th>\n",
       "      <td>0.253841</td>\n",
       "      <td>0.262425</td>\n",
       "      <td>0.252486</td>\n",
       "      <td>0.316928</td>\n",
       "      <td>0.312861</td>\n",
       "      <td>1.000000</td>\n",
       "      <td>0.244490</td>\n",
       "      <td>0.246063</td>\n",
       "      <td>0.297672</td>\n",
       "      <td>0.263248</td>\n",
       "    </tr>\n",
       "    <tr>\n",
       "      <th>AleSmith IPA</th>\n",
       "      <td>0.228479</td>\n",
       "      <td>0.315971</td>\n",
       "      <td>0.266866</td>\n",
       "      <td>0.312343</td>\n",
       "      <td>0.344218</td>\n",
       "      <td>0.244490</td>\n",
       "      <td>1.000000</td>\n",
       "      <td>0.521889</td>\n",
       "      <td>0.277409</td>\n",
       "      <td>0.400741</td>\n",
       "    </tr>\n",
       "    <tr>\n",
       "      <th>AleSmith Speedway Stout</th>\n",
       "      <td>0.227612</td>\n",
       "      <td>0.337541</td>\n",
       "      <td>0.261761</td>\n",
       "      <td>0.307627</td>\n",
       "      <td>0.358754</td>\n",
       "      <td>0.246063</td>\n",
       "      <td>0.521889</td>\n",
       "      <td>1.000000</td>\n",
       "      <td>0.273930</td>\n",
       "      <td>0.420247</td>\n",
       "    </tr>\n",
       "    <tr>\n",
       "      <th>Allagash White</th>\n",
       "      <td>0.340681</td>\n",
       "      <td>0.282273</td>\n",
       "      <td>0.260275</td>\n",
       "      <td>0.360975</td>\n",
       "      <td>0.356804</td>\n",
       "      <td>0.297672</td>\n",
       "      <td>0.277409</td>\n",
       "      <td>0.273930</td>\n",
       "      <td>1.000000</td>\n",
       "      <td>0.295666</td>\n",
       "    </tr>\n",
       "    <tr>\n",
       "      <th>Alpha King Pale Ale</th>\n",
       "      <td>0.293315</td>\n",
       "      <td>0.336796</td>\n",
       "      <td>0.307296</td>\n",
       "      <td>0.385249</td>\n",
       "      <td>0.418582</td>\n",
       "      <td>0.263248</td>\n",
       "      <td>0.400741</td>\n",
       "      <td>0.420247</td>\n",
       "      <td>0.295666</td>\n",
       "      <td>1.000000</td>\n",
       "    </tr>\n",
       "  </tbody>\n",
       "</table>\n",
       "</div>"
      ],
      "text/plain": [
       "beer_name                                 #9  120 Minute IPA  \\\n",
       "beer_name                                                      \n",
       "#9                                  1.000000        0.275405   \n",
       "120 Minute IPA                      0.275405        1.000000   \n",
       "1554 Enlightened Black Ale          0.274103        0.251519   \n",
       "60 Minute IPA                       0.388364        0.378258   \n",
       "90 Minute IPA                       0.365175        0.410366   \n",
       "Aecht Schlenkerla Rauchbier Märzen  0.253841        0.262425   \n",
       "AleSmith IPA                        0.228479        0.315971   \n",
       "AleSmith Speedway Stout             0.227612        0.337541   \n",
       "Allagash White                      0.340681        0.282273   \n",
       "Alpha King Pale Ale                 0.293315        0.336796   \n",
       "\n",
       "beer_name                           1554 Enlightened Black Ale  60 Minute IPA  \\\n",
       "beer_name                                                                       \n",
       "#9                                                    0.274103       0.388364   \n",
       "120 Minute IPA                                        0.251519       0.378258   \n",
       "1554 Enlightened Black Ale                            1.000000       0.319887   \n",
       "60 Minute IPA                                         0.319887       1.000000   \n",
       "90 Minute IPA                                         0.314028       0.533042   \n",
       "Aecht Schlenkerla Rauchbier Märzen                    0.252486       0.316928   \n",
       "AleSmith IPA                                          0.266866       0.312343   \n",
       "AleSmith Speedway Stout                               0.261761       0.307627   \n",
       "Allagash White                                        0.260275       0.360975   \n",
       "Alpha King Pale Ale                                   0.307296       0.385249   \n",
       "\n",
       "beer_name                           90 Minute IPA  \\\n",
       "beer_name                                           \n",
       "#9                                       0.365175   \n",
       "120 Minute IPA                           0.410366   \n",
       "1554 Enlightened Black Ale               0.314028   \n",
       "60 Minute IPA                            0.533042   \n",
       "90 Minute IPA                            1.000000   \n",
       "Aecht Schlenkerla Rauchbier Märzen       0.312861   \n",
       "AleSmith IPA                             0.344218   \n",
       "AleSmith Speedway Stout                  0.358754   \n",
       "Allagash White                           0.356804   \n",
       "Alpha King Pale Ale                      0.418582   \n",
       "\n",
       "beer_name                           Aecht Schlenkerla Rauchbier Märzen  \\\n",
       "beer_name                                                                \n",
       "#9                                                            0.253841   \n",
       "120 Minute IPA                                                0.262425   \n",
       "1554 Enlightened Black Ale                                    0.252486   \n",
       "60 Minute IPA                                                 0.316928   \n",
       "90 Minute IPA                                                 0.312861   \n",
       "Aecht Schlenkerla Rauchbier Märzen                            1.000000   \n",
       "AleSmith IPA                                                  0.244490   \n",
       "AleSmith Speedway Stout                                       0.246063   \n",
       "Allagash White                                                0.297672   \n",
       "Alpha King Pale Ale                                           0.263248   \n",
       "\n",
       "beer_name                           AleSmith IPA  AleSmith Speedway Stout  \\\n",
       "beer_name                                                                   \n",
       "#9                                      0.228479                 0.227612   \n",
       "120 Minute IPA                          0.315971                 0.337541   \n",
       "1554 Enlightened Black Ale              0.266866                 0.261761   \n",
       "60 Minute IPA                           0.312343                 0.307627   \n",
       "90 Minute IPA                           0.344218                 0.358754   \n",
       "Aecht Schlenkerla Rauchbier Märzen      0.244490                 0.246063   \n",
       "AleSmith IPA                            1.000000                 0.521889   \n",
       "AleSmith Speedway Stout                 0.521889                 1.000000   \n",
       "Allagash White                          0.277409                 0.273930   \n",
       "Alpha King Pale Ale                     0.400741                 0.420247   \n",
       "\n",
       "beer_name                           Allagash White  Alpha King Pale Ale  \n",
       "beer_name                                                                \n",
       "#9                                        0.340681             0.293315  \n",
       "120 Minute IPA                            0.282273             0.336796  \n",
       "1554 Enlightened Black Ale                0.260275             0.307296  \n",
       "60 Minute IPA                             0.360975             0.385249  \n",
       "90 Minute IPA                             0.356804             0.418582  \n",
       "Aecht Schlenkerla Rauchbier Märzen        0.297672             0.263248  \n",
       "AleSmith IPA                              0.277409             0.400741  \n",
       "AleSmith Speedway Stout                   0.273930             0.420247  \n",
       "Allagash White                            1.000000             0.295666  \n",
       "Alpha King Pale Ale                       0.295666             1.000000  "
      ]
     },
     "execution_count": 26,
     "metadata": {},
     "output_type": "execute_result"
    }
   ],
   "source": [
    "\n",
    "\n"
   ]
  },
  {
   "cell_type": "markdown",
   "metadata": {},
   "source": [
    "Select some beers and store them in `beers_i_like` then look their distances to other beers with `head()`"
   ]
  },
  {
   "cell_type": "code",
   "execution_count": 28,
   "metadata": {
    "collapsed": false
   },
   "outputs": [
    {
     "data": {
      "text/html": [
       "<div>\n",
       "<table border=\"1\" class=\"dataframe\">\n",
       "  <thead>\n",
       "    <tr style=\"text-align: right;\">\n",
       "      <th>beer_name</th>\n",
       "      <th>Sierra Nevada Pale Ale</th>\n",
       "      <th>120 Minute IPA</th>\n",
       "      <th>Allagash White</th>\n",
       "    </tr>\n",
       "    <tr>\n",
       "      <th>beer_name</th>\n",
       "      <th></th>\n",
       "      <th></th>\n",
       "      <th></th>\n",
       "    </tr>\n",
       "  </thead>\n",
       "  <tbody>\n",
       "    <tr>\n",
       "      <th>#9</th>\n",
       "      <td>0.373968</td>\n",
       "      <td>0.275405</td>\n",
       "      <td>0.340681</td>\n",
       "    </tr>\n",
       "    <tr>\n",
       "      <th>120 Minute IPA</th>\n",
       "      <td>0.301693</td>\n",
       "      <td>1.000000</td>\n",
       "      <td>0.282273</td>\n",
       "    </tr>\n",
       "    <tr>\n",
       "      <th>1554 Enlightened Black Ale</th>\n",
       "      <td>0.330033</td>\n",
       "      <td>0.251519</td>\n",
       "      <td>0.260275</td>\n",
       "    </tr>\n",
       "    <tr>\n",
       "      <th>60 Minute IPA</th>\n",
       "      <td>0.459641</td>\n",
       "      <td>0.378258</td>\n",
       "      <td>0.360975</td>\n",
       "    </tr>\n",
       "    <tr>\n",
       "      <th>90 Minute IPA</th>\n",
       "      <td>0.441189</td>\n",
       "      <td>0.410366</td>\n",
       "      <td>0.356804</td>\n",
       "    </tr>\n",
       "  </tbody>\n",
       "</table>\n",
       "</div>"
      ],
      "text/plain": [
       "beer_name                   Sierra Nevada Pale Ale  120 Minute IPA  \\\n",
       "beer_name                                                            \n",
       "#9                                        0.373968        0.275405   \n",
       "120 Minute IPA                            0.301693        1.000000   \n",
       "1554 Enlightened Black Ale                0.330033        0.251519   \n",
       "60 Minute IPA                             0.459641        0.378258   \n",
       "90 Minute IPA                             0.441189        0.410366   \n",
       "\n",
       "beer_name                   Allagash White  \n",
       "beer_name                                   \n",
       "#9                                0.340681  \n",
       "120 Minute IPA                    0.282273  \n",
       "1554 Enlightened Black Ale        0.260275  \n",
       "60 Minute IPA                     0.360975  \n",
       "90 Minute IPA                     0.356804  "
      ]
     },
     "execution_count": 28,
     "metadata": {},
     "output_type": "execute_result"
    }
   ],
   "source": [
    "\n"
   ]
  },
  {
   "cell_type": "markdown",
   "metadata": {},
   "source": [
    "Sum the distances of my favorite beers by row, to have one distance from each beer in the sample.  For instance if there are 3 beers in your `beers_i_like` then you will be summing 3 numbers for each row.  Store the results in `beers_summed`.  There are 2 ways you can do this:  \n",
    "1. Calling `apply()` with a lambda function that contains `np.sum()` with `axis=1`\n",
    "2. Calling `np.sum()` with `axis=1` on the entire dataframe (sliced by columns you like)"
   ]
  },
  {
   "cell_type": "code",
   "execution_count": 29,
   "metadata": {
    "collapsed": false
   },
   "outputs": [],
   "source": [
    "\n"
   ]
  },
  {
   "cell_type": "markdown",
   "metadata": {},
   "source": [
    "Optional: which one is faster? use ```%timeit``` to check"
   ]
  },
  {
   "cell_type": "code",
   "execution_count": 30,
   "metadata": {
    "collapsed": false
   },
   "outputs": [
    {
     "name": "stdout",
     "output_type": "stream",
     "text": [
      "10 loops, best of 3: 46.7 ms per loop\n"
     ]
    }
   ],
   "source": []
  },
  {
   "cell_type": "code",
   "execution_count": 31,
   "metadata": {
    "collapsed": false
   },
   "outputs": [
    {
     "name": "stdout",
     "output_type": "stream",
     "text": [
      "100 loops, best of 3: 1.89 ms per loop\n"
     ]
    }
   ],
   "source": []
  },
  {
   "cell_type": "markdown",
   "metadata": {},
   "source": [
    "Sort summed beers from best to worse using `order()`"
   ]
  },
  {
   "cell_type": "code",
   "execution_count": 32,
   "metadata": {
    "collapsed": false
   },
   "outputs": [
    {
     "data": {
      "text/plain": [
       "beer_name\n",
       "Sierra Nevada Pale Ale                        1.654205\n",
       "Allagash White                                1.634784\n",
       "120 Minute IPA                                1.583966\n",
       "HopDevil Ale                                  1.224217\n",
       "Sierra Nevada Celebration Ale                 1.215156\n",
       "90 Minute IPA                                 1.208359\n",
       "60 Minute IPA                                 1.198874\n",
       "Stone Ruination IPA                           1.194210\n",
       "Stone IPA (India Pale Ale)                    1.193193\n",
       "Storm King Stout                              1.192405\n",
       "Arrogant Bastard Ale                          1.189981\n",
       "Sierra Nevada Bigfoot Barleywine Style Ale    1.178245\n",
       "Prima Pils                                    1.178093\n",
       "Brooklyn Black Chocolate Stout                1.156365\n",
       "Ayinger Celebrator Doppelbock                 1.148356\n",
       "Hennepin (Farmhouse Saison)                   1.147501\n",
       "Samuel Adams Boston Lager                     1.146304\n",
       "Hop Rod Rye                                   1.140271\n",
       "Old Rasputin Russian Imperial Stout           1.136691\n",
       "La Fin Du Monde                               1.128933\n",
       "Hop Wallop                                    1.127292\n",
       "Double Bastard Ale                            1.123117\n",
       "Two Hearted Ale                               1.120865\n",
       "Stone Smoked Porter                           1.115290\n",
       "St. Bernardus Abt 12                          1.109141\n",
       "Schneider Aventinus                           1.106357\n",
       "India Pale Ale                                1.104981\n",
       "Stone Imperial Russian Stout                  1.102951\n",
       "Anchor Steam Beer                             1.101660\n",
       "Duvel                                         1.099554\n",
       "                                                ...   \n",
       "Samuel Adams Cherry Wheat                     0.813352\n",
       "Sculpin India Pale Ale                        0.803009\n",
       "Blind Pig IPA                                 0.796287\n",
       "Red Stripe Jamaican Lager                     0.793733\n",
       "Left Hand Milk Stout                          0.791853\n",
       "Creme Brulee (Imperial Milk Stout)            0.791077\n",
       "Black Butte Porter                            0.789189\n",
       "Boddingtons Pub Ale                           0.788361\n",
       "Imperial IPA                                  0.785819\n",
       "Dark Lord Imperial Stout                      0.782857\n",
       "Murphy's Irish Stout                          0.782647\n",
       "Founders Backwoods Bastard                    0.779792\n",
       "Founders Porter                               0.764203\n",
       "Pabst Blue Ribbon (PBR)                       0.760712\n",
       "Supplication                                  0.760145\n",
       "Budweiser                                     0.758390\n",
       "Furious                                       0.757417\n",
       "New Holland Dragon's Milk Oak Barrel Ale      0.756746\n",
       "Raging Bitch Belgian-Style IPA                0.752031\n",
       "Terrapin Coffee Oatmeal Imperial Stout        0.750240\n",
       "Hobgoblin                                     0.748117\n",
       "Shiner Bock                                   0.739454\n",
       "The Abyss                                     0.723008\n",
       "Miller Lite                                   0.716208\n",
       "Leinenkugel's Sunset Wheat                    0.710691\n",
       "Bud Light                                     0.710377\n",
       "Corona Extra                                  0.682882\n",
       "Miller High Life                              0.682360\n",
       "Coors Light                                   0.670167\n",
       "Vanilla Porter                                0.664363\n",
       "dtype: float64"
      ]
     },
     "execution_count": 32,
     "metadata": {},
     "output_type": "execute_result"
    }
   ],
   "source": [
    "\n"
   ]
  },
  {
   "cell_type": "markdown",
   "metadata": {},
   "source": [
    "Filter out the beers used as input using `isin()` and store this in `ranked_beers`, then transform this to a list using `tolist()`.  Print out the first 5 elements."
   ]
  },
  {
   "cell_type": "code",
   "execution_count": 33,
   "metadata": {
    "collapsed": false
   },
   "outputs": [
    {
     "data": {
      "text/plain": [
       "['HopDevil Ale',\n",
       " 'Sierra Nevada Celebration Ale',\n",
       " '90 Minute IPA',\n",
       " '60 Minute IPA',\n",
       " 'Stone Ruination IPA']"
      ]
     },
     "execution_count": 33,
     "metadata": {},
     "output_type": "execute_result"
    }
   ],
   "source": [
    "\n",
    "\n"
   ]
  },
  {
   "cell_type": "markdown",
   "metadata": {},
   "source": [
    "Define a function that does what we just did for an arbitrary input list of beers. it should also receive the maximum number of beers requested n as optional parameter."
   ]
  },
  {
   "cell_type": "code",
   "execution_count": 34,
   "metadata": {
    "collapsed": false
   },
   "outputs": [],
   "source": [
    "def get_similar(beers, n=None):\n",
    "    \"\"\"\n",
    "    calculates which beers are most similar to the beers provided. Does not return\n",
    "    the beers that were provided\n",
    "    \n",
    "    Parameters\n",
    "    ----------\n",
    "    beers: list\n",
    "        some beers!\n",
    "    \n",
    "    Returns\n",
    "    -------\n",
    "    ranked_beers: list\n",
    "        rank ordered beers\n",
    "    \"\"\"\n",
    "    "
   ]
  },
  {
   "cell_type": "markdown",
   "metadata": {},
   "source": [
    "Test your function. Find the 10 beers most similar to \"120 Minute IPA\""
   ]
  },
  {
   "cell_type": "code",
   "execution_count": 35,
   "metadata": {
    "collapsed": false
   },
   "outputs": [
    {
     "name": "stdout",
     "output_type": "stream",
     "text": [
      "World Wide Stout\n",
      "90 Minute IPA\n",
      "Double Bastard Ale\n",
      "Stone Ruination IPA\n",
      "Stone Imperial Russian Stout\n",
      "Storm King Stout\n",
      "60 Minute IPA\n",
      "Oaked Arrogant Bastard Ale\n",
      "Sierra Nevada Bigfoot Barleywine Style Ale\n",
      "Brooklyn Black Chocolate Stout\n"
     ]
    }
   ],
   "source": [
    "\n"
   ]
  },
  {
   "cell_type": "markdown",
   "metadata": {},
   "source": [
    "Cool, let's try again with the 10 beers most similar to [\"Coors Light\", \"Bud Light\", \"Amstel Light\"]"
   ]
  },
  {
   "cell_type": "code",
   "execution_count": 36,
   "metadata": {
    "collapsed": false
   },
   "outputs": [
    {
     "name": "stdout",
     "output_type": "stream",
     "text": [
      "1) Miller Lite\n",
      "2) Budweiser\n",
      "3) Corona Extra\n",
      "4) Samuel Adams Boston Lager\n",
      "5) Heineken Lager Beer\n",
      "6) Blue Moon Belgian White\n",
      "7) Guinness Draught\n",
      "8) Miller High Life\n",
      "9) Samuel Adams Summer Ale\n",
      "10) Sierra Nevada Pale Ale\n"
     ]
    }
   ],
   "source": [
    "\n"
   ]
  },
  {
   "cell_type": "markdown",
   "metadata": {},
   "source": [
    "## Movie Recommendations with Recsys\n",
    "[python-recsys](https://github.com/ocelma/python-recsys) is a nice python library for implementing recommender systems.  We'll use it here to try and make movie recommendations from the [movielens dataset](http://grouplens.org/datasets/movielens/).  \n",
    "\n",
    "### Install Recsys\n",
    "First run something like the below code to install everything that you need for recsys."
   ]
  },
  {
   "cell_type": "code",
   "execution_count": 29,
   "metadata": {
    "collapsed": false
   },
   "outputs": [
    {
     "data": {
      "text/plain": [
       "'\\n##install python-recsys\\n\\n### first install dependencies\\n\\npip install csc-pysparse networkx divisi2\\n\\n### then install recsys\\ngit clone https://github.com/python-recsys/python-recsys.git\\ncd python-recsys/\\n\\npython setup.py install\\n\\n### then Restart Kernel\\n'"
      ]
     },
     "execution_count": 29,
     "metadata": {},
     "output_type": "execute_result"
    }
   ],
   "source": [
    "\"\"\"\n",
    "##install python-recsys\n",
    "\n",
    "### first install dependencies\n",
    "\n",
    "pip install csc-pysparse networkx divisi2\n",
    "\n",
    "### then install recsys\n",
    "git clone https://github.com/python-recsys/python-recsys.git\n",
    "cd python-recsys/\n",
    "\n",
    "python setup.py install\n",
    "\n",
    "### then Restart Kernel\n",
    "\"\"\""
   ]
  },
  {
   "cell_type": "markdown",
   "metadata": {},
   "source": [
    "Import `recsys.algorithm`, set `recsys.algorithm.VERBOSE = True` and import `recsys.algorithm.factorize.SVD` class"
   ]
  },
  {
   "cell_type": "code",
   "execution_count": 37,
   "metadata": {
    "collapsed": false
   },
   "outputs": [],
   "source": [
    "\n",
    "\n"
   ]
  },
  {
   "cell_type": "markdown",
   "metadata": {},
   "source": [
    "### Get the Data\n",
    "Download the movielens dataset from our Google Drive folder [here](https://drive.google.com/folderview?id=0B8EEvWzj1ysxa0JkOERmVWd0a3c&usp=sharing) or from the repo."
   ]
  },
  {
   "cell_type": "markdown",
   "metadata": {},
   "source": [
    "Let's look at the files, you can do this however you like."
   ]
  },
  {
   "cell_type": "code",
   "execution_count": 38,
   "metadata": {
    "collapsed": false
   },
   "outputs": [
    {
     "name": "stdout",
     "output_type": "stream",
     "text": [
      "\u001b[31mREADME\u001b[m\u001b[m      \u001b[31mmovies.dat\u001b[m\u001b[m  \u001b[31mratings.dat\u001b[m\u001b[m \u001b[31musers.dat\u001b[m\u001b[m\r\n"
     ]
    }
   ],
   "source": [
    "! ls ../Data/movielens"
   ]
  },
  {
   "cell_type": "markdown",
   "metadata": {},
   "source": [
    "Read in the movies.dat data into a variable `movies` by using `pd.read_table` with `sep='::'`.  Make sure to set the `names` to ITEMID, Title, and Genres to set the columns and the `index_col` to ITEMID."
   ]
  },
  {
   "cell_type": "code",
   "execution_count": 39,
   "metadata": {
    "collapsed": false
   },
   "outputs": [],
   "source": []
  },
  {
   "cell_type": "markdown",
   "metadata": {},
   "source": [
    "### Explore the Data\n",
    "Take a look at the movies data with `head()`."
   ]
  },
  {
   "cell_type": "code",
   "execution_count": 40,
   "metadata": {
    "collapsed": false
   },
   "outputs": [
    {
     "data": {
      "text/html": [
       "<div>\n",
       "<table border=\"1\" class=\"dataframe\">\n",
       "  <thead>\n",
       "    <tr style=\"text-align: right;\">\n",
       "      <th></th>\n",
       "      <th>Title</th>\n",
       "      <th>Genres</th>\n",
       "    </tr>\n",
       "    <tr>\n",
       "      <th>ITEMID</th>\n",
       "      <th></th>\n",
       "      <th></th>\n",
       "    </tr>\n",
       "  </thead>\n",
       "  <tbody>\n",
       "    <tr>\n",
       "      <th>1</th>\n",
       "      <td>Toy Story (1995)</td>\n",
       "      <td>Animation|Children's|Comedy</td>\n",
       "    </tr>\n",
       "    <tr>\n",
       "      <th>2</th>\n",
       "      <td>Jumanji (1995)</td>\n",
       "      <td>Adventure|Children's|Fantasy</td>\n",
       "    </tr>\n",
       "    <tr>\n",
       "      <th>3</th>\n",
       "      <td>Grumpier Old Men (1995)</td>\n",
       "      <td>Comedy|Romance</td>\n",
       "    </tr>\n",
       "    <tr>\n",
       "      <th>4</th>\n",
       "      <td>Waiting to Exhale (1995)</td>\n",
       "      <td>Comedy|Drama</td>\n",
       "    </tr>\n",
       "    <tr>\n",
       "      <th>5</th>\n",
       "      <td>Father of the Bride Part II (1995)</td>\n",
       "      <td>Comedy</td>\n",
       "    </tr>\n",
       "  </tbody>\n",
       "</table>\n",
       "</div>"
      ],
      "text/plain": [
       "                                     Title                        Genres\n",
       "ITEMID                                                                  \n",
       "1                         Toy Story (1995)   Animation|Children's|Comedy\n",
       "2                           Jumanji (1995)  Adventure|Children's|Fantasy\n",
       "3                  Grumpier Old Men (1995)                Comedy|Romance\n",
       "4                 Waiting to Exhale (1995)                  Comedy|Drama\n",
       "5       Father of the Bride Part II (1995)                        Comedy"
      ]
     },
     "execution_count": 40,
     "metadata": {},
     "output_type": "execute_result"
    }
   ],
   "source": []
  },
  {
   "cell_type": "markdown",
   "metadata": {},
   "source": [
    "Load the ratings.dat data into a `ratings` variable with the same separator, and the column names UserID, MovieID, Rating, Timestamp."
   ]
  },
  {
   "cell_type": "code",
   "execution_count": 41,
   "metadata": {
    "collapsed": false
   },
   "outputs": [],
   "source": []
  },
  {
   "cell_type": "code",
   "execution_count": 42,
   "metadata": {
    "collapsed": false
   },
   "outputs": [
    {
     "data": {
      "text/html": [
       "<div>\n",
       "<table border=\"1\" class=\"dataframe\">\n",
       "  <thead>\n",
       "    <tr style=\"text-align: right;\">\n",
       "      <th></th>\n",
       "      <th>UserID</th>\n",
       "      <th>MovieID</th>\n",
       "      <th>Rating</th>\n",
       "      <th>Timestamp</th>\n",
       "    </tr>\n",
       "  </thead>\n",
       "  <tbody>\n",
       "    <tr>\n",
       "      <th>0</th>\n",
       "      <td>1</td>\n",
       "      <td>1193</td>\n",
       "      <td>5</td>\n",
       "      <td>978300760</td>\n",
       "    </tr>\n",
       "    <tr>\n",
       "      <th>1</th>\n",
       "      <td>1</td>\n",
       "      <td>661</td>\n",
       "      <td>3</td>\n",
       "      <td>978302109</td>\n",
       "    </tr>\n",
       "    <tr>\n",
       "      <th>2</th>\n",
       "      <td>1</td>\n",
       "      <td>914</td>\n",
       "      <td>3</td>\n",
       "      <td>978301968</td>\n",
       "    </tr>\n",
       "    <tr>\n",
       "      <th>3</th>\n",
       "      <td>1</td>\n",
       "      <td>3408</td>\n",
       "      <td>4</td>\n",
       "      <td>978300275</td>\n",
       "    </tr>\n",
       "    <tr>\n",
       "      <th>4</th>\n",
       "      <td>1</td>\n",
       "      <td>2355</td>\n",
       "      <td>5</td>\n",
       "      <td>978824291</td>\n",
       "    </tr>\n",
       "  </tbody>\n",
       "</table>\n",
       "</div>"
      ],
      "text/plain": [
       "   UserID  MovieID  Rating  Timestamp\n",
       "0       1     1193       5  978300760\n",
       "1       1      661       3  978302109\n",
       "2       1      914       3  978301968\n",
       "3       1     3408       4  978300275\n",
       "4       1     2355       5  978824291"
      ]
     },
     "execution_count": 42,
     "metadata": {},
     "output_type": "execute_result"
    }
   ],
   "source": []
  },
  {
   "cell_type": "markdown",
   "metadata": {},
   "source": [
    "Initialize an `SVD` instance called `svd`"
   ]
  },
  {
   "cell_type": "code",
   "execution_count": 43,
   "metadata": {
    "collapsed": false
   },
   "outputs": [],
   "source": []
  },
  {
   "cell_type": "markdown",
   "metadata": {},
   "source": [
    "Populate it with the data from the ratings dataset, using the built in `load_data()` method.  You should use `format={'col':0, 'row':1, 'value':2, 'ids': int}` and don't forget the `sep` parameter."
   ]
  },
  {
   "cell_type": "code",
   "execution_count": 44,
   "metadata": {
    "collapsed": false
   },
   "outputs": [
    {
     "name": "stdout",
     "output_type": "stream",
     "text": [
      "Loading ../Data/movielens/ratings.dat\n",
      "..........|\n"
     ]
    }
   ],
   "source": []
  },
  {
   "cell_type": "markdown",
   "metadata": {},
   "source": [
    "Compute SVD with a call to `svd.compute()`.  \n",
    "- Use `k=100`\n",
    "- Use `min_values=10`\n",
    "- Use `pre_normalize=None`\n",
    "- Use `mean_center=True`\n",
    "- Use `post_normalize=True`\n",
    "\n",
    "$M=U \\Sigma V^T$:"
   ]
  },
  {
   "cell_type": "code",
   "execution_count": 45,
   "metadata": {
    "collapsed": false
   },
   "outputs": [
    {
     "name": "stdout",
     "output_type": "stream",
     "text": [
      "Creating matrix (1000209 tuples)\n",
      "Matrix density is: 4.4684%\n",
      "Updating matrix: squish to at least 10 values\n",
      "Computing svd k=100, min_values=10, pre_normalize=None, mean_center=True, post_normalize=True\n",
      "[WARNING] mean_center is True. svd.similar(...) might return nan's. If so, then do svd.compute(..., mean_center=False)\n"
     ]
    }
   ],
   "source": [
    "\n"
   ]
  },
  {
   "cell_type": "markdown",
   "metadata": {},
   "source": [
    "you can also save the output SVD model (in a zip file)"
   ]
  },
  {
   "cell_type": "code",
   "execution_count": 52,
   "metadata": {
    "collapsed": false
   },
   "outputs": [],
   "source": [
    "# svd.compute(k=k, min_values=10, pre_normalize=None, mean_center=True, post_normalize=True, savefile='/tmp/movielens')"
   ]
  },
  {
   "cell_type": "markdown",
   "metadata": {},
   "source": [
    "Reload a saved model:"
   ]
  },
  {
   "cell_type": "code",
   "execution_count": 53,
   "metadata": {
    "collapsed": false
   },
   "outputs": [],
   "source": [
    "# svd2 = SVD(filename='/tmp/movielens')"
   ]
  },
  {
   "cell_type": "markdown",
   "metadata": {},
   "source": [
    "### Computing Similarities and Making Recommendations\n",
    "Let's compute similarity between two movies, first we need to use the movies table to get the itemid that will be used with the ratings data that generated our svd.\n",
    "\n",
    "Determine the movie ids of \"Toy Story (1995)\" and \"Bug's Life, A (1998)\"."
   ]
  },
  {
   "cell_type": "code",
   "execution_count": 46,
   "metadata": {
    "collapsed": false
   },
   "outputs": [
    {
     "data": {
      "text/html": [
       "<div>\n",
       "<table border=\"1\" class=\"dataframe\">\n",
       "  <thead>\n",
       "    <tr style=\"text-align: right;\">\n",
       "      <th></th>\n",
       "      <th>Title</th>\n",
       "      <th>Genres</th>\n",
       "    </tr>\n",
       "    <tr>\n",
       "      <th>ITEMID</th>\n",
       "      <th></th>\n",
       "      <th></th>\n",
       "    </tr>\n",
       "  </thead>\n",
       "  <tbody>\n",
       "    <tr>\n",
       "      <th>1</th>\n",
       "      <td>Toy Story (1995)</td>\n",
       "      <td>Animation|Children's|Comedy</td>\n",
       "    </tr>\n",
       "  </tbody>\n",
       "</table>\n",
       "</div>"
      ],
      "text/plain": [
       "                   Title                       Genres\n",
       "ITEMID                                               \n",
       "1       Toy Story (1995)  Animation|Children's|Comedy"
      ]
     },
     "execution_count": 46,
     "metadata": {},
     "output_type": "execute_result"
    }
   ],
   "source": []
  },
  {
   "cell_type": "code",
   "execution_count": 47,
   "metadata": {
    "collapsed": false
   },
   "outputs": [
    {
     "data": {
      "text/html": [
       "<div>\n",
       "<table border=\"1\" class=\"dataframe\">\n",
       "  <thead>\n",
       "    <tr style=\"text-align: right;\">\n",
       "      <th></th>\n",
       "      <th>Title</th>\n",
       "      <th>Genres</th>\n",
       "    </tr>\n",
       "    <tr>\n",
       "      <th>ITEMID</th>\n",
       "      <th></th>\n",
       "      <th></th>\n",
       "    </tr>\n",
       "  </thead>\n",
       "  <tbody>\n",
       "    <tr>\n",
       "      <th>2355</th>\n",
       "      <td>Bug's Life, A (1998)</td>\n",
       "      <td>Animation|Children's|Comedy</td>\n",
       "    </tr>\n",
       "  </tbody>\n",
       "</table>\n",
       "</div>"
      ],
      "text/plain": [
       "                       Title                       Genres\n",
       "ITEMID                                                   \n",
       "2355    Bug's Life, A (1998)  Animation|Children's|Comedy"
      ]
     },
     "execution_count": 47,
     "metadata": {},
     "output_type": "execute_result"
    }
   ],
   "source": []
  },
  {
   "cell_type": "markdown",
   "metadata": {},
   "source": [
    "Print the similarity of these 2 movies by calling `svd.similarity()` with those 2 IDs."
   ]
  },
  {
   "cell_type": "code",
   "execution_count": 48,
   "metadata": {
    "collapsed": false
   },
   "outputs": [
    {
     "name": "stdout",
     "output_type": "stream",
     "text": [
      "0.677069366773\n"
     ]
    }
   ],
   "source": [
    "\n",
    "\n"
   ]
  },
  {
   "cell_type": "markdown",
   "metadata": {},
   "source": [
    "Use `svd.similar()` to get movies similar to Toy Story."
   ]
  },
  {
   "cell_type": "code",
   "execution_count": 49,
   "metadata": {
    "collapsed": false
   },
   "outputs": [
    {
     "data": {
      "text/plain": [
       "[(1, 0.99999999999999978),\n",
       " (3114, 0.87060391051017305),\n",
       " (2355, 0.67706936677314977),\n",
       " (588, 0.58073514967544992),\n",
       " (595, 0.46031829709744226),\n",
       " (1907, 0.44589398718134982),\n",
       " (364, 0.42908159895577563),\n",
       " (2081, 0.42566581277822413),\n",
       " (3396, 0.42474056361934953),\n",
       " (2761, 0.40439361857576017)]"
      ]
     },
     "execution_count": 49,
     "metadata": {},
     "output_type": "execute_result"
    }
   ],
   "source": []
  },
  {
   "cell_type": "markdown",
   "metadata": {},
   "source": [
    "Try using `svd.predict()` to predict ratings for a given user and movie, $\\hat{r}_{ui}$"
   ]
  },
  {
   "cell_type": "code",
   "execution_count": 51,
   "metadata": {
    "collapsed": false,
    "scrolled": true
   },
   "outputs": [
    {
     "data": {
      "text/plain": [
       "5.0"
      ]
     },
     "execution_count": 51,
     "metadata": {},
     "output_type": "execute_result"
    }
   ],
   "source": []
  },
  {
   "cell_type": "markdown",
   "metadata": {},
   "source": [
    "Look it up in the matrix..."
   ]
  },
  {
   "cell_type": "code",
   "execution_count": 52,
   "metadata": {
    "collapsed": false
   },
   "outputs": [
    {
     "data": {
      "text/plain": [
       "5.0"
      ]
     },
     "execution_count": 52,
     "metadata": {},
     "output_type": "execute_result"
    }
   ],
   "source": [
    "svd.get_matrix().value(ITEMID, USERID)"
   ]
  },
  {
   "cell_type": "markdown",
   "metadata": {},
   "source": [
    "Try using `svd.recommend()` to Recommend non rated movies to a user (`is_row=False`)"
   ]
  },
  {
   "cell_type": "code",
   "execution_count": 53,
   "metadata": {
    "collapsed": false
   },
   "outputs": [
    {
     "data": {
      "text/plain": [
       "[(2028, 5.4018452642332546),\n",
       " (527, 5.3498144196809516),\n",
       " (2905, 5.2133848204673132),\n",
       " (318, 5.2052108435955446),\n",
       " (1193, 5.1942189963876562),\n",
       " (3114, 5.1753939214583697),\n",
       " (1, 5.1714259073839521),\n",
       " (2019, 5.1037438278754719),\n",
       " (1178, 5.0962756861446641),\n",
       " (1207, 5.090305272922329)]"
      ]
     },
     "execution_count": 53,
     "metadata": {},
     "output_type": "execute_result"
    }
   ],
   "source": []
  },
  {
   "cell_type": "markdown",
   "metadata": {},
   "source": [
    "Which users should see Toy Story? (e.g. which users -that have not rated Toy Story- would give it a high rating?)"
   ]
  },
  {
   "cell_type": "code",
   "execution_count": 54,
   "metadata": {
    "collapsed": false
   },
   "outputs": [
    {
     "data": {
      "text/plain": [
       "[(869, 6.8215500393190904),\n",
       " (4086, 6.2667649038936908),\n",
       " (549, 6.2394061595542869),\n",
       " (1343, 6.2163075783431427),\n",
       " (1586, 6.039893928886932),\n",
       " (840, 5.9616632765170472),\n",
       " (1676, 5.896233772781037),\n",
       " (4595, 5.88945710113423),\n",
       " (2691, 5.8735094161364714),\n",
       " (2665, 5.8498694241604259)]"
      ]
     },
     "execution_count": 54,
     "metadata": {},
     "output_type": "execute_result"
    }
   ],
   "source": []
  },
  {
   "cell_type": "markdown",
   "metadata": {},
   "source": [
    "Find out more here: [https://github.com/ocelma/python-recsys](https://github.com/ocelma/python-recsys)"
   ]
  }
 ],
 "metadata": {
  "kernelspec": {
   "display_name": "Python 2",
   "language": "python",
   "name": "python2"
  },
  "language_info": {
   "codemirror_mode": {
    "name": "ipython",
    "version": 2
   },
   "file_extension": ".py",
   "mimetype": "text/x-python",
   "name": "python",
   "nbconvert_exporter": "python",
   "pygments_lexer": "ipython2",
   "version": "2.7.10"
  }
 },
 "nbformat": 4,
 "nbformat_minor": 0
}
