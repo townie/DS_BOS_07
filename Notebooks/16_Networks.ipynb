{
 "cells": [
  {
   "cell_type": "markdown",
   "metadata": {},
   "source": [
    "# Network Analysis\n",
    "Network (graph) analysis is a burgeoning field of data analytics that seeks to draw insights from datasets that are inherently organized into network (graph) structures of relationships between actors.  As processing power increases and social networks become ubiquitous in the internet age, network analysis becomes vital to many different verticals.\n",
    "\n",
    "In this notebook we'll check out some principles of network analysis with python and get to know a common package for python network analysis, [Networkx](https://networkx.github.io/).  While Networkx isn't perfect (especially performane-wise), it's nice because it has a quick learning curve and a good amount of common graph algorithms pre-packaged to go with simple python syntax.  The 3 parts of this notebook will address the following:\n",
    "- Implementing a toy network and some simple network manipulations via python dictionaries\n",
    "- Implementing and visualizing some basic Networkx manipulations on another manually created network\n",
    "- Using Networkx to explore a dataset of citation data which has an inherent network of connected research papers\n",
    "\n",
    "## Datasets\n",
    "- [Citation Dataset](http://snap.stanford.edu/data/cit-HepTh.html)\n",
    "\n",
    "## Learning Goals\n",
    "- Understanding the basic concepts of how networks might be implemented in python data structures by using python dicts\n",
    "- Understanding the basic functionality of Networkx in creating, manipulating, and analyzing network data\n",
    "- Using Networkx to analyze a large dataset of citation data related by a network structure\n",
    "\n",
    "## Simple Networks with Python Dicts\n",
    "For the first exercise, let's try implementing a simple network and some basic path algorithms via [***adjacency lists***](https://en.wikipedia.org/wiki/Adjacency_list) with python dicts.\n",
    "\n",
    "Here are the directed edge relations:  \n",
    "    A -> B  \n",
    "    A -> C  \n",
    "    B -> C  \n",
    "    B -> D  \n",
    "    C -> D  \n",
    "    D -> C  \n",
    "    E -> F  \n",
    "    F -> C  \n",
    "    \n",
    "First, implement this graph as a dictionary called `graph`:"
   ]
  },
  {
   "cell_type": "code",
   "execution_count": 1,
   "metadata": {
    "collapsed": true
   },
   "outputs": [],
   "source": []
  },
  {
   "cell_type": "markdown",
   "metadata": {},
   "source": [
    "### Path-Finding Algorithms\n",
    "The next thing we're going to implement are a few path-finding algorithms that find paths between a given start and end node for a given graph.  The first algorithm takes a simple approach to find a path.  The second finds all paths.  And the third finds the shortest path.\n",
    "\n",
    "Complete the first function to find any path between a given start node and end node."
   ]
  },
  {
   "cell_type": "code",
   "execution_count": 10,
   "metadata": {
    "collapsed": true
   },
   "outputs": [],
   "source": [
    "## Find a path (not necessarily optimal) via depth-first search\n",
    "def find_path(graph, start, end, path=[]):\n",
    "    ## TODO: Add the starting node to the path\n",
    "\n",
    "    ## TODO: Handle if start == end\n",
    "\n",
    "    \n",
    "    ## TODO: Handle if start or end doesn't exist in graph by returning None\n",
    "\n",
    "    \n",
    "    ## TODO: Recursively traverse paths as far as possible starting from start so as to find a path via depth-first search\n",
    "\n",
    "        ## TODO: if node isn't in the path yet, try going to it\n",
    "\n",
    "            ## TODO: check if the recursive call to find_path returns a non-null result, if so, return that\n",
    "\n",
    "            \n",
    "            \n",
    "    ## Return None if no path exists\n"
   ]
  },
  {
   "cell_type": "markdown",
   "metadata": {},
   "source": [
    "Test your `find_path` function on A -> D and make sure it returns a path that makes sense.  Try a few others if you like."
   ]
  },
  {
   "cell_type": "code",
   "execution_count": 11,
   "metadata": {
    "collapsed": false
   },
   "outputs": [
    {
     "data": {
      "text/plain": [
       "['A', 'B', 'C', 'D']"
      ]
     },
     "execution_count": 11,
     "metadata": {},
     "output_type": "execute_result"
    }
   ],
   "source": []
  },
  {
   "cell_type": "markdown",
   "metadata": {},
   "source": [
    "Now try completing the similar `find_all_paths` function below to find all possible (non-cyclical) paths between the starting and ending node."
   ]
  },
  {
   "cell_type": "code",
   "execution_count": 12,
   "metadata": {
    "collapsed": true
   },
   "outputs": [],
   "source": [
    "## Find all possible paths between start and finish\n",
    "def find_all_paths(graph, start, end, path=[]):\n",
    "    ## TODO: Add the starting node to the path\n",
    "    ## TODO: Handle if start == end\n",
    "\n",
    "    \n",
    "    ## TODO: Handle if start or end doesn't exist in graph\n",
    "\n",
    "    \n",
    "    paths = []\n",
    "    ## TODO: Implement all paths algorithm (recursive again)\n",
    "\n",
    "        ## TODO: Implement all paths algorithm\n",
    "\n",
    "\n",
    "        \n",
    "    return paths"
   ]
  },
  {
   "cell_type": "markdown",
   "metadata": {},
   "source": [
    "Test your `find_all_paths` function with A -> D."
   ]
  },
  {
   "cell_type": "code",
   "execution_count": 13,
   "metadata": {
    "collapsed": false
   },
   "outputs": [
    {
     "data": {
      "text/plain": [
       "[['A', 'B', 'C', 'D'], ['A', 'B', 'D'], ['A', 'C', 'D']]"
      ]
     },
     "execution_count": 13,
     "metadata": {},
     "output_type": "execute_result"
    }
   ],
   "source": []
  },
  {
   "cell_type": "markdown",
   "metadata": {},
   "source": [
    "Now try combining similar concepts to generate a `find_shortest_path` function."
   ]
  },
  {
   "cell_type": "code",
   "execution_count": 14,
   "metadata": {
    "collapsed": true
   },
   "outputs": [],
   "source": [
    "## Find shortest path between start and finish\n",
    "def find_shortest_path(graph, start, end, path=[]):\n",
    "    # TODO: Add the starting node to the path\n",
    "    \n",
    "    # TODO: Handle if start=end\n",
    "    \n",
    "    \n",
    "    ## TODO: Handle if either start or end isn't in graph\n",
    "    \n",
    "    \n",
    "    ## Instantiate shortest path to None\n",
    "    shortest = None\n",
    "    ## TODO: Loop through different possible paths from start, at the end return shortest\n",
    "    \n",
    "        ## TODO: If it's a new node, check it out\n",
    "        \n",
    "            ## TODO: Recursively call to this function\n",
    "            \n",
    "            ## TODO: If we find a path...\n",
    "            \n",
    "                ## TODO: Check if shortest is null or the found path is shorter than shortest, if either then set shortest to the found path\n",
    "                \n",
    "                \n",
    "    return shortest"
   ]
  },
  {
   "cell_type": "markdown",
   "metadata": {},
   "source": [
    "Test your `find_shortest_path` function on A -> D."
   ]
  },
  {
   "cell_type": "code",
   "execution_count": 16,
   "metadata": {
    "collapsed": false
   },
   "outputs": [
    {
     "data": {
      "text/plain": [
       "['A', 'B', 'D']"
      ]
     },
     "execution_count": 16,
     "metadata": {},
     "output_type": "execute_result"
    }
   ],
   "source": []
  },
  {
   "cell_type": "markdown",
   "metadata": {},
   "source": [
    "## Networks in Networkx\n",
    "Now we're going to get to know Networkx.  [NetworkX](http://networkx.github.io/) is a pure-Python pakcage for graph analysis.  Its performance is not the best (see references).  However it has easier learning curve and has better development efficiency.\n",
    "\n",
    "### Install Networkx\n",
    "\n",
    "```\n",
    "sudo pip install --user  networkx\n",
    "```"
   ]
  },
  {
   "cell_type": "markdown",
   "metadata": {},
   "source": [
    "Set up the imports and make sure everything works properly."
   ]
  },
  {
   "cell_type": "code",
   "execution_count": 17,
   "metadata": {
    "collapsed": true
   },
   "outputs": [],
   "source": [
    "from matplotlib import pyplot as plt\n",
    "import networkx as nx\n",
    "%matplotlib inline"
   ]
  },
  {
   "cell_type": "markdown",
   "metadata": {},
   "source": [
    "Here's a cool little utility function that we're going to use to visualize our network graphs as we manipulate them with Networkx."
   ]
  },
  {
   "cell_type": "code",
   "execution_count": 18,
   "metadata": {
    "collapsed": true
   },
   "outputs": [],
   "source": [
    "# A cool utility function for us to explore graph creation process\n",
    "def visualize_graph(G, pos=None, return_internals=False):\n",
    "    # ignore it, we'll come back later\n",
    "    if pos is None:\n",
    "        pos = pos=nx.spring_layout(G)\n",
    "    nx.draw(G, pos)\n",
    "    _mute = nx.draw_networkx_nodes(G, pos, node_color='#ccccff')\n",
    "    _mute = nx.draw_networkx_edges(G, pos, width=1.0, alpha=0.5)\n",
    "    labels = dict((n,n) for n in G.nodes())\n",
    "    _mute = nx.draw_networkx_labels(G, pos, labels=labels)\n",
    "    edge_labels = {}\n",
    "    for e in G.edges():\n",
    "        edge_labels[e] = ','.join(['%s=%s' % (k,v) for (k, v) in G[e[0]][e[1]].items()])\n",
    "    _mute = nx.draw_networkx_edge_labels(G, pos, edge_labels=edge_labels)\n",
    "    if return_internals:\n",
    "        return pos, labels, edge_labels"
   ]
  },
  {
   "cell_type": "markdown",
   "metadata": {},
   "source": [
    "### Creating a Graph with Networkx\n",
    "First create a Networkx Graph object called `G` by a call to [`nx.Graph()`](https://networkx.github.io/documentation/latest/reference/classes.graph.html#networkx.Graph)."
   ]
  },
  {
   "cell_type": "code",
   "execution_count": 19,
   "metadata": {
    "collapsed": true
   },
   "outputs": [],
   "source": [
    "# Create graph\n"
   ]
  },
  {
   "cell_type": "markdown",
   "metadata": {},
   "source": [
    "Now let's add a single node to the graph whose label is 1 by a call to the [`add_node()`](http://networkx.lanl.gov/reference/generated/networkx.MultiGraph.add_node.html) function on `G`.  After adding your node, call `visualize_graph` to check out your graph."
   ]
  },
  {
   "cell_type": "code",
   "execution_count": 20,
   "metadata": {
    "collapsed": false
   },
   "outputs": [
    {
     "data": {
      "image/png": "[encoded data removed]",
      "text/plain": [
       "<matplotlib.figure.Figure at 0x1047776d0>"
      ]
     },
     "metadata": {},
     "output_type": "display_data"
    }
   ],
   "source": [
    "# Add single node\n",
    "\n",
    "# Visualize the graph\n"
   ]
  },
  {
   "cell_type": "markdown",
   "metadata": {},
   "source": [
    "Now use the [`add_nodes_from()`](http://networkx.lanl.gov/reference/generated/networkx.MultiGraph.add_nodes_from.html#networkx.MultiGraph.add_nodes_from) function to add 2 nodes to your graph with labels 2 and 3.  Call `visualize_graph` to check out the current graph."
   ]
  },
  {
   "cell_type": "code",
   "execution_count": 21,
   "metadata": {
    "collapsed": false
   },
   "outputs": [
    {
     "data": {
      "image/png": "[encoded data removed]",
      "text/plain": [
       "<matplotlib.figure.Figure at 0x107590cd0>"
      ]
     },
     "metadata": {},
     "output_type": "display_data"
    }
   ],
   "source": [
    "# Add list of node\n",
    "\n",
    "# Visualize the graph\n"
   ]
  },
  {
   "cell_type": "markdown",
   "metadata": {},
   "source": [
    "Now let's try adding nodes with non-integer labels.  Node labels can be any python hashable type.  Here we'll try strings, use `add_nodes_from` to add nodes u and v and then visualize your graph."
   ]
  },
  {
   "cell_type": "code",
   "execution_count": 22,
   "metadata": {
    "collapsed": false
   },
   "outputs": [
    {
     "data": {
      "image/png": "[encoded data removed]",
      "text/plain": [
       "<matplotlib.figure.Figure at 0x10762a9d0>"
      ]
     },
     "metadata": {},
     "output_type": "display_data"
    }
   ],
   "source": [
    "# Nodes can be any (hashable) type\n",
    "\n",
    "# Visualize the graph\n"
   ]
  },
  {
   "cell_type": "markdown",
   "metadata": {},
   "source": [
    "Let's try removing nodes.  Use [`remove_node()`](http://networkx.lanl.gov/reference/generated/networkx.MultiGraph.remove_node.html) to remove the u node from your graph and then visualize your graph."
   ]
  },
  {
   "cell_type": "code",
   "execution_count": 23,
   "metadata": {
    "collapsed": false
   },
   "outputs": [
    {
     "data": {
      "image/png": "[encoded data removed]",
      "text/plain": [
       "<matplotlib.figure.Figure at 0x107998f90>"
      ]
     },
     "metadata": {},
     "output_type": "display_data"
    }
   ],
   "source": [
    "# Remove node\n",
    "\n",
    "# Visualize Graph\n"
   ]
  },
  {
   "cell_type": "markdown",
   "metadata": {},
   "source": [
    "Finally now let's start making an actual graph by adding some edges (relationships).  Add an edge between nodes 1 and 2 by using [`add_edge()`](http://networkx.lanl.gov/reference/generated/networkx.DiGraph.add_edge.html?highlight=add_edge#networkx.DiGraph.add_edge) and then visualize your graph."
   ]
  },
  {
   "cell_type": "code",
   "execution_count": 24,
   "metadata": {
    "collapsed": false
   },
   "outputs": [
    {
     "data": {
      "image/png": "[encoded data removed]",
      "text/plain": [
       "<matplotlib.figure.Figure at 0x107b70d10>"
      ]
     },
     "metadata": {},
     "output_type": "display_data"
    }
   ],
   "source": [
    "# Add edge between 1 and 2\n",
    "\n",
    "# Visualize your graph\n"
   ]
  },
  {
   "cell_type": "markdown",
   "metadata": {},
   "source": [
    "Now let's add multiple edges at once, use [`add_edges_from()`](http://networkx.lanl.gov/reference/generated/networkx.DiGraph.add_edges_from.html) to add edges between 2 and 3 and between 1 and v, then visualize your graph."
   ]
  },
  {
   "cell_type": "code",
   "execution_count": 25,
   "metadata": {
    "collapsed": false
   },
   "outputs": [
    {
     "data": {
      "image/png": "[encoded data removed]",
      "text/plain": [
       "<matplotlib.figure.Figure at 0x10762a290>"
      ]
     },
     "metadata": {},
     "output_type": "display_data"
    }
   ],
   "source": [
    "# Add edges\n",
    "\n",
    "# Visualize graph\n"
   ]
  },
  {
   "cell_type": "markdown",
   "metadata": {},
   "source": [
    "Now let's try using some of the basic summary functions to get some summary statistics about our graph.  Try the following:\n",
    "- Use [`nodes()`]() to print the nodes in the graph\n",
    "- Use [`edges()`]() to print the edges in the graph\n",
    "- Use [`number_of_nodes()`]() to print the number of nodes in the graph\n",
    "- Use [`number_of_edges()`]() to print the number of edges in the graph\n",
    "- Use [`neighbors()`]() to print the adjacency list of node 1\n",
    "- Use [`adjacency_list()`]() to print the adjacency lists of all nodes"
   ]
  },
  {
   "cell_type": "code",
   "execution_count": 26,
   "metadata": {
    "collapsed": false
   },
   "outputs": [
    {
     "name": "stdout",
     "output_type": "stream",
     "text": [
      "[1, 2, 3, 'v']\n",
      "[(1, 2), (1, 'v'), (2, 3)]\n",
      "4\n",
      "3\n",
      "[2, 'v']\n",
      "[[2, 'v'], [1, 3], [2], [1]]\n"
     ]
    }
   ],
   "source": [
    "# Print nodes\n",
    "\n",
    "# Print edges\n",
    "\n",
    "# Print number of nodes\n",
    "\n",
    "# Print number of edges\n",
    "\n",
    "# Print the adjacency list of node 1\n",
    "\n",
    "# Print the adjacency list of all nodes\n"
   ]
  },
  {
   "cell_type": "markdown",
   "metadata": {},
   "source": [
    "The adjacency list is not very useful without knowing which node each corresponds to, so let's try to retrieve that.  Here's one way to do it."
   ]
  },
  {
   "cell_type": "code",
   "execution_count": 27,
   "metadata": {
    "collapsed": false
   },
   "outputs": [
    {
     "name": "stdout",
     "output_type": "stream",
     "text": [
      "[1, 2, 3, 'v']\n",
      "{1: [2, 'v'], 2: [1, 3], 3: [2], 'v': [1]}\n"
     ]
    }
   ],
   "source": [
    "# The adjacency_list() is not very useful without knowing the vertex\n",
    "print G.nodes()\n",
    "# Combine vertex label and adjacency_list\n",
    "print dict(zip(G.nodes(), G.adjacency_list()))"
   ]
  },
  {
   "cell_type": "markdown",
   "metadata": {},
   "source": [
    "We can also get this information with a call to `nx.to_dict_of_dicts(G)`.  Try this out and make sure you understand the output.  Then print out `G.edge`, you should see the same thing.  This is because this is how networkx stores networks internally (dict of dicts).  Can you tell what's happening with this structure?  How does it match up with the exercise you implemented earlier?"
   ]
  },
  {
   "cell_type": "code",
   "execution_count": 30,
   "metadata": {
    "collapsed": false
   },
   "outputs": [
    {
     "name": "stdout",
     "output_type": "stream",
     "text": [
      "{1: {2: {}, 'v': {}}, 2: {1: {}, 3: {}}, 3: {2: {}}, 'v': {1: {}}}\n",
      "{1: {2: {}, 'v': {}}, 2: {1: {}, 3: {}}, 3: {2: {}}, 'v': {1: {}}}\n"
     ]
    }
   ],
   "source": [
    "# Equivalent information can be gotten by to_dict_of_dicts:\n",
    "\n",
    "# Equivalent information can also be gotten by edge:\n"
   ]
  },
  {
   "cell_type": "markdown",
   "metadata": {},
   "source": [
    "Up to now, you already have an idea of how to create a `Graph`.\n",
    "It is undirected graph.\n",
    "To create a directed graph, you use `DiGraph`.\n",
    "The operations are similar.\n",
    "\n",
    "**EXERCISE**:\n",
    "Build a `DiGraph`\n",
    "\n",
    "**EXERCISE**:\n",
    "Build a [`MultiGraph`](http://networkx.lanl.gov/reference/classes.multigraph.html?highlight=multigraph#networkx.MultiGraph)"
   ]
  },
  {
   "cell_type": "markdown",
   "metadata": {},
   "source": [
    "Since `G` is a `dict` of `dict` we can operate on it as such.  Try calling `G[1]` and `G[1][2]` and make sure the results make sense to you."
   ]
  },
  {
   "cell_type": "code",
   "execution_count": 32,
   "metadata": {
    "collapsed": false
   },
   "outputs": [
    {
     "name": "stdout",
     "output_type": "stream",
     "text": [
      "{2: {}, 'v': {}}\n",
      "{}\n"
     ]
    }
   ],
   "source": [
    "# Check out G[1] and G[1][2]\n",
    "\n"
   ]
  },
  {
   "cell_type": "markdown",
   "metadata": {},
   "source": [
    "As you may have noticed, there's a second level to these dictionaries.  This is where we can store attributes on our edges.  Let's try doing that by storing the attribute 'color'='blue' for the 1 -> 2 edge with basic python dict syntax, then visualize your graph."
   ]
  },
  {
   "cell_type": "code",
   "execution_count": 33,
   "metadata": {
    "collapsed": false
   },
   "outputs": [
    {
     "name": "stderr",
     "output_type": "stream",
     "text": [
      "/Users/pburkard88/anaconda/envs/python27/lib/python2.7/site-packages/matplotlib/text.py:52: UnicodeWarning: Unicode equal comparison failed to convert both arguments to Unicode - interpreting them as being unequal\n",
      "  if rotation in ('horizontal', None):\n",
      "/Users/pburkard88/anaconda/envs/python27/lib/python2.7/site-packages/matplotlib/text.py:54: UnicodeWarning: Unicode equal comparison failed to convert both arguments to Unicode - interpreting them as being unequal\n",
      "  elif rotation == 'vertical':\n"
     ]
    },
    {
     "data": {
      "image/png": "[encoded data removed]",
      "text/plain": [
       "<matplotlib.figure.Figure at 0x107f0e510>"
      ]
     },
     "metadata": {},
     "output_type": "display_data"
    }
   ],
   "source": [
    "# Set edge attribute\n",
    "\n",
    "# Visualize your graph\n"
   ]
  },
  {
   "cell_type": "markdown",
   "metadata": {},
   "source": [
    "Try adding an edge between 1 and 3 with `add_edge` by specifying the dict for 'color'='red' directly in your call, then visualize your graph."
   ]
  },
  {
   "cell_type": "code",
   "execution_count": 34,
   "metadata": {
    "collapsed": false
   },
   "outputs": [
    {
     "data": {
      "image/png": "[encoded data removed]",
      "text/plain": [
       "<matplotlib.figure.Figure at 0x1080a5150>"
      ]
     },
     "metadata": {},
     "output_type": "display_data"
    }
   ],
   "source": [
    "# Add the edge between 1 and 3 with the attributes dict setting color to red\n",
    "\n",
    "# Visualize your graph\n"
   ]
  },
  {
   "cell_type": "markdown",
   "metadata": {},
   "source": [
    "#### Iterating through Nodes\n",
    "Let's try iterating through nodes, use [`nodes_iter()`](http://networkx.lanl.gov/reference/generated/networkx.Graph.nodes_iter.html?highlight=nodes_iter#networkx.Graph.nodes_iter) to print out every node in your graph."
   ]
  },
  {
   "cell_type": "code",
   "execution_count": 35,
   "metadata": {
    "collapsed": false
   },
   "outputs": [
    {
     "name": "stdout",
     "output_type": "stream",
     "text": [
      "1\n",
      "2\n",
      "3\n",
      "v\n"
     ]
    }
   ],
   "source": [
    "# Iteration of nodes\n",
    "\n"
   ]
  },
  {
   "cell_type": "markdown",
   "metadata": {},
   "source": [
    "#### Iterating through Edges\n",
    "Now let's try iterating through edges but this time with a catch.  For those edges that don't have a color attribute already give them the color attribute 'not sure' via the following steps:\n",
    "- print 'Before: ' + the result of `nx.to_dict_of_dicts()`\n",
    "- Visualize the before graph\n",
    "- Step through the adjacency lists with a call to `adjacency_iter()`\n",
    "- For each one, if the edge dict doesn't contain the key 'color', add it with the value 'not sure'\n",
    "- print 'After: ' + `nx.to_dict_of_dicts()`\n",
    "- Call `plt.figure()`\n",
    "- Visualize the after graph"
   ]
  },
  {
   "cell_type": "code",
   "execution_count": 39,
   "metadata": {
    "collapsed": false
   },
   "outputs": [
    {
     "name": "stdout",
     "output_type": "stream",
     "text": [
      "Before: {1: {2: {'color': 'blue'}, 3: {'color': 'red'}, 'v': {}}, 2: {1: {'color': 'blue'}, 3: {}}, 3: {1: {'color': 'red'}, 2: {}}, 'v': {1: {}}}\n",
      "After: {1: {2: {'color': 'blue'}, 3: {'color': 'red'}, 'v': {'color': 'not sure'}}, 2: {1: {'color': 'blue'}, 3: {'color': 'not sure'}}, 3: {1: {'color': 'red'}, 2: {'color': 'not sure'}}, 'v': {1: {'color': 'not sure'}}}\n"
     ]
    },
    {
     "data": {
      "image/png": "[encoded data removed]",
      "text/plain": [
       "<matplotlib.figure.Figure at 0x108342490>"
      ]
     },
     "metadata": {},
     "output_type": "display_data"
    },
    {
     "data": {
      "image/png": "[encoded data removed]",
      "text/plain": [
       "<matplotlib.figure.Figure at 0x108342450>"
      ]
     },
     "metadata": {},
     "output_type": "display_data"
    }
   ],
   "source": [
    "# Iteration of edges\n",
    "\n",
    "\n",
    "\n",
    "\n",
    "\n",
    "\n",
    "\n",
    "\n"
   ]
  },
  {
   "cell_type": "markdown",
   "metadata": {},
   "source": [
    "#### Graph Attributes\n",
    "Graph attributes can be useful for storing metadata information about your graph.  First print `G.graph`, then set `G.graph`'s 'name' to 'My Test Graph', then print it out again."
   ]
  },
  {
   "cell_type": "code",
   "execution_count": 40,
   "metadata": {
    "collapsed": false
   },
   "outputs": [
    {
     "name": "stdout",
     "output_type": "stream",
     "text": [
      "{}\n",
      "{'name': 'My Test Graph'}\n"
     ]
    }
   ],
   "source": [
    "# Graph attributes are useful to store meta information\n",
    "# e.g. name, size, where did you get it, ... \n",
    "\n",
    "\n"
   ]
  },
  {
   "cell_type": "markdown",
   "metadata": {},
   "source": [
    "Nodes can also have their own metadata.  Try setting the name of node 1 to 'Node 1'."
   ]
  },
  {
   "cell_type": "code",
   "execution_count": 41,
   "metadata": {
    "collapsed": false
   },
   "outputs": [
    {
     "name": "stdout",
     "output_type": "stream",
     "text": [
      "{1: {}, 2: {}, 3: {}, 'v': {}}\n",
      "{}\n",
      "{'name': 'Node 1'}\n"
     ]
    }
   ],
   "source": [
    "# We already see that edge can have attributes\n",
    "# Nodes can also have attributes.\n",
    "\n",
    "\n",
    "\n"
   ]
  },
  {
   "cell_type": "markdown",
   "metadata": {},
   "source": [
    "### Generate a Test Graph\n",
    "In this course, we care more about real graphs.\n",
    "Sometimes, you may want to automatically generate some synthetic graphs.\n",
    "Different random graphs are used in research.\n",
    "[Further reading](http://networkx.github.io/documentation/latest/tutorial/tutorial.html#graph-generators-and-graph-operations)\n",
    "on NetworkX's built-in graph generation methods."
   ]
  },
  {
   "cell_type": "code",
   "execution_count": 74,
   "metadata": {
    "collapsed": false
   },
   "outputs": [
    {
     "data": {
      "image/png": "[encoded data removed]",
      "text/plain": [
       "<matplotlib.figure.Figure at 0x109c226d0>"
      ]
     },
     "metadata": {},
     "output_type": "display_data"
    }
   ],
   "source": [
    "# Generated by the following method\n",
    "# We fix one sample in this notebook to make easier for illustration\n",
    "#G = nx.newman_watts_strogatz_graph(10,2, 0.2)\n",
    "#_ = visualize_graph(G)\n",
    "#nx.to_dict_of_dicts(G)\n",
    "\n",
    "G = nx.from_dict_of_dicts({0: {1: {}, 2: {}, 9: {}},\n",
    " 1: {0: {}, 2: {}, 7: {}},\n",
    " 2: {0: {}, 1: {}, 3: {}},\n",
    " 3: {2: {}, 4: {}, 5: {}},\n",
    " 4: {3: {}, 5: {}, 6: {}, 7: {}},\n",
    " 5: {3: {}, 4: {}, 6: {}},\n",
    " 6: {4: {}, 5: {}, 7: {}},\n",
    " 7: {1: {}, 4: {}, 6: {}, 8: {}},\n",
    " 8: {7: {}, 9: {}},\n",
    " 9: {0: {}, 8: {}}})\n",
    "visualize_graph(G)"
   ]
  },
  {
   "cell_type": "markdown",
   "metadata": {},
   "source": [
    "**EXERCISE**: Try other graph generators\n",
    "\n",
    "```\n",
    ">>> er=nx.erdos_renyi_graph(100,0.15)\n",
    ">>> ws=nx.watts_strogatz_graph(30,3,0.1)\n",
    ">>> ba=nx.barabasi_albert_graph(100,5)\n",
    ">>> red=nx.random_lobster(100,0.9,0.9)\n",
    "```"
   ]
  },
  {
   "cell_type": "markdown",
   "metadata": {},
   "source": [
    "### Centrality measures\n",
    "\n",
    "[Centrality](http://en.wikipedia.org/wiki/Centrality) is a classical concept in graph analysis.\n",
    "It measures the \"importance\" of nodes.\n",
    "The notions of \"importance\" are different.\n",
    "\n",
    "We only provide some samples in following sections.\n",
    "\n",
    "**EXERCISE**: \n",
    "Refer to the [documentation](http://networkx.github.io/documentation/latest/reference/algorithms.centrality.html)\n",
    "and online resources to understand those centrality measures.\n",
    "Try other centrality measures that are not covered in this tutorial.\n",
    "What interesting findings can you get?"
   ]
  },
  {
   "cell_type": "markdown",
   "metadata": {},
   "source": [
    "For your test graph from above, what are the top 5 nodes in terms of [`degree_centrality()`](http://networkx.lanl.gov/reference/generated/networkx.algorithms.centrality.degree_centrality.html?highlight=degree_centrality#networkx.algorithms.centrality.degree_centrality)?"
   ]
  },
  {
   "cell_type": "code",
   "execution_count": 83,
   "metadata": {
    "collapsed": true
   },
   "outputs": [],
   "source": [
    "import heapq\n",
    "\n",
    "def top_items(G, centrality):\n",
    "    nodes = heapq.nlargest(5, centrality, key=lambda n: centrality[n])\n",
    "    for n in nodes:\n",
    "        print n, centrality[n]"
   ]
  },
  {
   "cell_type": "raw",
   "metadata": {},
   "source": []
  },
  {
   "cell_type": "markdown",
   "metadata": {},
   "source": [
    "For your test graph from above, what are the top 5 nodes in terms of [`closeness_centrality()`](http://networkx.lanl.gov/reference/generated/networkx.algorithms.centrality.closeness_centrality.html?highlight=closeness_centrality#networkx.algorithms.centrality.closeness_centrality)?"
   ]
  },
  {
   "cell_type": "code",
   "execution_count": 84,
   "metadata": {
    "collapsed": false
   },
   "outputs": [
    {
     "name": "stdout",
     "output_type": "stream",
     "text": [
      "7 0.642857142857\n",
      "1 0.5625\n",
      "4 0.5625\n",
      "2 0.529411764706\n",
      "3 0.529411764706\n"
     ]
    }
   ],
   "source": []
  },
  {
   "cell_type": "markdown",
   "metadata": {},
   "source": [
    "For your test graph from above, what are the top 5 nodes in terms of [`betweenness_centrality()`](http://networkx.lanl.gov/reference/generated/networkx.algorithms.centrality.betweenness_centrality.html?highlight=closeness_centrality#networkx.algorithms.centrality.betweenness_centrality)?"
   ]
  },
  {
   "cell_type": "code",
   "execution_count": 85,
   "metadata": {
    "collapsed": false
   },
   "outputs": [
    {
     "name": "stdout",
     "output_type": "stream",
     "text": [
      "7 0.351851851852\n",
      "2 0.143518518519\n",
      "3 0.134259259259\n",
      "4 0.125\n",
      "1 0.12037037037\n"
     ]
    }
   ],
   "source": []
  },
  {
   "cell_type": "markdown",
   "metadata": {},
   "source": [
    "For your test graph from above, what are the top 5 nodes in terms of [`eigenvector_centrality()`](http://networkx.lanl.gov/reference/generated/networkx.algorithms.centrality.eigenvector_centrality.html?highlight=closeness_centrality#networkx.algorithms.centrality.eigenvector_centrality)?"
   ]
  },
  {
   "cell_type": "code",
   "execution_count": 86,
   "metadata": {
    "collapsed": false
   },
   "outputs": [
    {
     "name": "stdout",
     "output_type": "stream",
     "text": [
      "4 0.4706600675\n",
      "7 0.40080652981\n",
      "6 0.389234819432\n",
      "5 0.375300434544\n",
      "3 0.342241027193\n"
     ]
    }
   ],
   "source": []
  },
  {
   "cell_type": "markdown",
   "metadata": {},
   "source": [
    "Can you explain conceptually the results you've seen from these different measures?"
   ]
  },
  {
   "cell_type": "markdown",
   "metadata": {},
   "source": [
    "#### PageRank\n",
    "\n",
    "[PageRank](https://en.wikipedia.org/wiki/PageRank) is widely used in ranking web pages. The higher PR value the higher quality (cited by high quality sources).  Which are the top in [`pagerank()`](http://networkx.lanl.gov/reference/generated/networkx.algorithms.link_analysis.pagerank_alg.pagerank.html?highlight=pagerank#networkx.algorithms.link_analysis.pagerank_alg.pagerank)?"
   ]
  },
  {
   "cell_type": "code",
   "execution_count": 87,
   "metadata": {
    "collapsed": false
   },
   "outputs": [
    {
     "name": "stdout",
     "output_type": "stream",
     "text": [
      "7 0.12899624251\n",
      "4 0.124458221841\n",
      "0 0.104479318212\n",
      "2 0.100632576134\n",
      "1 0.100526734191\n"
     ]
    }
   ],
   "source": []
  },
  {
   "cell_type": "markdown",
   "metadata": {},
   "source": [
    "#### Shortest Path\n",
    "\n",
    "Note, this graph is generated from voting records.\n",
    "In real life, probably they all know each other.  Find the [`shortest_path()`](http://networkx.lanl.gov/reference/generated/networkx.algorithms.shortest_paths.generic.shortest_path.html?highlight=shortest_path) between nodes 9 and 5 and store it as `sp` to run the following visualization."
   ]
  },
  {
   "cell_type": "code",
   "execution_count": 52,
   "metadata": {
    "collapsed": false
   },
   "outputs": [
    {
     "data": {
      "text/plain": [
       "<matplotlib.collections.LineCollection at 0x1080b8610>"
      ]
     },
     "execution_count": 52,
     "metadata": {},
     "output_type": "execute_result"
    },
    {
     "data": {
      "image/png": "[encoded data removed]",
      "text/plain": [
       "<matplotlib.figure.Figure at 0x109043e90>"
      ]
     },
     "metadata": {},
     "output_type": "display_data"
    }
   ],
   "source": [
    "# Some random test to show you the usage\n",
    "\n",
    "pos, labels, edge_labels = visualize_graph(G, return_internals=True)\n",
    "nx.draw_networkx_edges(G, \n",
    "                       pos,\n",
    "                       edgelist=zip(sp[:-1], sp[1:]),\n",
    "                       width=5,\n",
    "                       edge_color='r'\n",
    "                      )"
   ]
  },
  {
   "cell_type": "markdown",
   "metadata": {},
   "source": [
    "#### Connected Components\n",
    "Connected components represent the different independent subsets of a network.  Add nodes i and j to your network and then create an edge between them.  Then print the [`connected_components()`](http://networkx.lanl.gov/reference/generated/networkx.algorithms.components.connected.connected_components.html?highlight=connected_components#networkx.algorithms.components.connected.connected_components) of your graph (there should be 2 separate ones) and visualize your graph.  Do you understand what's going on here?"
   ]
  },
  {
   "cell_type": "code",
   "execution_count": 53,
   "metadata": {
    "collapsed": false
   },
   "outputs": [
    {
     "name": "stdout",
     "output_type": "stream",
     "text": [
      "[set([0, 1, 2, 3, 4, 5, 6, 7, 8, 9]), set(['i', 'j'])]\n"
     ]
    },
    {
     "data": {
      "image/png": "[encoded data removed]",
      "text/plain": [
       "<matplotlib.figure.Figure at 0x10903b810>"
      ]
     },
     "metadata": {},
     "output_type": "display_data"
    }
   ],
   "source": [
    "\n",
    "\n",
    "\n"
   ]
  },
  {
   "cell_type": "markdown",
   "metadata": {},
   "source": [
    "#### More Graph Algorithms\n",
    "\n",
    "See the list of networkx: http://networkx.lanl.gov/reference/algorithms.html"
   ]
  },
  {
   "cell_type": "markdown",
   "metadata": {},
   "source": [
    "#### Visualisation\n",
    "\n",
    "`spring_layout` is force-directed graph layout.\n",
    "\n",
    "* Attractive force along edges via Hooke's Law.\n",
    "* Repulsive force between all vertices via Coulomb's Law.\n",
    "\n",
    "Simulate the physical process to yield a stable layout.\n",
    "\n",
    "* Wiki http://en.wikipedia.org/wiki/Force-directed_graph_drawing\n",
    "* A demo video: https://www.youtube.com/watch?v=HQBMfozLa4Y"
   ]
  },
  {
   "cell_type": "code",
   "execution_count": 54,
   "metadata": {
    "collapsed": false
   },
   "outputs": [
    {
     "data": {
      "image/png": "[encoded data removed]",
      "text/plain": [
       "<matplotlib.figure.Figure at 0x108378d90>"
      ]
     },
     "metadata": {},
     "output_type": "display_data"
    }
   ],
   "source": [
    "visualize_graph(G, pos=nx.spring_layout(G))"
   ]
  },
  {
   "cell_type": "markdown",
   "metadata": {},
   "source": [
    "`spectral_layout` runs eigen value decomposition on the graph Laplacian.\n",
    "\n",
    "$L = D - A$, where $D$ is degree matrix and $A$ is adjacency matrix."
   ]
  },
  {
   "cell_type": "code",
   "execution_count": 55,
   "metadata": {
    "collapsed": false
   },
   "outputs": [
    {
     "data": {
      "image/png": "[encoded data removed]",
      "text/plain": [
       "<matplotlib.figure.Figure at 0x1080670d0>"
      ]
     },
     "metadata": {},
     "output_type": "display_data"
    }
   ],
   "source": [
    "visualize_graph(G, pos=nx.spectral_layout(G))"
   ]
  },
  {
   "cell_type": "markdown",
   "metadata": {},
   "source": [
    "`random_layout`... The name explains everything"
   ]
  },
  {
   "cell_type": "code",
   "execution_count": 56,
   "metadata": {
    "collapsed": false
   },
   "outputs": [
    {
     "data": {
      "image/png": "[encoded data removed]",
      "text/plain": [
       "<matplotlib.figure.Figure at 0x108067390>"
      ]
     },
     "metadata": {},
     "output_type": "display_data"
    }
   ],
   "source": [
    "visualize_graph(G, pos=nx.random_layout(G))"
   ]
  },
  {
   "cell_type": "markdown",
   "metadata": {},
   "source": [
    "## Networkx on a Real-World Dataset\n",
    "Now that you should have a good feel for operating in Networkx, let's play around with it on the citation dataset found [here](http://snap.stanford.edu/data/cit-HepTh.html).\n",
    "\n",
    "### Read in the Data\n",
    "Read in the citation data into a graph `citations` by using [`read_edgelist()`](https://networkx.github.io/documentation/latest/reference/generated/networkx.readwrite.edgelist.read_edgelist.html) (make sure to specify a delimiter!)."
   ]
  },
  {
   "cell_type": "code",
   "execution_count": 57,
   "metadata": {
    "collapsed": false
   },
   "outputs": [
    {
     "data": {
      "text/plain": [
       "[u'9305019',\n",
       " u'9305018',\n",
       " u'9305012',\n",
       " u'9305011',\n",
       " u'9305010',\n",
       " u'9305017',\n",
       " u'9305016',\n",
       " u'9305015',\n",
       " u'9305014',\n",
       " u'12019',\n",
       " u'12018',\n",
       " u'12015',\n",
       " u'12014',\n",
       " u'12017',\n",
       " u'12016',\n",
       " u'12011',\n",
       " u'12010',\n",
       " u'12013',\n",
       " u'12012',\n",
       " u'9252',\n",
       " u'9250',\n",
       " u'9251',\n",
       " u'9802059',\n",
       " u'9802053',\n",
       " u'9802052',\n",
       " u'9802051',\n",
       " u'9802050',\n",
       " u'9802057',\n",
       " u'9802056',\n",
       " u'9802055',\n",
       " u'9802054',\n",
       " u'9410115',\n",
       " u'9410114',\n",
       " u'9410117',\n",
       " u'9410116',\n",
       " u'9410111',\n",
       " u'9410110',\n",
       " u'9410113',\n",
       " u'9410112',\n",
       " u'1177',\n",
       " u'1176',\n",
       " u'1175',\n",
       " u'1174',\n",
       " u'1173',\n",
       " u'1172',\n",
       " u'1171',\n",
       " u'1170',\n",
       " u'1179',\n",
       " u'1178',\n",
       " u'303231',\n",
       " u'303230',\n",
       " u'303233',\n",
       " u'303232',\n",
       " u'303235',\n",
       " u'303234',\n",
       " u'303237',\n",
       " u'303236',\n",
       " u'303239',\n",
       " u'303238',\n",
       " u'9907013',\n",
       " u'9907012',\n",
       " u'9907011',\n",
       " u'9907017',\n",
       " u'9907016',\n",
       " u'9907015',\n",
       " u'9907014',\n",
       " u'9907019',\n",
       " u'9907018',\n",
       " u'9403188',\n",
       " u'9403189',\n",
       " u'9409128',\n",
       " u'9409126',\n",
       " u'9403183',\n",
       " u'9403180',\n",
       " u'9403181',\n",
       " u'9403186',\n",
       " u'9403187',\n",
       " u'9403184',\n",
       " u'9403185',\n",
       " u'9301031',\n",
       " u'9301030',\n",
       " u'9301033',\n",
       " u'9301032',\n",
       " u'9301035',\n",
       " u'9301034',\n",
       " u'9301037',\n",
       " u'9301036',\n",
       " u'9301039',\n",
       " u'9301038',\n",
       " u'9211015',\n",
       " u'9211014',\n",
       " u'9211016',\n",
       " u'9311049',\n",
       " u'9311048',\n",
       " u'9211013',\n",
       " u'9311045',\n",
       " u'9311047',\n",
       " u'9211019',\n",
       " u'9211018',\n",
       " u'9311042',\n",
       " u'9903211',\n",
       " u'9903210',\n",
       " u'9903213',\n",
       " u'9903212',\n",
       " u'9903215',\n",
       " u'9903214',\n",
       " u'9903217',\n",
       " u'9903216',\n",
       " u'9903219',\n",
       " u'9903218',\n",
       " u'9212108',\n",
       " u'9302049',\n",
       " u'9302048',\n",
       " u'9212106',\n",
       " u'9809014',\n",
       " u'301219',\n",
       " u'9509047',\n",
       " u'9509044',\n",
       " u'9509045',\n",
       " u'9509042',\n",
       " u'9704158',\n",
       " u'9509041',\n",
       " u'9704155',\n",
       " u'9704154',\n",
       " u'9704157',\n",
       " u'9704156',\n",
       " u'9704151',\n",
       " u'9704150',\n",
       " u'9704153',\n",
       " u'9509049',\n",
       " u'9502098',\n",
       " u'9502099',\n",
       " u'210098',\n",
       " u'210099',\n",
       " u'9302043',\n",
       " u'210092',\n",
       " u'9502091',\n",
       " u'9502092',\n",
       " u'210091',\n",
       " u'9502094',\n",
       " u'210097',\n",
       " u'9502096',\n",
       " u'9502097',\n",
       " u'9807038',\n",
       " u'9807039',\n",
       " u'112239',\n",
       " u'112238',\n",
       " u'112235',\n",
       " u'9807033',\n",
       " u'112237',\n",
       " u'112236',\n",
       " u'112231',\n",
       " u'112230',\n",
       " u'9807034',\n",
       " u'9807035',\n",
       " u'211055',\n",
       " u'211054',\n",
       " u'211057',\n",
       " u'9505012',\n",
       " u'211051',\n",
       " u'9505014',\n",
       " u'9505017',\n",
       " u'9505016',\n",
       " u'9505019',\n",
       " u'9505018',\n",
       " u'211059',\n",
       " u'211058',\n",
       " u'108104',\n",
       " u'108105',\n",
       " u'108106',\n",
       " u'108107',\n",
       " u'108100',\n",
       " u'108101',\n",
       " u'108102',\n",
       " u'108103',\n",
       " u'108108',\n",
       " u'108109',\n",
       " u'210201',\n",
       " u'9602059',\n",
       " u'9602058',\n",
       " u'9609089',\n",
       " u'9609088',\n",
       " u'9602051',\n",
       " u'9609082',\n",
       " u'9602053',\n",
       " u'9602052',\n",
       " u'9602055',\n",
       " u'9602054',\n",
       " u'9609085',\n",
       " u'9609084',\n",
       " u'9612014',\n",
       " u'9612015',\n",
       " u'9612016',\n",
       " u'9612017',\n",
       " u'9612010',\n",
       " u'9612011',\n",
       " u'9612012',\n",
       " u'9612013',\n",
       " u'9612018',\n",
       " u'9612019',\n",
       " u'9706148',\n",
       " u'9706149',\n",
       " u'9706144',\n",
       " u'9706145',\n",
       " u'9706146',\n",
       " u'9706147',\n",
       " u'9706140',\n",
       " u'9706141',\n",
       " u'9706142',\n",
       " u'9706143',\n",
       " u'9307099',\n",
       " u'9307095',\n",
       " u'9307094',\n",
       " u'9307097',\n",
       " u'9307096',\n",
       " u'9307091',\n",
       " u'9307093',\n",
       " u'9307092',\n",
       " u'204015',\n",
       " u'204014',\n",
       " u'9710002',\n",
       " u'9710003',\n",
       " u'9710001',\n",
       " u'9710006',\n",
       " u'9710007',\n",
       " u'9710004',\n",
       " u'9710005',\n",
       " u'9710008',\n",
       " u'9710009',\n",
       " u'9805049',\n",
       " u'9604041',\n",
       " u'9604042',\n",
       " u'9603011',\n",
       " u'9709138',\n",
       " u'9604045',\n",
       " u'9603014',\n",
       " u'9603015',\n",
       " u'9805041',\n",
       " u'9805040',\n",
       " u'9805043',\n",
       " u'9603019',\n",
       " u'9805045',\n",
       " u'9805044',\n",
       " u'9805047',\n",
       " u'9709133',\n",
       " u'9904109',\n",
       " u'5054',\n",
       " u'5055',\n",
       " u'5056',\n",
       " u'9904107',\n",
       " u'9904100',\n",
       " u'9904101',\n",
       " u'5052',\n",
       " u'5053',\n",
       " u'9909086',\n",
       " u'9909087',\n",
       " u'9909084',\n",
       " u'9909085',\n",
       " u'9909082',\n",
       " u'9909083',\n",
       " u'9909080',\n",
       " u'9909081',\n",
       " u'9909088',\n",
       " u'9909089',\n",
       " u'9806022',\n",
       " u'9806023',\n",
       " u'9806020',\n",
       " u'9806021',\n",
       " u'9806026',\n",
       " u'9806027',\n",
       " u'9806024',\n",
       " u'9806025',\n",
       " u'9806028',\n",
       " u'9806029',\n",
       " u'203236',\n",
       " u'9512137',\n",
       " u'203234',\n",
       " u'9512135',\n",
       " u'203232',\n",
       " u'203233',\n",
       " u'9512130',\n",
       " u'9512131',\n",
       " u'9512138',\n",
       " u'9512139',\n",
       " u'8035',\n",
       " u'8034',\n",
       " u'8037',\n",
       " u'8036',\n",
       " u'8031',\n",
       " u'8030',\n",
       " u'8033',\n",
       " u'8032',\n",
       " u'8039',\n",
       " u'8038',\n",
       " u'9501046',\n",
       " u'208164',\n",
       " u'9501044',\n",
       " u'9501045',\n",
       " u'9504030',\n",
       " u'9504031',\n",
       " u'9501040',\n",
       " u'9606039',\n",
       " u'9606038',\n",
       " u'9606037',\n",
       " u'9606036',\n",
       " u'9606035',\n",
       " u'9606034',\n",
       " u'9606033',\n",
       " u'9606032',\n",
       " u'9606031',\n",
       " u'9606030',\n",
       " u'208169',\n",
       " u'208168',\n",
       " u'9607078',\n",
       " u'9607079',\n",
       " u'9607070',\n",
       " u'9607071',\n",
       " u'9607072',\n",
       " u'9607073',\n",
       " u'9607074',\n",
       " u'9607075',\n",
       " u'9607076',\n",
       " u'9607077',\n",
       " u'9804051',\n",
       " u'9804050',\n",
       " u'9804053',\n",
       " u'9804052',\n",
       " u'9804055',\n",
       " u'9804054',\n",
       " u'9804057',\n",
       " u'9804056',\n",
       " u'9804059',\n",
       " u'9804058',\n",
       " u'9191',\n",
       " u'9190',\n",
       " u'9193',\n",
       " u'9192',\n",
       " u'9195',\n",
       " u'9194',\n",
       " u'9197',\n",
       " u'9196',\n",
       " u'9199',\n",
       " u'9198',\n",
       " u'12208',\n",
       " u'12209',\n",
       " u'12204',\n",
       " u'12206',\n",
       " u'12207',\n",
       " u'12200',\n",
       " u'12201',\n",
       " u'12202',\n",
       " u'12203',\n",
       " u'9503093',\n",
       " u'9408155',\n",
       " u'9408156',\n",
       " u'9408157',\n",
       " u'9503097',\n",
       " u'9503096',\n",
       " u'9503095',\n",
       " u'9503094',\n",
       " u'9503099',\n",
       " u'9503098',\n",
       " u'9408158',\n",
       " u'9211088',\n",
       " u'9907202',\n",
       " u'9907203',\n",
       " u'9907200',\n",
       " u'9907201',\n",
       " u'9907206',\n",
       " u'9907207',\n",
       " u'9907204',\n",
       " u'9907205',\n",
       " u'9907208',\n",
       " u'9907209',\n",
       " u'9310039',\n",
       " u'9211085',\n",
       " u'9601047',\n",
       " u'9601046',\n",
       " u'9601045',\n",
       " u'9601044',\n",
       " u'9601043',\n",
       " u'9601042',\n",
       " u'9707189',\n",
       " u'9707188',\n",
       " u'9707187',\n",
       " u'9707186',\n",
       " u'9707185',\n",
       " u'9707184',\n",
       " u'9707183',\n",
       " u'9707182',\n",
       " u'9707181',\n",
       " u'9601048',\n",
       " u'9406084',\n",
       " u'9406085',\n",
       " u'9406086',\n",
       " u'9406087',\n",
       " u'9406081',\n",
       " u'9406082',\n",
       " u'9406083',\n",
       " u'9406089',\n",
       " u'9904217',\n",
       " u'303008',\n",
       " u'303009',\n",
       " u'303006',\n",
       " u'303007',\n",
       " u'303004',\n",
       " u'303005',\n",
       " u'303002',\n",
       " u'303003',\n",
       " u'303001',\n",
       " u'9906151',\n",
       " u'9906150',\n",
       " u'9906153',\n",
       " u'9906152',\n",
       " u'9906155',\n",
       " u'9906154',\n",
       " u'9906156',\n",
       " u'9906159',\n",
       " u'9906158',\n",
       " u'9705123',\n",
       " u'9705122',\n",
       " u'9705121',\n",
       " u'9705120',\n",
       " u'9705127',\n",
       " u'9705126',\n",
       " u'9705125',\n",
       " u'9705124',\n",
       " u'9705129',\n",
       " u'9705128',\n",
       " u'9504070',\n",
       " u'9501003',\n",
       " u'9501001',\n",
       " u'9504074',\n",
       " u'9501007',\n",
       " u'9501004',\n",
       " u'9504077',\n",
       " u'9504079',\n",
       " u'9501008',\n",
       " u'9501009',\n",
       " u'301114',\n",
       " u'209188',\n",
       " u'209189',\n",
       " u'209186',\n",
       " u'209187',\n",
       " u'209184',\n",
       " u'209185',\n",
       " u'209182',\n",
       " u'209183',\n",
       " u'209180',\n",
       " u'209181',\n",
       " u'9806220',\n",
       " u'9806221',\n",
       " u'9806222',\n",
       " u'9806223',\n",
       " u'9806224',\n",
       " u'9806225',\n",
       " u'9806226',\n",
       " u'9806227',\n",
       " u'9806228',\n",
       " u'9806229',\n",
       " u'301118',\n",
       " u'301119',\n",
       " u'9807179',\n",
       " u'9807178',\n",
       " u'9807177',\n",
       " u'9807174',\n",
       " u'9807173',\n",
       " u'9807172',\n",
       " u'9807171',\n",
       " u'9807170',\n",
       " u'9701118',\n",
       " u'9701119',\n",
       " u'9701116',\n",
       " u'9701117',\n",
       " u'9701114',\n",
       " u'9701115',\n",
       " u'9701112',\n",
       " u'9701113',\n",
       " u'9701111',\n",
       " u'112008',\n",
       " u'112009',\n",
       " u'112002',\n",
       " u'112006',\n",
       " u'112004',\n",
       " u'112005',\n",
       " u'107130',\n",
       " u'107131',\n",
       " u'107132',\n",
       " u'107133',\n",
       " u'107134',\n",
       " u'107135',\n",
       " u'107136',\n",
       " u'107137',\n",
       " u'107138',\n",
       " u'203110',\n",
       " u'9610168',\n",
       " u'9610169',\n",
       " u'9610164',\n",
       " u'9610165',\n",
       " u'206052',\n",
       " u'9610161',\n",
       " u'201179',\n",
       " u'201178',\n",
       " u'201173',\n",
       " u'201172',\n",
       " u'201171',\n",
       " u'201170',\n",
       " u'201177',\n",
       " u'201176',\n",
       " u'201175',\n",
       " u'201174',\n",
       " u'9510008',\n",
       " u'9510009',\n",
       " u'9510005',\n",
       " u'9510007',\n",
       " u'9510001',\n",
       " u'9510002',\n",
       " u'9510003',\n",
       " u'9603197',\n",
       " u'9603196',\n",
       " u'9603195',\n",
       " u'9603194',\n",
       " u'9603192',\n",
       " u'9603191',\n",
       " u'9603190',\n",
       " u'9603198',\n",
       " u'210005',\n",
       " u'210009',\n",
       " u'210008',\n",
       " u'9408171',\n",
       " u'205218',\n",
       " u'205219',\n",
       " u'9409127',\n",
       " u'205213',\n",
       " u'205210',\n",
       " u'205211',\n",
       " u'205216',\n",
       " u'205217',\n",
       " u'205214',\n",
       " u'205215',\n",
       " u'9409125',\n",
       " u'9902154',\n",
       " u'9409122',\n",
       " u'9902157',\n",
       " u'9409123',\n",
       " u'105131',\n",
       " u'9902151',\n",
       " u'9409121',\n",
       " u'105137',\n",
       " u'105134',\n",
       " u'9511065',\n",
       " u'9511064',\n",
       " u'9511067',\n",
       " u'9511066',\n",
       " u'9511061',\n",
       " u'9511060',\n",
       " u'9511063',\n",
       " u'6251',\n",
       " u'6250',\n",
       " u'9511069',\n",
       " u'9511068',\n",
       " u'9605108',\n",
       " u'9605109',\n",
       " u'9605106',\n",
       " u'9605107',\n",
       " u'9605104',\n",
       " u'9605105',\n",
       " u'9605102',\n",
       " u'9605103',\n",
       " u'9605101',\n",
       " u'9306153',\n",
       " u'9306152',\n",
       " u'9306151',\n",
       " u'9306150',\n",
       " u'9306157',\n",
       " u'9306156',\n",
       " u'9306155',\n",
       " u'9306154',\n",
       " u'9309084',\n",
       " u'9309085',\n",
       " u'9309086',\n",
       " u'9309087',\n",
       " u'5249',\n",
       " u'5248',\n",
       " u'9309082',\n",
       " u'9309083',\n",
       " u'5245',\n",
       " u'5244',\n",
       " u'5247',\n",
       " u'5246',\n",
       " u'5241',\n",
       " u'9309089',\n",
       " u'5243',\n",
       " u'5242',\n",
       " u'212281',\n",
       " u'212280',\n",
       " u'9401168',\n",
       " u'212282',\n",
       " u'212285',\n",
       " u'212284',\n",
       " u'212287',\n",
       " u'212286',\n",
       " u'212289',\n",
       " u'9401163',\n",
       " u'9401160',\n",
       " u'9401161',\n",
       " u'9401166',\n",
       " u'9401167',\n",
       " u'9401164',\n",
       " u'9401165',\n",
       " u'207108',\n",
       " u'207109',\n",
       " u'207100',\n",
       " u'207101',\n",
       " u'207102',\n",
       " u'207103',\n",
       " u'207104',\n",
       " u'207105',\n",
       " u'207106',\n",
       " u'207107',\n",
       " u'111009',\n",
       " u'111008',\n",
       " u'111002',\n",
       " u'111001',\n",
       " u'111007',\n",
       " u'111006',\n",
       " u'111005',\n",
       " u'111004',\n",
       " u'9903068',\n",
       " u'9903069',\n",
       " u'9903062',\n",
       " u'9903063',\n",
       " u'9903060',\n",
       " u'9903061',\n",
       " u'9903066',\n",
       " u'9903067',\n",
       " u'9903064',\n",
       " u'9903065',\n",
       " u'9212003',\n",
       " u'9212002',\n",
       " u'9212007',\n",
       " u'9212006',\n",
       " u'9212005',\n",
       " u'9212004',\n",
       " u'9212009',\n",
       " u'9310165',\n",
       " u'9310164',\n",
       " u'9310167',\n",
       " u'9310166',\n",
       " u'9310160',\n",
       " u'9310163',\n",
       " u'9310169',\n",
       " u'9310168',\n",
       " u'9209106',\n",
       " u'9209107',\n",
       " u'9209105',\n",
       " u'9209102',\n",
       " u'9209100',\n",
       " u'9209101',\n",
       " u'9209108',\n",
       " u'201230',\n",
       " u'201231',\n",
       " u'201232',\n",
       " u'201233',\n",
       " u'201234',\n",
       " u'201235',\n",
       " u'201236',\n",
       " u'201237',\n",
       " u'201238',\n",
       " u'201239',\n",
       " u'9303123',\n",
       " u'9303122',\n",
       " u'211248',\n",
       " u'211249',\n",
       " u'211244',\n",
       " u'211245',\n",
       " u'211246',\n",
       " u'211247',\n",
       " u'211240',\n",
       " u'211241',\n",
       " u'211242',\n",
       " u'9708003',\n",
       " u'9708002',\n",
       " u'9312141',\n",
       " u'9312140',\n",
       " u'9312143',\n",
       " u'9312145',\n",
       " u'9312144',\n",
       " u'9312147',\n",
       " u'212113',\n",
       " u'212112',\n",
       " u'9401005',\n",
       " u'9301112',\n",
       " u'212118',\n",
       " u'9703190',\n",
       " u'9703191',\n",
       " u'9703192',\n",
       " u'9703193',\n",
       " u'9703194',\n",
       " u'9703195',\n",
       " u'9703196',\n",
       " u'9703197',\n",
       " u'9703198',\n",
       " u'9703199',\n",
       " u'9210093',\n",
       " u'9210090',\n",
       " u'9210091',\n",
       " u'9210094',\n",
       " u'9210098',\n",
       " u'9210099',\n",
       " u'9405180',\n",
       " u'9405181',\n",
       " u'9405182',\n",
       " u'9405183',\n",
       " u'9405185',\n",
       " u'9405186',\n",
       " u'9405187',\n",
       " u'9405188',\n",
       " u'9405189',\n",
       " u'9211011',\n",
       " u'9707024',\n",
       " u'9707025',\n",
       " u'9707026',\n",
       " u'9707027',\n",
       " u'9707020',\n",
       " u'9707021',\n",
       " u'9707022',\n",
       " u'9707023',\n",
       " u'9707028',\n",
       " u'9707029',\n",
       " u'107031',\n",
       " u'107030',\n",
       " u'107033',\n",
       " u'107032',\n",
       " u'107035',\n",
       " u'107034',\n",
       " u'107037',\n",
       " u'107036',\n",
       " u'107039',\n",
       " u'107038',\n",
       " u'9311041',\n",
       " u'9912268',\n",
       " u'9912269',\n",
       " u'9912266',\n",
       " u'9912267',\n",
       " u'9912264',\n",
       " u'9912265',\n",
       " u'9912262',\n",
       " u'9912263',\n",
       " u'9912260',\n",
       " u'9912261',\n",
       " u'9810036',\n",
       " u'9810037',\n",
       " u'9810034',\n",
       " u'9810035',\n",
       " u'9810032',\n",
       " u'9810033',\n",
       " u'9810031',\n",
       " u'9810038',\n",
       " u'9810039',\n",
       " u'9404143',\n",
       " u'211006',\n",
       " u'9403079',\n",
       " u'9403077',\n",
       " u'9403074',\n",
       " u'9403075',\n",
       " u'9403073',\n",
       " u'9403070',\n",
       " u'9403071',\n",
       " u'205058',\n",
       " u'205059',\n",
       " u'9505085',\n",
       " u'205050',\n",
       " u'205051',\n",
       " u'205052',\n",
       " u'205053',\n",
       " u'205054',\n",
       " u'205055',\n",
       " u'205056',\n",
       " u'9505083',\n",
       " u'211007',\n",
       " u'9505080',\n",
       " u'9611169',\n",
       " u'9611168',\n",
       " u'9611165',\n",
       " u'9611164',\n",
       " u'9904146',\n",
       " u'9611166',\n",
       " u'9611161',\n",
       " u'9611160',\n",
       " u'9611163',\n",
       " u'9611162',\n",
       " u'9910138',\n",
       " u'9910139',\n",
       " u'9910134',\n",
       " u'9910135',\n",
       " u'9910136',\n",
       " u'9910137',\n",
       " u'9910130',\n",
       " u'9910131',\n",
       " u'9910132',\n",
       " u'9910133',\n",
       " u'105309',\n",
       " u'105308',\n",
       " u'105301',\n",
       " u'105300',\n",
       " u'105303',\n",
       " u'105302',\n",
       " u'105305',\n",
       " u'105304',\n",
       " u'105307',\n",
       " u'105306',\n",
       " u'204013',\n",
       " u'204012',\n",
       " u'203043',\n",
       " u'203042',\n",
       " u'204017',\n",
       " u'204016',\n",
       " u'209023',\n",
       " u'203046',\n",
       " u'203049',\n",
       " u'203048',\n",
       " u'204019',\n",
       " u'204018',\n",
       " u'209029',\n",
       " u'209028',\n",
       " u'9306018',\n",
       " u'9306019',\n",
       " u'9306012',\n",
       " u'9306013',\n",
       " u'9306010',\n",
       " u'9306011',\n",
       " u'9306016',\n",
       " u'9306017',\n",
       " u'9306014',\n",
       " u'9306015',\n",
       " u'106146',\n",
       " u'106144',\n",
       " u'106145',\n",
       " u'106142',\n",
       " u'106143',\n",
       " u'106140',\n",
       " u'106141',\n",
       " u'106148',\n",
       " u'106149',\n",
       " u'9808136',\n",
       " u'9808134',\n",
       " u'9808135',\n",
       " u'9808132',\n",
       " u'9808133',\n",
       " u'9808130',\n",
       " u'9711069',\n",
       " u'9711068',\n",
       " u'9711067',\n",
       " u'9711066',\n",
       " u'9711065',\n",
       " u'9808131',\n",
       " u'9711063',\n",
       " u'9711062',\n",
       " u'9711061',\n",
       " u'9711060',\n",
       " u'103017',\n",
       " u'103016',\n",
       " u'103015',\n",
       " u'103014',\n",
       " u'103013',\n",
       " u'103012',\n",
       " u'103011',\n",
       " u'103010',\n",
       " u'103019',\n",
       " u'103018',\n",
       " u'104077',\n",
       " u'9811028',\n",
       " u'9811029',\n",
       " u'9811026',\n",
       " u'9811024',\n",
       " u'9811025',\n",
       " u'9811022',\n",
       " u'9811023',\n",
       " u'9811020',\n",
       " u'9811021',\n",
       " u'9305093',\n",
       " u'9305091',\n",
       " u'9305090',\n",
       " u'9305097',\n",
       " u'9305096',\n",
       " u'9305095',\n",
       " u'9305094',\n",
       " u'9305099',\n",
       " u'9305098',\n",
       " u'9712008',\n",
       " u'9910010',\n",
       " u'9712001',\n",
       " u'9712002',\n",
       " u'9712003',\n",
       " u'9712004',\n",
       " u'9712005',\n",
       " u'9712006',\n",
       " u'9712007',\n",
       " u'4044',\n",
       " u'4046',\n",
       " u'4047',\n",
       " u'4040',\n",
       " u'4041',\n",
       " u'4043',\n",
       " u'9801052',\n",
       " u'9801053',\n",
       " u'9801050',\n",
       " u'9801051',\n",
       " u'9801056',\n",
       " u'4049',\n",
       " u'9801054',\n",
       " u'9801055',\n",
       " u'201038',\n",
       " u'201039',\n",
       " u'201036',\n",
       " u'201037',\n",
       " u'201034',\n",
       " u'201035',\n",
       " u'201032',\n",
       " u'201033',\n",
       " u'201030',\n",
       " u'201031',\n",
       " u'9509046',\n",
       " u'301218',\n",
       " u'9704159',\n",
       " u'9509043',\n",
       " u'301211',\n",
       " u'301210',\n",
       " u'105025',\n",
       " u'301212',\n",
       " u'9410199',\n",
       " u'9410198',\n",
       " u'9410195',\n",
       " u'301215',\n",
       " u'9410197',\n",
       " u'9410196',\n",
       " u'9410191',\n",
       " u'9410190',\n",
       " u'9410193',\n",
       " u'301214',\n",
       " u'9604174',\n",
       " u'9604175',\n",
       " u'9604176',\n",
       " u'9604177',\n",
       " u'9604170',\n",
       " u'9604171',\n",
       " u'9604172',\n",
       " u'9604173',\n",
       " u'9710089',\n",
       " u'301216',\n",
       " u'9604178',\n",
       " u'9604179',\n",
       " u'9307161',\n",
       " u'9307160',\n",
       " u'9307163',\n",
       " u'9307165',\n",
       " u'9307166',\n",
       " u'9307169',\n",
       " u'9307168',\n",
       " u'212180',\n",
       " u'9305145',\n",
       " u'212181',\n",
       " u'9607192',\n",
       " u'9607191',\n",
       " u'9502090',\n",
       " u'9607190',\n",
       " u'105020',\n",
       " u'210090',\n",
       " u'9305140',\n",
       " u'9502093',\n",
       " u'9305143',\n",
       " u'210096',\n",
       " u'9607194',\n",
       " u'9611204',\n",
       " u'9611205',\n",
       " u'9611206',\n",
       " u'9611207',\n",
       " u'9611200',\n",
       " u'9611201',\n",
       " u'9611202',\n",
       " u'9611203',\n",
       " u'210095',\n",
       " u'9611208',\n",
       " u'9611209',\n",
       " u'9302070',\n",
       " u'9302071',\n",
       " u'9302072',\n",
       " u'9302073',\n",
       " u'9302074',\n",
       " u'9302075',\n",
       " u'9302076',\n",
       " u'9302077',\n",
       " u'9302078',\n",
       " u'9302079',\n",
       " u'105023',\n",
       " u'9908049',\n",
       " u'9908048',\n",
       " u'9908045',\n",
       " u'9908044',\n",
       " ...]"
      ]
     },
     "execution_count": 57,
     "metadata": {},
     "output_type": "execute_result"
    }
   ],
   "source": [
    "\n",
    "# Print out the nodes to make sure it worked\n"
   ]
  },
  {
   "cell_type": "markdown",
   "metadata": {},
   "source": [
    "### Analyzing the Network\n",
    "Print out the neighbors of node '1001'."
   ]
  },
  {
   "cell_type": "code",
   "execution_count": 60,
   "metadata": {
    "collapsed": false
   },
   "outputs": [
    {
     "data": {
      "text/plain": [
       "[u'9905036',\n",
       " u'9508094',\n",
       " u'9609070',\n",
       " u'9609071',\n",
       " u'9910268',\n",
       " u'9505162',\n",
       " u'9705104',\n",
       " u'9706005',\n",
       " u'104044',\n",
       " u'9705220',\n",
       " u'7195',\n",
       " u'9608086',\n",
       " u'9703082',\n",
       " u'9511171',\n",
       " u'5068',\n",
       " u'9404151',\n",
       " u'9602114',\n",
       " u'9703166',\n",
       " u'9606040',\n",
       " u'9609239',\n",
       " u'112101',\n",
       " u'9705044',\n",
       " u'9811217',\n",
       " u'9704097',\n",
       " u'9910248',\n",
       " u'9311042',\n",
       " u'9309097',\n",
       " u'9702094',\n",
       " u'9505105',\n",
       " u'9506144',\n",
       " u'9407087',\n",
       " u'9701162',\n",
       " u'9510142',\n",
       " u'9907041',\n",
       " u'9910238',\n",
       " u'9711036',\n",
       " u'9702198',\n",
       " u'9505054',\n",
       " u'9503124',\n",
       " u'9408099',\n",
       " u'209230',\n",
       " u'9712028',\n",
       " u'9605184',\n",
       " u'9603003',\n",
       " u'9304045',\n",
       " u'9908007',\n",
       " u'9603161',\n",
       " u'9507158',\n",
       " u'9602022',\n",
       " u'9603150',\n",
       " u'212114',\n",
       " u'9308122',\n",
       " u'9806094',\n",
       " u'9805206',\n",
       " u'9606017',\n",
       " u'9909229',\n",
       " u'9711104',\n",
       " u'9802194',\n",
       " u'9607163',\n",
       " u'9511030',\n",
       " u'9501030',\n",
       " u'9805056',\n",
       " u'9601108',\n",
       " u'9507050',\n",
       " u'9707042',\n",
       " u'9712042',\n",
       " u'105207',\n",
       " u'9908144',\n",
       " u'9707049',\n",
       " u'9510234',\n",
       " u'9810188',\n",
       " u'7170',\n",
       " u'9605222',\n",
       " u'9506048',\n",
       " u'212223',\n",
       " u'9508155',\n",
       " u'9504090',\n",
       " u'11075',\n",
       " u'9505025',\n",
       " u'9510225',\n",
       " u'9707014',\n",
       " u'9710230',\n",
       " u'9612108',\n",
       " u'9504145',\n",
       " u'9909108',\n",
       " u'9401139',\n",
       " u'9611137',\n",
       " u'9909120',\n",
       " u'9506112',\n",
       " u'9603167',\n",
       " u'9702155',\n",
       " u'9705030',\n",
       " u'9607207']"
      ]
     },
     "execution_count": 60,
     "metadata": {},
     "output_type": "execute_result"
    }
   ],
   "source": []
  },
  {
   "cell_type": "markdown",
   "metadata": {},
   "source": [
    "Print out the top 20 nodes in terms of whatever centrality measures you like."
   ]
  },
  {
   "cell_type": "code",
   "execution_count": 90,
   "metadata": {
    "collapsed": false
   },
   "outputs": [
    {
     "name": "stdout",
     "output_type": "stream",
     "text": [
      "[u'9711200', u'9802150', u'9802109', u'9905111', u'9407087', u'9610043', u'9908142', u'9510017', u'9503124', u'9906064', u'9408099', u'9711162', u'9510209', u'9510135', u'9410167', u'9611050', u'9601029', u'9602022', u'9803131', u'9603142']\n"
     ]
    }
   ],
   "source": [
    "\n",
    "\n"
   ]
  },
  {
   "cell_type": "markdown",
   "metadata": {},
   "source": [
    "For the top 20 nodes in terms of your centrality, let's explore visually...\n",
    "\n",
    "First use subgraph to create a graph of only the top 20 nodes from the original graph.  "
   ]
  },
  {
   "cell_type": "code",
   "execution_count": 100,
   "metadata": {
    "collapsed": false
   },
   "outputs": [
    {
     "data": {
      "image/png": "[encoded data removed]",
      "text/plain": [
       "<matplotlib.figure.Figure at 0x1080c3790>"
      ]
     },
     "metadata": {},
     "output_type": "display_data"
    }
   ],
   "source": [
    "\n"
   ]
  },
  {
   "cell_type": "markdown",
   "metadata": {},
   "source": [
    "Exploration time, try creating subgraphs of some of the top nodes and their neighbors.  Maybe try out any algorithms in networkx that you find interesting, explore the documentation (it's pretty solid)."
   ]
  },
  {
   "cell_type": "markdown",
   "metadata": {},
   "source": [
    "**EXERCISE:** See if you can implement your own simulation of information flow for something like targeted marketing.  A sample approach might do the following:\n",
    "- Create a loop that at each iteration extends the \"coverage\" of the ad to the immediate neighbors of all nodes that have already seen the add\n",
    "- Keep track of the proportion of \"covered\" nodes at each timestep\n",
    "- See how quickly you can get your ad to \"go viral\"\n",
    "\n",
    "Are there smarter ways to do this?  Perhaps you can segment the power users into different clusters?  Feel free to experiment, there's no necessarily best solution here, this is where you get to be a data scientist!"
   ]
  },
  {
   "cell_type": "markdown",
   "metadata": {},
   "source": [
    "## References\n",
    "\n",
    "   * [networkx](http://networkx.github.io/). \n",
    "   Widely used graph library in Python.\n",
    "   Basic graph data structure and graph algorithms.\n",
    "   See the [official docs](http://networkx.github.io/documentation/latest/).\n",
    "   * [Graph Tool](http://graph-tool.skewed.de/). It uses [Boost Graph Library](http://www.boost.org/doc/libs/1_55_0/libs/graph/doc/table_of_contents.html) for efficiency. \n",
    "   Community is as active as networkx but just smaller.\n",
    "   Graph-tool can leverage multi-core via OpenMP.\n",
    "   It has [better performance](http://graph-tool.skewed.de/performance) than networkx.\n",
    "   * [Python Graph](https://code.google.com/p/python-graph/), last update at July, 2012. Inactive now.\n",
    "   * [iGraph](http://igraph.sourceforge.net/). C implementation plus Python and R bindings. Last updated at April 2013. Inactive now.\n",
    "   * [pygraphviz](http://pygraphviz.github.io/); [pydot](https://code.google.com/p/pydot/). \n",
    "   The interface to [graphviz](http://www.graphviz.org/)'s dot language,\n",
    "   the most widely used open graph description language.\n",
    "   "
   ]
  },
  {
   "cell_type": "code",
   "execution_count": null,
   "metadata": {
    "collapsed": true
   },
   "outputs": [],
   "source": []
  }
 ],
 "metadata": {
  "kernelspec": {
   "display_name": "Python 2",
   "language": "python",
   "name": "python2"
  },
  "language_info": {
   "codemirror_mode": {
    "name": "ipython",
    "version": 2
   },
   "file_extension": ".py",
   "mimetype": "text/x-python",
   "name": "python",
   "nbconvert_exporter": "python",
   "pygments_lexer": "ipython2",
   "version": "2.7.10"
  }
 },
 "nbformat": 4,
 "nbformat_minor": 0
}
